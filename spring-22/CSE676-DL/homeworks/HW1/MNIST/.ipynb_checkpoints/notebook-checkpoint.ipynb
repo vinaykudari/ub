{
 "cells": [
  {
   "cell_type": "code",
   "execution_count": 1,
   "id": "f509096e-ae0a-4bc6-a942-48f99414fb37",
   "metadata": {},
   "outputs": [],
   "source": [
    "import torch\n",
    "from torch import nn\n",
    "import torch.nn.functional as F\n",
    "from torchvision.datasets import MNIST\n",
    "from torch.utils.data import DataLoader, random_split\n",
    "from torch.utils.tensorboard import SummaryWriter\n",
    "from torchvision import transforms\n",
    "\n",
    "from tqdm.notebook import tqdm\n",
    "import numpy as np\n",
    "import matplotlib.pyplot as plt\n",
    "\n",
    "device = torch.device('cuda' if torch.cuda.is_available() else 'cpu')"
   ]
  },
  {
   "cell_type": "code",
   "execution_count": 78,
   "id": "1bb7202b-91ae-47e9-a227-2c0d002b3c8c",
   "metadata": {},
   "outputs": [],
   "source": [
    "class Model(nn.Module):\n",
    "    def __init__(self, input_dim=784, hidden_dim=500, op_dim=10):\n",
    "        super().__init__()\n",
    "        self.fc1 = nn.Linear(input_dim, hidden_dim)\n",
    "        self.fc2 = nn.Linear(hidden_dim, op_dim)\n",
    "    \n",
    "    def forward(self, x):\n",
    "        h_relu = F.relu(self.fc1(x))\n",
    "        y_pred = self.fc2(h_relu)\n",
    "        return y_pred\n",
    "    \n",
    "def accuracy(y_preds, labels):\n",
    "    return torch.argmax(preds, 1).eq(labels).float().mean() * 100"
   ]
  },
  {
   "cell_type": "code",
   "execution_count": 104,
   "id": "35a1fc92-b642-4a73-b273-896a7e695d63",
   "metadata": {},
   "outputs": [],
   "source": [
    "transform = transforms.Compose(\n",
    "    [\n",
    "        transforms.ToTensor(),\n",
    "    ],\n",
    ")\n",
    "batch_sz = 64\n",
    "\n",
    "dataset = MNIST(\n",
    "    'data',\n",
    "    download=True,\n",
    "    train=True,\n",
    "    transform=transform,\n",
    ")\n",
    "n_samples = len(dataset)\n",
    "n_class = len(dataset.classes)\n",
    "\n",
    "train, test = random_split(dataset, [50000, 10000])\n",
    "train_iterator = DataLoader(\n",
    "    train, \n",
    "    batch_size=batch_sz,\n",
    "    shuffle=True,\n",
    ")\n",
    "test_iterator = DataLoader(\n",
    "    test, \n",
    "    batch_size=batch_sz,\n",
    "    shuffle=True,\n",
    ")\n",
    "\n",
    "model = Model().to(device)\n",
    "criterion = nn.CrossEntropyLoss().to(device)\n",
    "optimizer = torch.optim.Adam(model.parameters(), lr=0.01)"
   ]
  },
  {
   "cell_type": "code",
   "execution_count": 105,
   "id": "6b7f1bc7-16a1-4ec6-a6d7-17e630bb5d60",
   "metadata": {},
   "outputs": [
    {
     "data": {
      "application/vnd.jupyter.widget-view+json": {
       "model_id": "06878dbaa2524585bdd963d88d2ffeda",
       "version_major": 2,
       "version_minor": 0
      },
      "text/plain": [
       "  0%|          | 0/2 [00:00<?, ?it/s]"
      ]
     },
     "metadata": {},
     "output_type": "display_data"
    },
    {
     "data": {
      "application/vnd.jupyter.widget-view+json": {
       "model_id": "098966b3a49b47bd8c4437dd689f061c",
       "version_major": 2,
       "version_minor": 0
      },
      "text/plain": [
       "  0%|          | 0/782 [00:00<?, ?it/s]"
      ]
     },
     "metadata": {},
     "output_type": "display_data"
    },
    {
     "name": "stdout",
     "output_type": "stream",
     "text": [
      "Epoch[1] | Step[0] => Loss: 2.32 | Accuracy: 7.8125 | Test Loss: 2.307021141052246\n",
      "Epoch[1] | Step[100] => Loss: 0.23 | Accuracy: 92.1875 | Test Loss: 0.25553953647613525\n",
      "Epoch[1] | Step[200] => Loss: 0.21 | Accuracy: 92.1875 | Test Loss: 0.21403446793556213\n",
      "Epoch[1] | Step[300] => Loss: 0.29 | Accuracy: 92.1875 | Test Loss: 0.19531148672103882\n",
      "Epoch[1] | Step[400] => Loss: 0.13 | Accuracy: 92.1875 | Test Loss: 0.2049931138753891\n",
      "Epoch[1] | Step[500] => Loss: 0.19 | Accuracy: 93.75 | Test Loss: 0.15728065371513367\n",
      "Epoch[1] | Step[600] => Loss: 0.12 | Accuracy: 98.4375 | Test Loss: 0.21809513866901398\n",
      "Epoch[1] | Step[700] => Loss: 0.27 | Accuracy: 93.75 | Test Loss: 0.16324448585510254\n"
     ]
    },
    {
     "data": {
      "application/vnd.jupyter.widget-view+json": {
       "model_id": "9ffa7b43419d44168a4b3b7ba395e167",
       "version_major": 2,
       "version_minor": 0
      },
      "text/plain": [
       "  0%|          | 0/782 [00:00<?, ?it/s]"
      ]
     },
     "metadata": {},
     "output_type": "display_data"
    },
    {
     "name": "stdout",
     "output_type": "stream",
     "text": [
      "Epoch[2] | Step[782] => Loss: 0.39 | Accuracy: 87.5 | Test Loss: 0.2372213900089264\n",
      "Epoch[2] | Step[882] => Loss: 0.13 | Accuracy: 95.3125 | Test Loss: 0.14894817769527435\n",
      "Epoch[2] | Step[982] => Loss: 0.03 | Accuracy: 98.4375 | Test Loss: 0.15820473432540894\n",
      "Epoch[2] | Step[1082] => Loss: 0.09 | Accuracy: 96.875 | Test Loss: 0.14023520052433014\n",
      "Epoch[2] | Step[1182] => Loss: 0.03 | Accuracy: 100.0 | Test Loss: 0.1981770545244217\n",
      "Epoch[2] | Step[1282] => Loss: 0.39 | Accuracy: 90.625 | Test Loss: 0.14739494025707245\n",
      "Epoch[2] | Step[1382] => Loss: 0.13 | Accuracy: 96.875 | Test Loss: 0.1408485621213913\n",
      "Epoch[2] | Step[1482] => Loss: 0.05 | Accuracy: 96.875 | Test Loss: 0.1610363870859146\n"
     ]
    }
   ],
   "source": [
    "n_epochs = 2\n",
    "writer = SummaryWriter(log_dir='logs')\n",
    "train_losses = []\n",
    "test_losses = []\n",
    "step = 0\n",
    "\n",
    "\n",
    "for epoch in tqdm(range(n_epochs)):\n",
    "    running_loss = 0 \n",
    "    for batch_idx, (inputs, labels) in enumerate(tqdm(train_iterator)):\n",
    "        preds = model(inputs.reshape(-1, 784)).to(device)\n",
    "        labels = labels.to(device)\n",
    "        loss = criterion(preds, labels)\n",
    "        \n",
    "        train_losses.append(loss.item())\n",
    "        \n",
    "        test_loss = 0\n",
    "        c = 0\n",
    "        \n",
    "        with torch.no_grad():\n",
    "            for test_X, test_y in test_iterator:\n",
    "                c += 1\n",
    "                test_preds = model(test_X.reshape(-1, 784)).to(device)\n",
    "                test_labels = test_y.to(device)\n",
    "                test_loss += criterion(test_preds, test_labels)\n",
    "\n",
    "            test_loss = test_loss/c\n",
    "            test_losses.append(test_loss.item())\n",
    "        \n",
    "        if batch_idx % 100 == 0:\n",
    "            print(f'Epoch[{epoch+1}] | Step[{step}] => Loss: {round(loss.item(), 2)} | Accuracy: {accuracy(preds, labels)} | Test Loss: {test_loss}')\n",
    "        \n",
    "        \n",
    "        writer.add_scalar(\n",
    "            'training loss',\n",
    "            loss.item() * 100,\n",
    "            batch_idx\n",
    "        )\n",
    "\n",
    "        optimizer.zero_grad()\n",
    "        loss.backward()\n",
    "        optimizer.step()\n",
    "        step += 1\n",
    "        \n",
    "    writer.add_scalar(\n",
    "        'accuracy',\n",
    "        accuracy(preds, labels),\n",
    "        epoch,\n",
    "    )\n",
    "    \n",
    "writer.close()"
   ]
  },
  {
   "cell_type": "markdown",
   "id": "61013367-8b7b-4823-92e8-5564ae410eea",
   "metadata": {},
   "source": [
    "## Plots"
   ]
  },
  {
   "cell_type": "code",
   "execution_count": 106,
   "id": "ef316036-249e-4625-b8a6-3c3be12485c6",
   "metadata": {},
   "outputs": [
    {
     "data": {
      "text/plain": [
       "<matplotlib.legend.Legend at 0x2c0b0da00>"
      ]
     },
     "execution_count": 106,
     "metadata": {},
     "output_type": "execute_result"
    },
    {
     "data": {
      "image/png": "[encoded data removed]",
      "text/plain": [
       "<Figure size 432x288 with 1 Axes>"
      ]
     },
     "metadata": {
      "needs_background": "light"
     },
     "output_type": "display_data"
    }
   ],
   "source": [
    "_ = plt.plot(train_losses, label='Train loss')\n",
    "_ = plt.plot(test_losses, label='Test loss')\n",
    "plt.xlabel('Train iterations')\n",
    "plt.ylabel('Loss')\n",
    "plt.legend()"
   ]
  }
 ],
 "metadata": {
  "kernelspec": {
   "display_name": "Python [conda env:root] *",
   "language": "python",
   "name": "conda-root-py"
  },
  "language_info": {
   "codemirror_mode": {
    "name": "ipython",
    "version": 3
   },
   "file_extension": ".py",
   "mimetype": "text/x-python",
   "name": "python",
   "nbconvert_exporter": "python",
   "pygments_lexer": "ipython3",
   "version": "3.9.7"
  }
 },
 "nbformat": 4,
 "nbformat_minor": 5
}
