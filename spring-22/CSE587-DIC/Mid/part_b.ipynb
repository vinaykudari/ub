{
 "cells": [
  {
   "cell_type": "markdown",
   "id": "a85154cb-dc18-4a37-9d3b-ed90ebd9a0f8",
   "metadata": {},
   "source": [
    "### Part - B"
   ]
  },
  {
   "cell_type": "markdown",
   "id": "2d1ecb37-642d-4cfd-bfd9-ac6414ece04b",
   "metadata": {},
   "source": [
    "## Traffic Violation Analysis"
   ]
  },
  {
   "cell_type": "markdown",
   "id": "84fe0287-e9d8-4ed0-ab81-f7bb5fd6a4e6",
   "metadata": {},
   "source": [
    "After correlation analysis on dataset I found 'Description', 'Contributed To Accident', 'Personal Injury', 'Property Damage' are useful in predicting target accurately. Alongside I've engineered a new feature 'Description Pred' which is result of text classification on 'Description' column which seems to be highly correrelated. \n",
    "\n",
    "All the models do a decent job at classifying and perform equally good, but Random Forest Classifier is slighty better when compared to other two, it consistently gave better accuracy around 80% where as KNN and SVM accuracies are around 78% and 65% Random forest model also has good sensitivity and specificity scores. Sensitivity score for Citation class using Random Forest and KNN is around 0.90 and using SVM it is around 0.80. We can also observe that 'SERO' class has higher sensitivity (close to 1) and specificity amoung all other models which is due class imbalance, number of samples with SERO class are the least in the dataset. Also, our the models have tough time predicting 'Warning' class this can be concluded by lower sensitivity scores.\n",
    "\n",
    "Amoung all the three models Random Forest gives better accuracy but I found KNN more generalizable even with slightly lower accuracy. \n",
    "\n",
    "I would deploy KNN in production for two reasons\n",
    "- Inference time is faster than other models : In production we should care about faster inferences times as we need to cater for efficiency and scale\n",
    "- Lower generalization gap"
   ]
  }
 ],
 "metadata": {
  "kernelspec": {
   "display_name": "Python [conda env:root] *",
   "language": "python",
   "name": "conda-root-py"
  },
  "language_info": {
   "codemirror_mode": {
    "name": "ipython",
    "version": 3
   },
   "file_extension": ".py",
   "mimetype": "text/x-python",
   "name": "python",
   "nbconvert_exporter": "python",
   "pygments_lexer": "ipython3",
   "version": "3.9.7"
  }
 },
 "nbformat": 4,
 "nbformat_minor": 5
}
