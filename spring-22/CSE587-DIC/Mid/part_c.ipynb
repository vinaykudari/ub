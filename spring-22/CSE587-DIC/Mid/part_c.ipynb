{
 "cells": [
  {
   "cell_type": "markdown",
   "id": "ddc44dbe-132d-4be3-a0c2-c96c49ea57d0",
   "metadata": {},
   "source": [
    "## \"Exascale Computing and Big Data\" - by Daniel A. Reed and Jack Dongarra"
   ]
  },
  {
   "cell_type": "markdown",
   "id": "ade662a5-ea37-4f16-a6ff-2c0afbb09733",
   "metadata": {},
   "source": [
    "#### Motivation"
   ]
  },
  {
   "cell_type": "markdown",
   "id": "324dd25b-90a4-49a8-804d-046a31d366f3",
   "metadata": {},
   "source": [
    "The paper begins by discussing some of the major challenges that are currently being solved by computational models, such as climate modeling and predicting black hole behavior, and then goes on to discuss how solving these problems require some investment in advanced computing research, design, and global collaboration."
   ]
  },
  {
   "cell_type": "markdown",
   "id": "2a0ddd5f-610b-43d3-ba87-a40c2bf987ed",
   "metadata": {},
   "source": [
    "#### Scientific and engineering opportunities with the rise of big data analytics"
   ]
  },
  {
   "cell_type": "markdown",
   "id": "f100dea5-062a-44da-8daf-3316f439afae",
   "metadata": {},
   "source": [
    "The authors begin by discussing how big data analytical systems were critical in the discovery of the Higgs boson particle, and they go on to discuss how various fields other than physical sciences are leveraging the potential of big data. It has been reported that some astronomers are now frequently querying existing datasets to discover previously unknown patterns and trends, which is very interesting to know. Big data is also playing an important role in the healthcare domain, with many of these techniques being increasingly used to conduct comparative and longitudinal analyses of cancer treatment regimes. The author also discussed some lesser-known fields where big data analytics is being used; currently, semantic graph visualization tools and recommender systems are being used to identify relevant topics and suggest relevant papers for study."
   ]
  },
  {
   "cell_type": "markdown",
   "id": "3640d30d-280e-4f54-a2c6-07ce807cbef8",
   "metadata": {},
   "source": [
    "#### Technical challenges towards high-end computing"
   ]
  },
  {
   "cell_type": "markdown",
   "id": "50a0888e-2b9b-4420-92b4-e643e3c3d4ae",
   "metadata": {},
   "source": [
    "The study explored a wide range of technological obstacles, including software, hardware, and scaling challenges. The author references a survey undertaken by the US Department of Energy, which claims that new designs and technologies are required to reduce the energy requirement to a more manageable and economically reasonable level in order to satisfy the present compute power demand. \n",
    "\n",
    "Outlining some of the strategies that can address these issues\n",
    "\n",
    "- Locality-aware algorithms (MapReduce toolkits) and software will be needed to maximize computation performance and reduce energy needs\n",
    "- New memory technologies, including processor in-memory, stacked memory, and nonvolatile memory approaches are needed to minimize data movement and energy use\n",
    "- More expressive programming methods are required to deal with the parallelism and frequent errors of exascale computing systems.\n",
    "- Given the need for systemic resilience in the face of component failures, systems should incorporate a wide range of resilience mechanisms, such as geo-distribution, automated restart and failover, failure injection, and introspective monitoring."
   ]
  }
 ],
 "metadata": {
  "kernelspec": {
   "display_name": "Python [conda env:root] *",
   "language": "python",
   "name": "conda-root-py"
  },
  "language_info": {
   "codemirror_mode": {
    "name": "ipython",
    "version": 3
   },
   "file_extension": ".py",
   "mimetype": "text/x-python",
   "name": "python",
   "nbconvert_exporter": "python",
   "pygments_lexer": "ipython3",
   "version": "3.9.7"
  }
 },
 "nbformat": 4,
 "nbformat_minor": 5
}
