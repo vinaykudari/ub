{
 "cells": [
  {
   "cell_type": "markdown",
   "id": "2acdcfbc-4076-45bb-a5a7-a1bd63ce91d9",
   "metadata": {},
   "source": [
    "### Part - C"
   ]
  },
  {
   "cell_type": "markdown",
   "id": "2719501b-a9c2-44ff-9182-40182eb0cd7e",
   "metadata": {},
   "source": [
    "In industry and research, the rise of data volumes presents huge opportunities as well as tremendous computing obstacles. Most big data applications require a mix of processing techniques; for example, a typical pipeline will require MapReduce-style code for data loading, SQL-style queries, and progressive machine learning. Data must frequently be transported for each of the above workloads, which is inefficient. Spark was created to address all of the aforementioned issues. It's a unified API that enables new applications like interactive graph queries and streaming machine learning that weren't available before.\n",
    "\n",
    "Apache Spark is used in a wide range of applications from Web services to biotechnology to finance. Below are some of the top general use cases. \n",
    "\n",
    "- Batch processing: Spark can process data in memory, many of the extract-transform-load applications do not.  In such cases, Spark can still improve perfor- mance over MapReduce due to its sup- port for more complex operator graphs.\n",
    "\n",
    "- Interactive queries: Organizations utilize Spark SQL for relational queries, commonly using Tableau. Visual notebook environments are used in all deployments to ask more complex questions and design models that lead to production apps.\n",
    "\n",
    "- Stream processing: Real-time processing is also a popular use case, both in analytics and in real-time decision making applications such as network security monitoring, prescriptive analytics and log mining.\n",
    "\n",
    "- Scientific applications: Spark has also been used in several scientific domains, including large-scale spam detection, image processing, and genomic data processing."
   ]
  }
 ],
 "metadata": {
  "kernelspec": {
   "display_name": "Python [conda env:root] *",
   "language": "python",
   "name": "conda-root-py"
  },
  "language_info": {
   "codemirror_mode": {
    "name": "ipython",
    "version": 3
   },
   "file_extension": ".py",
   "mimetype": "text/x-python",
   "name": "python",
   "nbconvert_exporter": "python",
   "pygments_lexer": "ipython3",
   "version": "3.9.7"
  }
 },
 "nbformat": 4,
 "nbformat_minor": 5
}
