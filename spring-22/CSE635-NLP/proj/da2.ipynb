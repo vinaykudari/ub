{
 "cells": [
  {
   "cell_type": "code",
   "execution_count": 3,
   "id": "9cda0077-395a-4dbc-930f-4e846f3be05e",
   "metadata": {},
   "outputs": [],
   "source": [
    "import pandas as pd"
   ]
  },
  {
   "cell_type": "code",
   "execution_count": 34,
   "id": "6bda80a7-dcff-4c09-888c-36269df4ccdc",
   "metadata": {},
   "outputs": [],
   "source": [
    "import matplotlib.pyplot as plt\n",
    "import seaborn as sns"
   ]
  },
  {
   "cell_type": "code",
   "execution_count": 25,
   "id": "4900c1ec-802d-41b5-aa00-179811fb3f57",
   "metadata": {},
   "outputs": [
    {
     "name": "stderr",
     "output_type": "stream",
     "text": [
      "/Users/vinay/miniforge3/lib/python3.9/site-packages/IPython/core/interactiveshell.py:3457: DtypeWarning: Columns (2,19) have mixed types.Specify dtype option on import or set low_memory=False.\n",
      "  exec(code_obj, self.user_global_ns, self.user_ns)\n"
     ]
    }
   ],
   "source": [
    "\n",
    "df = pd.read_csv('/Users/vinay/ub/spring-22/CSE635-NLP/proj/task_3/task_3_event_prediction.tsv', sep='\\t')"
   ]
  },
  {
   "cell_type": "code",
   "execution_count": null,
   "id": "1da42767-1a0b-4136-a4fa-460672666b08",
   "metadata": {},
   "outputs": [],
   "source": []
  },
  {
   "cell_type": "code",
   "execution_count": 26,
   "id": "d87e28c1-082d-4e15-86a1-e0d68fd27ef5",
   "metadata": {},
   "outputs": [
    {
     "data": {
      "text/html": [
       "<div>\n",
       "<style scoped>\n",
       "    .dataframe tbody tr th:only-of-type {\n",
       "        vertical-align: middle;\n",
       "    }\n",
       "\n",
       "    .dataframe tbody tr th {\n",
       "        vertical-align: top;\n",
       "    }\n",
       "\n",
       "    .dataframe thead th {\n",
       "        text-align: right;\n",
       "    }\n",
       "</style>\n",
       "<table border=\"1\" class=\"dataframe\">\n",
       "  <thead>\n",
       "    <tr style=\"text-align: right;\">\n",
       "      <th></th>\n",
       "      <th>ISO</th>\n",
       "      <th>EVENT_ID_CNTY</th>\n",
       "      <th>EVENT_ID_NO_CNTY</th>\n",
       "      <th>EVENT_DATE</th>\n",
       "      <th>YEAR</th>\n",
       "      <th>TIME_PRECISION</th>\n",
       "      <th>EVENT_TYPE</th>\n",
       "      <th>SUB_EVENT_TYPE</th>\n",
       "      <th>ACTOR1</th>\n",
       "      <th>ASSOC_ACTOR_1</th>\n",
       "      <th>...</th>\n",
       "      <th>LOCATION</th>\n",
       "      <th>LATITUDE</th>\n",
       "      <th>LONGITUDE</th>\n",
       "      <th>GEO_PRECISION</th>\n",
       "      <th>SOURCE</th>\n",
       "      <th>SOURCE_SCALE</th>\n",
       "      <th>NOTES</th>\n",
       "      <th>FATALITIES</th>\n",
       "      <th>TIMESTAMP</th>\n",
       "      <th>geo</th>\n",
       "    </tr>\n",
       "  </thead>\n",
       "  <tbody>\n",
       "    <tr>\n",
       "      <th>0</th>\n",
       "      <td>356.0</td>\n",
       "      <td>IND25495</td>\n",
       "      <td>25495</td>\n",
       "      <td>01-January-2018</td>\n",
       "      <td>2018.0</td>\n",
       "      <td>1.0</td>\n",
       "      <td>Protests</td>\n",
       "      <td>Peaceful protest</td>\n",
       "      <td>Protesters (India)</td>\n",
       "      <td>Labour Group (India)</td>\n",
       "      <td>...</td>\n",
       "      <td>Zirakpur</td>\n",
       "      <td>30.643</td>\n",
       "      <td>76.818</td>\n",
       "      <td>1.0</td>\n",
       "      <td>Chandigarh Tribune</td>\n",
       "      <td>Subnational</td>\n",
       "      <td>Members of the Safai Karamchari Union proteste...</td>\n",
       "      <td>0.0</td>\n",
       "      <td>1.618533e+09</td>\n",
       "      <td>asia</td>\n",
       "    </tr>\n",
       "    <tr>\n",
       "      <th>1</th>\n",
       "      <td>356.0</td>\n",
       "      <td>IND25504</td>\n",
       "      <td>25504</td>\n",
       "      <td>01-January-2018</td>\n",
       "      <td>2018.0</td>\n",
       "      <td>1.0</td>\n",
       "      <td>Protests</td>\n",
       "      <td>Peaceful protest</td>\n",
       "      <td>Protesters (India)</td>\n",
       "      <td>IMA: Indian Medical Association</td>\n",
       "      <td>...</td>\n",
       "      <td>Shivamogga</td>\n",
       "      <td>13.932</td>\n",
       "      <td>75.568</td>\n",
       "      <td>1.0</td>\n",
       "      <td>The Hindu</td>\n",
       "      <td>National</td>\n",
       "      <td>On January 1, in Shimoga, medical professional...</td>\n",
       "      <td>0.0</td>\n",
       "      <td>1.618533e+09</td>\n",
       "      <td>asia</td>\n",
       "    </tr>\n",
       "    <tr>\n",
       "      <th>2</th>\n",
       "      <td>356.0</td>\n",
       "      <td>IND25503</td>\n",
       "      <td>25503</td>\n",
       "      <td>01-January-2018</td>\n",
       "      <td>2018.0</td>\n",
       "      <td>1.0</td>\n",
       "      <td>Protests</td>\n",
       "      <td>Peaceful protest</td>\n",
       "      <td>Protesters (India)</td>\n",
       "      <td>IMA: Indian Medical Association; Health Worker...</td>\n",
       "      <td>...</td>\n",
       "      <td>Hubballi</td>\n",
       "      <td>15.348</td>\n",
       "      <td>75.134</td>\n",
       "      <td>1.0</td>\n",
       "      <td>The Hindu</td>\n",
       "      <td>National</td>\n",
       "      <td>On January 1, in Hubli, ahead of the Black Day...</td>\n",
       "      <td>0.0</td>\n",
       "      <td>1.618533e+09</td>\n",
       "      <td>asia</td>\n",
       "    </tr>\n",
       "    <tr>\n",
       "      <th>3</th>\n",
       "      <td>356.0</td>\n",
       "      <td>IND25496</td>\n",
       "      <td>25496</td>\n",
       "      <td>01-January-2018</td>\n",
       "      <td>2018.0</td>\n",
       "      <td>1.0</td>\n",
       "      <td>Protests</td>\n",
       "      <td>Protest with intervention</td>\n",
       "      <td>Protesters (India)</td>\n",
       "      <td>Hindu Group (India)</td>\n",
       "      <td>...</td>\n",
       "      <td>Bundi</td>\n",
       "      <td>25.439</td>\n",
       "      <td>75.637</td>\n",
       "      <td>1.0</td>\n",
       "      <td>Indo-Asian News Service</td>\n",
       "      <td>Regional</td>\n",
       "      <td>On January 1, Hindu Mahasabha members who took...</td>\n",
       "      <td>0.0</td>\n",
       "      <td>1.571165e+09</td>\n",
       "      <td>asia</td>\n",
       "    </tr>\n",
       "    <tr>\n",
       "      <th>4</th>\n",
       "      <td>356.0</td>\n",
       "      <td>IND92963</td>\n",
       "      <td>92963</td>\n",
       "      <td>01-January-2018</td>\n",
       "      <td>2018.0</td>\n",
       "      <td>1.0</td>\n",
       "      <td>Strategic developments</td>\n",
       "      <td>Disrupted weapons use</td>\n",
       "      <td>Police Forces of India (2014-)</td>\n",
       "      <td>Police Forces of India (2014-) Bomb Disposal S...</td>\n",
       "      <td>...</td>\n",
       "      <td>Mantripukhri</td>\n",
       "      <td>24.850</td>\n",
       "      <td>93.934</td>\n",
       "      <td>1.0</td>\n",
       "      <td>Sangai Express</td>\n",
       "      <td>Subnational</td>\n",
       "      <td>On 1 January 2018, unidentified individuals pl...</td>\n",
       "      <td>0.0</td>\n",
       "      <td>1.618957e+09</td>\n",
       "      <td>asia</td>\n",
       "    </tr>\n",
       "  </tbody>\n",
       "</table>\n",
       "<p>5 rows × 30 columns</p>\n",
       "</div>"
      ],
      "text/plain": [
       "     ISO EVENT_ID_CNTY EVENT_ID_NO_CNTY       EVENT_DATE    YEAR  \\\n",
       "0  356.0      IND25495            25495  01-January-2018  2018.0   \n",
       "1  356.0      IND25504            25504  01-January-2018  2018.0   \n",
       "2  356.0      IND25503            25503  01-January-2018  2018.0   \n",
       "3  356.0      IND25496            25496  01-January-2018  2018.0   \n",
       "4  356.0      IND92963            92963  01-January-2018  2018.0   \n",
       "\n",
       "   TIME_PRECISION              EVENT_TYPE             SUB_EVENT_TYPE  \\\n",
       "0             1.0                Protests           Peaceful protest   \n",
       "1             1.0                Protests           Peaceful protest   \n",
       "2             1.0                Protests           Peaceful protest   \n",
       "3             1.0                Protests  Protest with intervention   \n",
       "4             1.0  Strategic developments      Disrupted weapons use   \n",
       "\n",
       "                           ACTOR1  \\\n",
       "0              Protesters (India)   \n",
       "1              Protesters (India)   \n",
       "2              Protesters (India)   \n",
       "3              Protesters (India)   \n",
       "4  Police Forces of India (2014-)   \n",
       "\n",
       "                                       ASSOC_ACTOR_1  ...      LOCATION  \\\n",
       "0                               Labour Group (India)  ...      Zirakpur   \n",
       "1                    IMA: Indian Medical Association  ...    Shivamogga   \n",
       "2  IMA: Indian Medical Association; Health Worker...  ...      Hubballi   \n",
       "3                                Hindu Group (India)  ...         Bundi   \n",
       "4  Police Forces of India (2014-) Bomb Disposal S...  ...  Mantripukhri   \n",
       "\n",
       "  LATITUDE LONGITUDE  GEO_PRECISION                   SOURCE SOURCE_SCALE  \\\n",
       "0   30.643    76.818            1.0       Chandigarh Tribune  Subnational   \n",
       "1   13.932    75.568            1.0                The Hindu     National   \n",
       "2   15.348    75.134            1.0                The Hindu     National   \n",
       "3   25.439    75.637            1.0  Indo-Asian News Service     Regional   \n",
       "4   24.850    93.934            1.0           Sangai Express  Subnational   \n",
       "\n",
       "                                               NOTES FATALITIES     TIMESTAMP  \\\n",
       "0  Members of the Safai Karamchari Union proteste...        0.0  1.618533e+09   \n",
       "1  On January 1, in Shimoga, medical professional...        0.0  1.618533e+09   \n",
       "2  On January 1, in Hubli, ahead of the Black Day...        0.0  1.618533e+09   \n",
       "3  On January 1, Hindu Mahasabha members who took...        0.0  1.571165e+09   \n",
       "4  On 1 January 2018, unidentified individuals pl...        0.0  1.618957e+09   \n",
       "\n",
       "    geo  \n",
       "0  asia  \n",
       "1  asia  \n",
       "2  asia  \n",
       "3  asia  \n",
       "4  asia  \n",
       "\n",
       "[5 rows x 30 columns]"
      ]
     },
     "execution_count": 26,
     "metadata": {},
     "output_type": "execute_result"
    }
   ],
   "source": [
    "df.head()"
   ]
  },
  {
   "cell_type": "code",
   "execution_count": 27,
   "id": "b103655d-2ce4-4799-a734-3c6a80c3dcab",
   "metadata": {},
   "outputs": [
    {
     "name": "stdout",
     "output_type": "stream",
     "text": [
      "<class 'pandas.core.frame.DataFrame'>\n",
      "RangeIndex: 115668 entries, 0 to 115667\n",
      "Data columns (total 30 columns):\n",
      " #   Column            Non-Null Count   Dtype  \n",
      "---  ------            --------------   -----  \n",
      " 0   ISO               115665 non-null  float64\n",
      " 1   EVENT_ID_CNTY     115668 non-null  object \n",
      " 2   EVENT_ID_NO_CNTY  115668 non-null  object \n",
      " 3   EVENT_DATE        115667 non-null  object \n",
      " 4   YEAR              115664 non-null  float64\n",
      " 5   TIME_PRECISION    115664 non-null  float64\n",
      " 6   EVENT_TYPE        115664 non-null  object \n",
      " 7   SUB_EVENT_TYPE    115664 non-null  object \n",
      " 8   ACTOR1            115664 non-null  object \n",
      " 9   ASSOC_ACTOR_1     85255 non-null   object \n",
      " 10  INTER1            115664 non-null  float64\n",
      " 11  ACTOR2            26280 non-null   object \n",
      " 12  ASSOC_ACTOR_2     10384 non-null   object \n",
      " 13  INTER2            115664 non-null  float64\n",
      " 14  INTERACTION       115664 non-null  float64\n",
      " 15  REGION            115664 non-null  object \n",
      " 16  COUNTRY           115664 non-null  object \n",
      " 17  ADMIN1            115664 non-null  object \n",
      " 18  ADMIN2            115590 non-null  object \n",
      " 19  ADMIN3            76479 non-null   object \n",
      " 20  LOCATION          115664 non-null  object \n",
      " 21  LATITUDE          115664 non-null  float64\n",
      " 22  LONGITUDE         115664 non-null  float64\n",
      " 23  GEO_PRECISION     115664 non-null  float64\n",
      " 24  SOURCE            115664 non-null  object \n",
      " 25  SOURCE_SCALE      115664 non-null  object \n",
      " 26  NOTES             115664 non-null  object \n",
      " 27  FATALITIES        115660 non-null  float64\n",
      " 28  TIMESTAMP         115660 non-null  float64\n",
      " 29  geo               115660 non-null  object \n",
      "dtypes: float64(11), object(19)\n",
      "memory usage: 26.5+ MB\n"
     ]
    }
   ],
   "source": [
    "df.info()"
   ]
  },
  {
   "cell_type": "code",
   "execution_count": 28,
   "id": "e4f1df49-e633-4cdb-9002-e52a1b6d2060",
   "metadata": {},
   "outputs": [
    {
     "data": {
      "text/html": [
       "<div>\n",
       "<style scoped>\n",
       "    .dataframe tbody tr th:only-of-type {\n",
       "        vertical-align: middle;\n",
       "    }\n",
       "\n",
       "    .dataframe tbody tr th {\n",
       "        vertical-align: top;\n",
       "    }\n",
       "\n",
       "    .dataframe thead th {\n",
       "        text-align: right;\n",
       "    }\n",
       "</style>\n",
       "<table border=\"1\" class=\"dataframe\">\n",
       "  <thead>\n",
       "    <tr style=\"text-align: right;\">\n",
       "      <th></th>\n",
       "      <th>ISO</th>\n",
       "      <th>YEAR</th>\n",
       "      <th>TIME_PRECISION</th>\n",
       "      <th>INTER1</th>\n",
       "      <th>INTER2</th>\n",
       "      <th>INTERACTION</th>\n",
       "      <th>LATITUDE</th>\n",
       "      <th>LONGITUDE</th>\n",
       "      <th>GEO_PRECISION</th>\n",
       "      <th>FATALITIES</th>\n",
       "      <th>TIMESTAMP</th>\n",
       "    </tr>\n",
       "  </thead>\n",
       "  <tbody>\n",
       "    <tr>\n",
       "      <th>count</th>\n",
       "      <td>115665.000000</td>\n",
       "      <td>115664.000000</td>\n",
       "      <td>115664.000000</td>\n",
       "      <td>115664.000000</td>\n",
       "      <td>115664.000000</td>\n",
       "      <td>115664.000000</td>\n",
       "      <td>115664.000000</td>\n",
       "      <td>115664.000000</td>\n",
       "      <td>115664.000000</td>\n",
       "      <td>115660.000000</td>\n",
       "      <td>1.156600e+05</td>\n",
       "    </tr>\n",
       "    <tr>\n",
       "      <th>mean</th>\n",
       "      <td>514.053793</td>\n",
       "      <td>2019.762986</td>\n",
       "      <td>1.027191</td>\n",
       "      <td>5.563762</td>\n",
       "      <td>0.933609</td>\n",
       "      <td>53.117642</td>\n",
       "      <td>29.231015</td>\n",
       "      <td>23.751266</td>\n",
       "      <td>1.167770</td>\n",
       "      <td>0.054928</td>\n",
       "      <td>1.609752e+09</td>\n",
       "    </tr>\n",
       "    <tr>\n",
       "      <th>std</th>\n",
       "      <td>226.980319</td>\n",
       "      <td>1.046511</td>\n",
       "      <td>0.168232</td>\n",
       "      <td>1.152784</td>\n",
       "      <td>2.187768</td>\n",
       "      <td>15.379008</td>\n",
       "      <td>9.169706</td>\n",
       "      <td>82.153450</td>\n",
       "      <td>0.409203</td>\n",
       "      <td>0.445938</td>\n",
       "      <td>2.419226e+07</td>\n",
       "    </tr>\n",
       "    <tr>\n",
       "      <th>min</th>\n",
       "      <td>0.000000</td>\n",
       "      <td>2018.000000</td>\n",
       "      <td>1.000000</td>\n",
       "      <td>1.000000</td>\n",
       "      <td>0.000000</td>\n",
       "      <td>10.000000</td>\n",
       "      <td>7.007000</td>\n",
       "      <td>-166.534000</td>\n",
       "      <td>1.000000</td>\n",
       "      <td>0.000000</td>\n",
       "      <td>1.552576e+09</td>\n",
       "    </tr>\n",
       "    <tr>\n",
       "      <th>25%</th>\n",
       "      <td>356.000000</td>\n",
       "      <td>2019.000000</td>\n",
       "      <td>1.000000</td>\n",
       "      <td>6.000000</td>\n",
       "      <td>0.000000</td>\n",
       "      <td>60.000000</td>\n",
       "      <td>23.833000</td>\n",
       "      <td>-77.434000</td>\n",
       "      <td>1.000000</td>\n",
       "      <td>0.000000</td>\n",
       "      <td>1.602607e+09</td>\n",
       "    </tr>\n",
       "    <tr>\n",
       "      <th>50%</th>\n",
       "      <td>356.000000</td>\n",
       "      <td>2020.000000</td>\n",
       "      <td>1.000000</td>\n",
       "      <td>6.000000</td>\n",
       "      <td>0.000000</td>\n",
       "      <td>60.000000</td>\n",
       "      <td>30.245000</td>\n",
       "      <td>75.298000</td>\n",
       "      <td>1.000000</td>\n",
       "      <td>0.000000</td>\n",
       "      <td>1.618501e+09</td>\n",
       "    </tr>\n",
       "    <tr>\n",
       "      <th>75%</th>\n",
       "      <td>840.000000</td>\n",
       "      <td>2021.000000</td>\n",
       "      <td>1.000000</td>\n",
       "      <td>6.000000</td>\n",
       "      <td>0.000000</td>\n",
       "      <td>60.000000</td>\n",
       "      <td>34.503000</td>\n",
       "      <td>79.583000</td>\n",
       "      <td>1.000000</td>\n",
       "      <td>0.000000</td>\n",
       "      <td>1.625004e+09</td>\n",
       "    </tr>\n",
       "    <tr>\n",
       "      <th>max</th>\n",
       "      <td>840.000000</td>\n",
       "      <td>2022.000000</td>\n",
       "      <td>3.000000</td>\n",
       "      <td>8.000000</td>\n",
       "      <td>8.000000</td>\n",
       "      <td>80.000000</td>\n",
       "      <td>71.291000</td>\n",
       "      <td>96.994000</td>\n",
       "      <td>3.000000</td>\n",
       "      <td>40.000000</td>\n",
       "      <td>1.643151e+09</td>\n",
       "    </tr>\n",
       "  </tbody>\n",
       "</table>\n",
       "</div>"
      ],
      "text/plain": [
       "                 ISO           YEAR  TIME_PRECISION         INTER1  \\\n",
       "count  115665.000000  115664.000000   115664.000000  115664.000000   \n",
       "mean      514.053793    2019.762986        1.027191       5.563762   \n",
       "std       226.980319       1.046511        0.168232       1.152784   \n",
       "min         0.000000    2018.000000        1.000000       1.000000   \n",
       "25%       356.000000    2019.000000        1.000000       6.000000   \n",
       "50%       356.000000    2020.000000        1.000000       6.000000   \n",
       "75%       840.000000    2021.000000        1.000000       6.000000   \n",
       "max       840.000000    2022.000000        3.000000       8.000000   \n",
       "\n",
       "              INTER2    INTERACTION       LATITUDE      LONGITUDE  \\\n",
       "count  115664.000000  115664.000000  115664.000000  115664.000000   \n",
       "mean        0.933609      53.117642      29.231015      23.751266   \n",
       "std         2.187768      15.379008       9.169706      82.153450   \n",
       "min         0.000000      10.000000       7.007000    -166.534000   \n",
       "25%         0.000000      60.000000      23.833000     -77.434000   \n",
       "50%         0.000000      60.000000      30.245000      75.298000   \n",
       "75%         0.000000      60.000000      34.503000      79.583000   \n",
       "max         8.000000      80.000000      71.291000      96.994000   \n",
       "\n",
       "       GEO_PRECISION     FATALITIES     TIMESTAMP  \n",
       "count  115664.000000  115660.000000  1.156600e+05  \n",
       "mean        1.167770       0.054928  1.609752e+09  \n",
       "std         0.409203       0.445938  2.419226e+07  \n",
       "min         1.000000       0.000000  1.552576e+09  \n",
       "25%         1.000000       0.000000  1.602607e+09  \n",
       "50%         1.000000       0.000000  1.618501e+09  \n",
       "75%         1.000000       0.000000  1.625004e+09  \n",
       "max         3.000000      40.000000  1.643151e+09  "
      ]
     },
     "execution_count": 28,
     "metadata": {},
     "output_type": "execute_result"
    }
   ],
   "source": [
    "df.describe()"
   ]
  },
  {
   "cell_type": "code",
   "execution_count": 29,
   "id": "7c96888a-cded-46f5-b048-c1236f840fe4",
   "metadata": {},
   "outputs": [
    {
     "data": {
      "text/plain": [
       "array([60., 16., 13., 12., 27., 30., 57., 37., 50., 55., 15., 17., 44.,\n",
       "       35., 18., 56., 47., 78., 33., 80., 36., 20., 23., 38., 11., 14.,\n",
       "       22., 10., 24., 66., 58., 70., 34., 77., 25., 67., 45., 28., 68.,\n",
       "       40., 48., nan])"
      ]
     },
     "execution_count": 29,
     "metadata": {},
     "output_type": "execute_result"
    }
   ],
   "source": [
    "df['INTERACTION'].unique()"
   ]
  },
  {
   "cell_type": "code",
   "execution_count": 30,
   "id": "5052319b-4592-4e5c-94c1-1e62e133965d",
   "metadata": {},
   "outputs": [],
   "source": [
    "intractions = df['INTERACTION'].value_counts()"
   ]
  },
  {
   "cell_type": "code",
   "execution_count": 31,
   "id": "cecd12d5-2a86-44df-ae3f-63a36ef78b89",
   "metadata": {},
   "outputs": [
    {
     "data": {
      "text/plain": [
       "array([86771,  4584,  4272,  4141,  2160,  1882,  1708,  1697,  1562,\n",
       "        1246,  1106,  1078,   664,   570,   511,   346,   346,   138,\n",
       "         137,   118,   105,    57,    52,    48,    44,    39,    39,\n",
       "          36,    34,    31,    25,    23,    23,    20,    19,    12,\n",
       "           8,     5,     4,     2,     1])"
      ]
     },
     "execution_count": 31,
     "metadata": {},
     "output_type": "execute_result"
    }
   ],
   "source": [
    "intractions.values"
   ]
  },
  {
   "cell_type": "code",
   "execution_count": 32,
   "id": "aef78898-7539-4b5c-8de3-f0d08037bf6e",
   "metadata": {},
   "outputs": [
    {
     "data": {
      "text/plain": [
       "\u001b[0;31mSignature:\u001b[0m \u001b[0mplt\u001b[0m\u001b[0;34m.\u001b[0m\u001b[0mxticks\u001b[0m\u001b[0;34m(\u001b[0m\u001b[0mticks\u001b[0m\u001b[0;34m=\u001b[0m\u001b[0;32mNone\u001b[0m\u001b[0;34m,\u001b[0m \u001b[0mlabels\u001b[0m\u001b[0;34m=\u001b[0m\u001b[0;32mNone\u001b[0m\u001b[0;34m,\u001b[0m \u001b[0;34m**\u001b[0m\u001b[0mkwargs\u001b[0m\u001b[0;34m)\u001b[0m\u001b[0;34m\u001b[0m\u001b[0;34m\u001b[0m\u001b[0m\n",
       "\u001b[0;31mDocstring:\u001b[0m\n",
       "Get or set the current tick locations and labels of the x-axis.\n",
       "\n",
       "Pass no arguments to return the current values without modifying them.\n",
       "\n",
       "Parameters\n",
       "----------\n",
       "ticks : array-like, optional\n",
       "    The list of xtick locations.  Passing an empty list removes all xticks.\n",
       "labels : array-like, optional\n",
       "    The labels to place at the given *ticks* locations.  This argument can\n",
       "    only be passed if *ticks* is passed as well.\n",
       "**kwargs\n",
       "    `.Text` properties can be used to control the appearance of the labels.\n",
       "\n",
       "Returns\n",
       "-------\n",
       "locs\n",
       "    The list of xtick locations.\n",
       "labels\n",
       "    The list of xlabel `.Text` objects.\n",
       "\n",
       "Notes\n",
       "-----\n",
       "Calling this function with no arguments (e.g. ``xticks()``) is the pyplot\n",
       "equivalent of calling `~.Axes.get_xticks` and `~.Axes.get_xticklabels` on\n",
       "the current axes.\n",
       "Calling this function with arguments is the pyplot equivalent of calling\n",
       "`~.Axes.set_xticks` and `~.Axes.set_xticklabels` on the current axes.\n",
       "\n",
       "Examples\n",
       "--------\n",
       ">>> locs, labels = xticks()  # Get the current locations and labels.\n",
       ">>> xticks(np.arange(0, 1, step=0.2))  # Set label locations.\n",
       ">>> xticks(np.arange(3), ['Tom', 'Dick', 'Sue'])  # Set text labels.\n",
       ">>> xticks([0, 1, 2], ['January', 'February', 'March'],\n",
       "...        rotation=20)  # Set text labels and properties.\n",
       ">>> xticks([])  # Disable xticks.\n",
       "\u001b[0;31mFile:\u001b[0m      ~/miniforge3/lib/python3.9/site-packages/matplotlib/pyplot.py\n",
       "\u001b[0;31mType:\u001b[0m      function\n"
      ]
     },
     "metadata": {},
     "output_type": "display_data"
    }
   ],
   "source": [
    "plt.xticks?"
   ]
  },
  {
   "cell_type": "code",
   "execution_count": 35,
   "id": "bdb7b798-c6c9-456f-96ef-d9593c4ff133",
   "metadata": {},
   "outputs": [
    {
     "data": {
      "text/plain": [
       "Text(0, 0.5, 'Count')"
      ]
     },
     "execution_count": 35,
     "metadata": {},
     "output_type": "execute_result"
    },
    {
     "data": {
      "image/png": "[encoded data removed]",
      "text/plain": [
       "<Figure size 432x288 with 1 Axes>"
      ]
     },
     "metadata": {
      "needs_background": "light"
     },
     "output_type": "display_data"
    },
    {
     "data": {
      "image/png": "[encoded data removed]",
      "text/plain": [
       "<Figure size 1080x576 with 1 Axes>"
      ]
     },
     "metadata": {
      "needs_background": "light"
     },
     "output_type": "display_data"
    }
   ],
   "source": [
    "plt.xticks(rotation=90)\n",
    "plt.figure(figsize=(15,8))\n",
    "_ = sns.barplot(x=intractions.index, y=intractions.values)\n",
    "plt.xlabel('Interactions')\n",
    "plt.ylabel('Count')"
   ]
  },
  {
   "cell_type": "code",
   "execution_count": 15,
   "id": "230fa71c-8806-4550-aace-4964396202d4",
   "metadata": {},
   "outputs": [
    {
     "data": {
      "text/plain": [
       "Protests                      93226\n",
       "Riots                         11943\n",
       "Battles                        3721\n",
       "Violence against civilians     3366\n",
       "Strategic developments         2580\n",
       "Explosions/Remote violence      828\n",
       "Name: EVENT_TYPE, dtype: int64"
      ]
     },
     "execution_count": 15,
     "metadata": {},
     "output_type": "execute_result"
    }
   ],
   "source": [
    "df['EVENT_TYPE'].value_counts()"
   ]
  },
  {
   "cell_type": "code",
   "execution_count": 16,
   "id": "c1ee2509-b38c-468a-bf1e-528a9e04c70c",
   "metadata": {},
   "outputs": [
    {
     "data": {
      "text/plain": [
       "Protesters (India)                         58130\n",
       "Protesters (United States)                 35031\n",
       "Rioters (India)                            10878\n",
       "Unidentified Armed Group (India)            2041\n",
       "Military Forces of India (2014-)            1475\n",
       "                                           ...  \n",
       "Balli Qutabpur Communal Militia (India)        1\n",
       "Azara Communal Militia (India)                 1\n",
       "Darrang Communal Militia (India)               1\n",
       "Churaila Communal Militia (India)              1\n",
       "Sole Perpetrator (United Kingdom)              1\n",
       "Name: ACTOR1, Length: 780, dtype: int64"
      ]
     },
     "execution_count": 16,
     "metadata": {},
     "output_type": "execute_result"
    }
   ],
   "source": [
    "df['ACTOR1'].value_counts()"
   ]
  },
  {
   "cell_type": "code",
   "execution_count": 17,
   "id": "cc70b834-36a6-4d73-af3f-73f927ffa102",
   "metadata": {},
   "outputs": [
    {
     "data": {
      "text/plain": [
       "6.0    93229\n",
       "5.0    11914\n",
       "1.0     3935\n",
       "3.0     3273\n",
       "2.0     1908\n",
       "4.0     1042\n",
       "8.0      304\n",
       "7.0       59\n",
       "Name: INTER1, dtype: int64"
      ]
     },
     "execution_count": 17,
     "metadata": {},
     "output_type": "execute_result"
    }
   ],
   "source": [
    "df['INTER1'].value_counts()"
   ]
  },
  {
   "cell_type": "code",
   "execution_count": 18,
   "id": "ca1270ad-35f2-4f84-9492-87df3ced5f99",
   "metadata": {},
   "outputs": [
    {
     "data": {
      "text/plain": [
       "0.0    89384\n",
       "1.0    10832\n",
       "7.0     8550\n",
       "5.0     2307\n",
       "6.0     1563\n",
       "8.0     1553\n",
       "3.0      696\n",
       "2.0      619\n",
       "4.0      160\n",
       "Name: INTER2, dtype: int64"
      ]
     },
     "execution_count": 18,
     "metadata": {},
     "output_type": "execute_result"
    }
   ],
   "source": [
    "df['INTER2'].value_counts()"
   ]
  },
  {
   "cell_type": "code",
   "execution_count": 19,
   "id": "602b8293-13ac-40de-b145-36a0784a3722",
   "metadata": {},
   "outputs": [],
   "source": [
    "from sklearn.preprocessing import OrdinalEncoder"
   ]
  },
  {
   "cell_type": "code",
   "execution_count": 20,
   "id": "ce526101-18aa-4c72-b415-940c5039cf77",
   "metadata": {},
   "outputs": [],
   "source": [
    "encoder = OrdinalEncoder()"
   ]
  },
  {
   "cell_type": "code",
   "execution_count": 21,
   "id": "17f8924b-31de-45d1-a287-d5dc8277c3c6",
   "metadata": {},
   "outputs": [
    {
     "ename": "TypeError",
     "evalue": "Encoders require their input to be uniformly strings or numbers. Got ['int', 'str']",
     "output_type": "error",
     "traceback": [
      "\u001b[0;31m---------------------------------------------------------------------------\u001b[0m",
      "\u001b[0;31mTypeError\u001b[0m                                 Traceback (most recent call last)",
      "\u001b[0;32m~/miniforge3/lib/python3.9/site-packages/sklearn/utils/_encode.py\u001b[0m in \u001b[0;36m_unique_python\u001b[0;34m(values, return_inverse)\u001b[0m\n\u001b[1;32m    134\u001b[0m \u001b[0;34m\u001b[0m\u001b[0m\n\u001b[0;32m--> 135\u001b[0;31m         \u001b[0muniques\u001b[0m \u001b[0;34m=\u001b[0m \u001b[0msorted\u001b[0m\u001b[0;34m(\u001b[0m\u001b[0muniques_set\u001b[0m\u001b[0;34m)\u001b[0m\u001b[0;34m\u001b[0m\u001b[0;34m\u001b[0m\u001b[0m\n\u001b[0m\u001b[1;32m    136\u001b[0m         \u001b[0muniques\u001b[0m\u001b[0;34m.\u001b[0m\u001b[0mextend\u001b[0m\u001b[0;34m(\u001b[0m\u001b[0mmissing_values\u001b[0m\u001b[0;34m.\u001b[0m\u001b[0mto_list\u001b[0m\u001b[0;34m(\u001b[0m\u001b[0;34m)\u001b[0m\u001b[0;34m)\u001b[0m\u001b[0;34m\u001b[0m\u001b[0;34m\u001b[0m\u001b[0m\n",
      "\u001b[0;31mTypeError\u001b[0m: '<' not supported between instances of 'str' and 'int'",
      "\nDuring handling of the above exception, another exception occurred:\n",
      "\u001b[0;31mTypeError\u001b[0m                                 Traceback (most recent call last)",
      "\u001b[0;32m/var/folders/78/_bz_v2_103ld252mxn9ml9c00000gn/T/ipykernel_40958/1912987862.py\u001b[0m in \u001b[0;36m<module>\u001b[0;34m\u001b[0m\n\u001b[0;32m----> 1\u001b[0;31m \u001b[0mtemp\u001b[0m \u001b[0;34m=\u001b[0m \u001b[0mencoder\u001b[0m\u001b[0;34m.\u001b[0m\u001b[0mfit_transform\u001b[0m\u001b[0;34m(\u001b[0m\u001b[0mdf\u001b[0m\u001b[0;34m)\u001b[0m\u001b[0;34m\u001b[0m\u001b[0;34m\u001b[0m\u001b[0m\n\u001b[0m",
      "\u001b[0;32m~/miniforge3/lib/python3.9/site-packages/sklearn/base.py\u001b[0m in \u001b[0;36mfit_transform\u001b[0;34m(self, X, y, **fit_params)\u001b[0m\n\u001b[1;32m    845\u001b[0m         \u001b[0;32mif\u001b[0m \u001b[0my\u001b[0m \u001b[0;32mis\u001b[0m \u001b[0;32mNone\u001b[0m\u001b[0;34m:\u001b[0m\u001b[0;34m\u001b[0m\u001b[0;34m\u001b[0m\u001b[0m\n\u001b[1;32m    846\u001b[0m             \u001b[0;31m# fit method of arity 1 (unsupervised transformation)\u001b[0m\u001b[0;34m\u001b[0m\u001b[0;34m\u001b[0m\u001b[0m\n\u001b[0;32m--> 847\u001b[0;31m             \u001b[0;32mreturn\u001b[0m \u001b[0mself\u001b[0m\u001b[0;34m.\u001b[0m\u001b[0mfit\u001b[0m\u001b[0;34m(\u001b[0m\u001b[0mX\u001b[0m\u001b[0;34m,\u001b[0m \u001b[0;34m**\u001b[0m\u001b[0mfit_params\u001b[0m\u001b[0;34m)\u001b[0m\u001b[0;34m.\u001b[0m\u001b[0mtransform\u001b[0m\u001b[0;34m(\u001b[0m\u001b[0mX\u001b[0m\u001b[0;34m)\u001b[0m\u001b[0;34m\u001b[0m\u001b[0;34m\u001b[0m\u001b[0m\n\u001b[0m\u001b[1;32m    848\u001b[0m         \u001b[0;32melse\u001b[0m\u001b[0;34m:\u001b[0m\u001b[0;34m\u001b[0m\u001b[0;34m\u001b[0m\u001b[0m\n\u001b[1;32m    849\u001b[0m             \u001b[0;31m# fit method of arity 2 (supervised transformation)\u001b[0m\u001b[0;34m\u001b[0m\u001b[0;34m\u001b[0m\u001b[0m\n",
      "\u001b[0;32m~/miniforge3/lib/python3.9/site-packages/sklearn/preprocessing/_encoders.py\u001b[0m in \u001b[0;36mfit\u001b[0;34m(self, X, y)\u001b[0m\n\u001b[1;32m    884\u001b[0m \u001b[0;34m\u001b[0m\u001b[0m\n\u001b[1;32m    885\u001b[0m         \u001b[0;31m# `_fit` will only raise an error when `self.handle_unknown=\"error\"`\u001b[0m\u001b[0;34m\u001b[0m\u001b[0;34m\u001b[0m\u001b[0m\n\u001b[0;32m--> 886\u001b[0;31m         \u001b[0mself\u001b[0m\u001b[0;34m.\u001b[0m\u001b[0m_fit\u001b[0m\u001b[0;34m(\u001b[0m\u001b[0mX\u001b[0m\u001b[0;34m,\u001b[0m \u001b[0mhandle_unknown\u001b[0m\u001b[0;34m=\u001b[0m\u001b[0mself\u001b[0m\u001b[0;34m.\u001b[0m\u001b[0mhandle_unknown\u001b[0m\u001b[0;34m,\u001b[0m \u001b[0mforce_all_finite\u001b[0m\u001b[0;34m=\u001b[0m\u001b[0;34m\"allow-nan\"\u001b[0m\u001b[0;34m)\u001b[0m\u001b[0;34m\u001b[0m\u001b[0;34m\u001b[0m\u001b[0m\n\u001b[0m\u001b[1;32m    887\u001b[0m \u001b[0;34m\u001b[0m\u001b[0m\n\u001b[1;32m    888\u001b[0m         \u001b[0;32mif\u001b[0m \u001b[0mself\u001b[0m\u001b[0;34m.\u001b[0m\u001b[0mhandle_unknown\u001b[0m \u001b[0;34m==\u001b[0m \u001b[0;34m\"use_encoded_value\"\u001b[0m\u001b[0;34m:\u001b[0m\u001b[0;34m\u001b[0m\u001b[0;34m\u001b[0m\u001b[0m\n",
      "\u001b[0;32m~/miniforge3/lib/python3.9/site-packages/sklearn/preprocessing/_encoders.py\u001b[0m in \u001b[0;36m_fit\u001b[0;34m(self, X, handle_unknown, force_all_finite)\u001b[0m\n\u001b[1;32m     92\u001b[0m             \u001b[0mXi\u001b[0m \u001b[0;34m=\u001b[0m \u001b[0mX_list\u001b[0m\u001b[0;34m[\u001b[0m\u001b[0mi\u001b[0m\u001b[0;34m]\u001b[0m\u001b[0;34m\u001b[0m\u001b[0;34m\u001b[0m\u001b[0m\n\u001b[1;32m     93\u001b[0m             \u001b[0;32mif\u001b[0m \u001b[0mself\u001b[0m\u001b[0;34m.\u001b[0m\u001b[0mcategories\u001b[0m \u001b[0;34m==\u001b[0m \u001b[0;34m\"auto\"\u001b[0m\u001b[0;34m:\u001b[0m\u001b[0;34m\u001b[0m\u001b[0;34m\u001b[0m\u001b[0m\n\u001b[0;32m---> 94\u001b[0;31m                 \u001b[0mcats\u001b[0m \u001b[0;34m=\u001b[0m \u001b[0m_unique\u001b[0m\u001b[0;34m(\u001b[0m\u001b[0mXi\u001b[0m\u001b[0;34m)\u001b[0m\u001b[0;34m\u001b[0m\u001b[0;34m\u001b[0m\u001b[0m\n\u001b[0m\u001b[1;32m     95\u001b[0m             \u001b[0;32melse\u001b[0m\u001b[0;34m:\u001b[0m\u001b[0;34m\u001b[0m\u001b[0;34m\u001b[0m\u001b[0m\n\u001b[1;32m     96\u001b[0m                 \u001b[0mcats\u001b[0m \u001b[0;34m=\u001b[0m \u001b[0mnp\u001b[0m\u001b[0;34m.\u001b[0m\u001b[0marray\u001b[0m\u001b[0;34m(\u001b[0m\u001b[0mself\u001b[0m\u001b[0;34m.\u001b[0m\u001b[0mcategories\u001b[0m\u001b[0;34m[\u001b[0m\u001b[0mi\u001b[0m\u001b[0;34m]\u001b[0m\u001b[0;34m,\u001b[0m \u001b[0mdtype\u001b[0m\u001b[0;34m=\u001b[0m\u001b[0mXi\u001b[0m\u001b[0;34m.\u001b[0m\u001b[0mdtype\u001b[0m\u001b[0;34m)\u001b[0m\u001b[0;34m\u001b[0m\u001b[0;34m\u001b[0m\u001b[0m\n",
      "\u001b[0;32m~/miniforge3/lib/python3.9/site-packages/sklearn/utils/_encode.py\u001b[0m in \u001b[0;36m_unique\u001b[0;34m(values, return_inverse)\u001b[0m\n\u001b[1;32m     29\u001b[0m     \"\"\"\n\u001b[1;32m     30\u001b[0m     \u001b[0;32mif\u001b[0m \u001b[0mvalues\u001b[0m\u001b[0;34m.\u001b[0m\u001b[0mdtype\u001b[0m \u001b[0;34m==\u001b[0m \u001b[0mobject\u001b[0m\u001b[0;34m:\u001b[0m\u001b[0;34m\u001b[0m\u001b[0;34m\u001b[0m\u001b[0m\n\u001b[0;32m---> 31\u001b[0;31m         \u001b[0;32mreturn\u001b[0m \u001b[0m_unique_python\u001b[0m\u001b[0;34m(\u001b[0m\u001b[0mvalues\u001b[0m\u001b[0;34m,\u001b[0m \u001b[0mreturn_inverse\u001b[0m\u001b[0;34m=\u001b[0m\u001b[0mreturn_inverse\u001b[0m\u001b[0;34m)\u001b[0m\u001b[0;34m\u001b[0m\u001b[0;34m\u001b[0m\u001b[0m\n\u001b[0m\u001b[1;32m     32\u001b[0m     \u001b[0;31m# numerical\u001b[0m\u001b[0;34m\u001b[0m\u001b[0;34m\u001b[0m\u001b[0m\n\u001b[1;32m     33\u001b[0m     \u001b[0mout\u001b[0m \u001b[0;34m=\u001b[0m \u001b[0mnp\u001b[0m\u001b[0;34m.\u001b[0m\u001b[0munique\u001b[0m\u001b[0;34m(\u001b[0m\u001b[0mvalues\u001b[0m\u001b[0;34m,\u001b[0m \u001b[0mreturn_inverse\u001b[0m\u001b[0;34m=\u001b[0m\u001b[0mreturn_inverse\u001b[0m\u001b[0;34m)\u001b[0m\u001b[0;34m\u001b[0m\u001b[0;34m\u001b[0m\u001b[0m\n",
      "\u001b[0;32m~/miniforge3/lib/python3.9/site-packages/sklearn/utils/_encode.py\u001b[0m in \u001b[0;36m_unique_python\u001b[0;34m(values, return_inverse)\u001b[0m\n\u001b[1;32m    138\u001b[0m     \u001b[0;32mexcept\u001b[0m \u001b[0mTypeError\u001b[0m\u001b[0;34m:\u001b[0m\u001b[0;34m\u001b[0m\u001b[0;34m\u001b[0m\u001b[0m\n\u001b[1;32m    139\u001b[0m         \u001b[0mtypes\u001b[0m \u001b[0;34m=\u001b[0m \u001b[0msorted\u001b[0m\u001b[0;34m(\u001b[0m\u001b[0mt\u001b[0m\u001b[0;34m.\u001b[0m\u001b[0m__qualname__\u001b[0m \u001b[0;32mfor\u001b[0m \u001b[0mt\u001b[0m \u001b[0;32min\u001b[0m \u001b[0mset\u001b[0m\u001b[0;34m(\u001b[0m\u001b[0mtype\u001b[0m\u001b[0;34m(\u001b[0m\u001b[0mv\u001b[0m\u001b[0;34m)\u001b[0m \u001b[0;32mfor\u001b[0m \u001b[0mv\u001b[0m \u001b[0;32min\u001b[0m \u001b[0mvalues\u001b[0m\u001b[0;34m)\u001b[0m\u001b[0;34m)\u001b[0m\u001b[0;34m\u001b[0m\u001b[0;34m\u001b[0m\u001b[0m\n\u001b[0;32m--> 140\u001b[0;31m         raise TypeError(\n\u001b[0m\u001b[1;32m    141\u001b[0m             \u001b[0;34m\"Encoders require their input to be uniformly \"\u001b[0m\u001b[0;34m\u001b[0m\u001b[0;34m\u001b[0m\u001b[0m\n\u001b[1;32m    142\u001b[0m             \u001b[0;34mf\"strings or numbers. Got {types}\"\u001b[0m\u001b[0;34m\u001b[0m\u001b[0;34m\u001b[0m\u001b[0m\n",
      "\u001b[0;31mTypeError\u001b[0m: Encoders require their input to be uniformly strings or numbers. Got ['int', 'str']"
     ]
    }
   ],
   "source": [
    "temp = encoder.fit_transform(df)"
   ]
  },
  {
   "cell_type": "code",
   "execution_count": 22,
   "id": "f5982bf3-068d-42c7-baff-a2ecdc5bdddc",
   "metadata": {},
   "outputs": [
    {
     "ename": "NameError",
     "evalue": "name 'temp' is not defined",
     "output_type": "error",
     "traceback": [
      "\u001b[0;31m---------------------------------------------------------------------------\u001b[0m",
      "\u001b[0;31mNameError\u001b[0m                                 Traceback (most recent call last)",
      "\u001b[0;32m/var/folders/78/_bz_v2_103ld252mxn9ml9c00000gn/T/ipykernel_40958/1063416455.py\u001b[0m in \u001b[0;36m<module>\u001b[0;34m\u001b[0m\n\u001b[0;32m----> 1\u001b[0;31m \u001b[0mtdf\u001b[0m \u001b[0;34m=\u001b[0m \u001b[0mpd\u001b[0m\u001b[0;34m.\u001b[0m\u001b[0mDataFrame\u001b[0m\u001b[0;34m(\u001b[0m\u001b[0mtemp\u001b[0m\u001b[0;34m,\u001b[0m \u001b[0mcolumns\u001b[0m\u001b[0;34m=\u001b[0m\u001b[0mdf\u001b[0m\u001b[0;34m.\u001b[0m\u001b[0mcolumns\u001b[0m\u001b[0;34m)\u001b[0m\u001b[0;34m\u001b[0m\u001b[0;34m\u001b[0m\u001b[0m\n\u001b[0m",
      "\u001b[0;31mNameError\u001b[0m: name 'temp' is not defined"
     ]
    }
   ],
   "source": [
    "tdf = pd.DataFrame(temp, columns=df.columns)"
   ]
  },
  {
   "cell_type": "code",
   "execution_count": 23,
   "id": "2c43c566-d785-4cba-8431-512f4536c9fa",
   "metadata": {},
   "outputs": [
    {
     "ename": "NameError",
     "evalue": "name 'tdf' is not defined",
     "output_type": "error",
     "traceback": [
      "\u001b[0;31m---------------------------------------------------------------------------\u001b[0m",
      "\u001b[0;31mNameError\u001b[0m                                 Traceback (most recent call last)",
      "\u001b[0;32m/var/folders/78/_bz_v2_103ld252mxn9ml9c00000gn/T/ipykernel_40958/1366133082.py\u001b[0m in \u001b[0;36m<module>\u001b[0;34m\u001b[0m\n\u001b[0;32m----> 1\u001b[0;31m \u001b[0mtdf\u001b[0m\u001b[0;34m.\u001b[0m\u001b[0mcorr\u001b[0m\u001b[0;34m(\u001b[0m\u001b[0;34m)\u001b[0m\u001b[0;34m\u001b[0m\u001b[0;34m\u001b[0m\u001b[0m\n\u001b[0m",
      "\u001b[0;31mNameError\u001b[0m: name 'tdf' is not defined"
     ]
    }
   ],
   "source": [
    "tdf.corr()"
   ]
  },
  {
   "cell_type": "code",
   "execution_count": 36,
   "id": "d1140e58-b9b9-4a88-a544-fe7124344a30",
   "metadata": {},
   "outputs": [],
   "source": [
    "import seaborn as sns\n",
    "import matplotlib.pyplot as plt"
   ]
  },
  {
   "cell_type": "code",
   "execution_count": 37,
   "id": "90ca4a11-75c0-4bd4-9287-97facf003341",
   "metadata": {},
   "outputs": [
    {
     "data": {
      "text/plain": [
       "<AxesSubplot:>"
      ]
     },
     "execution_count": 37,
     "metadata": {},
     "output_type": "execute_result"
    },
    {
     "data": {
      "image/png": "[encoded data removed]",
      "text/plain": [
       "<Figure size 1080x576 with 2 Axes>"
      ]
     },
     "metadata": {
      "needs_background": "light"
     },
     "output_type": "display_data"
    }
   ],
   "source": [
    "plt.figure(figsize=(15,8))\n",
    "sns.heatmap(data=tdf.corr())"
   ]
  }
 ],
 "metadata": {
  "kernelspec": {
   "display_name": "Python [conda env:root] *",
   "language": "python",
   "name": "conda-root-py"
  },
  "language_info": {
   "codemirror_mode": {
    "name": "ipython",
    "version": 3
   },
   "file_extension": ".py",
   "mimetype": "text/x-python",
   "name": "python",
   "nbconvert_exporter": "python",
   "pygments_lexer": "ipython3",
   "version": "3.9.7"
  }
 },
 "nbformat": 4,
 "nbformat_minor": 5
}
