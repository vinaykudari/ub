{
 "cells": [
  {
   "cell_type": "code",
   "execution_count": 1,
   "id": "9cda0077-395a-4dbc-930f-4e846f3be05e",
   "metadata": {},
   "outputs": [],
   "source": [
    "import pandas as pd"
   ]
  },
  {
   "cell_type": "code",
   "execution_count": 7,
   "id": "4900c1ec-802d-41b5-aa00-179811fb3f57",
   "metadata": {},
   "outputs": [],
   "source": [
    "df = pd.read_csv('/Users/vinay/ub/spring-22/CSE635-NLP/proj/task_1/task_1_information_extraction_train.tsv', sep='\\t')"
   ]
  },
  {
   "cell_type": "code",
   "execution_count": 8,
   "id": "d87e28c1-082d-4e15-86a1-e0d68fd27ef5",
   "metadata": {},
   "outputs": [
    {
     "data": {
      "text/html": [
       "<div>\n",
       "<style scoped>\n",
       "    .dataframe tbody tr th:only-of-type {\n",
       "        vertical-align: middle;\n",
       "    }\n",
       "\n",
       "    .dataframe tbody tr th {\n",
       "        vertical-align: top;\n",
       "    }\n",
       "\n",
       "    .dataframe thead th {\n",
       "        text-align: right;\n",
       "    }\n",
       "</style>\n",
       "<table border=\"1\" class=\"dataframe\">\n",
       "  <thead>\n",
       "    <tr style=\"text-align: right;\">\n",
       "      <th></th>\n",
       "      <th>NOTES</th>\n",
       "      <th>EVENT_DATE</th>\n",
       "      <th>SOURCE</th>\n",
       "      <th>FATALITIES</th>\n",
       "      <th>EVENT_TYPE</th>\n",
       "      <th>SUB_EVENT_TYPE</th>\n",
       "      <th>ACTOR1</th>\n",
       "      <th>INTER1</th>\n",
       "      <th>ACTOR2</th>\n",
       "      <th>INTER2</th>\n",
       "      <th>INTERACTION</th>\n",
       "      <th>LOCATION</th>\n",
       "    </tr>\n",
       "  </thead>\n",
       "  <tbody>\n",
       "    <tr>\n",
       "      <th>0</th>\n",
       "      <td>Three people were killed while 27 others injur...</td>\n",
       "      <td>29-August-2012</td>\n",
       "      <td>Statesman (Pakistan)</td>\n",
       "      <td>3</td>\n",
       "      <td>Explosions/Remote violence</td>\n",
       "      <td>Remote explosive/landmine/IED</td>\n",
       "      <td>Unidentified Armed Group (Pakistan)</td>\n",
       "      <td>3</td>\n",
       "      <td>Civilians (Pakistan)</td>\n",
       "      <td>7</td>\n",
       "      <td>37</td>\n",
       "      <td>Jacobabad</td>\n",
       "    </tr>\n",
       "    <tr>\n",
       "      <th>1</th>\n",
       "      <td>Government security forces opened fire at a pr...</td>\n",
       "      <td>03-May-2014</td>\n",
       "      <td>Undisclosed Source</td>\n",
       "      <td>0</td>\n",
       "      <td>Violence against civilians</td>\n",
       "      <td>Attack</td>\n",
       "      <td>Military Forces of Somalia (2012-2017)</td>\n",
       "      <td>1</td>\n",
       "      <td>Civilians (Somalia)</td>\n",
       "      <td>7</td>\n",
       "      <td>17</td>\n",
       "      <td>Baidoa</td>\n",
       "    </tr>\n",
       "    <tr>\n",
       "      <th>2</th>\n",
       "      <td>Al Shabaab forces attacked government forces b...</td>\n",
       "      <td>01-May-2012</td>\n",
       "      <td>All Africa</td>\n",
       "      <td>11</td>\n",
       "      <td>Battles</td>\n",
       "      <td>Armed clash</td>\n",
       "      <td>Al Shabaab</td>\n",
       "      <td>2</td>\n",
       "      <td>Military Forces of Somalia (2004-2012)</td>\n",
       "      <td>1</td>\n",
       "      <td>12</td>\n",
       "      <td>Hudur</td>\n",
       "    </tr>\n",
       "    <tr>\n",
       "      <th>3</th>\n",
       "      <td>Agreement: Rebels resumed peace talks with the...</td>\n",
       "      <td>05-October-2013</td>\n",
       "      <td>AFP</td>\n",
       "      <td>0</td>\n",
       "      <td>Strategic developments</td>\n",
       "      <td>Agreement</td>\n",
       "      <td>MNLA: National Movement for the Liberation of ...</td>\n",
       "      <td>2</td>\n",
       "      <td>Government of Mali (2013-2020)</td>\n",
       "      <td>1</td>\n",
       "      <td>12</td>\n",
       "      <td>Bamako</td>\n",
       "    </tr>\n",
       "    <tr>\n",
       "      <th>4</th>\n",
       "      <td>The person who had acted as the go-between for...</td>\n",
       "      <td>21-December-2001</td>\n",
       "      <td>Dispatch Kabylie</td>\n",
       "      <td>0</td>\n",
       "      <td>Riots</td>\n",
       "      <td>Violent demonstration</td>\n",
       "      <td>Rioters (Algeria)</td>\n",
       "      <td>5</td>\n",
       "      <td>NaN</td>\n",
       "      <td>0</td>\n",
       "      <td>50</td>\n",
       "      <td>Bejaia</td>\n",
       "    </tr>\n",
       "  </tbody>\n",
       "</table>\n",
       "</div>"
      ],
      "text/plain": [
       "                                               NOTES        EVENT_DATE  \\\n",
       "0  Three people were killed while 27 others injur...    29-August-2012   \n",
       "1  Government security forces opened fire at a pr...       03-May-2014   \n",
       "2  Al Shabaab forces attacked government forces b...       01-May-2012   \n",
       "3  Agreement: Rebels resumed peace talks with the...   05-October-2013   \n",
       "4  The person who had acted as the go-between for...  21-December-2001   \n",
       "\n",
       "                 SOURCE  FATALITIES                  EVENT_TYPE  \\\n",
       "0  Statesman (Pakistan)           3  Explosions/Remote violence   \n",
       "1    Undisclosed Source           0  Violence against civilians   \n",
       "2            All Africa          11                     Battles   \n",
       "3                   AFP           0      Strategic developments   \n",
       "4      Dispatch Kabylie           0                       Riots   \n",
       "\n",
       "                  SUB_EVENT_TYPE  \\\n",
       "0  Remote explosive/landmine/IED   \n",
       "1                         Attack   \n",
       "2                    Armed clash   \n",
       "3                      Agreement   \n",
       "4          Violent demonstration   \n",
       "\n",
       "                                              ACTOR1  INTER1  \\\n",
       "0                Unidentified Armed Group (Pakistan)       3   \n",
       "1             Military Forces of Somalia (2012-2017)       1   \n",
       "2                                         Al Shabaab       2   \n",
       "3  MNLA: National Movement for the Liberation of ...       2   \n",
       "4                                  Rioters (Algeria)       5   \n",
       "\n",
       "                                   ACTOR2  INTER2  INTERACTION   LOCATION  \n",
       "0                    Civilians (Pakistan)       7           37  Jacobabad  \n",
       "1                     Civilians (Somalia)       7           17     Baidoa  \n",
       "2  Military Forces of Somalia (2004-2012)       1           12      Hudur  \n",
       "3          Government of Mali (2013-2020)       1           12     Bamako  \n",
       "4                                     NaN       0           50     Bejaia  "
      ]
     },
     "execution_count": 8,
     "metadata": {},
     "output_type": "execute_result"
    }
   ],
   "source": [
    "df.head()"
   ]
  },
  {
   "cell_type": "code",
   "execution_count": 9,
   "id": "b103655d-2ce4-4799-a734-3c6a80c3dcab",
   "metadata": {},
   "outputs": [
    {
     "name": "stdout",
     "output_type": "stream",
     "text": [
      "<class 'pandas.core.frame.DataFrame'>\n",
      "RangeIndex: 100000 entries, 0 to 99999\n",
      "Data columns (total 12 columns):\n",
      " #   Column          Non-Null Count   Dtype \n",
      "---  ------          --------------   ----- \n",
      " 0   NOTES           97109 non-null   object\n",
      " 1   EVENT_DATE      100000 non-null  object\n",
      " 2   SOURCE          100000 non-null  object\n",
      " 3   FATALITIES      100000 non-null  int64 \n",
      " 4   EVENT_TYPE      100000 non-null  object\n",
      " 5   SUB_EVENT_TYPE  100000 non-null  object\n",
      " 6   ACTOR1          100000 non-null  object\n",
      " 7   INTER1          100000 non-null  int64 \n",
      " 8   ACTOR2          74737 non-null   object\n",
      " 9   INTER2          100000 non-null  int64 \n",
      " 10  INTERACTION     100000 non-null  int64 \n",
      " 11  LOCATION        100000 non-null  object\n",
      "dtypes: int64(4), object(8)\n",
      "memory usage: 9.2+ MB\n"
     ]
    }
   ],
   "source": [
    "df.info()"
   ]
  },
  {
   "cell_type": "code",
   "execution_count": 10,
   "id": "e4f1df49-e633-4cdb-9002-e52a1b6d2060",
   "metadata": {},
   "outputs": [
    {
     "data": {
      "text/html": [
       "<div>\n",
       "<style scoped>\n",
       "    .dataframe tbody tr th:only-of-type {\n",
       "        vertical-align: middle;\n",
       "    }\n",
       "\n",
       "    .dataframe tbody tr th {\n",
       "        vertical-align: top;\n",
       "    }\n",
       "\n",
       "    .dataframe thead th {\n",
       "        text-align: right;\n",
       "    }\n",
       "</style>\n",
       "<table border=\"1\" class=\"dataframe\">\n",
       "  <thead>\n",
       "    <tr style=\"text-align: right;\">\n",
       "      <th></th>\n",
       "      <th>FATALITIES</th>\n",
       "      <th>INTER1</th>\n",
       "      <th>INTER2</th>\n",
       "      <th>INTERACTION</th>\n",
       "    </tr>\n",
       "  </thead>\n",
       "  <tbody>\n",
       "    <tr>\n",
       "      <th>count</th>\n",
       "      <td>100000.000000</td>\n",
       "      <td>100000.000000</td>\n",
       "      <td>100000.000000</td>\n",
       "      <td>100000.000000</td>\n",
       "    </tr>\n",
       "    <tr>\n",
       "      <th>mean</th>\n",
       "      <td>5.361370</td>\n",
       "      <td>3.595680</td>\n",
       "      <td>3.236460</td>\n",
       "      <td>34.064700</td>\n",
       "    </tr>\n",
       "    <tr>\n",
       "      <th>std</th>\n",
       "      <td>41.650728</td>\n",
       "      <td>2.006875</td>\n",
       "      <td>2.924762</td>\n",
       "      <td>18.879256</td>\n",
       "    </tr>\n",
       "    <tr>\n",
       "      <th>min</th>\n",
       "      <td>0.000000</td>\n",
       "      <td>1.000000</td>\n",
       "      <td>0.000000</td>\n",
       "      <td>10.000000</td>\n",
       "    </tr>\n",
       "    <tr>\n",
       "      <th>25%</th>\n",
       "      <td>0.000000</td>\n",
       "      <td>2.000000</td>\n",
       "      <td>0.000000</td>\n",
       "      <td>15.000000</td>\n",
       "    </tr>\n",
       "    <tr>\n",
       "      <th>50%</th>\n",
       "      <td>1.000000</td>\n",
       "      <td>3.000000</td>\n",
       "      <td>2.000000</td>\n",
       "      <td>35.000000</td>\n",
       "    </tr>\n",
       "    <tr>\n",
       "      <th>75%</th>\n",
       "      <td>2.000000</td>\n",
       "      <td>6.000000</td>\n",
       "      <td>7.000000</td>\n",
       "      <td>55.000000</td>\n",
       "    </tr>\n",
       "    <tr>\n",
       "      <th>max</th>\n",
       "      <td>1350.000000</td>\n",
       "      <td>8.000000</td>\n",
       "      <td>8.000000</td>\n",
       "      <td>88.000000</td>\n",
       "    </tr>\n",
       "  </tbody>\n",
       "</table>\n",
       "</div>"
      ],
      "text/plain": [
       "          FATALITIES         INTER1         INTER2    INTERACTION\n",
       "count  100000.000000  100000.000000  100000.000000  100000.000000\n",
       "mean        5.361370       3.595680       3.236460      34.064700\n",
       "std        41.650728       2.006875       2.924762      18.879256\n",
       "min         0.000000       1.000000       0.000000      10.000000\n",
       "25%         0.000000       2.000000       0.000000      15.000000\n",
       "50%         1.000000       3.000000       2.000000      35.000000\n",
       "75%         2.000000       6.000000       7.000000      55.000000\n",
       "max      1350.000000       8.000000       8.000000      88.000000"
      ]
     },
     "execution_count": 10,
     "metadata": {},
     "output_type": "execute_result"
    }
   ],
   "source": [
    "df.describe()"
   ]
  },
  {
   "cell_type": "code",
   "execution_count": 15,
   "id": "7c96888a-cded-46f5-b048-c1236f840fe4",
   "metadata": {},
   "outputs": [
    {
     "data": {
      "text/plain": [
       "array([37, 17, 12, 50, 60, 20, 13, 18, 24, 44, 27, 15, 33, 47, 16, 57, 11,\n",
       "       28, 30, 34, 55, 14, 23, 38, 10, 78, 22, 35, 80, 36, 56, 68, 58, 48,\n",
       "       40, 88, 66, 45, 25, 46, 70, 26])"
      ]
     },
     "execution_count": 15,
     "metadata": {},
     "output_type": "execute_result"
    }
   ],
   "source": [
    "df['INTERACTION'].unique()"
   ]
  },
  {
   "cell_type": "code",
   "execution_count": 38,
   "id": "5052319b-4592-4e5c-94c1-1e62e133965d",
   "metadata": {},
   "outputs": [],
   "source": [
    "intractions = df['INTERACTION'].value_counts()"
   ]
  },
  {
   "cell_type": "code",
   "execution_count": 60,
   "id": "cecd12d5-2a86-44df-ae3f-63a36ef78b89",
   "metadata": {},
   "outputs": [],
   "source": [
    "events = df['EVENT_TYPE'].value_counts()"
   ]
  },
  {
   "cell_type": "code",
   "execution_count": 64,
   "id": "3c93f866-101b-45b2-84b3-61d9d34c0a0f",
   "metadata": {},
   "outputs": [
    {
     "data": {
      "text/plain": [
       "Text(0, 0.5, 'Count')"
      ]
     },
     "execution_count": 64,
     "metadata": {},
     "output_type": "execute_result"
    },
    {
     "data": {
      "image/png": "[encoded data removed]",
      "text/plain": [
       "<Figure size 432x288 with 1 Axes>"
      ]
     },
     "metadata": {
      "needs_background": "light"
     },
     "output_type": "display_data"
    }
   ],
   "source": [
    "plt.xticks(rotation=60)\n",
    "# plt.figure(figsize=(15,8))\n",
    "_ = sns.barplot(x=events.index, y=events.values)\n",
    "plt.xlabel('EVENT_TYPE')\n",
    "plt.ylabel('Count')"
   ]
  },
  {
   "cell_type": "code",
   "execution_count": 57,
   "id": "bdb7b798-c6c9-456f-96ef-d9593c4ff133",
   "metadata": {},
   "outputs": [
    {
     "data": {
      "text/plain": [
       "Text(0, 0.5, 'Count')"
      ]
     },
     "execution_count": 57,
     "metadata": {},
     "output_type": "execute_result"
    },
    {
     "data": {
      "image/png": "[encoded data removed]",
      "text/plain": [
       "<Figure size 432x288 with 1 Axes>"
      ]
     },
     "metadata": {
      "needs_background": "light"
     },
     "output_type": "display_data"
    },
    {
     "data": {
      "image/png": "[encoded data removed]",
      "text/plain": [
       "<Figure size 1080x576 with 1 Axes>"
      ]
     },
     "metadata": {
      "needs_background": "light"
     },
     "output_type": "display_data"
    }
   ],
   "source": [
    "plt.xticks(rotation=90)\n",
    "plt.figure(figsize=(15,8))\n",
    "_ = sns.barplot(x=intractions.index, y=intractions.values)\n",
    "plt.xlabel('Interactions')\n",
    "plt.ylabel('Count')"
   ]
  },
  {
   "cell_type": "code",
   "execution_count": 16,
   "id": "230fa71c-8806-4550-aace-4964396202d4",
   "metadata": {},
   "outputs": [
    {
     "data": {
      "text/plain": [
       "Battles                       28743\n",
       "Violence against civilians    24403\n",
       "Protests                      23336\n",
       "Riots                         10985\n",
       "Explosions/Remote violence     9060\n",
       "Strategic developments         3473\n",
       "Name: EVENT_TYPE, dtype: int64"
      ]
     },
     "execution_count": 16,
     "metadata": {},
     "output_type": "execute_result"
    }
   ],
   "source": [
    "df['EVENT_TYPE'].value_counts()"
   ]
  },
  {
   "cell_type": "code",
   "execution_count": 17,
   "id": "c1ee2509-b38c-468a-bf1e-528a9e04c70c",
   "metadata": {},
   "outputs": [
    {
     "data": {
      "text/plain": [
       "Protesters (Pakistan)                           7673\n",
       "Protesters (India)                              5551\n",
       "Unidentified Armed Group (Pakistan)             3075\n",
       "Unidentified Armed Group (Somalia)              2993\n",
       "Rioters (Bangladesh)                            2296\n",
       "                                                ... \n",
       "Hafiz Jee Qilla Communal Militia (Pakistan)        1\n",
       "Chakkirti Communal Militia (Bangladesh)            1\n",
       "Darood-Warsangeli Sub-Clan Militia (Somalia)       1\n",
       "PDG: Gabonese Democratic Party                     1\n",
       "Chang Communal Militia (Pakistan)                  1\n",
       "Name: ACTOR1, Length: 3425, dtype: int64"
      ]
     },
     "execution_count": 17,
     "metadata": {},
     "output_type": "execute_result"
    }
   ],
   "source": [
    "df['ACTOR1'].value_counts()"
   ]
  },
  {
   "cell_type": "code",
   "execution_count": 19,
   "id": "cc70b834-36a6-4d73-af3f-73f927ffa102",
   "metadata": {},
   "outputs": [
    {
     "data": {
      "text/plain": [
       "6    22927\n",
       "3    22425\n",
       "1    20518\n",
       "2    13439\n",
       "5    10575\n",
       "4     6616\n",
       "8     3496\n",
       "7        4\n",
       "Name: INTER1, dtype: int64"
      ]
     },
     "execution_count": 19,
     "metadata": {},
     "output_type": "execute_result"
    }
   ],
   "source": [
    "df['INTER1'].value_counts()"
   ]
  },
  {
   "cell_type": "code",
   "execution_count": 20,
   "id": "ca1270ad-35f2-4f84-9492-87df3ced5f99",
   "metadata": {},
   "outputs": [
    {
     "data": {
      "text/plain": [
       "7    31526\n",
       "0    25263\n",
       "1    16285\n",
       "2    11278\n",
       "3     7372\n",
       "4     4053\n",
       "5     2363\n",
       "8     1410\n",
       "6      450\n",
       "Name: INTER2, dtype: int64"
      ]
     },
     "execution_count": 20,
     "metadata": {},
     "output_type": "execute_result"
    }
   ],
   "source": [
    "df['INTER2'].value_counts()"
   ]
  },
  {
   "cell_type": "code",
   "execution_count": 21,
   "id": "602b8293-13ac-40de-b145-36a0784a3722",
   "metadata": {},
   "outputs": [],
   "source": [
    "from sklearn.preprocessing import OrdinalEncoder"
   ]
  },
  {
   "cell_type": "code",
   "execution_count": 22,
   "id": "ce526101-18aa-4c72-b415-940c5039cf77",
   "metadata": {},
   "outputs": [],
   "source": [
    "encoder = OrdinalEncoder()"
   ]
  },
  {
   "cell_type": "code",
   "execution_count": 24,
   "id": "17f8924b-31de-45d1-a287-d5dc8277c3c6",
   "metadata": {},
   "outputs": [],
   "source": [
    "temp = encoder.fit_transform(df)"
   ]
  },
  {
   "cell_type": "code",
   "execution_count": 32,
   "id": "f5982bf3-068d-42c7-baff-a2ecdc5bdddc",
   "metadata": {},
   "outputs": [],
   "source": [
    "tdf = pd.DataFrame(temp, columns=df.columns)"
   ]
  },
  {
   "cell_type": "code",
   "execution_count": 33,
   "id": "2c43c566-d785-4cba-8431-512f4536c9fa",
   "metadata": {},
   "outputs": [
    {
     "data": {
      "text/html": [
       "<div>\n",
       "<style scoped>\n",
       "    .dataframe tbody tr th:only-of-type {\n",
       "        vertical-align: middle;\n",
       "    }\n",
       "\n",
       "    .dataframe tbody tr th {\n",
       "        vertical-align: top;\n",
       "    }\n",
       "\n",
       "    .dataframe thead th {\n",
       "        text-align: right;\n",
       "    }\n",
       "</style>\n",
       "<table border=\"1\" class=\"dataframe\">\n",
       "  <thead>\n",
       "    <tr style=\"text-align: right;\">\n",
       "      <th></th>\n",
       "      <th>NOTES</th>\n",
       "      <th>EVENT_DATE</th>\n",
       "      <th>SOURCE</th>\n",
       "      <th>FATALITIES</th>\n",
       "      <th>EVENT_TYPE</th>\n",
       "      <th>SUB_EVENT_TYPE</th>\n",
       "      <th>ACTOR1</th>\n",
       "      <th>INTER1</th>\n",
       "      <th>ACTOR2</th>\n",
       "      <th>INTER2</th>\n",
       "      <th>INTERACTION</th>\n",
       "      <th>LOCATION</th>\n",
       "    </tr>\n",
       "  </thead>\n",
       "  <tbody>\n",
       "    <tr>\n",
       "      <th>NOTES</th>\n",
       "      <td>1.000000</td>\n",
       "      <td>-0.010581</td>\n",
       "      <td>-0.000527</td>\n",
       "      <td>-0.013330</td>\n",
       "      <td>-0.004284</td>\n",
       "      <td>0.103391</td>\n",
       "      <td>0.114237</td>\n",
       "      <td>0.090214</td>\n",
       "      <td>0.077720</td>\n",
       "      <td>-0.124008</td>\n",
       "      <td>0.082347</td>\n",
       "      <td>0.019506</td>\n",
       "    </tr>\n",
       "    <tr>\n",
       "      <th>EVENT_DATE</th>\n",
       "      <td>-0.010581</td>\n",
       "      <td>1.000000</td>\n",
       "      <td>0.002322</td>\n",
       "      <td>-0.001511</td>\n",
       "      <td>-0.005633</td>\n",
       "      <td>0.001955</td>\n",
       "      <td>-0.001882</td>\n",
       "      <td>-0.000579</td>\n",
       "      <td>0.007161</td>\n",
       "      <td>0.000616</td>\n",
       "      <td>-0.005958</td>\n",
       "      <td>-0.000841</td>\n",
       "    </tr>\n",
       "    <tr>\n",
       "      <th>SOURCE</th>\n",
       "      <td>-0.000527</td>\n",
       "      <td>0.002322</td>\n",
       "      <td>1.000000</td>\n",
       "      <td>-0.048819</td>\n",
       "      <td>0.041879</td>\n",
       "      <td>-0.073845</td>\n",
       "      <td>-0.034968</td>\n",
       "      <td>-0.045009</td>\n",
       "      <td>-0.066746</td>\n",
       "      <td>0.081331</td>\n",
       "      <td>-0.031272</td>\n",
       "      <td>0.011715</td>\n",
       "    </tr>\n",
       "    <tr>\n",
       "      <th>FATALITIES</th>\n",
       "      <td>-0.013330</td>\n",
       "      <td>-0.001511</td>\n",
       "      <td>-0.048819</td>\n",
       "      <td>1.000000</td>\n",
       "      <td>-0.081033</td>\n",
       "      <td>-0.143803</td>\n",
       "      <td>-0.107406</td>\n",
       "      <td>-0.118064</td>\n",
       "      <td>0.021857</td>\n",
       "      <td>0.056512</td>\n",
       "      <td>-0.135721</td>\n",
       "      <td>-0.009352</td>\n",
       "    </tr>\n",
       "    <tr>\n",
       "      <th>EVENT_TYPE</th>\n",
       "      <td>-0.004284</td>\n",
       "      <td>-0.005633</td>\n",
       "      <td>0.041879</td>\n",
       "      <td>-0.081033</td>\n",
       "      <td>1.000000</td>\n",
       "      <td>0.041819</td>\n",
       "      <td>0.157410</td>\n",
       "      <td>0.054555</td>\n",
       "      <td>-0.480239</td>\n",
       "      <td>0.551276</td>\n",
       "      <td>0.307144</td>\n",
       "      <td>0.006526</td>\n",
       "    </tr>\n",
       "    <tr>\n",
       "      <th>SUB_EVENT_TYPE</th>\n",
       "      <td>0.103391</td>\n",
       "      <td>0.001955</td>\n",
       "      <td>-0.073845</td>\n",
       "      <td>-0.143803</td>\n",
       "      <td>0.041819</td>\n",
       "      <td>1.000000</td>\n",
       "      <td>0.298196</td>\n",
       "      <td>0.545748</td>\n",
       "      <td>0.139776</td>\n",
       "      <td>-0.410592</td>\n",
       "      <td>0.446337</td>\n",
       "      <td>0.007077</td>\n",
       "    </tr>\n",
       "    <tr>\n",
       "      <th>ACTOR1</th>\n",
       "      <td>0.114237</td>\n",
       "      <td>-0.001882</td>\n",
       "      <td>-0.034968</td>\n",
       "      <td>-0.107406</td>\n",
       "      <td>0.157410</td>\n",
       "      <td>0.298196</td>\n",
       "      <td>1.000000</td>\n",
       "      <td>0.237514</td>\n",
       "      <td>0.052950</td>\n",
       "      <td>-0.068979</td>\n",
       "      <td>0.272998</td>\n",
       "      <td>0.039926</td>\n",
       "    </tr>\n",
       "    <tr>\n",
       "      <th>INTER1</th>\n",
       "      <td>0.090214</td>\n",
       "      <td>-0.000579</td>\n",
       "      <td>-0.045009</td>\n",
       "      <td>-0.118064</td>\n",
       "      <td>0.054555</td>\n",
       "      <td>0.545748</td>\n",
       "      <td>0.237514</td>\n",
       "      <td>1.000000</td>\n",
       "      <td>0.041766</td>\n",
       "      <td>-0.401672</td>\n",
       "      <td>0.739077</td>\n",
       "      <td>0.008716</td>\n",
       "    </tr>\n",
       "    <tr>\n",
       "      <th>ACTOR2</th>\n",
       "      <td>0.077720</td>\n",
       "      <td>0.007161</td>\n",
       "      <td>-0.066746</td>\n",
       "      <td>0.021857</td>\n",
       "      <td>-0.480239</td>\n",
       "      <td>0.139776</td>\n",
       "      <td>0.052950</td>\n",
       "      <td>0.041766</td>\n",
       "      <td>1.000000</td>\n",
       "      <td>-0.591929</td>\n",
       "      <td>-0.376444</td>\n",
       "      <td>0.015869</td>\n",
       "    </tr>\n",
       "    <tr>\n",
       "      <th>INTER2</th>\n",
       "      <td>-0.124008</td>\n",
       "      <td>0.000616</td>\n",
       "      <td>0.081331</td>\n",
       "      <td>0.056512</td>\n",
       "      <td>0.551276</td>\n",
       "      <td>-0.410592</td>\n",
       "      <td>-0.068979</td>\n",
       "      <td>-0.401672</td>\n",
       "      <td>-0.591929</td>\n",
       "      <td>1.000000</td>\n",
       "      <td>-0.042641</td>\n",
       "      <td>-0.001350</td>\n",
       "    </tr>\n",
       "    <tr>\n",
       "      <th>INTERACTION</th>\n",
       "      <td>0.082347</td>\n",
       "      <td>-0.005958</td>\n",
       "      <td>-0.031272</td>\n",
       "      <td>-0.135721</td>\n",
       "      <td>0.307144</td>\n",
       "      <td>0.446337</td>\n",
       "      <td>0.272998</td>\n",
       "      <td>0.739077</td>\n",
       "      <td>-0.376444</td>\n",
       "      <td>-0.042641</td>\n",
       "      <td>1.000000</td>\n",
       "      <td>0.016741</td>\n",
       "    </tr>\n",
       "    <tr>\n",
       "      <th>LOCATION</th>\n",
       "      <td>0.019506</td>\n",
       "      <td>-0.000841</td>\n",
       "      <td>0.011715</td>\n",
       "      <td>-0.009352</td>\n",
       "      <td>0.006526</td>\n",
       "      <td>0.007077</td>\n",
       "      <td>0.039926</td>\n",
       "      <td>0.008716</td>\n",
       "      <td>0.015869</td>\n",
       "      <td>-0.001350</td>\n",
       "      <td>0.016741</td>\n",
       "      <td>1.000000</td>\n",
       "    </tr>\n",
       "  </tbody>\n",
       "</table>\n",
       "</div>"
      ],
      "text/plain": [
       "                   NOTES  EVENT_DATE    SOURCE  FATALITIES  EVENT_TYPE  \\\n",
       "NOTES           1.000000   -0.010581 -0.000527   -0.013330   -0.004284   \n",
       "EVENT_DATE     -0.010581    1.000000  0.002322   -0.001511   -0.005633   \n",
       "SOURCE         -0.000527    0.002322  1.000000   -0.048819    0.041879   \n",
       "FATALITIES     -0.013330   -0.001511 -0.048819    1.000000   -0.081033   \n",
       "EVENT_TYPE     -0.004284   -0.005633  0.041879   -0.081033    1.000000   \n",
       "SUB_EVENT_TYPE  0.103391    0.001955 -0.073845   -0.143803    0.041819   \n",
       "ACTOR1          0.114237   -0.001882 -0.034968   -0.107406    0.157410   \n",
       "INTER1          0.090214   -0.000579 -0.045009   -0.118064    0.054555   \n",
       "ACTOR2          0.077720    0.007161 -0.066746    0.021857   -0.480239   \n",
       "INTER2         -0.124008    0.000616  0.081331    0.056512    0.551276   \n",
       "INTERACTION     0.082347   -0.005958 -0.031272   -0.135721    0.307144   \n",
       "LOCATION        0.019506   -0.000841  0.011715   -0.009352    0.006526   \n",
       "\n",
       "                SUB_EVENT_TYPE    ACTOR1    INTER1    ACTOR2    INTER2  \\\n",
       "NOTES                 0.103391  0.114237  0.090214  0.077720 -0.124008   \n",
       "EVENT_DATE            0.001955 -0.001882 -0.000579  0.007161  0.000616   \n",
       "SOURCE               -0.073845 -0.034968 -0.045009 -0.066746  0.081331   \n",
       "FATALITIES           -0.143803 -0.107406 -0.118064  0.021857  0.056512   \n",
       "EVENT_TYPE            0.041819  0.157410  0.054555 -0.480239  0.551276   \n",
       "SUB_EVENT_TYPE        1.000000  0.298196  0.545748  0.139776 -0.410592   \n",
       "ACTOR1                0.298196  1.000000  0.237514  0.052950 -0.068979   \n",
       "INTER1                0.545748  0.237514  1.000000  0.041766 -0.401672   \n",
       "ACTOR2                0.139776  0.052950  0.041766  1.000000 -0.591929   \n",
       "INTER2               -0.410592 -0.068979 -0.401672 -0.591929  1.000000   \n",
       "INTERACTION           0.446337  0.272998  0.739077 -0.376444 -0.042641   \n",
       "LOCATION              0.007077  0.039926  0.008716  0.015869 -0.001350   \n",
       "\n",
       "                INTERACTION  LOCATION  \n",
       "NOTES              0.082347  0.019506  \n",
       "EVENT_DATE        -0.005958 -0.000841  \n",
       "SOURCE            -0.031272  0.011715  \n",
       "FATALITIES        -0.135721 -0.009352  \n",
       "EVENT_TYPE         0.307144  0.006526  \n",
       "SUB_EVENT_TYPE     0.446337  0.007077  \n",
       "ACTOR1             0.272998  0.039926  \n",
       "INTER1             0.739077  0.008716  \n",
       "ACTOR2            -0.376444  0.015869  \n",
       "INTER2            -0.042641 -0.001350  \n",
       "INTERACTION        1.000000  0.016741  \n",
       "LOCATION           0.016741  1.000000  "
      ]
     },
     "execution_count": 33,
     "metadata": {},
     "output_type": "execute_result"
    }
   ],
   "source": [
    "tdf.corr()"
   ]
  },
  {
   "cell_type": "code",
   "execution_count": 36,
   "id": "d1140e58-b9b9-4a88-a544-fe7124344a30",
   "metadata": {},
   "outputs": [],
   "source": [
    "import seaborn as sns\n",
    "import matplotlib.pyplot as plt"
   ]
  },
  {
   "cell_type": "code",
   "execution_count": 37,
   "id": "90ca4a11-75c0-4bd4-9287-97facf003341",
   "metadata": {},
   "outputs": [
    {
     "data": {
      "text/plain": [
       "<AxesSubplot:>"
      ]
     },
     "execution_count": 37,
     "metadata": {},
     "output_type": "execute_result"
    },
    {
     "data": {
      "image/png": "[encoded data removed]",
      "text/plain": [
       "<Figure size 1080x576 with 2 Axes>"
      ]
     },
     "metadata": {
      "needs_background": "light"
     },
     "output_type": "display_data"
    }
   ],
   "source": [
    "plt.figure(figsize=(15,8))\n",
    "sns.heatmap(data=tdf.corr())"
   ]
  }
 ],
 "metadata": {
  "kernelspec": {
   "display_name": "Python [conda env:root] *",
   "language": "python",
   "name": "conda-root-py"
  },
  "language_info": {
   "codemirror_mode": {
    "name": "ipython",
    "version": 3
   },
   "file_extension": ".py",
   "mimetype": "text/x-python",
   "name": "python",
   "nbconvert_exporter": "python",
   "pygments_lexer": "ipython3",
   "version": "3.9.7"
  }
 },
 "nbformat": 4,
 "nbformat_minor": 5
}
