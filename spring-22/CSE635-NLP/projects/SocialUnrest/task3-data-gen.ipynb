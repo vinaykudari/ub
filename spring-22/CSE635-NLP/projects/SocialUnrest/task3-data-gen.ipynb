{
 "cells": [
  {
   "cell_type": "code",
   "execution_count": 2,
   "id": "0ee32943-49fe-4197-9ce1-2c8ba766bfdd",
   "metadata": {},
   "outputs": [
    {
     "name": "stderr",
     "output_type": "stream",
     "text": [
      "[nltk_data] Downloading package words to /Users/vinay/nltk_data...\n",
      "[nltk_data]   Package words is already up-to-date!\n"
     ]
    },
    {
     "data": {
      "text/plain": [
       "True"
      ]
     },
     "execution_count": 2,
     "metadata": {},
     "output_type": "execute_result"
    }
   ],
   "source": [
    "import pandas as pd\n",
    "import os\n",
    "import re\n",
    "import emoji\n",
    "import nltk\n",
    "\n",
    "nltk.download('words')"
   ]
  },
  {
   "cell_type": "code",
   "execution_count": 167,
   "id": "c341e7d3-5f8f-4867-87c3-f54a7820d629",
   "metadata": {},
   "outputs": [],
   "source": [
    "path = 'task_3/toi/'"
   ]
  },
  {
   "cell_type": "code",
   "execution_count": 168,
   "id": "776b67b5-7650-40cc-8d10-09838a525912",
   "metadata": {},
   "outputs": [
    {
     "data": {
      "text/html": [
       "<div>\n",
       "<style scoped>\n",
       "    .dataframe tbody tr th:only-of-type {\n",
       "        vertical-align: middle;\n",
       "    }\n",
       "\n",
       "    .dataframe tbody tr th {\n",
       "        vertical-align: top;\n",
       "    }\n",
       "\n",
       "    .dataframe thead th {\n",
       "        text-align: right;\n",
       "    }\n",
       "</style>\n",
       "<table border=\"1\" class=\"dataframe\">\n",
       "  <thead>\n",
       "    <tr style=\"text-align: right;\">\n",
       "      <th></th>\n",
       "      <th>title</th>\n",
       "      <th>text</th>\n",
       "      <th>location</th>\n",
       "      <th>date</th>\n",
       "    </tr>\n",
       "  </thead>\n",
       "  <tbody>\n",
       "    <tr>\n",
       "      <th>0</th>\n",
       "      <td>2 more riot accused arrested</td>\n",
       "      <td>the city police arrested two simi activists on...</td>\n",
       "      <td>kanpur</td>\n",
       "      <td>2018-09-19</td>\n",
       "    </tr>\n",
       "    <tr>\n",
       "      <th>1</th>\n",
       "      <td>Rajnath drops another minister</td>\n",
       "      <td>chief minister rajnath singh on tuesday droppe...</td>\n",
       "      <td>lucknow</td>\n",
       "      <td>2018-09-19</td>\n",
       "    </tr>\n",
       "    <tr>\n",
       "      <th>2</th>\n",
       "      <td>Chauhan rally, a damp squib</td>\n",
       "      <td>former khalistan ideologue jagjit singh chauha...</td>\n",
       "      <td>tanda (hoshiarpur)</td>\n",
       "      <td>2018-09-19</td>\n",
       "    </tr>\n",
       "    <tr>\n",
       "      <th>3</th>\n",
       "      <td>Paswan rules out divestment in coal sector</td>\n",
       "      <td>union minister of coal and mines ram vilas pas...</td>\n",
       "      <td>dhanbad</td>\n",
       "      <td>2018-09-19</td>\n",
       "    </tr>\n",
       "    <tr>\n",
       "      <th>4</th>\n",
       "      <td>No change in upper age limit for govt jobs</td>\n",
       "      <td>the state cabinet on monday decided that the u...</td>\n",
       "      <td>patna</td>\n",
       "      <td>2018-09-19</td>\n",
       "    </tr>\n",
       "  </tbody>\n",
       "</table>\n",
       "</div>"
      ],
      "text/plain": [
       "                                        title  \\\n",
       "0                2 more riot accused arrested   \n",
       "1              Rajnath drops another minister   \n",
       "2                 Chauhan rally, a damp squib   \n",
       "3  Paswan rules out divestment in coal sector   \n",
       "4  No change in upper age limit for govt jobs   \n",
       "\n",
       "                                                text            location  \\\n",
       "0  the city police arrested two simi activists on...              kanpur   \n",
       "1  chief minister rajnath singh on tuesday droppe...             lucknow   \n",
       "2  former khalistan ideologue jagjit singh chauha...  tanda (hoshiarpur)   \n",
       "3  union minister of coal and mines ram vilas pas...             dhanbad   \n",
       "4  the state cabinet on monday decided that the u...               patna   \n",
       "\n",
       "        date  \n",
       "0 2018-09-19  \n",
       "1 2018-09-19  \n",
       "2 2018-09-19  \n",
       "3 2018-09-19  \n",
       "4 2018-09-19  "
      ]
     },
     "execution_count": 168,
     "metadata": {},
     "output_type": "execute_result"
    }
   ],
   "source": [
    "def clean(row):\n",
    "    text = row['text']\n",
    "    text = ''.join(text.split('\\n')[:-1])\n",
    "    text = ''.join(text.split(':')[1:])\n",
    "    return text.strip()\n",
    "\n",
    "lis = []\n",
    "for folder, _, files in os.walk(path):\n",
    "    for file in files:\n",
    "        if '.csv' in file:\n",
    "            x = pd.read_csv(f'{folder}{file}')\n",
    "            x['date'] = file.split('.')[0]\n",
    "            lis.append(x)\n",
    "            \n",
    "df = pd.concat(lis)\n",
    "df = df.drop(labels='Unnamed: 0', axis=1)\n",
    "df.date = pd.to_datetime(df.date)\n",
    "df.text = df.apply(clean, 1)\n",
    "df.location = df.apply(lambda x: x['location'].lower(), 1)\n",
    "\n",
    "df.head()"
   ]
  },
  {
   "cell_type": "code",
   "execution_count": 45,
   "id": "409670af-9d07-487d-a608-32caa34eda9c",
   "metadata": {},
   "outputs": [],
   "source": [
    "df.to_csv('toi.csv')"
   ]
  },
  {
   "cell_type": "code",
   "execution_count": 76,
   "id": "1fb10594-3ae0-4b14-b8c7-9157a33441a8",
   "metadata": {},
   "outputs": [],
   "source": [
    "import difflib\n",
    "from difflib import SequenceMatcher"
   ]
  },
  {
   "cell_type": "code",
   "execution_count": 83,
   "id": "436d7722-2b6d-48df-b88f-48f1b3db9a49",
   "metadata": {},
   "outputs": [
    {
     "data": {
      "text/plain": [
       "Index(['Unnamed: 0', 'notes', 'event_date', 'source', 'fatalities',\n",
       "       'event_type', 'sub_event_type', 'actor1', 'inter1', 'actor2', 'inter2',\n",
       "       'interaction', 'location', 'pred_location', 'pred_fatalities'],\n",
       "      dtype='object')"
      ]
     },
     "execution_count": 83,
     "metadata": {},
     "output_type": "execute_result"
    }
   ],
   "source": [
    "t1 = pd.read_csv('task1_valid.csv')\n",
    "t1 = t1.where(pd.notnull(t1), None)\n",
    "t1.columns"
   ]
  },
  {
   "cell_type": "code",
   "execution_count": 61,
   "id": "102fba59-53fa-485e-b8cd-d06be6a4cc8e",
   "metadata": {},
   "outputs": [],
   "source": [
    "locs = t1['location']\n",
    "pred_locs = t1[t1['pred_location'].notna()].pred_location.values"
   ]
  },
  {
   "cell_type": "code",
   "execution_count": 69,
   "id": "81d28b5b-bc47-45bf-93c6-58fd99fca7c8",
   "metadata": {},
   "outputs": [],
   "source": [
    "res = {}\n",
    "for loc in set(locs):\n",
    "    res[loc] = difflib.get_close_matches(loc, set(pred_locs), n=5, cutoff=0.7)\n",
    "        \n",
    "    # res[loc] = temp.sort(key=lambda x: x[1])"
   ]
  },
  {
   "cell_type": "code",
   "execution_count": 70,
   "id": "2819ad5c-b3e8-42a4-bf38-78c52226589d",
   "metadata": {},
   "outputs": [
    {
     "data": {
      "text/plain": [
       "['Lamu', 'Bulo Burto', 'Malanje', 'Harare']"
      ]
     },
     "execution_count": 70,
     "metadata": {},
     "output_type": "execute_result"
    }
   ],
   "source": [
    "list(res.keys())[:4]"
   ]
  },
  {
   "cell_type": "code",
   "execution_count": 75,
   "id": "a7119cea-36b2-4a8f-9820-db39d30c7250",
   "metadata": {},
   "outputs": [
    {
     "data": {
      "text/plain": [
       "['Harare', 'Hararyale', 'Haradhere', 'Haraale', 'Hararyaale']"
      ]
     },
     "execution_count": 75,
     "metadata": {},
     "output_type": "execute_result"
    }
   ],
   "source": [
    "res['Harare']"
   ]
  },
  {
   "cell_type": "code",
   "execution_count": 77,
   "id": "6e549fc6-690c-47cb-87a5-3641fc4f5bf2",
   "metadata": {},
   "outputs": [],
   "source": []
  },
  {
   "cell_type": "code",
   "execution_count": 78,
   "id": "063acef8-9447-42c2-a966-147b065cd013",
   "metadata": {},
   "outputs": [
    {
     "data": {
      "text/plain": [
       "0.8"
      ]
     },
     "execution_count": 78,
     "metadata": {},
     "output_type": "execute_result"
    }
   ],
   "source": [
    "similar('Harare', 'Hararyale')"
   ]
  },
  {
   "cell_type": "code",
   "execution_count": 79,
   "id": "85a8fa04-4f8a-4525-857f-f0a38a14e0e4",
   "metadata": {},
   "outputs": [
    {
     "data": {
      "text/plain": [
       "0.7692307692307693"
      ]
     },
     "execution_count": 79,
     "metadata": {},
     "output_type": "execute_result"
    }
   ],
   "source": [
    "similar('Harare', 'Haraale')"
   ]
  },
  {
   "cell_type": "code",
   "execution_count": 131,
   "id": "d03ab351-d60e-4087-922b-093d37e64490",
   "metadata": {},
   "outputs": [],
   "source": [
    "def similar(a, b):\n",
    "    return SequenceMatcher(None, a, b).ratio()\n",
    "\n",
    "def get_closest_matches(df, actual_col, pred_col, thresh):\n",
    "    actual = df[df[actual_col].notna()][actual_col].values\n",
    "    preds = df[df[pred_col].notna()][pred_col].values\n",
    "    \n",
    "    res = {}\n",
    "    for x in set(actual):\n",
    "        tmp = []\n",
    "        for y in set(preds):\n",
    "            score = similar(x, y)\n",
    "            if score >= thresh:\n",
    "                tmp.append((y, score))\n",
    "        tmp.sort(key=lambda x: x[1], reverse=True)\n",
    "        res[x] = tmp\n",
    "    return res\n",
    "\n",
    "def replace_closest_matches(df, actual_col, pred_col, col_map, n):\n",
    "    actual = df[df[actual_col].notna()][actual_col].values\n",
    "    preds = df[df[pred_col].notna()][pred_col].values\n",
    "    mp = {}\n",
    "    \n",
    "    for a in actual:\n",
    "        m = min(n, len(col_map.get(a, [])))\n",
    "        for i in range(m):\n",
    "            mp[col_map[a][i][0]] = a\n",
    "            \n",
    "    df[pred_col] = df[pred_col].apply(lambda x: mp[x] if x in mp else x)\n",
    "    return mp, df"
   ]
  },
  {
   "cell_type": "code",
   "execution_count": 142,
   "id": "bf985460-5bcd-4e40-bc60-54a7a6623d74",
   "metadata": {},
   "outputs": [],
   "source": [
    "col_map = get_closest_matches(t1, 'location', 'pred_location', 0.7)"
   ]
  },
  {
   "cell_type": "code",
   "execution_count": 139,
   "id": "f33d385f-770a-4021-b849-ba98cfb78b47",
   "metadata": {},
   "outputs": [],
   "source": [
    "mp, new_df = replace_closest_matches(t1, 'location', 'pred_location', col_map, n=3)"
   ]
  },
  {
   "cell_type": "code",
   "execution_count": 140,
   "id": "cf926dba-d589-46ad-abc9-499ecb5d1821",
   "metadata": {},
   "outputs": [
    {
     "data": {
      "text/plain": [
       "(1336,)"
      ]
     },
     "execution_count": 140,
     "metadata": {},
     "output_type": "execute_result"
    }
   ],
   "source": [
    "new_df['location'].unique().shape"
   ]
  },
  {
   "cell_type": "code",
   "execution_count": 141,
   "id": "0da36141-7dce-496e-88dc-64dc87a48fe9",
   "metadata": {},
   "outputs": [
    {
     "data": {
      "text/plain": [
       "(2570,)"
      ]
     },
     "execution_count": 141,
     "metadata": {},
     "output_type": "execute_result"
    }
   ],
   "source": [
    "new_df['pred_location'].unique().shape"
   ]
  },
  {
   "cell_type": "code",
   "execution_count": 3,
   "id": "98050e45-748a-40bf-a19b-6f487978a28e",
   "metadata": {},
   "outputs": [
    {
     "data": {
      "text/html": [
       "<div>\n",
       "<style scoped>\n",
       "    .dataframe tbody tr th:only-of-type {\n",
       "        vertical-align: middle;\n",
       "    }\n",
       "\n",
       "    .dataframe tbody tr th {\n",
       "        vertical-align: top;\n",
       "    }\n",
       "\n",
       "    .dataframe thead th {\n",
       "        text-align: right;\n",
       "    }\n",
       "</style>\n",
       "<table border=\"1\" class=\"dataframe\">\n",
       "  <thead>\n",
       "    <tr style=\"text-align: right;\">\n",
       "      <th></th>\n",
       "      <th>Datetime</th>\n",
       "      <th>Tweet Id</th>\n",
       "      <th>Text</th>\n",
       "      <th>Username</th>\n",
       "    </tr>\n",
       "  </thead>\n",
       "  <tbody>\n",
       "    <tr>\n",
       "      <th>0</th>\n",
       "      <td>2020-11-05 23:34:24+00:00</td>\n",
       "      <td>1.324500e+18</td>\n",
       "      <td>Pakistani Army Extracts From Its Own Farmers, ...</td>\n",
       "      <td>HindiNewsLates1</td>\n",
       "    </tr>\n",
       "    <tr>\n",
       "      <th>1</th>\n",
       "      <td>2020-11-05 22:09:16+00:00</td>\n",
       "      <td>1.324470e+18</td>\n",
       "      <td>{editor} Non-stun export ban sparks mass farme...</td>\n",
       "      <td>ukagri</td>\n",
       "    </tr>\n",
       "    <tr>\n",
       "      <th>2</th>\n",
       "      <td>2020-11-05 21:57:50+00:00</td>\n",
       "      <td>1.324470e+18</td>\n",
       "      <td>PTI itself kept Islamabad hijacked for months ...</td>\n",
       "      <td>Gulalai_Ismail</td>\n",
       "    </tr>\n",
       "    <tr>\n",
       "      <th>3</th>\n",
       "      <td>2020-11-05 21:54:22+00:00</td>\n",
       "      <td>1.324470e+18</td>\n",
       "      <td>Malik Ishfaq Langrial passes away after Punjab...</td>\n",
       "      <td>AanuJanu1</td>\n",
       "    </tr>\n",
       "    <tr>\n",
       "      <th>4</th>\n",
       "      <td>2020-11-05 21:30:24+00:00</td>\n",
       "      <td>1.324460e+18</td>\n",
       "      <td>Farmers postpone protest after baton-charge, a...</td>\n",
       "      <td>RelationsState</td>\n",
       "    </tr>\n",
       "  </tbody>\n",
       "</table>\n",
       "</div>"
      ],
      "text/plain": [
       "                    Datetime      Tweet Id  \\\n",
       "0  2020-11-05 23:34:24+00:00  1.324500e+18   \n",
       "1  2020-11-05 22:09:16+00:00  1.324470e+18   \n",
       "2  2020-11-05 21:57:50+00:00  1.324470e+18   \n",
       "3  2020-11-05 21:54:22+00:00  1.324470e+18   \n",
       "4  2020-11-05 21:30:24+00:00  1.324460e+18   \n",
       "\n",
       "                                                Text         Username  \n",
       "0  Pakistani Army Extracts From Its Own Farmers, ...  HindiNewsLates1  \n",
       "1  {editor} Non-stun export ban sparks mass farme...           ukagri  \n",
       "2  PTI itself kept Islamabad hijacked for months ...   Gulalai_Ismail  \n",
       "3  Malik Ishfaq Langrial passes away after Punjab...        AanuJanu1  \n",
       "4  Farmers postpone protest after baton-charge, a...   RelationsState  "
      ]
     },
     "execution_count": 3,
     "metadata": {},
     "output_type": "execute_result"
    }
   ],
   "source": [
    "tw = pd.read_csv('tweets.csv')\n",
    "tw.head()"
   ]
  },
  {
   "cell_type": "code",
   "execution_count": 4,
   "id": "246c5149-f037-454f-ae80-0edd9fce57d8",
   "metadata": {},
   "outputs": [],
   "source": [
    "words = set(nltk.corpus.words.words())\n",
    "\n",
    "def cleaner(tweet):\n",
    "    tweet = re.sub(\"@[A-Za-z0-9]+\",\"\",tweet) #Remove @ sign\n",
    "    tweet = re.sub(r\"(?:\\@|http?\\://|https?\\://|www)\\S+\", \"\", tweet) #Remove http links\n",
    "    tweet = \" \".join(tweet.split())\n",
    "    tweet = ''.join(c for c in tweet if c not in emoji.UNICODE_EMOJI) #Remove Emojis\n",
    "    tweet = tweet.replace(\"#\", \"\").replace(\"_\", \" \") #Remove hashtag sign but keep the text\n",
    "    tweet = \" \".join(w for w in nltk.wordpunct_tokenize(tweet) \\\n",
    "         if w.lower() in words or not w.isalpha())\n",
    "    return tweet\n",
    "\n",
    "tw['tweet'] = tw['Text'].map(lambda x: cleaner(x))"
   ]
  },
  {
   "cell_type": "code",
   "execution_count": 5,
   "id": "a7856acc-1816-41ee-adc2-8265a279914f",
   "metadata": {},
   "outputs": [
    {
     "data": {
      "text/html": [
       "<div>\n",
       "<style scoped>\n",
       "    .dataframe tbody tr th:only-of-type {\n",
       "        vertical-align: middle;\n",
       "    }\n",
       "\n",
       "    .dataframe tbody tr th {\n",
       "        vertical-align: top;\n",
       "    }\n",
       "\n",
       "    .dataframe thead th {\n",
       "        text-align: right;\n",
       "    }\n",
       "</style>\n",
       "<table border=\"1\" class=\"dataframe\">\n",
       "  <thead>\n",
       "    <tr style=\"text-align: right;\">\n",
       "      <th></th>\n",
       "      <th>Datetime</th>\n",
       "      <th>Tweet Id</th>\n",
       "      <th>Text</th>\n",
       "      <th>Username</th>\n",
       "      <th>tweet</th>\n",
       "    </tr>\n",
       "  </thead>\n",
       "  <tbody>\n",
       "    <tr>\n",
       "      <th>0</th>\n",
       "      <td>2020-11-05 23:34:24+00:00</td>\n",
       "      <td>1.324500e+18</td>\n",
       "      <td>Pakistani Army Extracts From Its Own Farmers, ...</td>\n",
       "      <td>HindiNewsLates1</td>\n",
       "      <td>Army From Its Own , Protest , Then ANN</td>\n",
       "    </tr>\n",
       "    <tr>\n",
       "      <th>1</th>\n",
       "      <td>2020-11-05 22:09:16+00:00</td>\n",
       "      <td>1.324470e+18</td>\n",
       "      <td>{editor} Non-stun export ban sparks mass farme...</td>\n",
       "      <td>ukagri</td>\n",
       "      <td>{ editor } Non - stun export ban sparks mass f...</td>\n",
       "    </tr>\n",
       "    <tr>\n",
       "      <th>2</th>\n",
       "      <td>2020-11-05 21:57:50+00:00</td>\n",
       "      <td>1.324470e+18</td>\n",
       "      <td>PTI itself kept Islamabad hijacked for months ...</td>\n",
       "      <td>Gulalai_Ismail</td>\n",
       "      <td>itself kept for in attempt to throw the democr...</td>\n",
       "    </tr>\n",
       "    <tr>\n",
       "      <th>3</th>\n",
       "      <td>2020-11-05 21:54:22+00:00</td>\n",
       "      <td>1.324470e+18</td>\n",
       "      <td>Malik Ishfaq Langrial passes away after Punjab...</td>\n",
       "      <td>AanuJanu1</td>\n",
       "      <td>Malik away after Police torture . He sustained...</td>\n",
       "    </tr>\n",
       "    <tr>\n",
       "      <th>4</th>\n",
       "      <td>2020-11-05 21:30:24+00:00</td>\n",
       "      <td>1.324460e+18</td>\n",
       "      <td>Farmers postpone protest after baton-charge, a...</td>\n",
       "      <td>RelationsState</td>\n",
       "      <td>postpone protest after baton - charge , –</td>\n",
       "    </tr>\n",
       "  </tbody>\n",
       "</table>\n",
       "</div>"
      ],
      "text/plain": [
       "                    Datetime      Tweet Id  \\\n",
       "0  2020-11-05 23:34:24+00:00  1.324500e+18   \n",
       "1  2020-11-05 22:09:16+00:00  1.324470e+18   \n",
       "2  2020-11-05 21:57:50+00:00  1.324470e+18   \n",
       "3  2020-11-05 21:54:22+00:00  1.324470e+18   \n",
       "4  2020-11-05 21:30:24+00:00  1.324460e+18   \n",
       "\n",
       "                                                Text         Username  \\\n",
       "0  Pakistani Army Extracts From Its Own Farmers, ...  HindiNewsLates1   \n",
       "1  {editor} Non-stun export ban sparks mass farme...           ukagri   \n",
       "2  PTI itself kept Islamabad hijacked for months ...   Gulalai_Ismail   \n",
       "3  Malik Ishfaq Langrial passes away after Punjab...        AanuJanu1   \n",
       "4  Farmers postpone protest after baton-charge, a...   RelationsState   \n",
       "\n",
       "                                               tweet  \n",
       "0             Army From Its Own , Protest , Then ANN  \n",
       "1  { editor } Non - stun export ban sparks mass f...  \n",
       "2  itself kept for in attempt to throw the democr...  \n",
       "3  Malik away after Police torture . He sustained...  \n",
       "4          postpone protest after baton - charge , –  "
      ]
     },
     "execution_count": 5,
     "metadata": {},
     "output_type": "execute_result"
    }
   ],
   "source": [
    "tw.head()"
   ]
  },
  {
   "cell_type": "code",
   "execution_count": 23,
   "id": "2dd6cd19-d9cc-4cc9-93db-0bbbdc55e5cf",
   "metadata": {},
   "outputs": [],
   "source": [
    "tw['date'] = pd.to_datetime(tw['Datetime']).dt.date\n",
    "df = tw.drop(labels=['Datetime', 'Tweet Id', 'Username', 'Text'], axis=1)"
   ]
  },
  {
   "cell_type": "code",
   "execution_count": 24,
   "id": "a3b3b89a-96a6-4460-b969-afd9aa5ff51a",
   "metadata": {},
   "outputs": [
    {
     "data": {
      "text/html": [
       "<div>\n",
       "<style scoped>\n",
       "    .dataframe tbody tr th:only-of-type {\n",
       "        vertical-align: middle;\n",
       "    }\n",
       "\n",
       "    .dataframe tbody tr th {\n",
       "        vertical-align: top;\n",
       "    }\n",
       "\n",
       "    .dataframe thead th {\n",
       "        text-align: right;\n",
       "    }\n",
       "</style>\n",
       "<table border=\"1\" class=\"dataframe\">\n",
       "  <thead>\n",
       "    <tr style=\"text-align: right;\">\n",
       "      <th></th>\n",
       "      <th>tweet</th>\n",
       "      <th>date</th>\n",
       "    </tr>\n",
       "  </thead>\n",
       "  <tbody>\n",
       "    <tr>\n",
       "      <th>0</th>\n",
       "      <td>Army From Its Own , Protest , Then ANN</td>\n",
       "      <td>2020-11-05</td>\n",
       "    </tr>\n",
       "    <tr>\n",
       "      <th>1</th>\n",
       "      <td>{ editor } Non - stun export ban sparks mass f...</td>\n",
       "      <td>2020-11-05</td>\n",
       "    </tr>\n",
       "    <tr>\n",
       "      <th>2</th>\n",
       "      <td>itself kept for in attempt to throw the democr...</td>\n",
       "      <td>2020-11-05</td>\n",
       "    </tr>\n",
       "    <tr>\n",
       "      <th>3</th>\n",
       "      <td>Malik away after Police torture . He sustained...</td>\n",
       "      <td>2020-11-05</td>\n",
       "    </tr>\n",
       "    <tr>\n",
       "      <th>4</th>\n",
       "      <td>postpone protest after baton - charge , –</td>\n",
       "      <td>2020-11-05</td>\n",
       "    </tr>\n",
       "  </tbody>\n",
       "</table>\n",
       "</div>"
      ],
      "text/plain": [
       "                                               tweet        date\n",
       "0             Army From Its Own , Protest , Then ANN  2020-11-05\n",
       "1  { editor } Non - stun export ban sparks mass f...  2020-11-05\n",
       "2  itself kept for in attempt to throw the democr...  2020-11-05\n",
       "3  Malik away after Police torture . He sustained...  2020-11-05\n",
       "4          postpone protest after baton - charge , –  2020-11-05"
      ]
     },
     "execution_count": 24,
     "metadata": {},
     "output_type": "execute_result"
    }
   ],
   "source": [
    "df.head()"
   ]
  },
  {
   "cell_type": "code",
   "execution_count": 27,
   "id": "5214232c-604e-43bd-a409-09cb118f94d6",
   "metadata": {},
   "outputs": [],
   "source": [
    "df = df.groupby(['date'], as_index=False).agg({'tweet': ' | '.join})"
   ]
  },
  {
   "cell_type": "code",
   "execution_count": 28,
   "id": "88c56199-0a9e-4884-be13-2112f13b2df7",
   "metadata": {},
   "outputs": [
    {
     "data": {
      "text/html": [
       "<div>\n",
       "<style scoped>\n",
       "    .dataframe tbody tr th:only-of-type {\n",
       "        vertical-align: middle;\n",
       "    }\n",
       "\n",
       "    .dataframe tbody tr th {\n",
       "        vertical-align: top;\n",
       "    }\n",
       "\n",
       "    .dataframe thead th {\n",
       "        text-align: right;\n",
       "    }\n",
       "</style>\n",
       "<table border=\"1\" class=\"dataframe\">\n",
       "  <thead>\n",
       "    <tr style=\"text-align: right;\">\n",
       "      <th></th>\n",
       "      <th>date</th>\n",
       "      <th>tweet</th>\n",
       "    </tr>\n",
       "  </thead>\n",
       "  <tbody>\n",
       "    <tr>\n",
       "      <th>0</th>\n",
       "      <td>2020-11-05</td>\n",
       "      <td>Army From Its Own , Protest , Then ANN | { edi...</td>\n",
       "    </tr>\n",
       "    <tr>\n",
       "      <th>1</th>\n",
       "      <td>2020-11-06</td>\n",
       "      <td>: Northern current situation amid ’ protest | ...</td>\n",
       "    </tr>\n",
       "    <tr>\n",
       "      <th>2</th>\n",
       "      <td>2020-11-07</td>\n",
       "      <td>I ' m from the ... It ' s not all as great as ...</td>\n",
       "    </tr>\n",
       "    <tr>\n",
       "      <th>3</th>\n",
       "      <td>2020-11-08</td>\n",
       "      <td>After all this government is not listening to ...</td>\n",
       "    </tr>\n",
       "    <tr>\n",
       "      <th>4</th>\n",
       "      <td>2020-11-09</td>\n",
       "      <td>civil demand the arrest of police following th...</td>\n",
       "    </tr>\n",
       "  </tbody>\n",
       "</table>\n",
       "</div>"
      ],
      "text/plain": [
       "         date                                              tweet\n",
       "0  2020-11-05  Army From Its Own , Protest , Then ANN | { edi...\n",
       "1  2020-11-06  : Northern current situation amid ’ protest | ...\n",
       "2  2020-11-07  I ' m from the ... It ' s not all as great as ...\n",
       "3  2020-11-08  After all this government is not listening to ...\n",
       "4  2020-11-09  civil demand the arrest of police following th..."
      ]
     },
     "execution_count": 28,
     "metadata": {},
     "output_type": "execute_result"
    }
   ],
   "source": [
    "df.head()"
   ]
  },
  {
   "cell_type": "code",
   "execution_count": 30,
   "id": "1bb855d8-3044-491e-8f2b-6de3687a3ebe",
   "metadata": {},
   "outputs": [
    {
     "data": {
      "text/plain": [
       "datetime.date(2020, 11, 5)"
      ]
     },
     "execution_count": 30,
     "metadata": {},
     "output_type": "execute_result"
    }
   ],
   "source": [
    "df.date.min()"
   ]
  },
  {
   "cell_type": "code",
   "execution_count": 31,
   "id": "9c7df2b1-f136-4e2c-a521-4fd211c31011",
   "metadata": {},
   "outputs": [
    {
     "data": {
      "text/plain": [
       "datetime.date(2021, 3, 4)"
      ]
     },
     "execution_count": 31,
     "metadata": {},
     "output_type": "execute_result"
    }
   ],
   "source": [
    "df.date.max()"
   ]
  },
  {
   "cell_type": "code",
   "execution_count": 29,
   "id": "67bcd66e-8982-4a17-bfdd-396ddf4e5429",
   "metadata": {},
   "outputs": [],
   "source": [
    "df.to_csv('tweets.csv')"
   ]
  }
 ],
 "metadata": {
  "kernelspec": {
   "display_name": "Python [conda env:root] *",
   "language": "python",
   "name": "conda-root-py"
  },
  "language_info": {
   "codemirror_mode": {
    "name": "ipython",
    "version": 3
   },
   "file_extension": ".py",
   "mimetype": "text/x-python",
   "name": "python",
   "nbconvert_exporter": "python",
   "pygments_lexer": "ipython3",
   "version": "3.9.12"
  }
 },
 "nbformat": 4,
 "nbformat_minor": 5
}
