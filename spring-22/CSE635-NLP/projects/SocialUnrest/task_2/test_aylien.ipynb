{
 "cells": [
  {
   "cell_type": "code",
   "execution_count": 3,
   "id": "b16cada2-ebbf-4dd4-8cdf-075700ec54b1",
   "metadata": {},
   "outputs": [],
   "source": [
    "from requests.auth import HTTPBasicAuth\n",
    "import requests\n",
    "import aylien_news_api\n",
    "from aylien_news_api.rest import ApiException\n",
    "\n",
    "configuration = aylien_news_api.Configuration()"
   ]
  },
  {
   "cell_type": "code",
   "execution_count": 5,
   "id": "c8fc8fd8-7e19-4766-b60d-282d96175166",
   "metadata": {},
   "outputs": [],
   "source": [
    "# Configure API key authorization: app_id\n",
    "configuration.api_key['X-AYLIEN-NewsAPI-Application-ID'] = '50ebf83e'\n",
    "\n",
    "# Configure API key authorization: app_key\n",
    "configuration.api_key['X-AYLIEN-NewsAPI-Application-Key'] = '7c57356173c20a837a2b666bf252e865'\n",
    "configuration.host = \"https://api.aylien.com/news\"\n",
    "\n",
    "# Create an instance of the API class\n",
    "api_instance = aylien_news_api.DefaultApi(aylien_news_api.ApiClient(configuration))"
   ]
  },
  {
   "cell_type": "code",
   "execution_count": 12,
   "id": "1e097d0c-5b58-48e0-9f33-71def5658a96",
   "metadata": {},
   "outputs": [],
   "source": [
    "api_instance = aylien_news_api.DefaultApi(aylien_news_api.ApiClient(configuration))\n",
    "\n",
    "params = {\n",
    "  'text': 'Armed clash Unidentified Armed Group (Nigeria)',\n",
    "}"
   ]
  },
  {
   "cell_type": "code",
   "execution_count": 13,
   "id": "bd05b36b-25ac-484d-afb0-c39eb981f2da",
   "metadata": {},
   "outputs": [
    {
     "name": "stdout",
     "output_type": "stream",
     "text": [
      "The API has been called successfully.\n",
      "=====================================\n",
      "Switzerland Gift Card and Incentive Card Market Intelligence Report 2022: Retailers are Leveraging the Ongoing Cryptocurrency Boom to sell Bitcoin Gift Cards in their Stores - ResearchAndMarkets.com / FOX 40 WICZ TV\n",
      "HelpRansomware, world leader in data decryption, renews its website / Minyanville\n",
      "No freedom without cost as war ushers in ‘new economic era': Treasurer / Head Topics\n",
      "Vinsure - Insurance News - People Moves: IAT Group Welcomes CNA’s Bendick; NFP Adds WTW’s Clarke to Energy Team / Vinsure\n",
      "Nigeria: une soixantaine de morts dans une milice d'auto-défense dans le nord-ouest / HT Syndication\n",
      "Spire Launches New Project Controls Service / Yahoo! Finance\n",
      "Flare Gas Recovery System Market size to increase by USD 1.40 Bn | Evolving opportunities in very large capacity flare gas recovery system segment | Technavio / Yahoo! Finance\n",
      "Disappointing season provides plenty of lessons for Blue Devils / Grosse Pointe News\n",
      "Россияне имеют право на жизнь: кто из брендов отказался присоединиться к санкциям / Блокнот Главная\n",
      "Cabinet approves amendment to Mines and Minerals (Development and Regulation) Act / Newkerala.com\n"
     ]
    }
   ],
   "source": [
    "try:\n",
    "    # List stories\n",
    "    api_response = api_instance.list_stories(**params)\n",
    "    print('The API has been called successfully.')\n",
    "    print('=====================================')\n",
    "    for story in api_response.stories:\n",
    "      print(story.title + \" / \" + story.source.name)\n",
    "except ApiException as e:\n",
    "    print(\"Exception when calling DefaultApi->list_stories: %sn\" % e)"
   ]
  }
 ],
 "metadata": {
  "kernelspec": {
   "display_name": "Python [conda env:root] *",
   "language": "python",
   "name": "conda-root-py"
  },
  "language_info": {
   "codemirror_mode": {
    "name": "ipython",
    "version": 3
   },
   "file_extension": ".py",
   "mimetype": "text/x-python",
   "name": "python",
   "nbconvert_exporter": "python",
   "pygments_lexer": "ipython3",
   "version": "3.9.7"
  }
 },
 "nbformat": 4,
 "nbformat_minor": 5
}
