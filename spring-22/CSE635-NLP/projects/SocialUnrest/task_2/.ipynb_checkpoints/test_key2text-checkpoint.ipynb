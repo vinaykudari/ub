{
 "cells": [
  {
   "cell_type": "code",
   "execution_count": 10,
   "id": "6c4ee997-2425-481b-8c73-1a5d0787f917",
   "metadata": {},
   "outputs": [
    {
     "name": "stderr",
     "output_type": "stream",
     "text": [
      "Global seed set to 42\n",
      "Global seed set to 42\n"
     ]
    }
   ],
   "source": [
    "import pandas as pd\n",
    "from keytotext import pipeline"
   ]
  },
  {
   "cell_type": "code",
   "execution_count": 17,
   "id": "3faadd58-b50d-4f54-9fee-1fdc3c0572ca",
   "metadata": {},
   "outputs": [],
   "source": [
    "data = pd.read_csv('task_2_event_summarization_train.tsv', sep='\\t')\n",
    "x = data.drop(['NOTES'], axis=1)"
   ]
  },
  {
   "cell_type": "code",
   "execution_count": 12,
   "id": "a9388722-7292-4456-b572-b15fcee51e3a",
   "metadata": {},
   "outputs": [
    {
     "data": {
      "text/html": [
       "<div>\n",
       "<style scoped>\n",
       "    .dataframe tbody tr th:only-of-type {\n",
       "        vertical-align: middle;\n",
       "    }\n",
       "\n",
       "    .dataframe tbody tr th {\n",
       "        vertical-align: top;\n",
       "    }\n",
       "\n",
       "    .dataframe thead th {\n",
       "        text-align: right;\n",
       "    }\n",
       "</style>\n",
       "<table border=\"1\" class=\"dataframe\">\n",
       "  <thead>\n",
       "    <tr style=\"text-align: right;\">\n",
       "      <th></th>\n",
       "      <th>EVENT_DATE</th>\n",
       "      <th>SOURCE</th>\n",
       "      <th>FATALITIES</th>\n",
       "      <th>EVENT_TYPE</th>\n",
       "      <th>SUB_EVENT_TYPE</th>\n",
       "      <th>ACTOR1</th>\n",
       "      <th>INTER1</th>\n",
       "      <th>ACTOR2</th>\n",
       "      <th>INTER2</th>\n",
       "      <th>INTERACTION</th>\n",
       "      <th>LOCATION</th>\n",
       "      <th>NOTES</th>\n",
       "    </tr>\n",
       "  </thead>\n",
       "  <tbody>\n",
       "    <tr>\n",
       "      <th>0</th>\n",
       "      <td>18-December-2019</td>\n",
       "      <td>Vanguard (Nigeria)</td>\n",
       "      <td>0</td>\n",
       "      <td>Protests</td>\n",
       "      <td>Peaceful protest</td>\n",
       "      <td>Protesters (Nigeria)</td>\n",
       "      <td>6</td>\n",
       "      <td>NaN</td>\n",
       "      <td>0</td>\n",
       "      <td>60</td>\n",
       "      <td>Iwhreka</td>\n",
       "      <td>On 18 December 2019, tens of women demonstrate...</td>\n",
       "    </tr>\n",
       "    <tr>\n",
       "      <th>1</th>\n",
       "      <td>19-December-2019</td>\n",
       "      <td>Daily Trust (Nigeria); Nigeria Punch</td>\n",
       "      <td>0</td>\n",
       "      <td>Protests</td>\n",
       "      <td>Peaceful protest</td>\n",
       "      <td>Protesters (Nigeria)</td>\n",
       "      <td>6</td>\n",
       "      <td>NaN</td>\n",
       "      <td>0</td>\n",
       "      <td>60</td>\n",
       "      <td>Abuja</td>\n",
       "      <td>On 19 December 2019, employees of NIPOST in Ab...</td>\n",
       "    </tr>\n",
       "    <tr>\n",
       "      <th>2</th>\n",
       "      <td>03-September-2019</td>\n",
       "      <td>Legit</td>\n",
       "      <td>0</td>\n",
       "      <td>Battles</td>\n",
       "      <td>Armed clash</td>\n",
       "      <td>Unidentified Armed Group (Nigeria)</td>\n",
       "      <td>3</td>\n",
       "      <td>Police Forces of Nigeria (2015-)</td>\n",
       "      <td>1</td>\n",
       "      <td>13</td>\n",
       "      <td>Ijaw</td>\n",
       "      <td>03 September. Unidentified gunmen attacked the...</td>\n",
       "    </tr>\n",
       "    <tr>\n",
       "      <th>3</th>\n",
       "      <td>16-October-2019</td>\n",
       "      <td>Nigeria Punch</td>\n",
       "      <td>0</td>\n",
       "      <td>Violence against civilians</td>\n",
       "      <td>Abduction/forced disappearance</td>\n",
       "      <td>Unidentified Armed Group (Nigeria)</td>\n",
       "      <td>3</td>\n",
       "      <td>Civilians (Nigeria)</td>\n",
       "      <td>7</td>\n",
       "      <td>37</td>\n",
       "      <td>Sofo-Birnin-Gwari</td>\n",
       "      <td>16 October 2019. Unidentified gunmen opened fi...</td>\n",
       "    </tr>\n",
       "    <tr>\n",
       "      <th>4</th>\n",
       "      <td>01-May-2021</td>\n",
       "      <td>News24 (South Africa)</td>\n",
       "      <td>0</td>\n",
       "      <td>Protests</td>\n",
       "      <td>Peaceful protest</td>\n",
       "      <td>Protesters (South Africa)</td>\n",
       "      <td>6</td>\n",
       "      <td>NaN</td>\n",
       "      <td>0</td>\n",
       "      <td>60</td>\n",
       "      <td>Oudtshoorn</td>\n",
       "      <td>Around 1 May 2021 (weekend of), PARCSA support...</td>\n",
       "    </tr>\n",
       "  </tbody>\n",
       "</table>\n",
       "</div>"
      ],
      "text/plain": [
       "          EVENT_DATE                                SOURCE  FATALITIES  \\\n",
       "0   18-December-2019                    Vanguard (Nigeria)           0   \n",
       "1   19-December-2019  Daily Trust (Nigeria); Nigeria Punch           0   \n",
       "2  03-September-2019                                 Legit           0   \n",
       "3    16-October-2019                         Nigeria Punch           0   \n",
       "4        01-May-2021                 News24 (South Africa)           0   \n",
       "\n",
       "                   EVENT_TYPE                  SUB_EVENT_TYPE  \\\n",
       "0                    Protests                Peaceful protest   \n",
       "1                    Protests                Peaceful protest   \n",
       "2                     Battles                     Armed clash   \n",
       "3  Violence against civilians  Abduction/forced disappearance   \n",
       "4                    Protests                Peaceful protest   \n",
       "\n",
       "                               ACTOR1  INTER1  \\\n",
       "0                Protesters (Nigeria)       6   \n",
       "1                Protesters (Nigeria)       6   \n",
       "2  Unidentified Armed Group (Nigeria)       3   \n",
       "3  Unidentified Armed Group (Nigeria)       3   \n",
       "4           Protesters (South Africa)       6   \n",
       "\n",
       "                             ACTOR2  INTER2  INTERACTION           LOCATION  \\\n",
       "0                               NaN       0           60            Iwhreka   \n",
       "1                               NaN       0           60              Abuja   \n",
       "2  Police Forces of Nigeria (2015-)       1           13               Ijaw   \n",
       "3               Civilians (Nigeria)       7           37  Sofo-Birnin-Gwari   \n",
       "4                               NaN       0           60         Oudtshoorn   \n",
       "\n",
       "                                               NOTES  \n",
       "0  On 18 December 2019, tens of women demonstrate...  \n",
       "1  On 19 December 2019, employees of NIPOST in Ab...  \n",
       "2  03 September. Unidentified gunmen attacked the...  \n",
       "3  16 October 2019. Unidentified gunmen opened fi...  \n",
       "4  Around 1 May 2021 (weekend of), PARCSA support...  "
      ]
     },
     "execution_count": 12,
     "metadata": {},
     "output_type": "execute_result"
    }
   ],
   "source": [
    "data.head()"
   ]
  },
  {
   "cell_type": "code",
   "execution_count": 36,
   "id": "5b15ae1c-1e9c-46c1-a267-523cdee52e7f",
   "metadata": {},
   "outputs": [
    {
     "name": "stdout",
     "output_type": "stream",
     "text": [
      "<class 'pandas.core.frame.DataFrame'>\n",
      "RangeIndex: 90000 entries, 0 to 89999\n",
      "Data columns (total 12 columns):\n",
      " #   Column          Non-Null Count  Dtype \n",
      "---  ------          --------------  ----- \n",
      " 0   EVENT_DATE      90000 non-null  object\n",
      " 1   SOURCE          90000 non-null  object\n",
      " 2   FATALITIES      90000 non-null  int64 \n",
      " 3   EVENT_TYPE      90000 non-null  object\n",
      " 4   SUB_EVENT_TYPE  90000 non-null  object\n",
      " 5   ACTOR1          90000 non-null  object\n",
      " 6   INTER1          90000 non-null  int64 \n",
      " 7   ACTOR2          61501 non-null  object\n",
      " 8   INTER2          90000 non-null  int64 \n",
      " 9   INTERACTION     90000 non-null  int64 \n",
      " 10  LOCATION        90000 non-null  object\n",
      " 11  NOTES           90000 non-null  object\n",
      "dtypes: int64(4), object(8)\n",
      "memory usage: 8.2+ MB\n"
     ]
    }
   ],
   "source": [
    "data.info()"
   ]
  },
  {
   "cell_type": "code",
   "execution_count": 35,
   "id": "07fceea4-ad2c-49a4-bdb5-e24d4a4d9c41",
   "metadata": {},
   "outputs": [
    {
     "data": {
      "text/plain": [
       "array(['Vanguard (Nigeria)', 'Daily Trust (Nigeria); Nigeria Punch',\n",
       "       'Legit', ...,\n",
       "       'Catholic Radio Network; Juba Monitor; Radio Miraya; Eye Radio (South Sudan); Radio Tamazuj',\n",
       "       'Global Times; Sierra Network Online; Cocorioko; Umaru Fofana; Politico SL; Reuters',\n",
       "       'AIM; VOA; Xinhua'], dtype=object)"
      ]
     },
     "execution_count": 35,
     "metadata": {},
     "output_type": "execute_result"
    }
   ],
   "source": [
    "data['SOURCE'].unique()"
   ]
  },
  {
   "cell_type": "code",
   "execution_count": 30,
   "id": "fd36536f-4342-4f77-919a-adb83bc2de9a",
   "metadata": {},
   "outputs": [
    {
     "data": {
      "text/plain": [
       "array(['03-September-2019', 'Legit', 0, 'Battles', 'Armed clash',\n",
       "       'Unidentified Armed Group (Nigeria)', 3,\n",
       "       'Police Forces of Nigeria (2015-)', 1, 13, 'Ijaw'], dtype=object)"
      ]
     },
     "execution_count": 30,
     "metadata": {},
     "output_type": "execute_result"
    }
   ],
   "source": [
    "x.iloc[2].values"
   ]
  },
  {
   "cell_type": "code",
   "execution_count": 32,
   "id": "e1c557e6-bb6b-49e5-a4f0-3041499e5ae5",
   "metadata": {},
   "outputs": [
    {
     "data": {
      "text/plain": [
       "'03 September. Unidentified gunmen attacked the PDP governor primary election in Ijaw and engaged Police forces in a gun battle.'"
      ]
     },
     "execution_count": 32,
     "metadata": {},
     "output_type": "execute_result"
    }
   ],
   "source": [
    "data.iloc[2]['NOTES']"
   ]
  },
  {
   "cell_type": "code",
   "execution_count": 13,
   "id": "944af889-7f99-47e1-9586-d0dc9949053e",
   "metadata": {},
   "outputs": [
    {
     "data": {
      "application/vnd.jupyter.widget-view+json": {
       "model_id": "ad8bbecbb95549bdbfeccef341c2cf1b",
       "version_major": 2,
       "version_minor": 0
      },
      "text/plain": [
       "Downloading:   0%|          | 0.00/1.17k [00:00<?, ?B/s]"
      ]
     },
     "metadata": {},
     "output_type": "display_data"
    },
    {
     "data": {
      "application/vnd.jupyter.widget-view+json": {
       "model_id": "fcfd13fe3d4d494eab1326ab483c4012",
       "version_major": 2,
       "version_minor": 0
      },
      "text/plain": [
       "Downloading:   0%|          | 0.00/1.32M [00:00<?, ?B/s]"
      ]
     },
     "metadata": {},
     "output_type": "display_data"
    },
    {
     "data": {
      "application/vnd.jupyter.widget-view+json": {
       "model_id": "97a3a8c6a6a2434ea51e12dc55a222cb",
       "version_major": 2,
       "version_minor": 0
      },
      "text/plain": [
       "Downloading:   0%|          | 0.00/850M [00:00<?, ?B/s]"
      ]
     },
     "metadata": {},
     "output_type": "display_data"
    }
   ],
   "source": [
    "nlp = pipeline(\"k2t-base\")"
   ]
  },
  {
   "cell_type": "code",
   "execution_count": 14,
   "id": "058b3585-d701-462b-90dd-84217b16781a",
   "metadata": {},
   "outputs": [],
   "source": [
    "params = {\"do_sample\":True, \"num_beams\":4, \"no_repeat_ngram_size\":3, \"early_stopping\":True}"
   ]
  },
  {
   "cell_type": "code",
   "execution_count": 31,
   "id": "ba45f6ce-894e-4bfe-b00f-3a3b262447e6",
   "metadata": {},
   "outputs": [
    {
     "data": {
      "text/plain": [
       "'The 0 Battles Armed Forces of Nigeria (Nigeria) 3 Police'"
      ]
     },
     "execution_count": 31,
     "metadata": {},
     "output_type": "execute_result"
    }
   ],
   "source": [
    "nlp(x.iloc[2].values, **params)"
   ]
  }
 ],
 "metadata": {
  "kernelspec": {
   "display_name": "Python [conda env:root] *",
   "language": "python",
   "name": "conda-root-py"
  },
  "language_info": {
   "codemirror_mode": {
    "name": "ipython",
    "version": 3
   },
   "file_extension": ".py",
   "mimetype": "text/x-python",
   "name": "python",
   "nbconvert_exporter": "python",
   "pygments_lexer": "ipython3",
   "version": "3.9.7"
  }
 },
 "nbformat": 4,
 "nbformat_minor": 5
}
