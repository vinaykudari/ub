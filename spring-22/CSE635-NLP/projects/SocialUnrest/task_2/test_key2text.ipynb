{
 "cells": [
  {
   "cell_type": "code",
   "execution_count": null,
   "id": "81b07a3c-53ec-4745-be30-d4e0c0a7ef4c",
   "metadata": {},
   "outputs": [],
   "source": []
  },
  {
   "cell_type": "code",
   "execution_count": 1,
   "id": "6c4ee997-2425-481b-8c73-1a5d0787f917",
   "metadata": {},
   "outputs": [],
   "source": [
    "import pandas as pd\n",
    "import numpy as np\n",
    "# from keytotext import pipeline"
   ]
  },
  {
   "cell_type": "code",
   "execution_count": 2,
   "id": "3faadd58-b50d-4f54-9fee-1fdc3c0572ca",
   "metadata": {},
   "outputs": [],
   "source": [
    "data = pd.read_csv('task_2_event_summarization_train.tsv', sep='\\t')\n",
    "x = data.drop(['NOTES'], axis=1)"
   ]
  },
  {
   "cell_type": "code",
   "execution_count": 14,
   "id": "b86dd1be-230b-42a3-9c6a-36e61ef4f8d8",
   "metadata": {},
   "outputs": [],
   "source": [
    "nlp = pipeline(\"k2t-base\")\n",
    "measurer = np.vectorize(len)"
   ]
  },
  {
   "cell_type": "code",
   "execution_count": 3,
   "id": "a9388722-7292-4456-b572-b15fcee51e3a",
   "metadata": {},
   "outputs": [
    {
     "data": {
      "text/html": [
       "<div>\n",
       "<style scoped>\n",
       "    .dataframe tbody tr th:only-of-type {\n",
       "        vertical-align: middle;\n",
       "    }\n",
       "\n",
       "    .dataframe tbody tr th {\n",
       "        vertical-align: top;\n",
       "    }\n",
       "\n",
       "    .dataframe thead th {\n",
       "        text-align: right;\n",
       "    }\n",
       "</style>\n",
       "<table border=\"1\" class=\"dataframe\">\n",
       "  <thead>\n",
       "    <tr style=\"text-align: right;\">\n",
       "      <th></th>\n",
       "      <th>EVENT_DATE</th>\n",
       "      <th>SOURCE</th>\n",
       "      <th>FATALITIES</th>\n",
       "      <th>EVENT_TYPE</th>\n",
       "      <th>SUB_EVENT_TYPE</th>\n",
       "      <th>ACTOR1</th>\n",
       "      <th>INTER1</th>\n",
       "      <th>ACTOR2</th>\n",
       "      <th>INTER2</th>\n",
       "      <th>INTERACTION</th>\n",
       "      <th>LOCATION</th>\n",
       "      <th>NOTES</th>\n",
       "    </tr>\n",
       "  </thead>\n",
       "  <tbody>\n",
       "    <tr>\n",
       "      <th>0</th>\n",
       "      <td>18-December-2019</td>\n",
       "      <td>Vanguard (Nigeria)</td>\n",
       "      <td>0</td>\n",
       "      <td>Protests</td>\n",
       "      <td>Peaceful protest</td>\n",
       "      <td>Protesters (Nigeria)</td>\n",
       "      <td>6</td>\n",
       "      <td>NaN</td>\n",
       "      <td>0</td>\n",
       "      <td>60</td>\n",
       "      <td>Iwhreka</td>\n",
       "      <td>On 18 December 2019, tens of women demonstrate...</td>\n",
       "    </tr>\n",
       "    <tr>\n",
       "      <th>1</th>\n",
       "      <td>19-December-2019</td>\n",
       "      <td>Daily Trust (Nigeria); Nigeria Punch</td>\n",
       "      <td>0</td>\n",
       "      <td>Protests</td>\n",
       "      <td>Peaceful protest</td>\n",
       "      <td>Protesters (Nigeria)</td>\n",
       "      <td>6</td>\n",
       "      <td>NaN</td>\n",
       "      <td>0</td>\n",
       "      <td>60</td>\n",
       "      <td>Abuja</td>\n",
       "      <td>On 19 December 2019, employees of NIPOST in Ab...</td>\n",
       "    </tr>\n",
       "    <tr>\n",
       "      <th>2</th>\n",
       "      <td>03-September-2019</td>\n",
       "      <td>Legit</td>\n",
       "      <td>0</td>\n",
       "      <td>Battles</td>\n",
       "      <td>Armed clash</td>\n",
       "      <td>Unidentified Armed Group (Nigeria)</td>\n",
       "      <td>3</td>\n",
       "      <td>Police Forces of Nigeria (2015-)</td>\n",
       "      <td>1</td>\n",
       "      <td>13</td>\n",
       "      <td>Ijaw</td>\n",
       "      <td>03 September. Unidentified gunmen attacked the...</td>\n",
       "    </tr>\n",
       "    <tr>\n",
       "      <th>3</th>\n",
       "      <td>16-October-2019</td>\n",
       "      <td>Nigeria Punch</td>\n",
       "      <td>0</td>\n",
       "      <td>Violence against civilians</td>\n",
       "      <td>Abduction/forced disappearance</td>\n",
       "      <td>Unidentified Armed Group (Nigeria)</td>\n",
       "      <td>3</td>\n",
       "      <td>Civilians (Nigeria)</td>\n",
       "      <td>7</td>\n",
       "      <td>37</td>\n",
       "      <td>Sofo-Birnin-Gwari</td>\n",
       "      <td>16 October 2019. Unidentified gunmen opened fi...</td>\n",
       "    </tr>\n",
       "    <tr>\n",
       "      <th>4</th>\n",
       "      <td>01-May-2021</td>\n",
       "      <td>News24 (South Africa)</td>\n",
       "      <td>0</td>\n",
       "      <td>Protests</td>\n",
       "      <td>Peaceful protest</td>\n",
       "      <td>Protesters (South Africa)</td>\n",
       "      <td>6</td>\n",
       "      <td>NaN</td>\n",
       "      <td>0</td>\n",
       "      <td>60</td>\n",
       "      <td>Oudtshoorn</td>\n",
       "      <td>Around 1 May 2021 (weekend of), PARCSA support...</td>\n",
       "    </tr>\n",
       "  </tbody>\n",
       "</table>\n",
       "</div>"
      ],
      "text/plain": [
       "          EVENT_DATE                                SOURCE  FATALITIES  \\\n",
       "0   18-December-2019                    Vanguard (Nigeria)           0   \n",
       "1   19-December-2019  Daily Trust (Nigeria); Nigeria Punch           0   \n",
       "2  03-September-2019                                 Legit           0   \n",
       "3    16-October-2019                         Nigeria Punch           0   \n",
       "4        01-May-2021                 News24 (South Africa)           0   \n",
       "\n",
       "                   EVENT_TYPE                  SUB_EVENT_TYPE  \\\n",
       "0                    Protests                Peaceful protest   \n",
       "1                    Protests                Peaceful protest   \n",
       "2                     Battles                     Armed clash   \n",
       "3  Violence against civilians  Abduction/forced disappearance   \n",
       "4                    Protests                Peaceful protest   \n",
       "\n",
       "                               ACTOR1  INTER1  \\\n",
       "0                Protesters (Nigeria)       6   \n",
       "1                Protesters (Nigeria)       6   \n",
       "2  Unidentified Armed Group (Nigeria)       3   \n",
       "3  Unidentified Armed Group (Nigeria)       3   \n",
       "4           Protesters (South Africa)       6   \n",
       "\n",
       "                             ACTOR2  INTER2  INTERACTION           LOCATION  \\\n",
       "0                               NaN       0           60            Iwhreka   \n",
       "1                               NaN       0           60              Abuja   \n",
       "2  Police Forces of Nigeria (2015-)       1           13               Ijaw   \n",
       "3               Civilians (Nigeria)       7           37  Sofo-Birnin-Gwari   \n",
       "4                               NaN       0           60         Oudtshoorn   \n",
       "\n",
       "                                               NOTES  \n",
       "0  On 18 December 2019, tens of women demonstrate...  \n",
       "1  On 19 December 2019, employees of NIPOST in Ab...  \n",
       "2  03 September. Unidentified gunmen attacked the...  \n",
       "3  16 October 2019. Unidentified gunmen opened fi...  \n",
       "4  Around 1 May 2021 (weekend of), PARCSA support...  "
      ]
     },
     "execution_count": 3,
     "metadata": {},
     "output_type": "execute_result"
    }
   ],
   "source": [
    "data.head()"
   ]
  },
  {
   "cell_type": "code",
   "execution_count": 25,
   "id": "f8aec930-2de2-40af-bdc7-eecd4794f6ad",
   "metadata": {},
   "outputs": [
    {
     "data": {
      "text/plain": [
       "98"
      ]
     },
     "execution_count": 25,
     "metadata": {},
     "output_type": "execute_result"
    }
   ],
   "source": [
    "len(''.join(list(data.columns)))"
   ]
  },
  {
   "cell_type": "code",
   "execution_count": 5,
   "id": "5b15ae1c-1e9c-46c1-a267-523cdee52e7f",
   "metadata": {},
   "outputs": [
    {
     "data": {
      "text/plain": [
       "Undisclosed Source                         8839\n",
       "Radio Dabanga                              2243\n",
       "Twitter                                    2106\n",
       "Kivu Security Tracker                      2014\n",
       "El Watan (Algeria)                         1621\n",
       "                                           ... \n",
       "Undisclosed Source; Nigeria Punch             1\n",
       "Sudans Post; Radio Miraya; Juba Monitor       1\n",
       "TSA Algerie; El Watan (Algeria); AFP          1\n",
       "ESAT; ECADF                                   1\n",
       "AIM; VOA; Xinhua                              1\n",
       "Name: SOURCE, Length: 12130, dtype: int64"
      ]
     },
     "execution_count": 5,
     "metadata": {},
     "output_type": "execute_result"
    }
   ],
   "source": [
    "data['SOURCE'].value_counts()"
   ]
  },
  {
   "cell_type": "code",
   "execution_count": 31,
   "id": "803aabee-ef7b-4166-bd41-086ff49096b5",
   "metadata": {},
   "outputs": [],
   "source": [
    "res2 = dict(zip(data, measurer(data.values.astype(str)).mean(axis=0)))"
   ]
  },
  {
   "cell_type": "code",
   "execution_count": 32,
   "id": "9519562a-c8ad-471e-ae26-3f225f46c5c4",
   "metadata": {},
   "outputs": [
    {
     "data": {
      "text/plain": [
       "130.5800888888889"
      ]
     },
     "execution_count": 32,
     "metadata": {},
     "output_type": "execute_result"
    }
   ],
   "source": [
    "sum([res2[key] for key in res2 if key != 'NOTES'])"
   ]
  },
  {
   "cell_type": "code",
   "execution_count": 14,
   "id": "0d733486-8001-4823-9de8-76dead29a83d",
   "metadata": {},
   "outputs": [
    {
     "data": {
      "text/plain": [
       "('01-April-2018', '31-October-2021')"
      ]
     },
     "execution_count": 14,
     "metadata": {},
     "output_type": "execute_result"
    }
   ],
   "source": [
    "data['EVENT_DATE'].min(), data['EVENT_DATE'].max()"
   ]
  },
  {
   "cell_type": "code",
   "execution_count": 8,
   "id": "07fceea4-ad2c-49a4-bdb5-e24d4a4d9c41",
   "metadata": {},
   "outputs": [
    {
     "data": {
      "text/plain": [
       "Undisclosed Source                         8839\n",
       "Radio Dabanga                              2243\n",
       "Twitter                                    2106\n",
       "Kivu Security Tracker                      2014\n",
       "El Watan (Algeria)                         1621\n",
       "                                           ... \n",
       "Undisclosed Source; Nigeria Punch             1\n",
       "Sudans Post; Radio Miraya; Juba Monitor       1\n",
       "TSA Algerie; El Watan (Algeria); AFP          1\n",
       "ESAT; ECADF                                   1\n",
       "AIM; VOA; Xinhua                              1\n",
       "Name: SOURCE, Length: 12130, dtype: int64"
      ]
     },
     "execution_count": 8,
     "metadata": {},
     "output_type": "execute_result"
    }
   ],
   "source": [
    "data['SOURCE'].value_counts()"
   ]
  },
  {
   "cell_type": "code",
   "execution_count": 17,
   "id": "134f51d2-60d7-41a9-a7db-89130fb0668d",
   "metadata": {},
   "outputs": [
    {
     "data": {
      "text/plain": [
       "12130"
      ]
     },
     "execution_count": 17,
     "metadata": {},
     "output_type": "execute_result"
    }
   ],
   "source": [
    "len(list(data['SOURCE'].unique()))"
   ]
  },
  {
   "cell_type": "code",
   "execution_count": 9,
   "id": "fd36536f-4342-4f77-919a-adb83bc2de9a",
   "metadata": {},
   "outputs": [
    {
     "data": {
      "text/html": [
       "<div>\n",
       "<style scoped>\n",
       "    .dataframe tbody tr th:only-of-type {\n",
       "        vertical-align: middle;\n",
       "    }\n",
       "\n",
       "    .dataframe tbody tr th {\n",
       "        vertical-align: top;\n",
       "    }\n",
       "\n",
       "    .dataframe thead th {\n",
       "        text-align: right;\n",
       "    }\n",
       "</style>\n",
       "<table border=\"1\" class=\"dataframe\">\n",
       "  <thead>\n",
       "    <tr style=\"text-align: right;\">\n",
       "      <th></th>\n",
       "      <th>EVENT_DATE</th>\n",
       "      <th>SOURCE</th>\n",
       "      <th>FATALITIES</th>\n",
       "      <th>EVENT_TYPE</th>\n",
       "      <th>SUB_EVENT_TYPE</th>\n",
       "      <th>ACTOR1</th>\n",
       "      <th>INTER1</th>\n",
       "      <th>ACTOR2</th>\n",
       "      <th>INTER2</th>\n",
       "      <th>INTERACTION</th>\n",
       "      <th>LOCATION</th>\n",
       "      <th>NOTES</th>\n",
       "    </tr>\n",
       "  </thead>\n",
       "  <tbody>\n",
       "    <tr>\n",
       "      <th>22</th>\n",
       "      <td>11-October-2018</td>\n",
       "      <td>Radio Dabanga</td>\n",
       "      <td>0</td>\n",
       "      <td>Riots</td>\n",
       "      <td>Mob violence</td>\n",
       "      <td>Rioters (Sudan)</td>\n",
       "      <td>5</td>\n",
       "      <td>Rioters (Sudan)</td>\n",
       "      <td>5</td>\n",
       "      <td>55</td>\n",
       "      <td>Wad Medani</td>\n",
       "      <td>On October 11th, renewed clashes took place be...</td>\n",
       "    </tr>\n",
       "    <tr>\n",
       "      <th>205</th>\n",
       "      <td>15-October-2018</td>\n",
       "      <td>Radio Dabanga</td>\n",
       "      <td>2</td>\n",
       "      <td>Violence against civilians</td>\n",
       "      <td>Attack</td>\n",
       "      <td>Unidentified Communal Militia (Sudan)</td>\n",
       "      <td>4</td>\n",
       "      <td>Civilians (Sudan)</td>\n",
       "      <td>7</td>\n",
       "      <td>47</td>\n",
       "      <td>Gereida</td>\n",
       "      <td>On October 15th, ten herders riding camels att...</td>\n",
       "    </tr>\n",
       "    <tr>\n",
       "      <th>270</th>\n",
       "      <td>16-April-2019</td>\n",
       "      <td>Radio Dabanga</td>\n",
       "      <td>0</td>\n",
       "      <td>Protests</td>\n",
       "      <td>Peaceful protest</td>\n",
       "      <td>Protesters (Sudan)</td>\n",
       "      <td>6</td>\n",
       "      <td>NaN</td>\n",
       "      <td>0</td>\n",
       "      <td>60</td>\n",
       "      <td>Gedaref</td>\n",
       "      <td>On 16 April 2019, demonstrators continued thei...</td>\n",
       "    </tr>\n",
       "    <tr>\n",
       "      <th>273</th>\n",
       "      <td>13-April-2020</td>\n",
       "      <td>Radio Dabanga</td>\n",
       "      <td>0</td>\n",
       "      <td>Violence against civilians</td>\n",
       "      <td>Abduction/forced disappearance</td>\n",
       "      <td>Unidentified Ethnic Militia (Sudan)</td>\n",
       "      <td>4</td>\n",
       "      <td>Civilians (Sudan)</td>\n",
       "      <td>7</td>\n",
       "      <td>47</td>\n",
       "      <td>Abu Kershola</td>\n",
       "      <td>On 12 and 13 April 2020, two unspecified ethni...</td>\n",
       "    </tr>\n",
       "    <tr>\n",
       "      <th>345</th>\n",
       "      <td>04-June-2019</td>\n",
       "      <td>Radio Dabanga</td>\n",
       "      <td>2</td>\n",
       "      <td>Riots</td>\n",
       "      <td>Violent demonstration</td>\n",
       "      <td>Rioters (Sudan)</td>\n",
       "      <td>5</td>\n",
       "      <td>Military Forces of Sudan (1989-2019) Rapid Sup...</td>\n",
       "      <td>1</td>\n",
       "      <td>15</td>\n",
       "      <td>Khartoum</td>\n",
       "      <td>On 4 June 2019, security Forces killed 10 riot...</td>\n",
       "    </tr>\n",
       "  </tbody>\n",
       "</table>\n",
       "</div>"
      ],
      "text/plain": [
       "          EVENT_DATE         SOURCE  FATALITIES                  EVENT_TYPE  \\\n",
       "22   11-October-2018  Radio Dabanga           0                       Riots   \n",
       "205  15-October-2018  Radio Dabanga           2  Violence against civilians   \n",
       "270    16-April-2019  Radio Dabanga           0                    Protests   \n",
       "273    13-April-2020  Radio Dabanga           0  Violence against civilians   \n",
       "345     04-June-2019  Radio Dabanga           2                       Riots   \n",
       "\n",
       "                     SUB_EVENT_TYPE                                 ACTOR1  \\\n",
       "22                     Mob violence                        Rioters (Sudan)   \n",
       "205                          Attack  Unidentified Communal Militia (Sudan)   \n",
       "270                Peaceful protest                     Protesters (Sudan)   \n",
       "273  Abduction/forced disappearance    Unidentified Ethnic Militia (Sudan)   \n",
       "345           Violent demonstration                        Rioters (Sudan)   \n",
       "\n",
       "     INTER1                                             ACTOR2  INTER2  \\\n",
       "22        5                                    Rioters (Sudan)       5   \n",
       "205       4                                  Civilians (Sudan)       7   \n",
       "270       6                                                NaN       0   \n",
       "273       4                                  Civilians (Sudan)       7   \n",
       "345       5  Military Forces of Sudan (1989-2019) Rapid Sup...       1   \n",
       "\n",
       "     INTERACTION      LOCATION  \\\n",
       "22            55    Wad Medani   \n",
       "205           47       Gereida   \n",
       "270           60       Gedaref   \n",
       "273           47  Abu Kershola   \n",
       "345           15      Khartoum   \n",
       "\n",
       "                                                 NOTES  \n",
       "22   On October 11th, renewed clashes took place be...  \n",
       "205  On October 15th, ten herders riding camels att...  \n",
       "270  On 16 April 2019, demonstrators continued thei...  \n",
       "273  On 12 and 13 April 2020, two unspecified ethni...  \n",
       "345  On 4 June 2019, security Forces killed 10 riot...  "
      ]
     },
     "execution_count": 9,
     "metadata": {},
     "output_type": "execute_result"
    }
   ],
   "source": [
    "data[data['SOURCE'] == 'Radio Dabanga'].head()"
   ]
  },
  {
   "cell_type": "code",
   "execution_count": 11,
   "id": "e1c557e6-bb6b-49e5-a4f0-3041499e5ae5",
   "metadata": {},
   "outputs": [
    {
     "data": {
      "text/plain": [
       "'On October 15th, ten herders riding camels attacked a commercial vechicle between Gereida and Sirgeila (coordinates for Geredia, South Darfur, used). Two civilians were killed, and four wounded in the gunfire. The herders then robbed the surviving passengers.'"
      ]
     },
     "execution_count": 11,
     "metadata": {},
     "output_type": "execute_result"
    }
   ],
   "source": [
    "data.iloc[205]['NOTES']"
   ]
  },
  {
   "cell_type": "code",
   "execution_count": 39,
   "id": "ba45f6ce-894e-4bfe-b00f-3a3b262447e6",
   "metadata": {},
   "outputs": [
    {
     "data": {
      "text/plain": [
       "'The Peaceful protest Protests (Algeria) was conducted on 2 April 20'"
      ]
     },
     "execution_count": 39,
     "metadata": {},
     "output_type": "execute_result"
    }
   ],
   "source": [
    "params = {\"do_sample\":True, \"num_beams\":2, \"no_repeat_ngram_size\":3, \"early_stopping\":True}\n",
    "nlp(x.iloc[32, [0, 2, 3, 4, 5, 7, 10]].values, **params)"
   ]
  }
 ],
 "metadata": {
  "kernelspec": {
   "display_name": "Python [conda env:root] *",
   "language": "python",
   "name": "conda-root-py"
  },
  "language_info": {
   "codemirror_mode": {
    "name": "ipython",
    "version": 3
   },
   "file_extension": ".py",
   "mimetype": "text/x-python",
   "name": "python",
   "nbconvert_exporter": "python",
   "pygments_lexer": "ipython3",
   "version": "3.9.12"
  }
 },
 "nbformat": 4,
 "nbformat_minor": 5
}
