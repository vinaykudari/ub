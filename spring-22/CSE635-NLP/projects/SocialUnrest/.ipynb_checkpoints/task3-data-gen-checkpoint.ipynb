{
 "cells": [
  {
   "cell_type": "code",
   "execution_count": 4,
   "id": "0ee32943-49fe-4197-9ce1-2c8ba766bfdd",
   "metadata": {},
   "outputs": [],
   "source": [
    "import pandas as pd\n",
    "import os"
   ]
  },
  {
   "cell_type": "code",
   "execution_count": 3,
   "id": "c341e7d3-5f8f-4867-87c3-f54a7820d629",
   "metadata": {},
   "outputs": [],
   "source": [
    "path = 'task_3/toi/'"
   ]
  },
  {
   "cell_type": "code",
   "execution_count": 40,
   "id": "776b67b5-7650-40cc-8d10-09838a525912",
   "metadata": {},
   "outputs": [
    {
     "data": {
      "text/html": [
       "<div>\n",
       "<style scoped>\n",
       "    .dataframe tbody tr th:only-of-type {\n",
       "        vertical-align: middle;\n",
       "    }\n",
       "\n",
       "    .dataframe tbody tr th {\n",
       "        vertical-align: top;\n",
       "    }\n",
       "\n",
       "    .dataframe thead th {\n",
       "        text-align: right;\n",
       "    }\n",
       "</style>\n",
       "<table border=\"1\" class=\"dataframe\">\n",
       "  <thead>\n",
       "    <tr style=\"text-align: right;\">\n",
       "      <th></th>\n",
       "      <th>title</th>\n",
       "      <th>text</th>\n",
       "      <th>location</th>\n",
       "      <th>date</th>\n",
       "    </tr>\n",
       "  </thead>\n",
       "  <tbody>\n",
       "    <tr>\n",
       "      <th>0</th>\n",
       "      <td>Maharashtra government in crisis</td>\n",
       "      <td>The 30-month-old Democratic Front (DF) governm...</td>\n",
       "      <td>mumbai</td>\n",
       "      <td>2019-06-03</td>\n",
       "    </tr>\n",
       "    <tr>\n",
       "      <th>1</th>\n",
       "      <td>Shahi Imam all set to launch party</td>\n",
       "      <td>The Shahi Imam of Delhiâ€™s Jama Masjid, Syed ...</td>\n",
       "      <td>hyderabad</td>\n",
       "      <td>2019-06-03</td>\n",
       "    </tr>\n",
       "    <tr>\n",
       "      <th>2</th>\n",
       "      <td>JEE for law colleges mooted</td>\n",
       "      <td>Suggesting ways to improve the quality of advo...</td>\n",
       "      <td>lucknow</td>\n",
       "      <td>2019-06-03</td>\n",
       "    </tr>\n",
       "    <tr>\n",
       "      <th>3</th>\n",
       "      <td>UP’s liquor policy turning into a scam</td>\n",
       "      <td>The liquor policy formulated by Rajnath Singh ...</td>\n",
       "      <td>lucknow</td>\n",
       "      <td>2019-06-03</td>\n",
       "    </tr>\n",
       "    <tr>\n",
       "      <th>4</th>\n",
       "      <td>Bypolls fortify BSP’s position</td>\n",
       "      <td>In a major reversal for the Samajwadi Party, t...</td>\n",
       "      <td>lucknow</td>\n",
       "      <td>2019-06-03</td>\n",
       "    </tr>\n",
       "  </tbody>\n",
       "</table>\n",
       "</div>"
      ],
      "text/plain": [
       "                                    title  \\\n",
       "0        Maharashtra government in crisis   \n",
       "1      Shahi Imam all set to launch party   \n",
       "2             JEE for law colleges mooted   \n",
       "3  UP’s liquor policy turning into a scam   \n",
       "4          Bypolls fortify BSP’s position   \n",
       "\n",
       "                                                text   location       date  \n",
       "0  The 30-month-old Democratic Front (DF) governm...     mumbai 2019-06-03  \n",
       "1  The Shahi Imam of Delhiâ€™s Jama Masjid, Syed ...  hyderabad 2019-06-03  \n",
       "2  Suggesting ways to improve the quality of advo...    lucknow 2019-06-03  \n",
       "3  The liquor policy formulated by Rajnath Singh ...    lucknow 2019-06-03  \n",
       "4  In a major reversal for the Samajwadi Party, t...    lucknow 2019-06-03  "
      ]
     },
     "execution_count": 40,
     "metadata": {},
     "output_type": "execute_result"
    }
   ],
   "source": [
    "def clean(row):\n",
    "    text = row['text']\n",
    "    text = ''.join(text.split('\\n')[:-1])\n",
    "    text = ''.join(text.split(':')[1:])\n",
    "    return text.strip()\n",
    "\n",
    "lis = []\n",
    "for folder, _, files in os.walk(path):\n",
    "    for file in files:\n",
    "        if '.csv' in file:\n",
    "            x = pd.read_csv(f'{folder}{file}')\n",
    "            x['date'] = file.split('.')[0]\n",
    "            lis.append(x)\n",
    "            \n",
    "df = pd.concat(lis)\n",
    "df = df.drop(labels='Unnamed: 0', axis=1)\n",
    "df.date = pd.to_datetime(df.date)\n",
    "df.text = df.apply(clean, 1)\n",
    "df.location = df.apply(lambda x: x['location'].lower(), 1)\n",
    "\n",
    "df.head()"
   ]
  }
 ],
 "metadata": {
  "kernelspec": {
   "display_name": "Python [conda env:root] *",
   "language": "python",
   "name": "conda-root-py"
  },
  "language_info": {
   "codemirror_mode": {
    "name": "ipython",
    "version": 3
   },
   "file_extension": ".py",
   "mimetype": "text/x-python",
   "name": "python",
   "nbconvert_exporter": "python",
   "pygments_lexer": "ipython3",
   "version": "3.9.12"
  }
 },
 "nbformat": 4,
 "nbformat_minor": 5
}
