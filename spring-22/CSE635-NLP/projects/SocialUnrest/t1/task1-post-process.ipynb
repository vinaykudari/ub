{
 "cells": [
  {
   "cell_type": "code",
   "execution_count": 3,
   "id": "983da259-b051-4c24-a1e6-5b3035aeaca5",
   "metadata": {},
   "outputs": [],
   "source": [
    "from difflib import SequenceMatcher\n",
    "import pandas as pd"
   ]
  },
  {
   "cell_type": "code",
   "execution_count": 2,
   "id": "2cf759f2-0e48-4a22-873a-e92966cb7fe0",
   "metadata": {},
   "outputs": [],
   "source": [
    "def similar(a, b):\n",
    "    return SequenceMatcher(None, a, b).ratio()\n",
    "\n",
    "def get_closest_matches(df, actual_col, pred_col, thresh):\n",
    "    actual = df[df[actual_col].notna()][actual_col].values\n",
    "    preds = df[df[pred_col].notna()][pred_col].values\n",
    "    \n",
    "    res = {}\n",
    "    for x in set(actual):\n",
    "        tmp = []\n",
    "        for y in set(preds):\n",
    "            score = similar(x, y)\n",
    "            if score >= thresh:\n",
    "                tmp.append((y, score))\n",
    "        tmp.sort(key=lambda x: x[1], reverse=True)\n",
    "        res[x] = tmp\n",
    "    return res\n",
    "\n",
    "def replace_closest_matches(df, actual_col, pred_col, col_map, n):\n",
    "    actual = df[df[actual_col].notna()][actual_col].values\n",
    "    preds = df[df[pred_col].notna()][pred_col].values\n",
    "    mp = {}\n",
    "    \n",
    "    for a in actual:\n",
    "        m = min(n, len(col_map.get(a, [])))\n",
    "        for i in range(m):\n",
    "            mp[col_map[a][i][0]] = a\n",
    "            \n",
    "    df[pred_col] = df[pred_col].apply(lambda x: mp[x] if x in mp else x)\n",
    "    return mp, df"
   ]
  },
  {
   "cell_type": "code",
   "execution_count": 5,
   "id": "2818f864-b052-45d6-a2b0-4c9d286aa3d7",
   "metadata": {},
   "outputs": [],
   "source": [
    "t1 = pd.read_csv('task1_valid.csv')\n",
    "t1 = t1.where(pd.notnull(t1), None)"
   ]
  },
  {
   "cell_type": "code",
   "execution_count": 6,
   "id": "37d0e003-4df4-4a6e-a059-bb5ae7d49061",
   "metadata": {},
   "outputs": [],
   "source": [
    "col_map = get_closest_matches(\n",
    "    t1, 'location', 'pred_location', thresh=0.7,\n",
    ")\n",
    "mp, new_df = replace_closest_matches(\n",
    "    t1, 'location', 'pred_location', col_map, n=3,\n",
    ")"
   ]
  },
  {
   "cell_type": "code",
   "execution_count": 7,
   "id": "9654da9a-c4e5-4630-a477-bc7f56a6d01d",
   "metadata": {},
   "outputs": [
    {
     "data": {
      "text/plain": [
       "((1336,), (2785,))"
      ]
     },
     "execution_count": 7,
     "metadata": {},
     "output_type": "execute_result"
    }
   ],
   "source": [
    "new_df['location'].unique().shape, new_df['pred_location'].unique().shape"
   ]
  }
 ],
 "metadata": {
  "kernelspec": {
   "display_name": "Python [conda env:root] *",
   "language": "python",
   "name": "conda-root-py"
  },
  "language_info": {
   "codemirror_mode": {
    "name": "ipython",
    "version": 3
   },
   "file_extension": ".py",
   "mimetype": "text/x-python",
   "name": "python",
   "nbconvert_exporter": "python",
   "pygments_lexer": "ipython3",
   "version": "3.9.12"
  }
 },
 "nbformat": 4,
 "nbformat_minor": 5
}
