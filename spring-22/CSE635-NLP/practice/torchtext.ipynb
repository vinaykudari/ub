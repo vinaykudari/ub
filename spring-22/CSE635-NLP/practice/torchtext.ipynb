{
 "cells": [
  {
   "cell_type": "code",
   "execution_count": 4,
   "id": "4b1c85fb-0003-4c10-b304-ab5d20fac47c",
   "metadata": {},
   "outputs": [],
   "source": [
    "import torchtext\n",
    "from torchtext.data import get_tokenizer"
   ]
  },
  {
   "cell_type": "code",
   "execution_count": 6,
   "id": "29dc7ae8-fddc-4dc5-aaa4-70c35335c1ef",
   "metadata": {},
   "outputs": [],
   "source": [
    "tokenizer = get_tokenizer('basic_english')\n",
    "tokens = tokenizer('the name of tokenizer function. If None, it returns split() function, which splits the string sentence by space. If basic_english, it returns _basic_english_normalize() function')"
   ]
  },
  {
   "cell_type": "code",
   "execution_count": 7,
   "id": "ca2f375f-e121-4ea7-805a-67af4de25183",
   "metadata": {},
   "outputs": [
    {
     "data": {
      "text/plain": [
       "['the',\n",
       " 'name',\n",
       " 'of',\n",
       " 'tokenizer',\n",
       " 'function',\n",
       " '.',\n",
       " 'if',\n",
       " 'none',\n",
       " ',',\n",
       " 'it',\n",
       " 'returns',\n",
       " 'split',\n",
       " '(',\n",
       " ')',\n",
       " 'function',\n",
       " ',',\n",
       " 'which',\n",
       " 'splits',\n",
       " 'the',\n",
       " 'string',\n",
       " 'sentence',\n",
       " 'by',\n",
       " 'space',\n",
       " '.',\n",
       " 'if',\n",
       " 'basic_english',\n",
       " ',',\n",
       " 'it',\n",
       " 'returns',\n",
       " '_basic_english_normalize',\n",
       " '(',\n",
       " ')',\n",
       " 'function']"
      ]
     },
     "execution_count": 7,
     "metadata": {},
     "output_type": "execute_result"
    }
   ],
   "source": [
    "tokens"
   ]
  }
 ],
 "metadata": {
  "kernelspec": {
   "display_name": "Python [conda env:root] *",
   "language": "python",
   "name": "conda-root-py"
  },
  "language_info": {
   "codemirror_mode": {
    "name": "ipython",
    "version": 3
   },
   "file_extension": ".py",
   "mimetype": "text/x-python",
   "name": "python",
   "nbconvert_exporter": "python",
   "pygments_lexer": "ipython3",
   "version": "3.9.7"
  }
 },
 "nbformat": 4,
 "nbformat_minor": 5
}
