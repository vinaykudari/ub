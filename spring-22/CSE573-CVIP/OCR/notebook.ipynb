{
 "cells": [
  {
   "cell_type": "code",
   "execution_count": 422,
   "metadata": {},
   "outputs": [],
   "source": [
    "import sys\n",
    "import json\n",
    "import os\n",
    "import glob\n",
    "from collections import defaultdict\n",
    "import heapq\n",
    "\n",
    "import cv2\n",
    "import matplotlib.pyplot as plt\n",
    "import numpy as np\n",
    "from scipy.spatial.distance import *\n",
    "\n",
    "sys.setrecursionlimit(10**6)"
   ]
  },
  {
   "cell_type": "code",
   "execution_count": 200,
   "metadata": {},
   "outputs": [],
   "source": [
    "BASE_PATH = '/Users/vinay/ub/spring-22/CSE573-CVIP/OCR/data/test_cases/testcase_000001'"
   ]
  },
  {
   "cell_type": "code",
   "execution_count": 56,
   "metadata": {},
   "outputs": [],
   "source": [
    "sift = cv2.SIFT_create()\n",
    "orb = cv2.ORB_create()"
   ]
  },
  {
   "cell_type": "code",
   "execution_count": 186,
   "metadata": {},
   "outputs": [],
   "source": [
    "def groundtruth(idx, img, show=False):\n",
    "    y, x, h, w = gt[idx]['bbox']\n",
    "    if show:\n",
    "        plt.imshow(img[x:x+w, y:y+h], cmap='gray')\n",
    "    return img[x:x+w, y:y+h]"
   ]
  },
  {
   "cell_type": "code",
   "execution_count": 128,
   "metadata": {},
   "outputs": [],
   "source": [
    "def read_image(img_path, show=False):\n",
    "    \"\"\"Reads an image into memory as a grayscale array.\n",
    "    \"\"\"\n",
    "    img = cv2.imread(img_path, cv2.IMREAD_GRAYSCALE)\n",
    "\n",
    "    if show:\n",
    "        show_image(img)\n",
    "\n",
    "    return img"
   ]
  },
  {
   "cell_type": "code",
   "execution_count": 129,
   "metadata": {
    "pycharm": {
     "name": "#%%\n"
    }
   },
   "outputs": [],
   "source": [
    "def merge_ch(image):\n",
    "    h, w, ch = image.shape\n",
    "    if ch > 1:\n",
    "        image = np.mean(image, axis=2)\n",
    "    return image"
   ]
  },
  {
   "cell_type": "code",
   "execution_count": 3,
   "metadata": {
    "pycharm": {
     "name": "#%%\n"
    }
   },
   "outputs": [],
   "source": [
    "def threshold(image, val=0.0, reverse=False):\n",
    "    h, w = image.shape\n",
    "\n",
    "    if reverse:\n",
    "        background = image[:, :] > val\n",
    "    else:\n",
    "        background = image[:, :] < val\n",
    "        \n",
    "    image[~background] = 255\n",
    "    image[background] = 0\n",
    "\n",
    "    return image"
   ]
  },
  {
   "cell_type": "code",
   "execution_count": 310,
   "metadata": {
    "tags": []
   },
   "outputs": [],
   "source": [
    "class Recognition:\n",
    "    def __init__(self, matcher, measure=None, n=50):\n",
    "        self.matcher = matcher\n",
    "        self.bf = cv2.BFMatcher()\n",
    "        self.n = n\n",
    "        \n",
    "    def match(self, img1, img2):\n",
    "        score = 0\n",
    "        kp_1, dsc_1 = self.matcher.detectAndCompute(img1, None)\n",
    "        kp_2, dsc_2 = self.matcher.detectAndCompute(img2, None)\n",
    "        \n",
    "        matches = self.bf.match(dsc_1, dsc_2)\n",
    "        matches = sorted(matches, key = lambda x:x.distance)\n",
    "\n",
    "        if matches:\n",
    "            print(f'n_matches: {len(matches)}')\n",
    "            dist = sum([match.distance for match in matches[:self.n+1]])\n",
    "            if dist == 0:\n",
    "                score = 100\n",
    "            else:\n",
    "                score = (min(self.n+1, len(matches))/dist) * 100\n",
    "        img = cv2.drawMatches(img1, kp_1, img2, kp_2, matches[:self.n+1], None, flags=2)\n",
    "        \n",
    "        return [match.distance for match in matches], score, img\n",
    "\n",
    "recog_sift = Recognition(sift, n=50)\n",
    "recog_orb = Recognition(orb, n=10)"
   ]
  },
  {
   "cell_type": "code",
   "execution_count": 406,
   "metadata": {},
   "outputs": [],
   "source": [
    "def n_cross_corr(a, b):\n",
    "    return correlation(a, b)"
   ]
  },
  {
   "cell_type": "code",
   "execution_count": 8,
   "metadata": {
    "pycharm": {
     "name": "#%%\n"
    },
    "tags": []
   },
   "outputs": [],
   "source": [
    "def get_neighbours(k):\n",
    "    neighbours = [\n",
    "        [1, 0],\n",
    "        [0, 1],\n",
    "        [-1, 0],\n",
    "        [0, -1],\n",
    "    ]\n",
    "    if k == 8:\n",
    "        diag_neighbours = [\n",
    "            [-1, -1],\n",
    "            [1, 1],\n",
    "            [-1, 1],\n",
    "            [1, -1]\n",
    "        ]\n",
    "        neighbours += diag_neighbours\n",
    "\n",
    "    return neighbours\n",
    "\n",
    "def connected_components(arr, p, components, h, foreground, n_dir=8):\n",
    "    arr = arr.copy()\n",
    "    height, width = len(arr), len(arr[0])\n",
    "    visited = set()\n",
    "    \n",
    "    def dfs(i, j, p):\n",
    "        nonlocal height, width, arr, visited, components\n",
    "        if i < 0 or i >= height or j < 0 or j >= width or arr[i][j] == -1 or (i, j) in visited:\n",
    "            return\n",
    "       \n",
    "        visited.add((i, j))\n",
    "        arr[i][j] = p\n",
    "        components[p]['left'] = min(components[p].get('left', float('inf')), i+h)\n",
    "        components[p]['right'] = max(components[p].get('right', float('-inf')), i+h)\n",
    "        components[p]['top'] = min(components[p].get('top', float('inf')), j)\n",
    "        components[p]['bottom'] = max(components[p].get('bottom', float('-inf')), j)\n",
    "        neighbour_idx = get_neighbours(n_dir)\n",
    "        \n",
    "        for x, y in neighbour_idx:\n",
    "            dfs(i+x, j+y, p)\n",
    "    \n",
    "    for j in range(width):\n",
    "        for i in range(height):\n",
    "            if arr[i][j] == foreground and (i, j) not in visited:\n",
    "                dfs(i, j, p)\n",
    "                p += 1\n",
    "                \n",
    "    return p"
   ]
  },
  {
   "cell_type": "code",
   "execution_count": 9,
   "metadata": {
    "tags": []
   },
   "outputs": [],
   "source": [
    "def get_component(components, idx, img, show=False):\n",
    "    component = components[idx]\n",
    "    left, right = component['left'], component['right']\n",
    "    top, bottom = component['top'], component['bottom']\n",
    "    image = img[left:right+1, top:bottom+1]\n",
    "    if show:\n",
    "        _ = plt.imshow(image, cmap='gray')\n",
    "    \n",
    "    return (left, top, right-left+1, bottom-top+1), image"
   ]
  },
  {
   "cell_type": "code",
   "execution_count": 10,
   "metadata": {
    "pycharm": {
     "name": "#%%\n"
    },
    "tags": []
   },
   "outputs": [],
   "source": [
    "def gaussian_kernel(size, sigma):\n",
    "    kernel_1d = np.linspace(- (size // 2), size // 2, size)\n",
    "    gauss = np.exp(-0.5 * np.square(kernel_1d) / np.square(sigma))\n",
    "    kernel_2d = np.outer(gauss, gauss)\n",
    "    return kernel_2d / np.sum(kernel_2d)"
   ]
  },
  {
   "cell_type": "code",
   "execution_count": 520,
   "metadata": {
    "tags": []
   },
   "outputs": [],
   "source": [
    "def convolve(image, kernel, stride, padding=0, flip=True):\n",
    "    img_h, img_w = image.shape\n",
    "    k_h, k_w = kernel.shape\n",
    "    h = ((img_h - k_h + (2 * padding)) // stride) + 1\n",
    "    w = ((img_w - k_w + (2 * padding)) // stride) + 1\n",
    "    \n",
    "    if flip:\n",
    "        kernel = np.flipud(np.fliplr(kernel))\n",
    "    output = []\n",
    "    image = np.pad(image, pad_width=padding)\n",
    "\n",
    "    for i in range(0, img_h-k_h+1, stride):\n",
    "        for j in range(0, img_w-k_w+1, stride):\n",
    "            region = image[i:i+k_h, j:j+k_w]\n",
    "            output.append(np.multiply(region, kernel).sum())\n",
    "\n",
    "    output = np.asarray(output).reshape(h, w)\n",
    "    return output"
   ]
  },
  {
   "cell_type": "code",
   "execution_count": 12,
   "metadata": {
    "pycharm": {
     "name": "#%%\n"
    },
    "tags": []
   },
   "outputs": [],
   "source": [
    "def gaussian_pyramid(image, n, kernel_len=5, sigma=1):\n",
    "    image = image.copy()\n",
    "    res = []\n",
    "    for i in range(n):\n",
    "        image = convolve(\n",
    "            image=image,\n",
    "            kernel=gaussian_kernel(\n",
    "                size=kernel_len,\n",
    "                sigma=sigma,\n",
    "            ),\n",
    "            stride=2,\n",
    "        )\n",
    "        res.append(image)\n",
    "\n",
    "    return res"
   ]
  },
  {
   "cell_type": "code",
   "execution_count": 605,
   "metadata": {
    "tags": []
   },
   "outputs": [],
   "source": [
    "def otsu(image, *args, **kwargs):\n",
    "    pixel_number = image.shape[0] * image.shape[1]\n",
    "    mean_weight = 1.0 / pixel_number\n",
    "    his, bins = np.histogram(image, np.arange(0, 257))\n",
    "    final_thresh = -1\n",
    "    final_value = -1\n",
    "    intensity_arr = np.arange(256)\n",
    "\n",
    "    for t in bins[1:-1]:\n",
    "        pcb = np.sum(his[:t])\n",
    "        pcf = np.sum(his[t:])\n",
    "        Wb = pcb * mean_weight\n",
    "        Wf = pcf * mean_weight\n",
    "\n",
    "        mub = np.sum(intensity_arr[:t] * his[:t]) / float(pcb)\n",
    "        muf = np.sum(intensity_arr[t:] * his[t:]) / float(pcf)\n",
    "\n",
    "        value = Wb * Wf * (mub - muf) ** 2\n",
    "\n",
    "        if value > final_value:\n",
    "            final_thresh = t\n",
    "            final_value = value\n",
    "\n",
    "    output = image.copy()\n",
    "    output[image > final_thresh - 1] = 255\n",
    "    output[image < final_thresh - 1] = 0\n",
    "\n",
    "    return output"
   ]
  },
  {
   "cell_type": "code",
   "execution_count": 13,
   "metadata": {
    "pycharm": {
     "name": "#%%\n"
    },
    "tags": []
   },
   "outputs": [],
   "source": [
    "def expand(image, factor=2):\n",
    "    \"Nearest neighbour interpolation\"\n",
    "    img_h, img_w = image.shape\n",
    "    h, w = img_h * factor, img_w * factor\n",
    "    output = []\n",
    "\n",
    "    for i in range(img_h):\n",
    "        for j in range(img_w):\n",
    "            for _ in range(factor):\n",
    "                output.append(image[i][j])\n",
    "        for _ in range(factor-1):\n",
    "            output += output[-img_w*factor:]\n",
    "\n",
    "    output = np.asarray(output).reshape(h, w)\n",
    "    return output"
   ]
  },
  {
   "cell_type": "code",
   "execution_count": 14,
   "metadata": {
    "tags": []
   },
   "outputs": [],
   "source": [
    "def extract_features(image, detector):\n",
    "    keypoints, desc = detector.detectAndCompute(image, None)\n",
    "    return keypoints, desc"
   ]
  },
  {
   "cell_type": "code",
   "execution_count": 15,
   "metadata": {
    "tags": []
   },
   "outputs": [],
   "source": [
    "def sim_cosine(a, b):\n",
    "    cos_sim = np.dot(a, b) / (np.linalg.norm(a) * np.linalg.norm(b))\n",
    "    return cos_sim"
   ]
  },
  {
   "cell_type": "code",
   "execution_count": 16,
   "metadata": {
    "tags": []
   },
   "outputs": [],
   "source": [
    "def norm_l2(a, b):\n",
    "    return np.linalg.norm(np.asarray(a)-np.asarray(b))"
   ]
  },
  {
   "cell_type": "code",
   "execution_count": 17,
   "metadata": {
    "tags": []
   },
   "outputs": [],
   "source": [
    "class Matcher:\n",
    "    def __init__(self, s_idx, t_idx, score):\n",
    "        self.s_idx = s_idx\n",
    "        self.t_idx = t_idx\n",
    "        self.score = score"
   ]
  },
  {
   "cell_type": "code",
   "execution_count": 19,
   "metadata": {
    "tags": []
   },
   "outputs": [],
   "source": [
    "def g_noise(image, var=0.5):\n",
    "    row, col = image.shape\n",
    "    mean = 0\n",
    "    var = var\n",
    "    sigma = var**0.5\n",
    "    gauss = np.random.normal(mean,sigma, (row, col))\n",
    "    gauss = gauss.reshape(row, col)\n",
    "    noisy = image + gauss\n",
    "    return noisy.astype(np.uint8)"
   ]
  },
  {
   "cell_type": "code",
   "execution_count": 467,
   "metadata": {
    "tags": []
   },
   "outputs": [],
   "source": [
    "def matcher(s_desc, t_desc, measure, thresh=0.8, reverse=False):\n",
    "    arr = []\n",
    "\n",
    "    for s_idx, s_d in enumerate(s_desc):\n",
    "        heap = []\n",
    "        for t_idx, t_d in enumerate(t_desc):\n",
    "            score = measure(s_d, t_d)\n",
    "            heapq.heappush(heap, score)\n",
    "            \n",
    "        if len(heap) >= 2:\n",
    "            min_1 = heapq.heappop(heap)\n",
    "            min_2 = heapq.heappop(heap)\n",
    "            \n",
    "            print(min_1/min_2)\n",
    "            \n",
    "            if (min_1/min_2) <= thresh:\n",
    "                arr.append(round(min_1, 2))\n",
    "\n",
    "    return sorted(arr, reverse=reverse)"
   ]
  },
  {
   "cell_type": "code",
   "execution_count": null,
   "metadata": {},
   "outputs": [],
   "source": [
    "def matcher(s_desc, t_desc, measure, thresh=0.8, reverse=False):\n",
    "    arr = []\n",
    "\n",
    "    for s_idx, s_d in enumerate(s_desc):\n",
    "        heap = []\n",
    "        for t_idx, t_d in enumerate(t_desc):\n",
    "            score = measure(s_d, t_d)\n",
    "            heapq.heappush(heap, score)\n",
    "            \n",
    "        if len(heap) >= 2:\n",
    "            min_1 = heapq.heappop(heap)\n",
    "            min_2 = heapq.heappop(heap)\n",
    "            \n",
    "            print(min_1/min_2)\n",
    "            \n",
    "            if (min_1/min_2) <= thresh:\n",
    "                arr.append(round(min_1, 2))\n",
    "\n",
    "    return sorted(arr, reverse=reverse)"
   ]
  },
  {
   "cell_type": "code",
   "execution_count": 606,
   "metadata": {},
   "outputs": [
    {
     "data": {
      "image/png": "[encoded data removed]",
      "text/plain": [
       "<Figure size 720x864 with 1 Axes>"
      ]
     },
     "metadata": {
      "needs_background": "light"
     },
     "output_type": "display_data"
    }
   ],
   "source": [
    "# apply Sauvola local adaptive thresholding\n",
    "img = cv2.imread(f'{BASE_PATH}/test_img.jpg', cv2.IMREAD_GRAYSCALE)\n",
    "bin_img = otsu(img, 100)\n",
    "plt.figure(figsize=(10, 12))\n",
    "_ = plt.imshow(bin_img, cmap='gray')"
   ]
  },
  {
   "cell_type": "code",
   "execution_count": 571,
   "metadata": {},
   "outputs": [],
   "source": [
    "# bin_img = expand(bin_img, 2)\n",
    "heights = []\n",
    "k = 0\n",
    "components = defaultdict(dict)\n",
    "flag = True\n",
    "p = 0\n",
    "h, w = bin_img.shape\n",
    "bimg = bin_img.copy().astype(np.int16)\n",
    "\n",
    "for i in range(h):\n",
    "    temp = (bimg[i, :] == 0.).any()\n",
    "    if temp == flag:\n",
    "        if flag:\n",
    "            heights.append([i, i])\n",
    "        else:\n",
    "            heights[-1][1] = i\n",
    "        flag = not flag\n",
    "        \n",
    "for i in range(h):\n",
    "    for j in range(w):\n",
    "        if bimg[i][j] == 255:\n",
    "            bimg[i][j] = -1\n",
    "        \n",
    "for h1, h2 in heights:\n",
    "    p = connected_components(\n",
    "        bimg[h1:h2+1, :],\n",
    "        p,\n",
    "        components,\n",
    "        h1,\n",
    "        foreground=0,\n",
    "    )"
   ]
  },
  {
   "cell_type": "code",
   "execution_count": 588,
   "metadata": {},
   "outputs": [
    {
     "data": {
      "text/plain": [
       "530"
      ]
     },
     "execution_count": 588,
     "metadata": {},
     "output_type": "execute_result"
    }
   ],
   "source": [
    "connected_components(\n",
    "    bimg,\n",
    "    p,\n",
    "    components,\n",
    "    0,\n",
    "    foreground=0,\n",
    ")"
   ]
  },
  {
   "cell_type": "code",
   "execution_count": 615,
   "metadata": {},
   "outputs": [],
   "source": [
    "def crop(image):\n",
    "    h, w = image.shape \n",
    "    for l in range(w):\n",
    "        if (image[:, l] == 0).any():\n",
    "            break\n",
    "            \n",
    "    for r in range(w-1, -1, -1):\n",
    "        if (image[:, r] == 0).any():\n",
    "            break\n",
    "            \n",
    "    for t in range(h):\n",
    "        if (image[t, :] == 0).any():\n",
    "            break\n",
    "            \n",
    "    for b in range(h-1, -1, -1):\n",
    "        if (image[b, :] == 0).any():\n",
    "            break\n",
    "            \n",
    "    return image[t:b+1, l:r+1]"
   ]
  },
  {
   "cell_type": "code",
   "execution_count": 617,
   "metadata": {},
   "outputs": [],
   "source": [
    "def resize_to(image, new_w, new_h):\n",
    "    output = cv2.resize(image, (new_w, new_h))\n",
    "    return output"
   ]
  },
  {
   "cell_type": "code",
   "execution_count": 621,
   "metadata": {},
   "outputs": [
    {
     "data": {
      "text/plain": [
       "<matplotlib.image.AxesImage at 0x16b9fc850>"
      ]
     },
     "execution_count": 621,
     "metadata": {},
     "output_type": "execute_result"
    },
    {
     "data": {
      "image/png": "[encoded data removed]",
      "text/plain": [
       "<Figure size 432x288 with 1 Axes>"
      ]
     },
     "metadata": {
      "needs_background": "light"
     },
     "output_type": "display_data"
    }
   ],
   "source": [
    "temp = resize_to(crop(otsu(characters['a'])), 128, 128)\n",
    "plt.imshow(temp, cmap='gray')"
   ]
  },
  {
   "cell_type": "code",
   "execution_count": 627,
   "metadata": {},
   "outputs": [
    {
     "data": {
      "text/plain": [
       "<matplotlib.image.AxesImage at 0x16bba92b0>"
      ]
     },
     "execution_count": 627,
     "metadata": {},
     "output_type": "execute_result"
    },
    {
     "data": {
      "image/png": "[encoded data removed]",
      "text/plain": [
       "<Figure size 432x288 with 1 Axes>"
      ]
     },
     "metadata": {
      "needs_background": "light"
     },
     "output_type": "display_data"
    }
   ],
   "source": [
    "temp2 = np.zeros((128, 128))\n",
    "plt.imshow(temp2, cmap='gray')"
   ]
  },
  {
   "cell_type": "code",
   "execution_count": 623,
   "metadata": {},
   "outputs": [],
   "source": [
    "temp1 = resize_to(test_img, 128, 128)"
   ]
  },
  {
   "cell_type": "code",
   "execution_count": 637,
   "metadata": {},
   "outputs": [
    {
     "data": {
      "text/plain": [
       "1463395.0"
      ]
     },
     "execution_count": 637,
     "metadata": {},
     "output_type": "execute_result"
    }
   ],
   "source": [
    "(abs(temp2 - temp)).sum()"
   ]
  },
  {
   "cell_type": "code",
   "execution_count": 629,
   "metadata": {},
   "outputs": [
    {
     "data": {
      "text/plain": [
       "<matplotlib.image.AxesImage at 0x16b2e7100>"
      ]
     },
     "execution_count": 629,
     "metadata": {},
     "output_type": "execute_result"
    },
    {
     "data": {
      "image/png": "[encoded data removed]",
      "text/plain": [
       "<Figure size 432x288 with 1 Axes>"
      ]
     },
     "metadata": {
      "needs_background": "light"
     },
     "output_type": "display_data"
    }
   ],
   "source": [
    "plt.imshow(abs(temp2 - temp), cmap='gray')"
   ]
  },
  {
   "cell_type": "code",
   "execution_count": 636,
   "metadata": {},
   "outputs": [
    {
     "data": {
      "text/plain": [
       "52796"
      ]
     },
     "execution_count": 636,
     "metadata": {},
     "output_type": "execute_result"
    }
   ],
   "source": [
    "(abs(temp1 - temp)).sum()"
   ]
  },
  {
   "cell_type": "code",
   "execution_count": 642,
   "metadata": {},
   "outputs": [
    {
     "data": {
      "text/plain": [
       "<matplotlib.image.AxesImage at 0x166018370>"
      ]
     },
     "execution_count": 642,
     "metadata": {},
     "output_type": "execute_result"
    },
    {
     "data": {
      "image/png": "[encoded data removed]",
      "text/plain": [
       "<Figure size 432x288 with 1 Axes>"
      ]
     },
     "metadata": {
      "needs_background": "light"
     },
     "output_type": "display_data"
    }
   ],
   "source": [
    "plt.imshow(np.pad(temp2, 20, constant_values=255.0), cmap='gray')"
   ]
  },
  {
   "cell_type": "code",
   "execution_count": 649,
   "metadata": {},
   "outputs": [
    {
     "data": {
      "text/plain": [
       "<matplotlib.image.AxesImage at 0x16203d4f0>"
      ]
     },
     "execution_count": 649,
     "metadata": {},
     "output_type": "execute_result"
    },
    {
     "data": {
      "image/png": "[encoded data removed]",
      "text/plain": [
       "<Figure size 432x288 with 1 Axes>"
      ]
     },
     "metadata": {
      "needs_background": "light"
     },
     "output_type": "display_data"
    }
   ],
   "source": [
    "plt.imshow(crop(temp2), cmap='gray')"
   ]
  },
  {
   "cell_type": "code",
   "execution_count": 650,
   "metadata": {},
   "outputs": [
    {
     "data": {
      "text/plain": [
       "52796"
      ]
     },
     "execution_count": 650,
     "metadata": {},
     "output_type": "execute_result"
    }
   ],
   "source": [
    "abs(temp1 - temp).sum()"
   ]
  },
  {
   "cell_type": "code",
   "execution_count": 651,
   "metadata": {},
   "outputs": [
    {
     "data": {
      "text/plain": [
       "(array([16106,     6,     8,    12,    19,    20,    34,    37,    55,\n",
       "           87]),\n",
       " array([  0. ,  25.5,  51. ,  76.5, 102. , 127.5, 153. , 178.5, 204. ,\n",
       "        229.5, 255. ]))"
      ]
     },
     "execution_count": 651,
     "metadata": {},
     "output_type": "execute_result"
    }
   ],
   "source": [
    "np.histogram(abs(temp1 - temp))"
   ]
  },
  {
   "cell_type": "code",
   "execution_count": 630,
   "metadata": {},
   "outputs": [
    {
     "data": {
      "text/plain": [
       "<matplotlib.image.AxesImage at 0x16bbef340>"
      ]
     },
     "execution_count": 630,
     "metadata": {},
     "output_type": "execute_result"
    },
    {
     "data": {
      "image/png": "[encoded data removed]",
      "text/plain": [
       "<Figure size 432x288 with 1 Axes>"
      ]
     },
     "metadata": {
      "needs_background": "light"
     },
     "output_type": "display_data"
    }
   ],
   "source": [
    "plt.imshow(abs(temp1 - temp), cmap='gray')"
   ]
  },
  {
   "cell_type": "code",
   "execution_count": 216,
   "metadata": {},
   "outputs": [],
   "source": [
    "all_character_imgs = glob.glob(f'{BASE_PATH}/characters/' + \"/*\")\n",
    "characters = {}\n",
    "\n",
    "for each_character in all_character_imgs:\n",
    "    character_name = \"{}\".format(os.path.split(each_character)[-1].split('.')[0])\n",
    "    characters[character_name] = read_image(each_character, show=False)"
   ]
  },
  {
   "cell_type": "code",
   "execution_count": 608,
   "metadata": {},
   "outputs": [
    {
     "data": {
      "text/plain": [
       "(530, dict_keys(['M', 'B', 'T', 'a']))"
      ]
     },
     "execution_count": 608,
     "metadata": {},
     "output_type": "execute_result"
    }
   ],
   "source": [
    "len(components.keys()), characters.keys()"
   ]
  },
  {
   "cell_type": "code",
   "execution_count": 622,
   "metadata": {},
   "outputs": [
    {
     "data": {
      "image/png": "[encoded data removed]",
      "text/plain": [
       "<Figure size 432x288 with 1 Axes>"
      ]
     },
     "metadata": {
      "needs_background": "light"
     },
     "output_type": "display_data"
    }
   ],
   "source": [
    "_, test_img = get_component(components, 24, bin_img, show=True)"
   ]
  },
  {
   "cell_type": "code",
   "execution_count": 181,
   "metadata": {},
   "outputs": [
    {
     "data": {
      "text/plain": [
       "<matplotlib.image.AxesImage at 0x10fb9bdc0>"
      ]
     },
     "execution_count": 181,
     "metadata": {},
     "output_type": "execute_result"
    },
    {
     "data": {
      "image/png": "[encoded data removed]",
      "text/plain": [
       "<Figure size 432x288 with 1 Axes>"
      ]
     },
     "metadata": {
      "needs_background": "light"
     },
     "output_type": "display_data"
    }
   ],
   "source": [
    "actual_img = characters['M']\n",
    "plt.imshow(actual_img, cmap='gray')"
   ]
  },
  {
   "cell_type": "code",
   "execution_count": 147,
   "metadata": {},
   "outputs": [
    {
     "name": "stdout",
     "output_type": "stream",
     "text": [
      "[231.09, 250.97, 521.53, 566.94]\n"
     ]
    },
    {
     "data": {
      "text/plain": [
       "392.63250732421875"
      ]
     },
     "execution_count": 147,
     "metadata": {},
     "output_type": "execute_result"
    }
   ],
   "source": [
    "_, test = extract_features(test_img, sift)\n",
    "_, actual = extract_features(actual_img, sift)\n",
    "dist = matcher(test, actual, norm_l2)\n",
    "print(dist)\n",
    "sum(dist)/len(dist)"
   ]
  },
  {
   "cell_type": "code",
   "execution_count": 165,
   "metadata": {},
   "outputs": [
    {
     "name": "stdout",
     "output_type": "stream",
     "text": [
      "0.2546906314839996\n"
     ]
    },
    {
     "data": {
      "image/png": "[encoded data removed]",
      "text/plain": [
       "<Figure size 432x288 with 1 Axes>"
      ]
     },
     "metadata": {
      "needs_background": "light"
     },
     "output_type": "display_data"
    }
   ],
   "source": [
    "_, score, im = recog_sift.match(test_img, actual_img)\n",
    "print(score)\n",
    "_ = plt.imshow(im, cmap='gray')"
   ]
  },
  {
   "cell_type": "code",
   "execution_count": 164,
   "metadata": {},
   "outputs": [
    {
     "name": "stdout",
     "output_type": "stream",
     "text": [
      "0.21934996076724902\n"
     ]
    },
    {
     "data": {
      "image/png": "[encoded data removed]",
      "text/plain": [
       "<Figure size 432x288 with 1 Axes>"
      ]
     },
     "metadata": {
      "needs_background": "light"
     },
     "output_type": "display_data"
    }
   ],
   "source": [
    "_, score, im = recog_sift.match(actual_img, test_img)\n",
    "print(score)\n",
    "_ = plt.imshow(im, cmap='gray')"
   ]
  },
  {
   "cell_type": "code",
   "execution_count": 524,
   "metadata": {},
   "outputs": [],
   "source": [
    "with open(f'{BASE_PATH}/groundtruth.json') as f:\n",
    "    gt = eval(f.read())\n",
    "    \n",
    "with open(f'{BASE_PATH}/results.json') as f:\n",
    "    results = eval(f.read())"
   ]
  },
  {
   "cell_type": "code",
   "execution_count": 525,
   "metadata": {},
   "outputs": [
    {
     "data": {
      "text/plain": [
       "(33,\n",
       " [(9, {'bbox': [1114, 33, 45, 54], 'name': 'B'}),\n",
       "  (23, {'bbox': [870, 163, 32, 35], 'name': 'a'}),\n",
       "  (26, {'bbox': [1232, 152, 37, 37], 'name': 'M'}),\n",
       "  (27, {'bbox': [1351, 155, 64, 79], 'name': 'T'}),\n",
       "  (28, {'bbox': [1473, 152, 39, 40], 'name': 'M'}),\n",
       "  (32, {'bbox': [31, 271, 25, 25], 'name': 'M'}),\n",
       "  (41, {'bbox': [1111, 287, 40, 45], 'name': 'a'}),\n",
       "  (51, {'bbox': [390, 397, 18, 20], 'name': 'a'}),\n",
       "  (52, {'bbox': [517, 395, 62, 74], 'name': 'B'}),\n",
       "  (60, {'bbox': [1470, 393, 34, 41], 'name': 'T'}),\n",
       "  (61, {'bbox': [1589, 391, 19, 23], 'name': 'T'}),\n",
       "  (64, {'bbox': [31, 516, 69, 85], 'name': 'T'}),\n",
       "  (68, {'bbox': [515, 513, 56, 58], 'name': 'M'}),\n",
       "  (70, {'bbox': [753, 513, 43, 43], 'name': 'M'}),\n",
       "  (74, {'bbox': [1232, 511, 22, 27], 'name': 'B'}),\n",
       "  (80, {'bbox': [31, 636, 69, 85], 'name': 'T'}),\n",
       "  (81, {'bbox': [152, 631, 32, 33], 'name': 'M'}),\n",
       "  (89, {'bbox': [1113, 632, 40, 41], 'name': 'M'}),\n",
       "  (90, {'bbox': [1230, 634, 58, 70], 'name': 'T'}),\n",
       "  (142, {'bbox': [1710, 992, 30, 36], 'name': 'T'}),\n",
       "  (155, {'bbox': [1350, 1117, 18, 19], 'name': 'a'}),\n",
       "  (190, {'bbox': [1711, 1352, 25, 25], 'name': 'M'}),\n",
       "  (199, {'bbox': [871, 1489, 44, 48], 'name': 'a'}),\n",
       "  (216, {'bbox': [989, 1591, 23, 27], 'name': 'T'}),\n",
       "  (218, {'bbox': [1229, 1591, 21, 25], 'name': 'T'}),\n",
       "  (223, {'bbox': [1832, 1592, 26, 31], 'name': 'B'}),\n",
       "  (224, {'bbox': [30, 1711, 21, 26], 'name': 'T'}),\n",
       "  (233, {'bbox': [1110, 1718, 21, 23], 'name': 'a'}),\n",
       "  (240, {'bbox': [34, 1833, 50, 51], 'name': 'M'}),\n",
       "  (244, {'bbox': [513, 1832, 31, 37], 'name': 'B'}),\n",
       "  (246, {'bbox': [755, 1834, 64, 65], 'name': 'M'}),\n",
       "  (250, {'bbox': [1231, 1835, 67, 83], 'name': 'T'}),\n",
       "  (253, {'bbox': [1592, 1852, 52, 59], 'name': 'a'})])"
      ]
     },
     "execution_count": 525,
     "metadata": {},
     "output_type": "execute_result"
    }
   ],
   "source": [
    "res = []\n",
    "for idx, mp in enumerate(gt):\n",
    "    if mp['name'] != 'UNKNOWN':\n",
    "        res.append((idx, mp))\n",
    "        \n",
    "len(res), res"
   ]
  },
  {
   "cell_type": "code",
   "execution_count": 419,
   "metadata": {},
   "outputs": [
    {
     "data": {
      "text/plain": [
       "(261, (12, {'bbox': [1470, 50, 18, 62], 'name': 'M'}))"
      ]
     },
     "execution_count": 419,
     "metadata": {},
     "output_type": "execute_result"
    }
   ],
   "source": [
    "res = []\n",
    "for idx, mp in enumerate(results):\n",
    "    if mp['name'] != 'UNKNOWN':\n",
    "        res.append((idx, mp))\n",
    "        \n",
    "len(res), res[12]"
   ]
  },
  {
   "cell_type": "code",
   "execution_count": 421,
   "metadata": {},
   "outputs": [
    {
     "data": {
      "text/plain": [
       "{'left': 50, 'right': 111, 'top': 1470, 'bottom': 1487}"
      ]
     },
     "execution_count": 421,
     "metadata": {},
     "output_type": "execute_result"
    }
   ],
   "source": [
    "[(9, {'bbox': [1114, 33, 45, 54], 'name': 'B'}), (32, {'bbox': [31, 271, 25, 25], 'name': 'M'}), (52, {'bbox': [517, 395, 62, 74], 'name': 'B'}), (60, {'bbox': [1470, 393, 34, 41], 'name': 'T'}), (64, {'bbox': [31, 516, 69, 85], 'name': 'T'}), (70, {'bbox': [753, 513, 43, 43], 'name': 'M'}), (74, {'bbox': [1232, 511, 22, 27], 'name': 'B'}), (80, {'bbox': [31, 636, 69, 85], 'name': 'T'}), (81, {'bbox': [152, 631, 32, 33], 'name': 'M'}), (89, {'bbox': [1113, 632, 40, 41], 'name': 'M'}), (90, {'bbox': [1230, 634, 58, 70], 'name': 'T'}), (190, {'bbox': [1711, 1352, 25, 25], 'name': 'M'}), (223, {'bbox': [1832, 1592, 26, 31], 'name': 'B'}), (244, {'bbox': [513, 1832, 31, 37], 'name': 'B'}), (246, {'bbox': [755, 1834, 64, 65], 'name': 'M'}), (250, {'bbox': [1231, 1835, 67, 83], 'name': 'T'})]"
   ]
  },
  {
   "cell_type": "code",
   "execution_count": 443,
   "metadata": {},
   "outputs": [
    {
     "data": {
      "image/png": "[encoded data removed]",
      "text/plain": [
       "<Figure size 432x288 with 1 Axes>"
      ]
     },
     "metadata": {
      "needs_background": "light"
     },
     "output_type": "display_data"
    }
   ],
   "source": [
    "_, test_img = get_component(components, 24, bin_img, show=True)"
   ]
  },
  {
   "cell_type": "code",
   "execution_count": 526,
   "metadata": {},
   "outputs": [
    {
     "data": {
      "image/png": "[encoded data removed]",
      "text/plain": [
       "<Figure size 432x288 with 1 Axes>"
      ]
     },
     "metadata": {
      "needs_background": "light"
     },
     "output_type": "display_data"
    }
   ],
   "source": [
    "actual_img = groundtruth(9, bin_img, show=True)"
   ]
  },
  {
   "cell_type": "code",
   "execution_count": 273,
   "metadata": {},
   "outputs": [
    {
     "data": {
      "text/plain": [
       "<matplotlib.image.AxesImage at 0x12a250430>"
      ]
     },
     "execution_count": 273,
     "metadata": {},
     "output_type": "execute_result"
    },
    {
     "data": {
      "image/png": "[encoded data removed]",
      "text/plain": [
       "<Figure size 432x288 with 1 Axes>"
      ]
     },
     "metadata": {
      "needs_background": "light"
     },
     "output_type": "display_data"
    }
   ],
   "source": [
    "plt.imshow(characters['a'], cmap='gray')"
   ]
  },
  {
   "cell_type": "code",
   "execution_count": 430,
   "metadata": {},
   "outputs": [
    {
     "data": {
      "text/plain": [
       "<matplotlib.image.AxesImage at 0x12a9cb3a0>"
      ]
     },
     "execution_count": 430,
     "metadata": {},
     "output_type": "execute_result"
    },
    {
     "data": {
      "image/png": "[encoded data removed]",
      "text/plain": [
       "<Figure size 432x288 with 1 Axes>"
      ]
     },
     "metadata": {
      "needs_background": "light"
     },
     "output_type": "display_data"
    }
   ],
   "source": [
    "test_img = np.pad(test_img, 41, constant_values=255.)\n",
    "plt.imshow(test_img, cmap='gray')"
   ]
  },
  {
   "cell_type": "code",
   "execution_count": 311,
   "metadata": {},
   "outputs": [
    {
     "name": "stdout",
     "output_type": "stream",
     "text": [
      "n_matches: 11\n",
      "0.23923446365430484\n"
     ]
    },
    {
     "data": {
      "image/png": "[encoded data removed]",
      "text/plain": [
       "<Figure size 432x288 with 1 Axes>"
      ]
     },
     "metadata": {
      "needs_background": "light"
     },
     "output_type": "display_data"
    }
   ],
   "source": [
    "_, score, im = recog_sift.match(test_img, characters['a'])\n",
    "print(score)\n",
    "_ = plt.imshow(im, cmap='gray')"
   ]
  },
  {
   "cell_type": "code",
   "execution_count": 312,
   "metadata": {},
   "outputs": [
    {
     "name": "stdout",
     "output_type": "stream",
     "text": [
      "n_matches: 11\n",
      "0.2600530017580604\n"
     ]
    },
    {
     "data": {
      "image/png": "[encoded data removed]",
      "text/plain": [
       "<Figure size 432x288 with 1 Axes>"
      ]
     },
     "metadata": {
      "needs_background": "light"
     },
     "output_type": "display_data"
    }
   ],
   "source": [
    "_, score, im = recog_sift.match(test_img, characters['B'])\n",
    "print(score)\n",
    "_ = plt.imshow(im, cmap='gray')"
   ]
  },
  {
   "cell_type": "code",
   "execution_count": 576,
   "metadata": {},
   "outputs": [
    {
     "name": "stdout",
     "output_type": "stream",
     "text": [
      "0.9802548\n",
      "0.9530607\n",
      "0.97287554\n",
      "0.90633565\n",
      "0.8798173\n",
      "0.99925035\n",
      "0.9953713\n",
      "0.9928627\n",
      "0.95921683\n",
      "[]\n"
     ]
    },
    {
     "data": {
      "text/plain": [
       "inf"
      ]
     },
     "execution_count": 576,
     "metadata": {},
     "output_type": "execute_result"
    }
   ],
   "source": [
    "_, test = extract_features(test_img, sift)\n",
    "_, actual = extract_features(characters['a'], sift)\n",
    "dist = matcher(test, actual, norm_l2, thresh=0.8)\n",
    "print(dist)\n",
    "sum(dist)/len(dist) if dist else float('inf')"
   ]
  },
  {
   "cell_type": "code",
   "execution_count": 577,
   "metadata": {},
   "outputs": [
    {
     "name": "stdout",
     "output_type": "stream",
     "text": [
      "0.98219866\n",
      "0.97929555\n",
      "0.9980766\n",
      "0.95880914\n",
      "0.9903971\n",
      "0.90799576\n",
      "0.978476\n",
      "0.9820426\n",
      "0.9950361\n",
      "[]\n"
     ]
    },
    {
     "data": {
      "text/plain": [
       "inf"
      ]
     },
     "execution_count": 577,
     "metadata": {},
     "output_type": "execute_result"
    }
   ],
   "source": [
    "_, test = extract_features(test_img, sift)\n",
    "_, actual = extract_features(characters['B'], sift)\n",
    "dist = matcher(test, actual, norm_l2)\n",
    "print(dist)\n",
    "sum(dist)/len(dist) if dist else float('inf')"
   ]
  },
  {
   "cell_type": "code",
   "execution_count": 470,
   "metadata": {},
   "outputs": [
    {
     "name": "stdout",
     "output_type": "stream",
     "text": [
      "0.956156\n",
      "0.8535225\n",
      "0.98481333\n",
      "0.9923658\n",
      "0.94023395\n",
      "0.9272977\n",
      "0.9350012\n",
      "0.9932465\n",
      "0.9952089\n",
      "0.99409246\n",
      "0.9985002\n",
      "0.97012395\n",
      "[]\n"
     ]
    },
    {
     "data": {
      "text/plain": [
       "inf"
      ]
     },
     "execution_count": 470,
     "metadata": {},
     "output_type": "execute_result"
    }
   ],
   "source": [
    "_, test = extract_features(test_img, sift)\n",
    "_, actual = extract_features(characters['M'], sift)\n",
    "dist = matcher(test, actual, norm_l2)\n",
    "print(dist)\n",
    "sum(dist)/len(dist) if dist else float('inf')"
   ]
  },
  {
   "cell_type": "code",
   "execution_count": 471,
   "metadata": {},
   "outputs": [
    {
     "name": "stdout",
     "output_type": "stream",
     "text": [
      "0.8838349\n",
      "0.9973734\n",
      "0.93429434\n",
      "0.9208292\n",
      "0.9876695\n",
      "0.9771749\n",
      "0.93178445\n",
      "0.94988513\n",
      "0.9899494\n",
      "0.9463995\n",
      "0.945687\n",
      "0.91106963\n",
      "[]\n"
     ]
    },
    {
     "data": {
      "text/plain": [
       "inf"
      ]
     },
     "execution_count": 471,
     "metadata": {},
     "output_type": "execute_result"
    }
   ],
   "source": [
    "_, test = extract_features(test_img, sift)\n",
    "_, actual = extract_features(characters['T'], sift)\n",
    "dist = matcher(test, actual, norm_l2)\n",
    "print(dist)\n",
    "sum(dist)/len(dist) if dist else float('inf')"
   ]
  },
  {
   "cell_type": "code",
   "execution_count": 574,
   "metadata": {},
   "outputs": [],
   "source": [
    "def norm_l4(a, b):\n",
    "    return np.linalg.norm(np.asarray(a) - np.asarray(b), ord=4)"
   ]
  },
  {
   "cell_type": "code",
   "execution_count": 583,
   "metadata": {},
   "outputs": [],
   "source": [
    "def norm(a, b, n):\n",
    "    res = np.sum(np.abs(a - b)**n, axis=-1)**(1./n)\n",
    "    return res"
   ]
  },
  {
   "cell_type": "code",
   "execution_count": 585,
   "metadata": {},
   "outputs": [
    {
     "data": {
      "text/plain": [
       "551.604"
      ]
     },
     "execution_count": 585,
     "metadata": {},
     "output_type": "execute_result"
    }
   ],
   "source": [
    "norm_l2(test[0], actual[0])"
   ]
  },
  {
   "cell_type": "code",
   "execution_count": 586,
   "metadata": {},
   "outputs": [
    {
     "data": {
      "text/plain": [
       "551.604024640865"
      ]
     },
     "execution_count": 586,
     "metadata": {},
     "output_type": "execute_result"
    }
   ],
   "source": [
    "norm(test[0], actual[0], n=2)"
   ]
  },
  {
   "cell_type": "code",
   "execution_count": 587,
   "metadata": {},
   "outputs": [
    {
     "data": {
      "text/plain": [
       "array([[255, 255, 255, ..., 255, 255, 255],\n",
       "       [255, 255, 255, ..., 255, 255, 255],\n",
       "       [255, 255, 255, ..., 255, 255, 255],\n",
       "       ...,\n",
       "       [255, 255, 255, ..., 255, 255, 255],\n",
       "       [255, 255, 255, ..., 255, 255, 255],\n",
       "       [255, 255, 255, ..., 255, 255, 255]], dtype=uint8)"
      ]
     },
     "execution_count": 587,
     "metadata": {},
     "output_type": "execute_result"
    }
   ],
   "source": [
    "cv2.resize(bin_img, (w*2, h*2))"
   ]
  }
 ],
 "metadata": {
  "kernelspec": {
   "display_name": "Python 3 (ipykernel)",
   "language": "python",
   "name": "python3"
  },
  "language_info": {
   "codemirror_mode": {
    "name": "ipython",
    "version": 3
   },
   "file_extension": ".py",
   "mimetype": "text/x-python",
   "name": "python",
   "nbconvert_exporter": "python",
   "pygments_lexer": "ipython3",
   "version": "3.9.7"
  }
 },
 "nbformat": 4,
 "nbformat_minor": 4
}