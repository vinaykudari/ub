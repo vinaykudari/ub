{
 "cells": [
  {
   "cell_type": "code",
   "execution_count": 1,
   "id": "7a4fb47c-42d5-4131-8d8e-65a991cec8f9",
   "metadata": {},
   "outputs": [],
   "source": [
    "package main\n",
    "\n",
    "import (\n",
    "    \"fmt\"\n",
    "    \"math\"\n",
    "    \"math/rand\"\n",
    "    \"math/cmplx\"\n",
    "    \"runtime\"\n",
    "    \"time\"\n",
    ")"
   ]
  },
  {
   "cell_type": "markdown",
   "id": "bf379aa9-9955-4c63-92e1-e781ad7d63be",
   "metadata": {},
   "source": [
    "### packages, variables and functions"
   ]
  },
  {
   "cell_type": "code",
   "execution_count": 2,
   "id": "970648d0-1b57-4ec5-a55d-28807cafbad8",
   "metadata": {},
   "outputs": [
    {
     "name": "stdout",
     "output_type": "stream",
     "text": [
      "false 18446744073709551615 (2+3i)\n",
      "8\n",
      "b3"
     ]
    },
    {
     "data": {
      "text/plain": [
       "1 <nil>"
      ]
     },
     "execution_count": 2,
     "metadata": {},
     "output_type": "execute_result"
    }
   ],
   "source": [
    "func main() {\n",
    "    rand.Seed(30)\n",
    "    // random values are deterministic, need to manually change to seed\n",
    "    fmt.Println(rand.Intn(10))\n",
    "}\n",
    "\n",
    "// can be factored like imports\n",
    "var (\n",
    "    ToBe   bool       = false\n",
    "    MaxInt uint64     = 1<<64 - 1\n",
    "    z      complex128 = cmplx.Sqrt(-5 + 12i)\n",
    ")\n",
    "fmt.Printf(\"%v %v %v\\n\", ToBe, MaxInt, z)\n",
    "\n",
    "// omit type when the arguments share the same type\n",
    "func add(x, y int) int {\n",
    "    return x + y\n",
    "}\n",
    "\n",
    "// can return multiple values\n",
    "func swap(x string, y string) (string, string) {\n",
    "    return y, x\n",
    "}\n",
    "\n",
    "// named return values: naked return\n",
    "func split(sum int) (x, y, k int) {\n",
    "    // will not return the method parameters\n",
    "    var k = sum / 2\n",
    "    x = sum * 4 / 9\n",
    "    y = sum - x\n",
    "    return\n",
    "}\n",
    "\n",
    "\n",
    "main()\n",
    "add(1, 2)\n",
    "x, y := swap('a', 'b')\n",
    "fmt.Print(x)\n",
    "split(11)\n",
    "\n",
    "x := uint(3.0)\n",
    "fmt.Print(x)"
   ]
  },
  {
   "cell_type": "markdown",
   "id": "a54718b0-b40b-4224-90ef-325b154d0596",
   "metadata": {},
   "source": [
    "### flow control statements"
   ]
  },
  {
   "cell_type": "code",
   "execution_count": 3,
   "id": "4c1622ec-d990-49bc-83a7-148b78ff18cb",
   "metadata": {},
   "outputs": [
    {
     "name": "stdout",
     "output_type": "stream",
     "text": [
      "45\n",
      "100\n",
      "yo\n",
      "OS X.\n",
      "Sun\n"
     ]
    }
   ],
   "source": [
    "// for is the only looping contruct\n",
    "sum := 0\n",
    "for i := 0; i < 10; i++ {\n",
    "    sum += i\n",
    "}\n",
    "fmt.Println(sum)\n",
    "\n",
    "var i int\n",
    "for i < 10 {\n",
    "    if i % 2 == 0 {\n",
    "        i += 1\n",
    "    } else {\n",
    "        i += 2\n",
    "    }\n",
    "}\n",
    "i\n",
    "\n",
    "// variables initialized in the if contruct can be accessible in the else blocks\n",
    "if v := math.Pow(10, 2); v < 100 {\n",
    "    fmt.Println(\"hi\")\n",
    "} else {\n",
    "    fmt.Println(v)\n",
    "}\n",
    "\n",
    "if math.Pow(1, 2) < 100 {\n",
    "    fmt.Println(\"yo\")\n",
    "}\n",
    "\n",
    "// break is automatically applied after each case\n",
    "switch os := runtime.GOOS; os {\n",
    "    case \"darwin\":\n",
    "        fmt.Println(\"OS X.\")\n",
    "    case \"linux\":\n",
    "        fmt.Println(\"Linux.\")\n",
    "    default:\n",
    "        fmt.Printf(\"%s.\\n\", os)\n",
    "    }\n",
    "\n",
    "switch today := time.Now().Weekday() - 1; today {\n",
    "case time.Saturday + 0:\n",
    "    fmt.Println(\"Sat\")\n",
    "case time.Saturday - 1:\n",
    "    fmt.Println(\"Sun\")\n",
    "default:\n",
    "    fmt.Println(\"None\")\n",
    "}"
   ]
  },
  {
   "cell_type": "code",
   "execution_count": 4,
   "id": "7ba371c7-4e5d-4e21-8c7b-9fea8aac3c57",
   "metadata": {},
   "outputs": [
    {
     "name": "stdout",
     "output_type": "stream",
     "text": [
      "counting\n",
      "done\n",
      "3\n",
      "2\n",
      "1\n",
      "0\n"
     ]
    }
   ],
   "source": [
    "// deferred functions are pushed on to a stack and are executed in LIFO order\n",
    "func deferfunc() {\n",
    "    fmt.Println(\"counting\")\n",
    "\n",
    "    for i := 0; i < 4; i++ {\n",
    "        defer fmt.Println(i)\n",
    "    }\n",
    "\n",
    "    fmt.Println(\"done\")\n",
    "}\n",
    "deferfunc()"
   ]
  },
  {
   "cell_type": "markdown",
   "id": "8d395302-6826-4f72-8023-6f83ba822dbd",
   "metadata": {},
   "source": [
    "### advanced types"
   ]
  },
  {
   "cell_type": "markdown",
   "id": "459b9afc-9aca-46c2-b9f1-cd234a13e771",
   "metadata": {},
   "source": [
    "#### pointers"
   ]
  },
  {
   "cell_type": "code",
   "execution_count": 5,
   "id": "55b35785-73bf-4486-b55b-07273b2f0d84",
   "metadata": {},
   "outputs": [
    {
     "data": {
      "text/plain": [
       "hello"
      ]
     },
     "execution_count": 5,
     "metadata": {},
     "output_type": "execute_result"
    }
   ],
   "source": [
    "z := \"hello\"\n",
    "// holds the pointer to var z\n",
    "p := &z\n",
    "// denotes the pointers underlying value\n",
    "*(p)"
   ]
  },
  {
   "cell_type": "code",
   "execution_count": 6,
   "id": "6b0f604d-e6fe-4479-aed4-e57593b6768e",
   "metadata": {},
   "outputs": [
    {
     "data": {
      "text/plain": [
       "0xc000910270"
      ]
     },
     "execution_count": 6,
     "metadata": {},
     "output_type": "execute_result"
    }
   ],
   "source": [
    "p"
   ]
  },
  {
   "cell_type": "code",
   "execution_count": 7,
   "id": "08526fcd-276c-449b-853e-0cc21af19a48",
   "metadata": {},
   "outputs": [
    {
     "data": {
      "text/plain": [
       "0xc0009105e0"
      ]
     },
     "execution_count": 7,
     "metadata": {},
     "output_type": "execute_result"
    }
   ],
   "source": [
    "x := \"hello\"\n",
    "&x"
   ]
  },
  {
   "cell_type": "code",
   "execution_count": 8,
   "id": "d9d63244-3b8b-4619-b829-054b9f67cf89",
   "metadata": {},
   "outputs": [
    {
     "data": {
      "text/plain": [
       "0xc0009105e0"
      ]
     },
     "execution_count": 8,
     "metadata": {},
     "output_type": "execute_result"
    }
   ],
   "source": [
    "x = \"helloo\"\n",
    "&x"
   ]
  },
  {
   "cell_type": "markdown",
   "id": "570374ac-b863-4d12-a2fc-b0279cb0ec3a",
   "metadata": {},
   "source": [
    "#### structs"
   ]
  },
  {
   "cell_type": "code",
   "execution_count": 9,
   "id": "8e4218e1-069d-48ec-a257-c68d46fc82e6",
   "metadata": {},
   "outputs": [
    {
     "name": "stdout",
     "output_type": "stream",
     "text": [
      "{2 1}\n"
     ]
    }
   ],
   "source": [
    "type Vertex struct {\n",
    "    X int\n",
    "    Y int\n",
    "}\n",
    "\n",
    "func main() {\n",
    "    v := Vertex{Y:1, X:2}\n",
    "    p := &v\n",
    "    \n",
    "    p.X = 2\n",
    "    // (*p).Y = 5\n",
    "    \n",
    "    fmt.Println(v)\n",
    "}\n",
    "\n",
    "main()"
   ]
  },
  {
   "cell_type": "markdown",
   "id": "b3fb72b2-1e8f-40da-be01-cb31faf42569",
   "metadata": {},
   "source": [
    "#### array & slices"
   ]
  },
  {
   "cell_type": "code",
   "execution_count": 10,
   "id": "aa6869f4-5dca-4c3e-9f17-89cab486db38",
   "metadata": {},
   "outputs": [
    {
     "name": "stdout",
     "output_type": "stream",
     "text": [
      "[3 5 7]\n",
      "[{2 true} {3 false} {5 true} {7 true} {11 false} {13 true}]\n"
     ]
    },
    {
     "data": {
      "text/plain": [
       "60 <nil>"
      ]
     },
     "execution_count": 10,
     "metadata": {},
     "output_type": "execute_result"
    }
   ],
   "source": [
    "primes := [6]int{2, 3, 5, 7, 11, 13}\n",
    "// this is a slice, it does not store any data\n",
    "var s []int = primes[1:4]\n",
    "\n",
    "// it creates an array and get back the refer as a slice\n",
    "primes := []int{2, 3, 5, 7, 11, 13}\n",
    "fmt.Println(s)\n",
    "\n",
    "s := []struct {\n",
    "        i int\n",
    "        b bool\n",
    "    }{\n",
    "        {2, true},\n",
    "        {3, false},\n",
    "        {5, true},\n",
    "        {7, true},\n",
    "        {11, false},\n",
    "        {13, true},\n",
    "    }\n",
    "fmt.Println(s)"
   ]
  },
  {
   "cell_type": "markdown",
   "id": "00fabee7-0740-46f2-9794-d66aab069599",
   "metadata": {},
   "source": [
    "#### range"
   ]
  },
  {
   "cell_type": "code",
   "execution_count": 12,
   "id": "9cbfff58-ec42-43cf-8397-ea64bbb37d57",
   "metadata": {},
   "outputs": [
    {
     "name": "stdout",
     "output_type": "stream",
     "text": [
      "1\n",
      "2\n",
      "4\n",
      "8\n",
      "16\n",
      "32\n",
      "64\n",
      "128\n",
      "256\n",
      "512\n"
     ]
    }
   ],
   "source": [
    "pow := make([]int, 10)\n",
    "for i := range pow {\n",
    "    pow[i] = 1 << uint(i) // == 2**i\n",
    "}\n",
    "for _, value := range pow {\n",
    "    fmt.Printf(\"%d\\n\", value)\n",
    "}"
   ]
  },
  {
   "cell_type": "markdown",
   "id": "6b84365b-b700-4044-b0fc-27097dc2efe6",
   "metadata": {},
   "source": [
    "### closures"
   ]
  },
  {
   "cell_type": "code",
   "execution_count": 15,
   "id": "2718a1dc-e6ea-4f9e-8f77-c85b3729c2b4",
   "metadata": {},
   "outputs": [
    {
     "name": "stdout",
     "output_type": "stream",
     "text": [
      "1 2\n",
      "2 0\n",
      "4 -4\n",
      "7 -10\n",
      "11 -18\n",
      "16 -28\n",
      "22 -40\n",
      "29 -54\n",
      "37 -70\n",
      "46 -88\n"
     ]
    }
   ],
   "source": [
    "func adder(i int) func(int) int {\n",
    "    sum := i\n",
    "    return func(x int) int {\n",
    "        sum += x\n",
    "        return sum\n",
    "    }\n",
    "}\n",
    "\n",
    "func main() {\n",
    "    pos, neg := adder(1), adder(2)\n",
    "    for i := 0; i < 10; i++ {\n",
    "        fmt.Println(\n",
    "            pos(i),\n",
    "            neg(-2*i),\n",
    "        )\n",
    "    }\n",
    "}\n",
    "main()"
   ]
  },
  {
   "cell_type": "markdown",
   "id": "7abeea8c-6b3f-477e-9a9e-8fb9345c9c44",
   "metadata": {},
   "source": [
    "### methods\n",
    "\n",
    "##### methods can take value or a pointer and interpret as a pointer whereas pointer receiver functions need pointer as argument"
   ]
  },
  {
   "cell_type": "code",
   "execution_count": 27,
   "id": "e4ddf7b7-9d61-422d-bc5a-4a56410624f5",
   "metadata": {},
   "outputs": [
    {
     "name": "stdout",
     "output_type": "stream",
     "text": [
      "5\n",
      "1.4142135623730951\n"
     ]
    }
   ],
   "source": [
    "type Vertex struct {\n",
    "    X, Y float64\n",
    "}\n",
    "\n",
    "func (v Vertex) Abs() float64 {\n",
    "    return math.Sqrt(v.X*v.X + v.Y*v.Y)\n",
    "}\n",
    "\n",
    "\n",
    "v := Vertex{3, 4}\n",
    "_, _ = fmt.Println(v.Abs())\n",
    "\n",
    "\n",
    "type MyFloat float64\n",
    "\n",
    "func (f MyFloat) Abs() float64 {\n",
    "    if f < 0 {\n",
    "        return float64(-f)\n",
    "    }\n",
    "    return float64(f)\n",
    "}\n",
    "\n",
    "\n",
    "f := MyFloat(-math.Sqrt2)\n",
    "_, _ = fmt.Println(f.Abs())"
   ]
  },
  {
   "cell_type": "code",
   "execution_count": 29,
   "id": "8125748e-d98b-4a43-ab2d-8b0ed9d11069",
   "metadata": {},
   "outputs": [
    {
     "name": "stdout",
     "output_type": "stream",
     "text": [
      "50\n"
     ]
    }
   ],
   "source": [
    "type Vertex struct {\n",
    "    X, Y float64\n",
    "}\n",
    "\n",
    "func (v Vertex) Abs() float64 {\n",
    "    return math.Sqrt(v.X*v.X + v.Y*v.Y)\n",
    "}\n",
    "\n",
    "// pointer receiver\n",
    "func (v *Vertex) Scale(f float64) {\n",
    "    v.X = v.X * f\n",
    "    v.Y = v.Y * f\n",
    "}\n",
    "\n",
    "\n",
    "v := Vertex{3, 4}\n",
    "v.Scale(10)\n",
    "_, _ = fmt.Println(v.Abs())"
   ]
  },
  {
   "cell_type": "markdown",
   "id": "75ddae86-b065-4d09-b4d7-e33b7fb0f64c",
   "metadata": {},
   "source": [
    "### interfaces\n",
    "\n",
    "##### A value of interface type can hold any value that implements those methods."
   ]
  },
  {
   "cell_type": "code",
   "execution_count": 33,
   "id": "16b8a78a-3450-4783-a36d-7317d1a27ad1",
   "metadata": {},
   "outputs": [
    {
     "name": "stdout",
     "output_type": "stream",
     "text": [
      "5\n"
     ]
    }
   ],
   "source": [
    "type Abser interface {\n",
    "    Abs() float64\n",
    "}\n",
    "\n",
    "type MyFloat float64\n",
    "\n",
    "func (f MyFloat) Abs() float64 {\n",
    "    if f < 0 {\n",
    "        return float64(-f)\n",
    "    }\n",
    "    return float64(f)\n",
    "}\n",
    "\n",
    "type Vertex struct {\n",
    "    X, Y float64\n",
    "}\n",
    "\n",
    "func (v *Vertex) Abs() float64 {\n",
    "    return math.Sqrt(v.X*v.X + v.Y*v.Y)\n",
    "}\n",
    "\n",
    "\n",
    "var a Abser\n",
    "f := MyFloat(-math.Sqrt2)\n",
    "v := Vertex{3, 4}\n",
    "\n",
    "a = f  // a MyFloat implements Abser\n",
    "a = &v // a *Vertex implements Abser\n",
    "\n",
    "// In the following line, v is a Vertex (not *Vertex)\n",
    "// and does NOT implement Abser.\n",
    "// a = v\n",
    "\n",
    "_, _ = fmt.Println(a.Abs())"
   ]
  },
  {
   "cell_type": "markdown",
   "id": "f87f718c-ed90-4e30-b018-1df2aa6042e2",
   "metadata": {},
   "source": [
    "#### empty interface\n",
    "\n",
    "can hold variables of any type"
   ]
  },
  {
   "cell_type": "code",
   "execution_count": 35,
   "id": "3a01d714-6ab5-4b1e-8ed0-2cffe54fd286",
   "metadata": {},
   "outputs": [
    {
     "name": "stdout",
     "output_type": "stream",
     "text": [
      "(<nil>, <nil>)\n",
      "(42, int)\n",
      "(hello, string)\n"
     ]
    }
   ],
   "source": [
    "func main() {\n",
    "    var i interface{}\n",
    "    describe(i)\n",
    "\n",
    "    i = 42\n",
    "    describe(i)\n",
    "\n",
    "    i = \"hello\"\n",
    "    describe(i)\n",
    "}\n",
    "\n",
    "func describe(i interface{}) {\n",
    "    fmt.Printf(\"(%v, %T)\\n\", i, i)\n",
    "}\n",
    "\n",
    "main()"
   ]
  },
  {
   "cell_type": "markdown",
   "id": "36129356-f2e9-4481-b72a-a03a934fd326",
   "metadata": {},
   "source": [
    "#### Stringer : interface with String() method"
   ]
  },
  {
   "cell_type": "code",
   "execution_count": 38,
   "id": "5b56b9a8-ad59-4702-b263-e98f8ee1cb6b",
   "metadata": {},
   "outputs": [
    {
     "name": "stdout",
     "output_type": "stream",
     "text": [
      "{Arthur Dent 42} {Zaphod Beeblebrox 9001}\n"
     ]
    }
   ],
   "source": [
    "type Person struct {\n",
    "    Name string\n",
    "    Age  int\n",
    "}\n",
    "\n",
    "func (p Person) String() string {\n",
    "    return fmt.Sprintf(\"%v (%v years)\", p.Name, p.Age)\n",
    "}\n",
    "\n",
    "\n",
    "a := Person{\"Arthur Dent\", 42}\n",
    "z := Person{\"Zaphod Beeblebrox\", 9001}\n",
    "_, _ = fmt.Println(a, z)"
   ]
  }
 ],
 "metadata": {
  "kernelspec": {
   "display_name": "Go",
   "language": "go",
   "name": "gophernotes"
  },
  "language_info": {
   "codemirror_mode": "",
   "file_extension": ".go",
   "mimetype": "",
   "name": "go",
   "nbconvert_exporter": "",
   "pygments_lexer": "",
   "version": "go1.19"
  }
 },
 "nbformat": 4,
 "nbformat_minor": 5
}
