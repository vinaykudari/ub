{
 "cells": [
  {
   "cell_type": "code",
   "execution_count": 2,
   "id": "d47de2aa-843c-4679-97c2-f595c7f3fc40",
   "metadata": {},
   "outputs": [
    {
     "name": "stdout",
     "output_type": "stream",
     "text": [
      "Requirement already satisfied: websocket-client in /Users/vinay/opt/miniconda3/envs/cv/lib/python3.9/site-packages (0.57.0)\n",
      "Requirement already satisfied: six in /Users/vinay/opt/miniconda3/envs/cv/lib/python3.9/site-packages (from websocket-client) (1.16.0)\n"
     ]
    }
   ],
   "source": [
    "!pip install websocket-client"
   ]
  },
  {
   "cell_type": "code",
   "execution_count": null,
   "id": "10b3dca3-6e77-4f78-94f7-03858e2bcc69",
   "metadata": {},
   "outputs": [],
   "source": [
    "from flask import Flask, render_template\n",
    "from flask_socketio import SocketIO\n",
    "\n",
    "# Initializing the flask object\n",
    "app = Flask(__name__)\n",
    "\n",
    "#  Initializing the flask-websocketio\n",
    "app.config['SECRET_KEY'] = 'secret!'\n",
    "socketio = SocketIO(app)\n",
    "\n",
    "# If you are running it using python <filename> then below command will be used\n",
    "if __name__ == '__main__':\n",
    "    socketio.run(app)"
   ]
  }
 ],
 "metadata": {
  "kernelspec": {
   "display_name": "Python 3 (ipykernel)",
   "language": "python",
   "name": "python3"
  },
  "language_info": {
   "codemirror_mode": {
    "name": "ipython",
    "version": 3
   },
   "file_extension": ".py",
   "mimetype": "text/x-python",
   "name": "python",
   "nbconvert_exporter": "python",
   "pygments_lexer": "ipython3",
   "version": "3.9.6"
  }
 },
 "nbformat": 4,
 "nbformat_minor": 5
}
