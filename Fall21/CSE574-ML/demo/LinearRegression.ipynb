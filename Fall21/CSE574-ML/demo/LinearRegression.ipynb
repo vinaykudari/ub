{
 "cells": [
  {
   "cell_type": "code",
   "execution_count": 1,
   "metadata": {},
   "outputs": [],
   "source": [
    "from sklearn import linear_model\n",
    "from scipy.stats import t,laplace,norm,multivariate_normal\n",
    "import numpy as np\n",
    "import matplotlib.pyplot as plt\n",
    "from math import sqrt\n",
    "from sklearn import model_selection\n",
    "from sklearn.datasets import load_boston\n",
    "from sklearn.preprocessing import StandardScaler\n",
    "from sklearn.linear_model import LinearRegression,Ridge,Lasso\n",
    "\n",
    "from sklearn.preprocessing import scale\n",
    "from sklearn.pipeline import Pipeline\n",
    "from sklearn.preprocessing import PolynomialFeatures\n",
    "\n",
    "%matplotlib inline"
   ]
  },
  {
   "cell_type": "markdown",
   "metadata": {},
   "source": [
    "### Ordinary Linear Regression\n",
    "We use np.polyfit with order = 1 to fit a line to the 1-D data."
   ]
  },
  {
   "cell_type": "code",
   "execution_count": 2,
   "metadata": {},
   "outputs": [],
   "source": [
    "#A helper method for pretty-printing linear models\n",
    "def pretty_print_linear(coefs, intercept, names = None, sort = False):\n",
    "    if names == None:\n",
    "        names = [\"X%s\" % x for x in range(1,1+len(coefs))]\n",
    "    lst = zip(coefs, names)\n",
    "    if sort:\n",
    "        lst = sorted(lst,  key = lambda x:-np.abs(x[0]))\n",
    "    return \"%6.3f\"%intercept+\" + \" +\" + \".join(\"%6.3f * %s\" % (coef, name)\n",
    "                                   for coef, name in lst)"
   ]
  },
  {
   "cell_type": "code",
   "execution_count": 3,
   "metadata": {},
   "outputs": [
    {
     "data": {
      "text/plain": [
       "<matplotlib.collections.PathCollection at 0x11375e160>"
      ]
     },
     "execution_count": 3,
     "metadata": {},
     "output_type": "execute_result"
    },
    {
     "data": {
      "image/png": "[encoded data removed]",
      "text/plain": [
       "<matplotlib.figure.Figure at 0x1109543c8>"
      ]
     },
     "metadata": {},
     "output_type": "display_data"
    }
   ],
   "source": [
    "#generate some data\n",
    "x = np.arange(20)\n",
    "w = np.array([-3.8,0.11])\n",
    "y = w[0] + w[1]*x\n",
    "sigma2 = 0.1\n",
    "y = y + np.random.normal(0,sqrt(sigma2),x.shape[0])\n",
    "plt.scatter(x,y)"
   ]
  },
  {
   "cell_type": "code",
   "execution_count": 4,
   "metadata": {},
   "outputs": [
    {
     "name": "stdout",
     "output_type": "stream",
     "text": [
      "-3.531 +  0.094 * X1\n"
     ]
    }
   ],
   "source": [
    "# fit model - note that LinearRegression's fit function adds the intercept by default\n",
    "x = np.transpose(np.reshape(x,[1,len(x)]))\n",
    "y = np.transpose(np.reshape(y,[1,len(y)]))\n",
    "lr = LinearRegression()\n",
    "lr.fit(x,y)\n",
    "print(pretty_print_linear(lr.coef_,lr.intercept_))"
   ]
  },
  {
   "cell_type": "code",
   "execution_count": 5,
   "metadata": {},
   "outputs": [
    {
     "data": {
      "text/plain": [
       "[<matplotlib.lines.Line2D at 0x10ce62a58>]"
      ]
     },
     "execution_count": 5,
     "metadata": {},
     "output_type": "execute_result"
    },
    {
     "data": {
      "image/png": "[encoded data removed]",
      "text/plain": [
       "<matplotlib.figure.Figure at 0x10e67c390>"
      ]
     },
     "metadata": {},
     "output_type": "display_data"
    }
   ],
   "source": [
    "xtest = np.transpose(np.reshape(range(25),[1,len(range(25))]))\n",
    "ytest = lr.predict(xtest)\n",
    "plt.scatter(x,y)\n",
    "plt.plot(xtest,ytest, color=\"red\")"
   ]
  },
  {
   "cell_type": "markdown",
   "metadata": {},
   "source": [
    "### Impact of outliers\n",
    "OLE is susceptible to outliers because of the square term in the loss function. For Bayesian regression, the issue arises because of the square term in the pdf of the Gaussian distribution. See below for alternate distributions."
   ]
  },
  {
   "cell_type": "code",
   "execution_count": 6,
   "metadata": {},
   "outputs": [
    {
     "data": {
      "text/plain": [
       "<matplotlib.collections.PathCollection at 0x11399da58>"
      ]
     },
     "execution_count": 6,
     "metadata": {},
     "output_type": "execute_result"
    },
    {
     "data": {
      "image/png": "[encoded data removed]",
      "text/plain": [
       "<matplotlib.figure.Figure at 0x1138aad68>"
      ]
     },
     "metadata": {},
     "output_type": "display_data"
    }
   ],
   "source": [
    "# adding outliers\n",
    "y[19] = -3*y[0]\n",
    "plt.scatter(x,y)"
   ]
  },
  {
   "cell_type": "code",
   "execution_count": 7,
   "metadata": {},
   "outputs": [
    {
     "name": "stdout",
     "output_type": "stream",
     "text": [
      "-4.510 +  0.257 * X1\n"
     ]
    }
   ],
   "source": [
    "# fit model - note that LinearRegression's fit function adds the intercept by default\n",
    "x = np.transpose(np.reshape(x,[1,len(x)]))\n",
    "y = np.transpose(np.reshape(y,[1,len(y)]))\n",
    "lr = LinearRegression()\n",
    "lr.fit(x,y)\n",
    "print(pretty_print_linear(lr.coef_,lr.intercept_))\n"
   ]
  },
  {
   "cell_type": "code",
   "execution_count": 8,
   "metadata": {},
   "outputs": [
    {
     "data": {
      "text/plain": [
       "[<matplotlib.lines.Line2D at 0x1139b3d30>]"
      ]
     },
     "execution_count": 8,
     "metadata": {},
     "output_type": "execute_result"
    },
    {
     "data": {
      "image/png": "[encoded data removed]",
      "text/plain": [
       "<matplotlib.figure.Figure at 0x1139b3550>"
      ]
     },
     "metadata": {},
     "output_type": "display_data"
    }
   ],
   "source": [
    "xtest = np.transpose(np.reshape(range(25),[1,len(range(25))]))\n",
    "ytest = lr.predict(xtest)\n",
    "plt.scatter(x,y)\n",
    "plt.plot(xtest, ytest, color=\"red\")"
   ]
  },
  {
   "cell_type": "markdown",
   "metadata": {},
   "source": [
    "### Using robust regression\n",
    "The statsmodels package has a robust linear regression model function (rlm) "
   ]
  },
  {
   "cell_type": "code",
   "execution_count": 9,
   "metadata": {},
   "outputs": [
    {
     "name": "stderr",
     "output_type": "stream",
     "text": [
      "/Users/mgao8/anaconda3/lib/python3.6/site-packages/statsmodels/compat/pandas.py:56: FutureWarning: The pandas.core.datetools module is deprecated and will be removed in a future version. Please use the pandas.tseries module instead.\n",
      "  from pandas.core import datetools\n"
     ]
    },
    {
     "name": "stdout",
     "output_type": "stream",
     "text": [
      "-3.588 +  0.104 * X1\n"
     ]
    }
   ],
   "source": [
    "import statsmodels.api as sm\n",
    "x1 = np.transpose(np.vstack([np.ones(x.shape[0]),x.flatten()]))\n",
    "# Fit model and print summary\n",
    "rlm_model = sm.RLM(y, x1, M=sm.robust.norms.HuberT())\n",
    "w = rlm_model.fit()\n",
    "w =  w.params\n",
    "print(pretty_print_linear(w[1:],w[0]))\n"
   ]
  },
  {
   "cell_type": "code",
   "execution_count": 10,
   "metadata": {},
   "outputs": [
    {
     "data": {
      "text/plain": [
       "[<matplotlib.lines.Line2D at 0x1139d8ac8>]"
      ]
     },
     "execution_count": 10,
     "metadata": {},
     "output_type": "execute_result"
    },
    {
     "data": {
      "image/png": "[encoded data removed]",
      "text/plain": [
       "<matplotlib.figure.Figure at 0x1a1e304b38>"
      ]
     },
     "metadata": {},
     "output_type": "display_data"
    }
   ],
   "source": [
    "xtest = np.transpose(np.reshape(range(25),[1,len(range(25))]))\n",
    "ytest = w[0] + w[1]*xtest\n",
    "plt.scatter(x,y)\n",
    "plt.plot(xtest, ytest, color=\"red\")"
   ]
  },
  {
   "cell_type": "markdown",
   "metadata": {},
   "source": [
    "### Handling outliers using other distributions\n",
    "Below are some alternate distributions with less fat tail than Gaussian."
   ]
  },
  {
   "cell_type": "markdown",
   "metadata": {},
   "source": [
    "#### Laplace distribution\n",
    "The distribution is defined using two parameters: $\\mu$ and $b$. You can compute the <i>density</i> using the <b>probability density function</b>:\n",
    "$$p(x) = \\frac{1}{2b}\\exp\\left(-\\frac{\\vert x - \\mu\\vert}{b}\\right)$$\n",
    "\n",
    "#### Student-t distribution\n",
    "The distribution is defined using one parameter: $\\nu$ or degrees of freedom. You can compute the <i>density</i> using the <b>probability density function</b>:\n",
    "$$p(x) = \\frac{\\Gamma\\left(\\frac{\\nu + 1}{2}\\right)}{\\sqrt{\\nu\\pi}{\\Gamma\\left(\\frac{\\nu}{2}\\right)}}\\left(1 + \\frac{x^2}{\\nu}\\right)^{-\\frac{\\nu+1}{2}}$$\n"
   ]
  },
  {
   "cell_type": "code",
   "execution_count": 11,
   "metadata": {},
   "outputs": [
    {
     "data": {
      "text/plain": [
       "<matplotlib.legend.Legend at 0x1c1f48a550>"
      ]
     },
     "execution_count": 11,
     "metadata": {},
     "output_type": "execute_result"
    },
    {
     "data": {
      "image/png": "[encoded data removed]",
      "text/plain": [
       "<matplotlib.figure.Figure at 0x113abcf98>"
      ]
     },
     "metadata": {},
     "output_type": "display_data"
    }
   ],
   "source": [
    "# comparing student-t, norm, laplace\n",
    "s = np.linspace(-10,10, 100)\n",
    "df = 2.74335149908\n",
    "plt.plot(s, laplace.pdf(s),'r-', lw=2, alpha=0.6, label='Laplace pdf')#assuming b = 1 and \\mu = 0\n",
    "plt.plot(s, t.pdf(s,df),'b-', lw=2, alpha=0.6, label='Student-t pdf')#nu = df\n",
    "plt.plot(s, norm.pdf(s,0,2),'k-', lw=2, alpha=0.6, label='Gaussian pdf')\n",
    "plt.legend()"
   ]
  },
  {
   "cell_type": "markdown",
   "metadata": {},
   "source": [
    "### Demonstrating Overfitting with Linear Regression\n",
    "Also how to control the overfitting using Ridge Regression"
   ]
  },
  {
   "cell_type": "code",
   "execution_count": 24,
   "metadata": {},
   "outputs": [
    {
     "data": {
      "text/plain": [
       "<matplotlib.legend.Legend at 0x1c21048b70>"
      ]
     },
     "execution_count": 24,
     "metadata": {},
     "output_type": "execute_result"
    },
    {
     "data": {
      "image/png": "[encoded data removed]",
      "text/plain": [
       "<matplotlib.figure.Figure at 0x1c1f3cf320>"
      ]
     },
     "metadata": {},
     "output_type": "display_data"
    }
   ],
   "source": [
    "rng = np.random.RandomState(0)\n",
    "# Generate sample data\n",
    "np.random.seed(0)\n",
    "n_samples = 30\n",
    "true_fun = lambda X: np.cos(1.5 * np.pi * X)\n",
    "X = np.sort(np.random.rand(n_samples))\n",
    "y = true_fun(X) + np.random.randn(n_samples) * 0.2\n",
    "X = X[:,np.newaxis]\n",
    "# Learn linear regression model\n",
    "lrmodel = LinearRegression()\n",
    "lrmodel.fit(X,y)\n",
    "# Do polynomial basis expansion\n",
    "polynomial_features = PolynomialFeatures(degree=10,include_bias=False)\n",
    "# fit linear model on expanded features\n",
    "lrmodel1 = LinearRegression()\n",
    "pipeline = Pipeline([(\"polynomial_features\", polynomial_features),\n",
    "                     (\"linear_regression\", lrmodel1)])\n",
    "pipeline.fit(X,y)\n",
    "# fit ridge regression model on expanded features\n",
    "rrmodel = Ridge(alpha=0.1)\n",
    "pipeline1 = Pipeline([(\"polynomial_features\", polynomial_features),\n",
    "                     (\"ridge_regression\", rrmodel)])\n",
    "pipeline1.fit(X,y)\n",
    "\n",
    "# plot the fitted lines\n",
    "X_all = np.linspace(0, 1, 100)\n",
    "fig = plt.figure(figsize=[12,8])\n",
    "plt.subplot(2,2,1)\n",
    "plt.plot(X_all, lrmodel.predict(X_all[:, np.newaxis]),color='k',label='')\n",
    "plt.scatter(X,y, c='k', label='data')\n",
    "plt.legend()\n",
    "plt.subplot(2,2,2)\n",
    "plt.plot(X_all, pipeline.predict(X_all[:, np.newaxis]),color='r')\n",
    "plt.scatter(X,y, c='k', label='data')\n",
    "plt.legend()\n",
    "plt.subplot(2,2,3)\n",
    "plt.plot(X_all, pipeline1.predict(X_all[:, np.newaxis]),color='b')\n",
    "plt.scatter(X,y, c='k', label='data')\n",
    "plt.legend()"
   ]
  },
  {
   "cell_type": "markdown",
   "metadata": {},
   "source": [
    "### Using LASSO to control overfitting"
   ]
  },
  {
   "cell_type": "code",
   "execution_count": 23,
   "metadata": {},
   "outputs": [
    {
     "data": {
      "text/plain": [
       "<matplotlib.legend.Legend at 0x1c20e58f60>"
      ]
     },
     "execution_count": 23,
     "metadata": {},
     "output_type": "execute_result"
    },
    {
     "data": {
      "image/png": "[encoded data removed]",
      "text/plain": [
       "<matplotlib.figure.Figure at 0x1c20ac7438>"
      ]
     },
     "metadata": {},
     "output_type": "display_data"
    }
   ],
   "source": [
    "# fit LASSO on expanded features\n",
    "llmodel = Lasso(alpha=0.01)\n",
    "pipeline2 = Pipeline([(\"polynomial_features\", polynomial_features),\n",
    "                     (\"lasso_regression\", llmodel)])\n",
    "pipeline2.fit(X,y)\n",
    "# plot the fitted lines\n",
    "X_all = np.linspace(0, 1, 100)\n",
    "plt.plot(X_all, pipeline2.predict(X_all[:, np.newaxis]),label='Lasso Fit')\n",
    "plt.scatter(X,y, c='k', label='data')\n",
    "plt.legend()"
   ]
  },
  {
   "cell_type": "markdown",
   "metadata": {},
   "source": [
    "### Using Ridge Regression to Control Impact of correlated variables"
   ]
  },
  {
   "cell_type": "code",
   "execution_count": 12,
   "metadata": {},
   "outputs": [
    {
     "name": "stdout",
     "output_type": "stream",
     "text": [
      " 0.033 +  0.984 * X1 +  1.995 * X2 + -0.041 * X3\n"
     ]
    }
   ],
   "source": [
    "np.random.seed(0)\n",
    "size = 5000\n",
    " \n",
    "#A dataset with 3 features\n",
    "X = np.random.normal(0, 1, (size, 3))\n",
    "#Y = X0 + 2*X1 + noise\n",
    "Y = X[:,0] + 2*X[:,1] + np.random.normal(0, 2, size)\n",
    "lr = LinearRegression()\n",
    "lr.fit(X, Y)\n",
    "print(pretty_print_linear(lr.coef_,lr.intercept_))"
   ]
  },
  {
   "cell_type": "code",
   "execution_count": 13,
   "metadata": {},
   "outputs": [
    {
     "name": "stdout",
     "output_type": "stream",
     "text": [
      "Linear model: -0.172 + -0.114 * X1 +  1.210 * X2 +  1.763 * X3\n",
      "Linear model: -0.025 +  0.845 * X1 +  1.127 * X2 +  1.057 * X3\n",
      "Linear model:  0.244 + -0.199 * X1 +  1.181 * X2 +  2.023 * X3\n",
      "Linear model: -0.139 +  1.363 * X1 +  1.599 * X2 +  0.003 * X3\n",
      "Linear model:  0.098 +  1.013 * X1 +  1.535 * X2 +  0.406 * X3\n",
      "Linear model:  0.144 +  0.717 * X1 +  0.764 * X2 +  1.584 * X3\n",
      "Linear model:  0.025 +  1.330 * X1 +  1.767 * X2 + -0.149 * X3\n",
      "Linear model: -0.120 +  1.854 * X1 +  1.535 * X2 + -0.539 * X3\n",
      "Linear model:  0.045 + -0.682 * X1 +  0.786 * X2 +  2.921 * X3\n",
      "Linear model:  0.036 +  1.836 * X1 + -0.855 * X2 +  1.795 * X3\n"
     ]
    }
   ],
   "source": [
    "# adding correlated variables\n",
    "size = 100\n",
    "X_seed = np.random.normal(0, 1, size)\n",
    "for i in range(10):\n",
    "    np.random.seed(seed=i)\n",
    "    X1 = X_seed + np.random.normal(0, .1, size)\n",
    "    X2 = X_seed + np.random.normal(0, .1, size)\n",
    "    X3 = X_seed + np.random.normal(0, .1, size)\n",
    "    Y = X1 + X2 + X3 + np.random.normal(0, 1, size)\n",
    "    X = np.array([X1, X2, X3]).T\n",
    " \n",
    "    lr = LinearRegression()\n",
    "    lr.fit(X,Y)\n",
    "    print(\"Linear model:\", pretty_print_linear(lr.coef_,lr.intercept_))\n",
    " "
   ]
  },
  {
   "cell_type": "code",
   "execution_count": 14,
   "metadata": {},
   "outputs": [
    {
     "name": "stdout",
     "output_type": "stream",
     "text": [
      "Ridge model: -0.180 +  0.555 * X1 +  0.667 * X2 +  0.599 * X3\n",
      "Ridge model: -0.008 +  0.636 * X1 +  0.656 * X2 +  0.582 * X3\n",
      "Ridge model:  0.260 +  0.540 * X1 +  0.641 * X2 +  0.635 * X3\n",
      "Ridge model: -0.194 +  0.719 * X1 +  0.728 * X2 +  0.506 * X3\n",
      "Ridge model:  0.079 +  0.678 * X1 +  0.738 * X2 +  0.501 * X3\n",
      "Ridge model:  0.154 +  0.662 * X1 +  0.657 * X2 +  0.649 * X3\n",
      "Ridge model: -0.012 +  0.752 * X1 +  0.757 * X2 +  0.514 * X3\n",
      "Ridge model: -0.130 +  0.743 * X1 +  0.643 * X2 +  0.408 * X3\n",
      "Ridge model:  0.032 +  0.521 * X1 +  0.691 * X2 +  0.784 * X3\n",
      "Ridge model:  0.004 +  0.804 * X1 +  0.525 * X2 +  0.646 * X3\n"
     ]
    }
   ],
   "source": [
    "# handling correlated variables through Ridge Regression\n",
    "size = 100\n",
    "X_seed = np.random.normal(0, 1, size)\n",
    "for i in range(10):\n",
    "    np.random.seed(seed=i)\n",
    "    X1 = X_seed + np.random.normal(0, .1, size)\n",
    "    X2 = X_seed + np.random.normal(0, .1, size)\n",
    "    X3 = X_seed + np.random.normal(0, .1, size)\n",
    "    Y = X1 + X2 + np.random.normal(0, 1, size)\n",
    "    X = np.array([X1, X2, X3]).T\n",
    " \n",
    "    ridge = Ridge(alpha=10)\n",
    "    ridge.fit(X,Y)\n",
    "    print(\"Ridge model:\", pretty_print_linear(ridge.coef_,ridge.intercept_))\n"
   ]
  },
  {
   "cell_type": "markdown",
   "metadata": {},
   "source": [
    "### Demonstrating the role of Lasso in inducing sparsity\n",
    "We will use the Boston housing data set to study this phenomenon"
   ]
  },
  {
   "cell_type": "code",
   "execution_count": 16,
   "metadata": {},
   "outputs": [],
   "source": [
    "boston = load_boston()\n",
    "scaler = StandardScaler()\n",
    "X = scaler.fit_transform(boston[\"data\"])\n",
    "Y = boston[\"target\"]\n",
    "names = boston[\"feature_names\"]"
   ]
  },
  {
   "cell_type": "code",
   "execution_count": 18,
   "metadata": {},
   "outputs": [
    {
     "name": "stdout",
     "output_type": "stream",
     "text": [
      "Cross validation error: 34.7475\n",
      "Linear regression model:  22.533 + -3.747 * X13 + -3.102 * X8 +  2.672 * X6 +  2.652 * X9 + -2.069 * X10 + -2.061 * X11 + -2.057 * X5 +  1.079 * X2 + -0.920 * X1 +  0.857 * X12 +  0.683 * X4 +  0.141 * X3 +  0.020 * X7\n"
     ]
    }
   ],
   "source": [
    "# fit linear regression\n",
    "lrmodel = Ridge(alpha=0.1)\n",
    "lrmodel.fit(X, Y)\n",
    "scores = -np.mean(model_selection.cross_val_score(lrmodel,\n",
    "    X, Y, scoring=\"neg_mean_squared_error\", cv=10))\n",
    "print(\"Cross validation error: %.4f\"%scores)\n",
    "print(\"Linear regression model: \", pretty_print_linear(lrmodel.coef_, lrmodel.intercept_, sort = True))\n",
    "#print(\"Linear regression model: \", pretty_print_linear(lrmodel.coef_, lrmodel.intercept_, names, sort = True))"
   ]
  },
  {
   "cell_type": "code",
   "execution_count": 19,
   "metadata": {},
   "outputs": [
    {
     "name": "stdout",
     "output_type": "stream",
     "text": [
      "Cross validation error: 34.6789\n",
      "Lasso model:  22.533 + -3.707 * X13 +  2.992 * X6 + -1.757 * X11 + -1.081 * X8 + -0.700 * X5 +  0.631 * X12 +  0.540 * X4 + -0.236 * X1 +  0.081 * X2 + -0.000 * X3 + -0.000 * X7 +  0.000 * X9 + -0.000 * X10\n"
     ]
    }
   ],
   "source": [
    "# fit Lasso\n",
    "lasso = Lasso(alpha=0.3)\n",
    "lasso.fit(X, Y)\n",
    "scores = -np.mean(model_selection.cross_val_score(lasso,\n",
    "    X, Y, scoring=\"neg_mean_squared_error\", cv=10))\n",
    "print(\"Cross validation error: %.4f\"%scores)\n",
    "print(\"Lasso model: \", pretty_print_linear(lasso.coef_, lasso.intercept_, sort = True))"
   ]
  },
  {
   "cell_type": "code",
   "execution_count": 20,
   "metadata": {},
   "outputs": [
    {
     "data": {
      "text/plain": [
       "<matplotlib.legend.Legend at 0x1c2070cb38>"
      ]
     },
     "execution_count": 20,
     "metadata": {},
     "output_type": "execute_result"
    },
    {
     "data": {
      "image/png": "[encoded data removed]",
      "text/plain": [
       "<matplotlib.figure.Figure at 0x1c1f4e6160>"
      ]
     },
     "metadata": {},
     "output_type": "display_data"
    }
   ],
   "source": [
    "# comparing the two for sparsity\n",
    "fig = plt.figure(figsize=[12,6])\n",
    "plt.bar(range(1,len(lrmodel.coef_)+1),lrmodel.coef_,color='red',width=0.33,alpha=0.6)\n",
    "plt.bar(np.arange(1.33,len(lrmodel.coef_)+1),lasso.coef_,color='green',width=0.33,alpha=0.6)\n",
    "plt.legend(['Linear Regression', 'Lasso'])"
   ]
  },
  {
   "cell_type": "code",
   "execution_count": 30,
   "metadata": {},
   "outputs": [
    {
     "data": {
      "text/plain": [
       "(-5, 5)"
      ]
     },
     "execution_count": 30,
     "metadata": {},
     "output_type": "execute_result"
    },
    {
     "data": {
      "image/png": "[encoded data removed]",
      "text/plain": [
       "<matplotlib.figure.Figure at 0x10dea88d0>"
      ]
     },
     "metadata": {},
     "output_type": "display_data"
    }
   ],
   "source": [
    "rng = np.random.RandomState(0)\n",
    "# Generate sample data\n",
    "np.random.seed(0)\n",
    "n_samples = 30\n",
    "true_fun = lambda X: np.cos(1.5 * np.pi * X)\n",
    "X = np.sort(np.random.rand(n_samples))\n",
    "y = true_fun(X) + np.random.randn(n_samples) * 0.2\n",
    "X = X[:,np.newaxis]\n",
    "# Learn linear regression model\n",
    "lrmodel = LinearRegression()\n",
    "lrmodel.fit(X,y)\n",
    "# Do polynomial basis expansion\n",
    "polynomial_features = PolynomialFeatures(degree=2,include_bias=False)\n",
    "# fit linear model on expanded features\n",
    "lrmodel1 = LinearRegression()\n",
    "pipeline = Pipeline([(\"polynomial_features\", polynomial_features),\n",
    "                     (\"linear_regression\", lrmodel1)])\n",
    "pipeline.fit(X,y)\n",
    "X_all = np.linspace(0, 1, 100)\n",
    "plt.plot(X_all, pipeline.predict(X_all[:, np.newaxis]),color='k',label='')\n",
    "plt.scatter(X,y, c='k', label='data')\n",
    "plt.ylim([-5,5])"
   ]
  },
  {
   "cell_type": "code",
   "execution_count": null,
   "metadata": {
    "collapsed": true
   },
   "outputs": [],
   "source": []
  }
 ],
 "metadata": {
  "kernelspec": {
   "display_name": "Python 3",
   "language": "python",
   "name": "python3"
  },
  "language_info": {
   "codemirror_mode": {
    "name": "ipython",
    "version": 3
   },
   "file_extension": ".py",
   "mimetype": "text/x-python",
   "name": "python",
   "nbconvert_exporter": "python",
   "pygments_lexer": "ipython3",
   "version": "3.6.5"
  }
 },
 "nbformat": 4,
 "nbformat_minor": 1
}
