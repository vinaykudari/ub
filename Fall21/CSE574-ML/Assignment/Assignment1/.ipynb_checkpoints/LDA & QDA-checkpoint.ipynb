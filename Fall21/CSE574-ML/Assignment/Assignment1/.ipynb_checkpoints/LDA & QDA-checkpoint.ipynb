{
 "cells": [
  {
   "cell_type": "code",
   "execution_count": 1,
   "id": "a2401cd3",
   "metadata": {},
   "outputs": [],
   "source": [
    "import pickle\n",
    "import sys\n",
    "from math import sqrt, pi\n",
    "import matplotlib.pyplot as plt\n",
    "import numpy as np\n",
    "from numpy.linalg import det, inv\n",
    "import seaborn as sns\n",
    "%matplotlib inline"
   ]
  },
  {
   "cell_type": "code",
   "execution_count": 2,
   "id": "a592c31e",
   "metadata": {},
   "outputs": [],
   "source": [
    "X_train, y_train, X_test, y_test = pickle.load(open('data/sample.pickle','rb'),encoding = 'latin1')"
   ]
  },
  {
   "cell_type": "code",
   "execution_count": 3,
   "id": "efe886ba",
   "metadata": {},
   "outputs": [
    {
     "data": {
      "text/plain": [
       "((150, 2), (150, 1))"
      ]
     },
     "execution_count": 3,
     "metadata": {},
     "output_type": "execute_result"
    }
   ],
   "source": [
    "X_train.shape, y_train.shape"
   ]
  },
  {
   "cell_type": "code",
   "execution_count": 4,
   "id": "beda0704",
   "metadata": {},
   "outputs": [
    {
     "data": {
      "text/plain": [
       "((100, 2), (100, 1))"
      ]
     },
     "execution_count": 4,
     "metadata": {},
     "output_type": "execute_result"
    }
   ],
   "source": [
    "X_test.shape, y_test.shape"
   ]
  },
  {
   "cell_type": "code",
   "execution_count": 161,
   "id": "36bbccb6",
   "metadata": {},
   "outputs": [],
   "source": [
    "def feature_mean(samples, labels):\n",
    "    distinct_labels = np.unique(labels)\n",
    "    means = []\n",
    "    \n",
    "    for label in distinct_labels:\n",
    "        means.append(samples[np.flatnonzero(labels == label)].mean(0))\n",
    "        \n",
    "    return np.asarray(means).T"
   ]
  },
  {
   "cell_type": "code",
   "execution_count": 185,
   "id": "505f92ce",
   "metadata": {},
   "outputs": [],
   "source": [
    "def feature_cov(samples, labels):\n",
    "    distinct_labels = np.unique(labels)\n",
    "    covariances = []\n",
    "    \n",
    "    for label in distinct_labels:\n",
    "        covariances.append(np.cov(samples[np.flatnonzero(labels == label)].T))\n",
    "        \n",
    "    return np.asarray(covariances)"
   ]
  },
  {
   "cell_type": "code",
   "execution_count": 7,
   "id": "cf299f67",
   "metadata": {},
   "outputs": [],
   "source": [
    "def ldaLearn(X,y):    \n",
    "    means = feature_mean(X, y)\n",
    "    covmat = np.cov(X.T)\n",
    "    return means, covmat"
   ]
  },
  {
   "cell_type": "code",
   "execution_count": 83,
   "id": "b7184111",
   "metadata": {},
   "outputs": [],
   "source": [
    "def ldaTest(means, covmat, Xtest, ytest):\n",
    "    preds = np.argmax(\n",
    "        np.apply_along_axis(pdf, 0, means, covmat, Xtest),\n",
    "        axis=1,\n",
    "    ) + 1\n",
    "    acc = np.mean(ytest.reshape((Xtest.shape[0],)) == preds)\n",
    "    preds = preds.reshape((Xtest.shape[0], 1))\n",
    "    return acc, preds"
   ]
  },
  {
   "cell_type": "code",
   "execution_count": 195,
   "id": "16f93cef",
   "metadata": {},
   "outputs": [],
   "source": [
    "def pdf(mean, sigma, Xtest):\n",
    "    K = 1/sqrt(((2 * pi) ** len(mean)) * det(sigma))\n",
    "    return K * np.exp(-0.5 * ((Xtest - mean) @ inv(sigma) * (Xtest - mean)).sum(axis=1))"
   ]
  },
  {
   "cell_type": "code",
   "execution_count": 202,
   "id": "c1ca11ea",
   "metadata": {},
   "outputs": [
    {
     "name": "stdout",
     "output_type": "stream",
     "text": [
      "LDA Accuracy = 0.97\n"
     ]
    }
   ],
   "source": [
    "# LDA\n",
    "means,covmat = ldaLearn(X_train, y_train)\n",
    "ldaacc,ldares = ldaTest(means,covmat,X_test,y_test)\n",
    "print('LDA Accuracy = '+str(ldaacc))"
   ]
  },
  {
   "cell_type": "code",
   "execution_count": 139,
   "id": "28f3d7ce",
   "metadata": {},
   "outputs": [],
   "source": [
    "def qdaLearn(X,y):\n",
    "    means = feature_mean(X, y)\n",
    "    covmats = feature_cov(X, y)\n",
    "    return means, covmats"
   ]
  },
  {
   "cell_type": "code",
   "execution_count": 224,
   "id": "4331923b",
   "metadata": {},
   "outputs": [],
   "source": [
    "def qdaTest(means, covmats, Xtest, ytest):\n",
    "    preds = np.asarray(\n",
    "        [pdf(means.T[i], covmats[i], Xtest) for i in range(means.shape[1])],\n",
    "    ).T\n",
    "    preds = np.argmax(preds, axis=1) + 1\n",
    "    acc = np.mean(ytest.reshape((Xtest.shape[0],)) == preds)\n",
    "    preds = preds.reshape((Xtest.shape[0], 1))\n",
    "\n",
    "    return acc, preds"
   ]
  },
  {
   "cell_type": "code",
   "execution_count": 230,
   "id": "a91fa31b",
   "metadata": {},
   "outputs": [
    {
     "name": "stdout",
     "output_type": "stream",
     "text": [
      "(2, 5) (5, 2, 2)\n",
      "QDA Accuracy = 0.96\n"
     ]
    }
   ],
   "source": [
    "means,covmats = qdaLearn(X_train, y_train)\n",
    "print(means.shape, covmats.shape)\n",
    "qdaacc,qdares = qdaTest(means, covmats, X_test, y_test)\n",
    "print('QDA Accuracy = '+str(qdaacc))"
   ]
  }
 ],
 "metadata": {
  "kernelspec": {
   "display_name": "Python 3 (ipykernel)",
   "language": "python",
   "name": "python3"
  },
  "language_info": {
   "codemirror_mode": {
    "name": "ipython",
    "version": 3
   },
   "file_extension": ".py",
   "mimetype": "text/x-python",
   "name": "python",
   "nbconvert_exporter": "python",
   "pygments_lexer": "ipython3",
   "version": "3.9.6"
  }
 },
 "nbformat": 4,
 "nbformat_minor": 5
}
