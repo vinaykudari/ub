{
 "cells": [
  {
   "cell_type": "code",
   "execution_count": 2,
   "metadata": {},
   "outputs": [],
   "source": [
    "import multiprocessing as mp\n",
    "import matplotlib.pyplot as plt\n",
    "import time"
   ]
  },
  {
   "cell_type": "code",
   "execution_count": 3,
   "metadata": {},
   "outputs": [],
   "source": [
    "import numpy as np\n",
    "from scipy.optimize import minimize\n",
    "from scipy.io import loadmat\n",
    "from math import sqrt, exp\n",
    "\n",
    "\n",
    "def initializeWeights(n_in, n_out):\n",
    "    \"\"\"\n",
    "    # initializeWeights return the random weights for Neural Network given the\n",
    "    # number of node in the input layer and output layer\n",
    "\n",
    "    # Input:\n",
    "    # n_in: number of nodes of the input layer\n",
    "    # n_out: number of nodes of the output layer\n",
    "       \n",
    "    # Output: \n",
    "    # W: matrix of random initial weights with size (n_out x (n_in + 1))\"\"\"\n",
    "\n",
    "    epsilon = sqrt(6) / sqrt(n_in + n_out + 1)\n",
    "    W = (np.random.rand(n_out, n_in + 1) * 2 * epsilon) - epsilon\n",
    "    return W\n",
    "\n",
    "\n",
    "def sigmoid(z):\n",
    "    \"\"\"# Notice that z can be a scalar, a vector or a matrix\n",
    "    # return the sigmoid of input z\"\"\"\n",
    "\n",
    "    return 1 / (1 + np.exp(-z))\n",
    "\n",
    "def preprocess():\n",
    "    \"\"\" Input:\n",
    "     Although this function doesn't have any input, you are required to load\n",
    "     the MNIST data set from file 'mnist_all.mat'.\n",
    "\n",
    "     Output:\n",
    "     train_data: matrix of training set. Each row of train_data contains \n",
    "       feature vector of a image\n",
    "     train_label: vector of label corresponding to each image in the training\n",
    "       set\n",
    "     validation_data: matrix of training set. Each row of validation_data \n",
    "       contains feature vector of a image\n",
    "     validation_label: vector of label corresponding to each image in the \n",
    "       training set\n",
    "     test_data: matrix of training set. Each row of test_data contains \n",
    "       feature vector of a image\n",
    "     test_label: vector of label corresponding to each image in the testing\n",
    "       set\n",
    "\n",
    "     Some suggestions for preprocessing step:\n",
    "     - feature selection\"\"\"\n",
    "\n",
    "    mat = loadmat('mnist_all.mat')  # loads the MAT object as a Dictionary\n",
    "\n",
    "    # Split the training sets into two sets of 50000 randomly sampled training examples and 10000 validation examples.     \n",
    "    train_size = 50_000\n",
    "    valid_size = 10_000\n",
    "    test_size  = 10_000\n",
    "\n",
    "    feature_size = 784\n",
    "\n",
    "    train_valid_data = np.empty((0, feature_size))\n",
    "    train_valid_label = np.empty((0, 1))\n",
    "\n",
    "    train_data = np.empty((0, feature_size))\n",
    "    train_label = np.empty((0, 1))\n",
    "\n",
    "    validation_data = np.empty((0, feature_size))\n",
    "    validation_label = np.empty((0, 1))\n",
    "\n",
    "    test_data = np.empty((0, feature_size))\n",
    "    test_label = np.empty((0, 1))\n",
    "\n",
    "    for key in mat:\n",
    "        if key.startswith('train'):\n",
    "            labels = np.ones(mat[key].shape[0]) * int(key[-1])\n",
    "            train_valid_data = np.vstack([train_valid_data, mat[key]])\n",
    "            train_valid_label = np.vstack([train_valid_label, labels.reshape(mat[key].shape[0], 1)])\n",
    "        elif key.startswith('test'):\n",
    "            labels = np.ones(mat[key].shape[0]) * int(key[-1])\n",
    "            test_data = np.vstack([test_data, mat[key]])\n",
    "            test_label = np.vstack([test_label, labels.reshape(mat[key].shape[0], 1)])\n",
    "            \n",
    "    idxs = np.random.permutation(train_size + valid_size)\n",
    "\n",
    "    train_data = train_valid_data[idxs[:train_size], :]\n",
    "    train_label = train_valid_label[idxs[:train_size]]\n",
    "\n",
    "    validation_data = train_valid_data[idxs[train_size:], :]\n",
    "    validation_label = train_valid_label[idxs[train_size:]]\n",
    "    \n",
    "\n",
    "    # Feature selection\n",
    "    idx_to_del = []\n",
    "    for i in range(feature_size):\n",
    "        if train_data[:, i].min() == train_data[:, i].max() and validation_data[:, i].min() == validation_data[:, i].max():\n",
    "            idx_to_del.append(i)\n",
    "        \n",
    "    train_data = np.delete(train_data, idx_to_del, axis=1)\n",
    "    validation_data = np.delete(validation_data, idx_to_del, axis=1)\n",
    "    test_data = np.delete(test_data, idx_to_del, axis=1)\n",
    "\n",
    "    print('preprocess done')\n",
    "\n",
    "    return train_data, train_label, validation_data, validation_label, test_data, test_label\n",
    "\n",
    "\n",
    "def nnObjFunction(params, *args):\n",
    "    \"\"\"% nnObjFunction computes the value of objective function (negative log \n",
    "    %   likelihood error function with regularization) given the parameters \n",
    "    %   of Neural Networks, thetraining data, their corresponding training \n",
    "    %   labels and lambda - regularization hyper-parameter.\n",
    "\n",
    "    % Input:\n",
    "    % params: vector of weights of 2 matrices w1 (weights of connections from\n",
    "    %     input layer to hidden layer) and w2 (weights of connections from\n",
    "    %     hidden layer to output layer) where all of the weights are contained\n",
    "    %     in a single vector.\n",
    "    % n_input: number of node in input layer (not include the bias node)\n",
    "    % n_hidden: number of node in hidden layer (not include the bias node)\n",
    "    % n_class: number of node in output layer (number of classes in\n",
    "    %     classification problem\n",
    "    % training_data: matrix of training data. Each row of this matrix\n",
    "    %     represents the feature vector of a particular image\n",
    "    % training_label: the vector of truth label of training images. Each entry\n",
    "    %     in the vector represents the truth label of its corresponding image.\n",
    "    % lambda: regularization hyper-parameter. This value is used for fixing the\n",
    "    %     overfitting problem.\n",
    "       \n",
    "    % Output: \n",
    "    % obj_val: a scalar value representing value of error function\n",
    "    % obj_grad: a SINGLE vector of gradient value of error function\n",
    "    % NOTE: how to compute obj_grad\n",
    "    % Use backpropagation algorithm to compute the gradient of error function\n",
    "    % for each weights in weight matrices.\n",
    "\n",
    "    %%%%%%%%%%%%%%%%%%%%%%%%%%%%%%%%%%%%%%%%%%%%%%%%%%%%%%%%%%\n",
    "    % reshape 'params' vector into 2 matrices of weight w1 and w2\n",
    "    % w1: matrix of weights of connections from input layer to hidden layers.\n",
    "    %     w1(i, j) represents the weight of connection from unit j in input \n",
    "    %     layer to unit i in hidden layer.\n",
    "    % w2: matrix of weights of connections from hidden layer to output layers.\n",
    "    %     w2(i, j) represents the weight of connection from unit j in hidden \n",
    "    %     layer to unit i in output layer.\"\"\"\n",
    "\n",
    "    n_input, n_hidden, n_class, training_data, training_label, lambdaval = args\n",
    "\n",
    "    w1 = params[0:n_hidden * (n_input + 1)].reshape((n_hidden, (n_input + 1)))\n",
    "    w2 = params[(n_hidden * (n_input + 1)):].reshape((n_class, (n_hidden + 1)))\n",
    "    obj_val = 0\n",
    "\n",
    "    # Your code here\n",
    "    n_train = training_data.shape[0]\n",
    "    \n",
    "    # add bias to training data\n",
    "    training_data = np.hstack([training_data, np.ones((n_train, 1))])\n",
    "    \n",
    "    layer_one_net = np.dot(training_data, w1.T)\n",
    "    # activation function\n",
    "    layer_one_out = sigmoid(layer_one_net)\n",
    "    \n",
    "    # add bias to layer one\n",
    "    layer_one_out = np.hstack([layer_one_out, np.ones((n_train, 1))])\n",
    "    \n",
    "    output_net = np.dot(layer_one_out, w2.T)\n",
    "    # activation function\n",
    "    output = sigmoid(output_net)\n",
    "    \n",
    "    # one hot encode labels\n",
    "    encoded_labels = np.zeros((n_train, n_class))\n",
    "    for idx in range(n_train):\n",
    "        encoded_labels[idx][int(training_label[idx][0])] = 1.0\n",
    "    \n",
    "    delta = output - encoded_labels\n",
    "    \n",
    "    # w2 gradient: derivative of error function with respect to the weight from the hidden unit to output unit\n",
    "    w2_grad = np.dot(delta.T, layer_one_out)\n",
    "    \n",
    "    w1_grad = layer_one_out * (1 - layer_one_out) * np.dot(delta, w2)\n",
    "    w1_grad = np.dot(w1_grad.T, training_data)\n",
    "    \n",
    "    # remove gradient for bias term\n",
    "    w1_grad = w1_grad[:-1, :]\n",
    "    \n",
    "    # negative log loss\n",
    "    loss = -np.sum((encoded_labels * np.log(output)) + (1.0 - encoded_labels) * np.log(1.0 - output))\n",
    "    \n",
    "    mean_loss = loss/n_train\n",
    "    \n",
    "    reg = (lambdaval / 2 * n_train) * ((np.sum(w1 * w1) + np.sum(w2 * w2)))\n",
    "    obj_val = loss + reg\n",
    "        \n",
    "    w1_grad = (w1_grad + (lambdaval * w1)) / n_train\n",
    "    w2_grad = (w2_grad + (lambdaval * w2)) / n_train\n",
    "\n",
    "    # Make sure you reshape the gradient matrices to a 1D array. for instance if your gradient matrices are grad_w1 and grad_w2\n",
    "    # you would use code similar to the one below to create a flat array\n",
    "    # obj_grad = np.concatenate((grad_w1.flatten(), grad_w2.flatten()),0)\n",
    "    \n",
    "    obj_grad = np.concatenate((w1_grad.flatten(), w2_grad.flatten()), 0)\n",
    "\n",
    "    return (obj_val, obj_grad)\n",
    "\n",
    "\n",
    "def nnPredict(w1, w2, data):\n",
    "    \"\"\"% nnPredict predicts the label of data given the parameter w1, w2 of Neural\n",
    "    % Network.\n",
    "\n",
    "    % Input:\n",
    "    % w1: matrix of weights of connections from input layer to hidden layers.\n",
    "    %     w1(i, j) represents the weight of connection from unit j in input \n",
    "    %     layer to unit i in hidden layer.\n",
    "    % w2: matrix of weights of connections from hidden layer to output layers.\n",
    "    %     w2(i, j) represents the weight of connection from unit j in hidden \n",
    "    %     layer to unit i in output layer.\n",
    "    % data: matrix of data. Each row of this matrix represents the feature \n",
    "    %       vector of a particular image\n",
    "       \n",
    "    % Output: \n",
    "    % label: a column vector of predicted labels\"\"\"\n",
    "    \n",
    "    n = data.shape[0]\n",
    "    labels = np.zeros((n, 1))\n",
    "    \n",
    "    data = np.hstack([data, np.ones((n, 1))])\n",
    "    \n",
    "    layer_one_net = np.dot(data, w1.T)\n",
    "    layer_one_out = sigmoid(layer_one_net)\n",
    "    layer_one_out = np.hstack([layer_one_out, np.ones((n, 1))])\n",
    "    \n",
    "    output_net = np.dot(layer_one_out, w2.T)\n",
    "    output = sigmoid(output_net)\n",
    "    \n",
    "    for i in range(n):\n",
    "        labels[i] = np.argmax(output[i])\n",
    "\n",
    "    return labels"
   ]
  },
  {
   "cell_type": "code",
   "execution_count": 4,
   "metadata": {},
   "outputs": [
    {
     "name": "stdout",
     "output_type": "stream",
     "text": [
      "preprocess done\n"
     ]
    }
   ],
   "source": [
    "train_data, train_label, validation_data, validation_label, test_data, test_label = preprocess()\n",
    "n_input = train_data.shape[1]"
   ]
  },
  {
   "cell_type": "code",
   "execution_count": 5,
   "metadata": {},
   "outputs": [],
   "source": [
    "def infer(param):\n",
    "    start_time = time.time()\n",
    "    n_hidden, lambdaval = param\n",
    "    n_class = 10\n",
    "    opts = {'maxiter': 50}\n",
    "    \n",
    "    initial_w1 = initializeWeights(n_input, n_hidden)\n",
    "    initial_w2 = initializeWeights(n_hidden, n_class)\n",
    "    initialWeights = np.concatenate((initial_w1.flatten(), initial_w2.flatten()), 0)\n",
    "    \n",
    "    args = (n_input, n_hidden, n_class, train_data, train_label, lambdaval)\n",
    "      \n",
    "    nn_params = minimize(nnObjFunction, initialWeights, jac=True, args=args, method='CG', options=opts)\n",
    "    \n",
    "    w1 = nn_params.x[0:n_hidden * (n_input + 1)].reshape((n_hidden, (n_input + 1)))\n",
    "    w2 = nn_params.x[(n_hidden * (n_input + 1)):].reshape((n_class, (n_hidden + 1)))\n",
    "    \n",
    "    predicted_label = nnPredict(w1, w2, train_data)\n",
    "    train_accuracy = 100 * np.mean((predicted_label == train_label).astype(float))\n",
    "    \n",
    "    predicted_label = nnPredict(w1, w2, validation_data)\n",
    "    valid_accuracy = 100 * np.mean((predicted_label == validation_label).astype(float))\n",
    "    \n",
    "    predicted_label = nnPredict(w1, w2, test_data)\n",
    "    test_accuracy = 100 * np.mean((predicted_label == test_label).astype(float))\n",
    "    time_taken = int(time.time() - start_time)\n",
    "    \n",
    "    return [n_hidden, lambdaval, time_taken, (train_accuracy, valid_accuracy, test_accuracy)]"
   ]
  },
  {
   "cell_type": "markdown",
   "metadata": {},
   "source": [
    "### Hidden Units"
   ]
  },
  {
   "cell_type": "code",
   "execution_count": 8,
   "metadata": {},
   "outputs": [
    {
     "data": {
      "text/plain": [
       "array([ 4.        , 13.33333333, 22.66666667, 32.        ])"
      ]
     },
     "execution_count": 8,
     "metadata": {},
     "output_type": "execute_result"
    }
   ],
   "source": [
    "np.linspace(start_range, end_range, step)"
   ]
  },
  {
   "cell_type": "code",
   "execution_count": 9,
   "metadata": {},
   "outputs": [
    {
     "name": "stderr",
     "output_type": "stream",
     "text": [
      "<ipython-input-3-24b069470c58>:28: RuntimeWarning: overflow encountered in exp\n",
      "  return 1 / (1 + np.exp(-z))\n",
      "<ipython-input-3-24b069470c58>:28: RuntimeWarning: overflow encountered in exp\n",
      "  return 1 / (1 + np.exp(-z))\n",
      "<ipython-input-3-24b069470c58>:28: RuntimeWarning: overflow encountered in exp\n",
      "  return 1 / (1 + np.exp(-z))\n",
      "<ipython-input-3-24b069470c58>:28: RuntimeWarning: overflow encountered in exp\n",
      "  return 1 / (1 + np.exp(-z))\n",
      "<ipython-input-3-24b069470c58>:28: RuntimeWarning: overflow encountered in exp\n",
      "  return 1 / (1 + np.exp(-z))\n",
      "<ipython-input-3-24b069470c58>:28: RuntimeWarning: overflow encountered in exp\n",
      "  return 1 / (1 + np.exp(-z))\n",
      "<ipython-input-3-24b069470c58>:28: RuntimeWarning: overflow encountered in exp\n",
      "  return 1 / (1 + np.exp(-z))\n",
      "<ipython-input-3-24b069470c58>:28: RuntimeWarning: overflow encountered in exp\n",
      "  return 1 / (1 + np.exp(-z))\n"
     ]
    }
   ],
   "source": [
    "start_range = 4\n",
    "end_range = 32\n",
    "step = 4\n",
    "\n",
    "pool = mp.Pool(8)\n",
    "hidden_units_res = pool.map(\n",
    "    infer,\n",
    "    (\n",
    "        (n_hidden, 0) for n_hidden in [4, 8, 12, 16, 20, 24, 28, 32]\n",
    "    )\n",
    ")\n",
    "pool.close()\n",
    "pool.join()"
   ]
  },
  {
   "cell_type": "code",
   "execution_count": 22,
   "metadata": {},
   "outputs": [
    {
     "data": {
      "text/plain": [
       "[[4, 0, 10, (11.244, 11.31, 11.379999999999999)],\n",
       " [8, 0, 26, (38.112, 38.72, 38.23)],\n",
       " [12, 0, 33, (37.836, 38.21, 37.24)],\n",
       " [16, 0, 26, (85.00999999999999, 84.95, 85.02)],\n",
       " [20, 0, 31, (82.792, 82.37, 82.86)],\n",
       " [24, 0, 26, (76.216, 76.06, 76.27000000000001)],\n",
       " [28, 0, 27, (84.974, 85.21, 84.50999999999999)],\n",
       " [32, 0, 20, (88.378, 88.17, 88.31)]]"
      ]
     },
     "execution_count": 22,
     "metadata": {},
     "output_type": "execute_result"
    }
   ],
   "source": [
    "hidden_units_res"
   ]
  },
  {
   "cell_type": "code",
   "execution_count": 34,
   "metadata": {},
   "outputs": [
    {
     "name": "stderr",
     "output_type": "stream",
     "text": [
      "<ipython-input-3-24b069470c58>:28: RuntimeWarning: overflow encountered in exp\n",
      "  return 1 / (1 + np.exp(-z))\n",
      "<ipython-input-3-24b069470c58>:28: RuntimeWarning: overflow encountered in exp\n",
      "  return 1 / (1 + np.exp(-z))\n",
      "<ipython-input-3-24b069470c58>:28: RuntimeWarning: overflow encountered in exp\n",
      "  return 1 / (1 + np.exp(-z))\n"
     ]
    }
   ],
   "source": [
    "hidden_units_res = []\n",
    "for n_hidden in [4, 8, 12, 16, 20, 24, 28, 32]:\n",
    "    hidden_units_res.append(infer((n_hidden, 0)))"
   ]
  },
  {
   "cell_type": "code",
   "execution_count": 46,
   "metadata": {},
   "outputs": [
    {
     "data": {
      "text/plain": [
       "[[4, 0, 6, (11.234, 11.28, 11.34)],\n",
       " [8, 0, 25, (50.076, 50.43, 50.129999999999995)],\n",
       " [12, 0, 17, (79.616, 80.2, 80.60000000000001)],\n",
       " [16, 0, 24, (75.568, 75.69, 75.61)],\n",
       " [20, 0, 19, (87.064, 86.75, 87.42)],\n",
       " [24, 0, 22, (86.08, 85.88, 86.04)],\n",
       " [28, 0, 17, (87.142, 87.03999999999999, 87.39)],\n",
       " [32, 0, 19, (85.932, 86.09, 86.33999999999999)]]"
      ]
     },
     "execution_count": 46,
     "metadata": {},
     "output_type": "execute_result"
    }
   ],
   "source": [
    "hidden_units_res"
   ]
  },
  {
   "cell_type": "code",
   "execution_count": 35,
   "metadata": {},
   "outputs": [
    {
     "data": {
      "image/png": "[encoded data removed]",
      "text/plain": [
       "<Figure size 576x432 with 1 Axes>"
      ]
     },
     "metadata": {
      "needs_background": "light"
     },
     "output_type": "display_data"
    }
   ],
   "source": [
    "n_hidden = []\n",
    "time_taken = []\n",
    "train_acc = []\n",
    "valid_acc = []\n",
    "test_acc = []\n",
    "\n",
    "for res in hidden_units_res:\n",
    "    n_hidden.append(res[0])\n",
    "    time_taken.append(res[2])\n",
    "    train_acc.append(res[3][0])\n",
    "    valid_acc.append(res[3][1])\n",
    "    test_acc.append(res[3][2])\n",
    "\n",
    "plt.figure(figsize=(8, 6))\n",
    "plt.plot(n_hidden, train_acc, label='Train Accuracy')\n",
    "plt.xlabel('No of hidden nodes')\n",
    "plt.ylabel('Accuracy')\n",
    "\n",
    "plt.plot(n_hidden, valid_acc, label='Validation Accuracy')\n",
    "plt.xlabel('No of hidden nodes')\n",
    "plt.ylabel('Accuracy')\n",
    "\n",
    "plt.plot(n_hidden, test_acc, label='Test Accuracy')\n",
    "plt.xlabel('No of hidden nodes')\n",
    "plt.ylabel('Accuracy')\n",
    "\n",
    "plt.legend()\n",
    "plt.show()"
   ]
  },
  {
   "cell_type": "code",
   "execution_count": 36,
   "metadata": {},
   "outputs": [
    {
     "name": "stderr",
     "output_type": "stream",
     "text": [
      "No handles with labels found to put in legend.\n"
     ]
    },
    {
     "data": {
      "image/png": "[encoded data removed]",
      "text/plain": [
       "<Figure size 576x432 with 1 Axes>"
      ]
     },
     "metadata": {
      "needs_background": "light"
     },
     "output_type": "display_data"
    }
   ],
   "source": [
    "plt.figure(figsize=(8, 6))\n",
    "plt.plot(n_hidden, time_taken)\n",
    "plt.xlabel('No of hidden nodes')\n",
    "plt.ylabel('Time Taken')\n",
    "\n",
    "plt.legend()\n",
    "plt.show()"
   ]
  },
  {
   "cell_type": "markdown",
   "metadata": {},
   "source": [
    "### Lambda Val"
   ]
  },
  {
   "cell_type": "code",
   "execution_count": 69,
   "metadata": {},
   "outputs": [
    {
     "name": "stderr",
     "output_type": "stream",
     "text": [
      "<ipython-input-3-24b069470c58>:28: RuntimeWarning: overflow encountered in exp\n",
      "  return 1 / (1 + np.exp(-z))\n",
      "<ipython-input-3-24b069470c58>:28: RuntimeWarning: overflow encountered in exp\n",
      "  return 1 / (1 + np.exp(-z))\n",
      "<ipython-input-3-24b069470c58>:28: RuntimeWarning: overflow encountered in exp\n",
      "  return 1 / (1 + np.exp(-z))\n",
      "<ipython-input-3-24b069470c58>:28: RuntimeWarning: overflow encountered in exp\n",
      "  return 1 / (1 + np.exp(-z))\n",
      "<ipython-input-3-24b069470c58>:28: RuntimeWarning: overflow encountered in exp\n",
      "  return 1 / (1 + np.exp(-z))\n",
      "<ipython-input-3-24b069470c58>:28: RuntimeWarning: overflow encountered in exp\n",
      "  return 1 / (1 + np.exp(-z))\n",
      "<ipython-input-3-24b069470c58>:28: RuntimeWarning: overflow encountered in exp\n",
      "  return 1 / (1 + np.exp(-z))\n",
      "<ipython-input-3-24b069470c58>:28: RuntimeWarning: overflow encountered in exp\n",
      "  return 1 / (1 + np.exp(-z))\n",
      "<ipython-input-3-24b069470c58>:28: RuntimeWarning: overflow encountered in exp\n",
      "  return 1 / (1 + np.exp(-z))\n"
     ]
    }
   ],
   "source": [
    "start_range = 0\n",
    "end_range = 60\n",
    "step = 5\n",
    "\n",
    "pool = mp.Pool(8)\n",
    "lambdaval_res = pool.map(\n",
    "    infer,\n",
    "    (\n",
    "        (20, lambdaval) for lambdaval in np.linspace(start_range, end_range, step).astype(int)\n",
    "    )\n",
    ")\n",
    "pool.close()\n",
    "pool.join()"
   ]
  },
  {
   "cell_type": "code",
   "execution_count": 21,
   "metadata": {},
   "outputs": [
    {
     "data": {
      "text/plain": [
       "[[20, 5, 14, (13.788, 13.8, 14.11)],\n",
       " [20, 10, 14, (8.856, 8.37, 9.120000000000001)],\n",
       " [20, 15, 16, (11.238, 11.65, 11.17)],\n",
       " [20, 20, 8, (12.438, 12.21, 12.770000000000001)],\n",
       " [20, 25, 12, (8.866, 8.5, 8.959999999999999)],\n",
       " [20, 30, 14, (13.414000000000001, 13.22, 13.54)],\n",
       " [20, 35, 4, (11.576, 10.94, 11.450000000000001)],\n",
       " [20, 40, 4, (13.209999999999999, 12.280000000000001, 13.34)],\n",
       " [20, 45, 15, (9.203999999999999, 9.229999999999999, 9.66)],\n",
       " [20, 50, 17, (11.314, 11.27, 11.129999999999999)],\n",
       " [20, 55, 15, (13.838000000000001, 13.58, 14.46)],\n",
       " [20, 60, 6, (7.4079999999999995, 7.580000000000001, 7.57)]]"
      ]
     },
     "execution_count": 21,
     "metadata": {},
     "output_type": "execute_result"
    }
   ],
   "source": [
    "lambdaval_res"
   ]
  },
  {
   "cell_type": "code",
   "execution_count": 27,
   "metadata": {},
   "outputs": [
    {
     "name": "stderr",
     "output_type": "stream",
     "text": [
      "<ipython-input-3-24b069470c58>:28: RuntimeWarning: overflow encountered in exp\n",
      "  return 1 / (1 + np.exp(-z))\n",
      "<ipython-input-3-24b069470c58>:28: RuntimeWarning: overflow encountered in exp\n",
      "  return 1 / (1 + np.exp(-z))\n",
      "<ipython-input-3-24b069470c58>:28: RuntimeWarning: overflow encountered in exp\n",
      "  return 1 / (1 + np.exp(-z))\n",
      "<ipython-input-3-24b069470c58>:28: RuntimeWarning: overflow encountered in exp\n",
      "  return 1 / (1 + np.exp(-z))\n",
      "<ipython-input-3-24b069470c58>:28: RuntimeWarning: overflow encountered in exp\n",
      "  return 1 / (1 + np.exp(-z))\n",
      "<ipython-input-3-24b069470c58>:28: RuntimeWarning: overflow encountered in exp\n",
      "  return 1 / (1 + np.exp(-z))\n",
      "<ipython-input-3-24b069470c58>:28: RuntimeWarning: overflow encountered in exp\n",
      "  return 1 / (1 + np.exp(-z))\n",
      "<ipython-input-3-24b069470c58>:28: RuntimeWarning: overflow encountered in exp\n",
      "  return 1 / (1 + np.exp(-z))\n",
      "<ipython-input-3-24b069470c58>:28: RuntimeWarning: overflow encountered in exp\n",
      "  return 1 / (1 + np.exp(-z))\n",
      "<ipython-input-3-24b069470c58>:28: RuntimeWarning: overflow encountered in exp\n",
      "  return 1 / (1 + np.exp(-z))\n",
      "<ipython-input-3-24b069470c58>:28: RuntimeWarning: overflow encountered in exp\n",
      "  return 1 / (1 + np.exp(-z))\n",
      "<ipython-input-3-24b069470c58>:28: RuntimeWarning: overflow encountered in exp\n",
      "  return 1 / (1 + np.exp(-z))\n",
      "<ipython-input-3-24b069470c58>:28: RuntimeWarning: overflow encountered in exp\n",
      "  return 1 / (1 + np.exp(-z))\n",
      "<ipython-input-3-24b069470c58>:28: RuntimeWarning: overflow encountered in exp\n",
      "  return 1 / (1 + np.exp(-z))\n",
      "<ipython-input-3-24b069470c58>:28: RuntimeWarning: overflow encountered in exp\n",
      "  return 1 / (1 + np.exp(-z))\n",
      "<ipython-input-3-24b069470c58>:28: RuntimeWarning: overflow encountered in exp\n",
      "  return 1 / (1 + np.exp(-z))\n",
      "<ipython-input-3-24b069470c58>:28: RuntimeWarning: overflow encountered in exp\n",
      "  return 1 / (1 + np.exp(-z))\n",
      "<ipython-input-3-24b069470c58>:28: RuntimeWarning: overflow encountered in exp\n",
      "  return 1 / (1 + np.exp(-z))\n",
      "<ipython-input-3-24b069470c58>:28: RuntimeWarning: overflow encountered in exp\n",
      "  return 1 / (1 + np.exp(-z))\n",
      "<ipython-input-3-24b069470c58>:28: RuntimeWarning: overflow encountered in exp\n",
      "  return 1 / (1 + np.exp(-z))\n",
      "<ipython-input-3-24b069470c58>:28: RuntimeWarning: overflow encountered in exp\n",
      "  return 1 / (1 + np.exp(-z))\n",
      "<ipython-input-3-24b069470c58>:28: RuntimeWarning: overflow encountered in exp\n",
      "  return 1 / (1 + np.exp(-z))\n",
      "<ipython-input-3-24b069470c58>:28: RuntimeWarning: overflow encountered in exp\n",
      "  return 1 / (1 + np.exp(-z))\n",
      "<ipython-input-3-24b069470c58>:28: RuntimeWarning: overflow encountered in exp\n",
      "  return 1 / (1 + np.exp(-z))\n",
      "<ipython-input-3-24b069470c58>:28: RuntimeWarning: overflow encountered in exp\n",
      "  return 1 / (1 + np.exp(-z))\n",
      "<ipython-input-3-24b069470c58>:28: RuntimeWarning: overflow encountered in exp\n",
      "  return 1 / (1 + np.exp(-z))\n",
      "<ipython-input-3-24b069470c58>:28: RuntimeWarning: overflow encountered in exp\n",
      "  return 1 / (1 + np.exp(-z))\n"
     ]
    }
   ],
   "source": [
    "lambdaval_res = []\n",
    "for lambdaval in [5, 10, 15, 20, 25, 30, 35, 40, 45, 50, 55, 60]:\n",
    "    lambdaval_res.append(infer((32, lambdaval*0.01)))"
   ]
  },
  {
   "cell_type": "code",
   "execution_count": 29,
   "metadata": {},
   "outputs": [
    {
     "name": "stderr",
     "output_type": "stream",
     "text": [
      "<ipython-input-3-24b069470c58>:28: RuntimeWarning: overflow encountered in exp\n",
      "  return 1 / (1 + np.exp(-z))\n",
      "<ipython-input-3-24b069470c58>:28: RuntimeWarning: overflow encountered in exp\n",
      "  return 1 / (1 + np.exp(-z))\n",
      "<ipython-input-3-24b069470c58>:28: RuntimeWarning: overflow encountered in exp\n",
      "  return 1 / (1 + np.exp(-z))\n",
      "<ipython-input-3-24b069470c58>:28: RuntimeWarning: overflow encountered in exp\n",
      "  return 1 / (1 + np.exp(-z))\n",
      "<ipython-input-3-24b069470c58>:28: RuntimeWarning: overflow encountered in exp\n",
      "  return 1 / (1 + np.exp(-z))\n",
      "<ipython-input-3-24b069470c58>:28: RuntimeWarning: overflow encountered in exp\n",
      "  return 1 / (1 + np.exp(-z))\n",
      "<ipython-input-3-24b069470c58>:28: RuntimeWarning: overflow encountered in exp\n",
      "  return 1 / (1 + np.exp(-z))\n",
      "<ipython-input-3-24b069470c58>:28: RuntimeWarning: overflow encountered in exp\n",
      "  return 1 / (1 + np.exp(-z))\n",
      "<ipython-input-3-24b069470c58>:28: RuntimeWarning: overflow encountered in exp\n",
      "  return 1 / (1 + np.exp(-z))\n",
      "<ipython-input-3-24b069470c58>:28: RuntimeWarning: overflow encountered in exp\n",
      "  return 1 / (1 + np.exp(-z))\n",
      "<ipython-input-3-24b069470c58>:28: RuntimeWarning: overflow encountered in exp\n",
      "  return 1 / (1 + np.exp(-z))\n",
      "<ipython-input-3-24b069470c58>:28: RuntimeWarning: overflow encountered in exp\n",
      "  return 1 / (1 + np.exp(-z))\n",
      "<ipython-input-3-24b069470c58>:28: RuntimeWarning: overflow encountered in exp\n",
      "  return 1 / (1 + np.exp(-z))\n",
      "<ipython-input-3-24b069470c58>:28: RuntimeWarning: overflow encountered in exp\n",
      "  return 1 / (1 + np.exp(-z))\n",
      "<ipython-input-3-24b069470c58>:28: RuntimeWarning: overflow encountered in exp\n",
      "  return 1 / (1 + np.exp(-z))\n",
      "<ipython-input-3-24b069470c58>:28: RuntimeWarning: overflow encountered in exp\n",
      "  return 1 / (1 + np.exp(-z))\n",
      "<ipython-input-3-24b069470c58>:28: RuntimeWarning: overflow encountered in exp\n",
      "  return 1 / (1 + np.exp(-z))\n",
      "<ipython-input-3-24b069470c58>:28: RuntimeWarning: overflow encountered in exp\n",
      "  return 1 / (1 + np.exp(-z))\n",
      "<ipython-input-3-24b069470c58>:28: RuntimeWarning: overflow encountered in exp\n",
      "  return 1 / (1 + np.exp(-z))\n",
      "<ipython-input-3-24b069470c58>:28: RuntimeWarning: overflow encountered in exp\n",
      "  return 1 / (1 + np.exp(-z))\n",
      "<ipython-input-3-24b069470c58>:28: RuntimeWarning: overflow encountered in exp\n",
      "  return 1 / (1 + np.exp(-z))\n",
      "<ipython-input-3-24b069470c58>:28: RuntimeWarning: overflow encountered in exp\n",
      "  return 1 / (1 + np.exp(-z))\n",
      "<ipython-input-3-24b069470c58>:28: RuntimeWarning: overflow encountered in exp\n",
      "  return 1 / (1 + np.exp(-z))\n",
      "<ipython-input-3-24b069470c58>:28: RuntimeWarning: overflow encountered in exp\n",
      "  return 1 / (1 + np.exp(-z))\n",
      "<ipython-input-3-24b069470c58>:28: RuntimeWarning: overflow encountered in exp\n",
      "  return 1 / (1 + np.exp(-z))\n"
     ]
    }
   ],
   "source": [
    "lambdaval_res = []\n",
    "for lambdaval in [0, 5, 10, 15, 20, 25, 30, 35, 40, 45, 50, 55, 60]:\n",
    "    lambdaval_res.append(infer((32, lambdaval)))"
   ]
  },
  {
   "cell_type": "code",
   "execution_count": 30,
   "metadata": {},
   "outputs": [
    {
     "data": {
      "image/png": "[encoded data removed]",
      "text/plain": [
       "<Figure size 576x432 with 1 Axes>"
      ]
     },
     "metadata": {
      "needs_background": "light"
     },
     "output_type": "display_data"
    }
   ],
   "source": [
    "lambdaval = []\n",
    "train_acc = []\n",
    "valid_acc = []\n",
    "test_acc = []\n",
    "\n",
    "for res in lambdaval_res:\n",
    "    lambdaval.append(res[1])\n",
    "    train_acc.append(res[3][0])\n",
    "    valid_acc.append(res[3][1])\n",
    "    test_acc.append(res[3][2])\n",
    "\n",
    "plt.figure(figsize=(8, 6))\n",
    "plt.plot(lambdaval, train_acc, label='Train Accuracy')\n",
    "plt.xlabel('Lambda Value')\n",
    "plt.ylabel('Accuracy')\n",
    "\n",
    "plt.plot(lambdaval, valid_acc, label='Validation Accuracy')\n",
    "plt.xlabel('Lambda Value')\n",
    "plt.ylabel('Accuracy')\n",
    "\n",
    "plt.plot(lambdaval, test_acc, label='Test Accuracy')\n",
    "plt.xlabel('Lambda Value')\n",
    "plt.ylabel('Accuracy')\n",
    "\n",
    "plt.legend()\n",
    "plt.show()"
   ]
  },
  {
   "cell_type": "code",
   "execution_count": 48,
   "metadata": {},
   "outputs": [],
   "source": [
    "import pickle\n",
    "m = pickle.load(open(\"params.pickle\", \"rb\" ))"
   ]
  }
 ],
 "metadata": {
  "kernelspec": {
   "display_name": "Python 3",
   "language": "python",
   "name": "python3"
  },
  "language_info": {
   "codemirror_mode": {
    "name": "ipython",
    "version": 3
   },
   "file_extension": ".py",
   "mimetype": "text/x-python",
   "name": "python",
   "nbconvert_exporter": "python",
   "pygments_lexer": "ipython3",
   "version": "3.8.5"
  }
 },
 "nbformat": 4,
 "nbformat_minor": 5
}
