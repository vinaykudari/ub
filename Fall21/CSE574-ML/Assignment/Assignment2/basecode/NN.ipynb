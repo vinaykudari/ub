{
 "cells": [
  {
   "cell_type": "code",
   "execution_count": 1,
   "metadata": {},
   "outputs": [],
   "source": [
    "import numpy as np\n",
    "from scipy.optimize import minimize\n",
    "from scipy.io import loadmat\n",
    "from math import sqrt, exp\n",
    "\n",
    "from matplotlib import pyplot as plt\n",
    "%matplotlib inline "
   ]
  },
  {
   "cell_type": "code",
   "execution_count": 2,
   "metadata": {},
   "outputs": [],
   "source": [
    "def display(arr, dim_x=28, dim_y=28):\n",
    "    plt.imshow(arr.reshape((dim_x, dim_y)), cmap=\"Greys\")"
   ]
  },
  {
   "cell_type": "code",
   "execution_count": 3,
   "metadata": {},
   "outputs": [],
   "source": [
    "mat = loadmat('mnist_all.mat')"
   ]
  },
  {
   "cell_type": "code",
   "execution_count": 10,
   "metadata": {},
   "outputs": [],
   "source": [
    "train_size = 50_000\n",
    "valid_size = 10_000\n",
    "test_size  = 10_000\n",
    "\n",
    "feature_size = 784\n",
    "\n",
    "train_valid_data = np.empty((0, feature_size))\n",
    "train_valid_label = np.empty((0, 1))\n",
    "\n",
    "train_data = np.empty((0, feature_size))\n",
    "train_label = np.empty((0, 1))\n",
    "\n",
    "valid_data = np.empty((0, feature_size))\n",
    "valid_label = np.empty((0, 1))\n",
    "\n",
    "test_data = np.empty((0, feature_size))\n",
    "test_label = np.empty((0, 1))\n",
    "\n",
    "for key in mat:\n",
    "    if key.startswith('train'):\n",
    "        labels = np.ones(mat[key].shape[0]) * int(key[-1])\n",
    "        train_valid_data = np.vstack([train_valid_data, mat[key]])\n",
    "        train_valid_label = np.vstack([train_valid_label, labels.reshape(mat[key].shape[0], 1)])\n",
    "    elif key.startswith('test'):\n",
    "        labels = np.ones(mat[key].shape[0]) * int(key[-1])\n",
    "        test_data = np.vstack([test_data, mat[key]])\n",
    "        test_label = np.vstack([test_label, labels.reshape(mat[key].shape[0], 1)])\n",
    "\n",
    "idxs = np.random.permutation(train_size + valid_size)\n",
    "\n",
    "train_data = train_valid_data[idxs[:train_size], :]\n",
    "train_label = train_valid_label[idxs[:train_size]]\n",
    "\n",
    "valid_data = train_valid_data[idxs[train_size:], :]\n",
    "valid_label = train_valid_label[idxs[train_size:]]"
   ]
  },
  {
   "cell_type": "code",
   "execution_count": 6,
   "metadata": {},
   "outputs": [
    {
     "data": {
      "text/plain": [
       "(None, array([6.]))"
      ]
     },
     "execution_count": 6,
     "metadata": {},
     "output_type": "execute_result"
    },
    {
     "data": {
      "image/png": "[encoded data removed]",
      "text/plain": [
       "<Figure size 432x288 with 1 Axes>"
      ]
     },
     "metadata": {
      "needs_background": "light"
     },
     "output_type": "display_data"
    }
   ],
   "source": [
    "i = 45000\n",
    "display(train_data[i]), train_label[i]"
   ]
  },
  {
   "cell_type": "code",
   "execution_count": 7,
   "metadata": {},
   "outputs": [
    {
     "data": {
      "text/plain": [
       "(None, array([4.]))"
      ]
     },
     "execution_count": 7,
     "metadata": {},
     "output_type": "execute_result"
    },
    {
     "data": {
      "image/png": "[encoded data removed]",
      "text/plain": [
       "<Figure size 432x288 with 1 Axes>"
      ]
     },
     "metadata": {
      "needs_background": "light"
     },
     "output_type": "display_data"
    }
   ],
   "source": [
    "i = 6500\n",
    "display(valid_data[i]), valid_label[i]"
   ]
  },
  {
   "cell_type": "code",
   "execution_count": 8,
   "metadata": {},
   "outputs": [
    {
     "data": {
      "text/plain": [
       "(None, array([4.]))"
      ]
     },
     "execution_count": 8,
     "metadata": {},
     "output_type": "execute_result"
    },
    {
     "data": {
      "image/png": "[encoded data removed]",
      "text/plain": [
       "<Figure size 432x288 with 1 Axes>"
      ]
     },
     "metadata": {
      "needs_background": "light"
     },
     "output_type": "display_data"
    }
   ],
   "source": [
    "i = 4500\n",
    "display(test_data[i]), test_label[i]"
   ]
  },
  {
   "cell_type": "code",
   "execution_count": 9,
   "metadata": {},
   "outputs": [],
   "source": [
    "idx_to_del = []\n",
    "for i in range(feature_size):\n",
    "    if train_data[:, i].min() == train_data[:, i].max() and valid_data[:, i].min() == valid_data[:, i].max():\n",
    "        idx_to_del.append(i)\n",
    "        \n",
    "train_data = np.delete(train_data, idx_to_del, axis=1)"
   ]
  }
 ],
 "metadata": {
  "kernelspec": {
   "display_name": "Python 3",
   "language": "python",
   "name": "python3"
  },
  "language_info": {
   "codemirror_mode": {
    "name": "ipython",
    "version": 3
   },
   "file_extension": ".py",
   "mimetype": "text/x-python",
   "name": "python",
   "nbconvert_exporter": "python",
   "pygments_lexer": "ipython3",
   "version": "3.8.5"
  }
 },
 "nbformat": 4,
 "nbformat_minor": 5
}
