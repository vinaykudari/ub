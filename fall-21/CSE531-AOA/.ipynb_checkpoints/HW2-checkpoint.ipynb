{
 "cells": [
  {
   "cell_type": "markdown",
   "id": "724da1b6",
   "metadata": {},
   "source": [
    "### Max Contiguous Sub Array"
   ]
  },
  {
   "cell_type": "code",
   "execution_count": 84,
   "id": "64011fe7",
   "metadata": {},
   "outputs": [],
   "source": [
    "lis = [-3, 12, -6, 10, -5, 2]\n",
    "lis = [1, 2, 5, -3]"
   ]
  },
  {
   "cell_type": "code",
   "execution_count": 94,
   "id": "61edc8df",
   "metadata": {},
   "outputs": [
    {
     "name": "stdout",
     "output_type": "stream",
     "text": [
      "helper, low=0, high=3, mid=1\n",
      "helper, low=0, high=1, mid=0\n",
      "helper, low=0, high=0, mid=0\n",
      "helper, low=1, high=1, mid=1\n",
      "across_helper, low=0, mid=0, high=1\n",
      "i=0, low=0, True\n",
      "l_sum = 1, r_sum = 2\n",
      "left_l=0, left_h=0, left_sum=1\n",
      "right_l=1, right_h=1, right_sum=2\n",
      "across_l=0, across_h=1, across_sum=3\n",
      "helper, low=2, high=3, mid=2\n",
      "helper, low=2, high=2, mid=2\n",
      "helper, low=3, high=3, mid=3\n",
      "across_helper, low=2, mid=2, high=3\n",
      "i=2, low=2, True\n",
      "l_sum = 5, r_sum = -3\n",
      "left_l=2, left_h=2, left_sum=5\n",
      "right_l=3, right_h=3, right_sum=-3\n",
      "across_l=2, across_h=3, across_sum=2\n",
      "across_helper, low=0, mid=1, high=3\n",
      "i=1, low=0, True\n",
      "l_sum = 2, r_sum = 5\n",
      "left_l=0, left_h=1, left_sum=3\n",
      "right_l=2, right_h=2, right_sum=5\n",
      "across_l=1, across_h=2, across_sum=7\n"
     ]
    },
    {
     "data": {
      "text/plain": [
       "(1, 2, 7)"
      ]
     },
     "execution_count": 94,
     "metadata": {},
     "output_type": "execute_result"
    }
   ],
   "source": [
    "def max_contiguous_sub_array(array):\n",
    "    def across_helper(array, low, mid, high):\n",
    "        print(f'across_helper, low={low}, mid={mid}, high={high}')\n",
    "        l_sum = float('-inf')\n",
    "        r_sum = float('-inf')\n",
    "        i = mid\n",
    "        s = 0\n",
    "        \n",
    "        while i >= low:\n",
    "            print(f'i={i}, low={low}, {i >= low}')\n",
    "            s += array[i]\n",
    "            if s >= l_sum:\n",
    "                l_sum = s\n",
    "                low = i\n",
    "            i -= 1\n",
    "            print(f'i={i}, low={low}, {i >= low}')\n",
    "            \n",
    "        s = 0\n",
    "        for i in range(mid+1, high+1):\n",
    "            s += array[i]\n",
    "            if s > r_sum:\n",
    "                r_sum = s\n",
    "                high = i\n",
    "            \n",
    "        print(f'l_sum = {l_sum}, r_sum = {r_sum}')\n",
    "            \n",
    "        return low, high, l_sum + r_sum\n",
    "    \n",
    "    def helper(array, low, high):\n",
    "        print(f'helper, low={low}, high={high}, mid={(low + high)//2}')\n",
    "        if low == high:\n",
    "            return low, high, array[low]\n",
    "        else:\n",
    "            mid = (low + high)//2\n",
    "\n",
    "            left_l, left_h, left_sum = helper(array, low, mid) \n",
    "            right_l, right_h, right_sum = helper(array, mid+1, high)\n",
    "            across_l, across_h, across_sum = across_helper(array, low, mid, high)\n",
    "            \n",
    "            print(f'left_l={left_l}, left_h={left_h}, left_sum={left_sum}')\n",
    "            print(f'right_l={right_l}, right_h={right_h}, right_sum={right_sum}')\n",
    "            print(f'across_l={across_l}, across_h={across_h}, across_sum={across_sum}')\n",
    "\n",
    "            if left_sum >= right_sum and left_sum >= across_sum:\n",
    "                return left_l, left_h, left_sum\n",
    "            elif right_sum >= left_sum and right_sum >= across_sum:\n",
    "                return right_l, right_h, right_sum\n",
    "            else:\n",
    "                return across_l, across_h, across_sum\n",
    "        \n",
    "    return helper(array, 0, len(array)-1)\n",
    "\n",
    "max_contiguous_sub_array(lis)"
   ]
  }
 ],
 "metadata": {
  "kernelspec": {
   "display_name": "Python 3 (ipykernel)",
   "language": "python",
   "name": "python3"
  },
  "language_info": {
   "codemirror_mode": {
    "name": "ipython",
    "version": 3
   },
   "file_extension": ".py",
   "mimetype": "text/x-python",
   "name": "python",
   "nbconvert_exporter": "python",
   "pygments_lexer": "ipython3",
   "version": "3.9.6"
  }
 },
 "nbformat": 4,
 "nbformat_minor": 5
}
