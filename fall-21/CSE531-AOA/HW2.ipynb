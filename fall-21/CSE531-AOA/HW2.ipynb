{
 "cells": [
  {
   "cell_type": "markdown",
   "id": "47e28b20",
   "metadata": {},
   "source": [
    "### Max Contiguous Sub Array"
   ]
  },
  {
   "cell_type": "code",
   "execution_count": 97,
   "id": "2d05a376",
   "metadata": {},
   "outputs": [],
   "source": [
    "lis = [-3, 12, -6, 10, -5, 2]"
   ]
  },
  {
   "cell_type": "code",
   "execution_count": 98,
   "id": "14eda1ee",
   "metadata": {},
   "outputs": [
    {
     "data": {
      "text/plain": [
       "(1, 3, 16)"
      ]
     },
     "execution_count": 98,
     "metadata": {},
     "output_type": "execute_result"
    }
   ],
   "source": [
    "def max_contiguous_sub_array(array):\n",
    "    def across_helper(array, low, mid, high):\n",
    "        l_sum = float('-inf')\n",
    "        r_sum = float('-inf')\n",
    "        i = mid\n",
    "        s = 0\n",
    "        \n",
    "        while i >= low:\n",
    "            s += array[i]\n",
    "            if s >= l_sum:\n",
    "                l_sum = s\n",
    "                alow = i\n",
    "            i -= 1\n",
    "            \n",
    "        s = 0\n",
    "        for i in range(mid+1, high+1):\n",
    "            s += array[i]\n",
    "            if s > r_sum:\n",
    "                r_sum = s\n",
    "                high = i\n",
    "            \n",
    "        return alow, high, l_sum + r_sum\n",
    "    \n",
    "    def helper(array, low, high):\n",
    "        if low == high:\n",
    "            return low, high, array[low]\n",
    "        else:\n",
    "            mid = (low + high)//2\n",
    "\n",
    "            left_l, left_h, left_sum = helper(array, low, mid) \n",
    "            right_l, right_h, right_sum = helper(array, mid+1, high)\n",
    "            across_l, across_h, across_sum = across_helper(array, low, mid, high)\n",
    "\n",
    "            if left_sum >= right_sum and left_sum >= across_sum:\n",
    "                return left_l, left_h, left_sum\n",
    "            elif right_sum >= left_sum and right_sum >= across_sum:\n",
    "                return right_l, right_h, right_sum\n",
    "            else:\n",
    "                return across_l, across_h, across_sum\n",
    "        \n",
    "    return helper(array, 0, len(array)-1)\n",
    "\n",
    "max_contiguous_sub_array(lis)"
   ]
  },
  {
   "cell_type": "markdown",
   "id": "1654cde6",
   "metadata": {},
   "source": [
    "### k numbers closest to median "
   ]
  },
  {
   "cell_type": "code",
   "execution_count": 101,
   "id": "b66b6dd3",
   "metadata": {},
   "outputs": [],
   "source": [
    "import random"
   ]
  },
  {
   "cell_type": "code",
   "execution_count": 1257,
   "id": "bd1b9e35",
   "metadata": {},
   "outputs": [],
   "source": [
    "def partition(array, low, pivot):\n",
    "    x = array[pivot]\n",
    "    i = low - 1\n",
    "    for j in range(low, len(array)):\n",
    "        if array[j] < x:\n",
    "            i += 1\n",
    "            array[i], array[j] = array[j], array[i]\n",
    "\n",
    "    array[i + 1], array[pivot] = array[pivot], array[i + 1]\n",
    "    return i + 1 "
   ]
  },
  {
   "cell_type": "code",
   "execution_count": 2061,
   "id": "3058dc28",
   "metadata": {},
   "outputs": [],
   "source": [
    "def n_smallest_number_index(arr, l, r, k):\n",
    "    print(f'arr: {arr}, l={l}, r={r}')\n",
    "    if l == r:\n",
    "        return arr[l], l\n",
    "    \n",
    "    pivot = random.randint(l , r)\n",
    "    arr[pivot], arr[r] = arr[r], arr[pivot]\n",
    "    pos = partition(arr, l, r)\n",
    "    if pos - l == k - 1:\n",
    "        return arr[pos], pos\n",
    "    if pos - l > k - 1: \n",
    "        return n_smallest_number_index(arr, l, pos - 1, k)\n",
    "\n",
    "    return n_smallest_number_index(arr, pos + 1, r, k - pos + l - 1)"
   ]
  },
  {
   "cell_type": "code",
   "execution_count": 2065,
   "id": "47c8cf7d",
   "metadata": {},
   "outputs": [],
   "source": [
    "def k_nearest_to_median(arr, k):\n",
    "    res = []\n",
    "    l = 0\n",
    "    r = len(arr) - 1\n",
    "    median, pos = n_smallest_number_index(arr, 0, r, ((r+1)//2)+1)\n",
    "    arr[pos], arr[r] = arr[r], arr[pos]\n",
    "    print(f'median: {median}')\n",
    "    print(f'arr: {arr}')\n",
    "    arr = [abs(median - i) for i in arr]\n",
    "    print(f'arr: {arr}')\n",
    "    x = n_smallest_number_index(arr[:-1], 0, r-1, k)\n",
    "    print(f'arr: {arr}')\n",
    "    for i in range(k):\n",
    "        res.append(median - arr[i])\n",
    "        \n",
    "    return res"
   ]
  },
  {
   "cell_type": "code",
   "execution_count": 2071,
   "id": "49f04488",
   "metadata": {},
   "outputs": [
    {
     "name": "stdout",
     "output_type": "stream",
     "text": [
      "arr: [22, 3, 4, 13, 1, 8, 2, 21], l=0, r=7\n",
      "arr: [3, 1, 2, 4, 22, 8, 21, 13], l=4, r=7\n",
      "arr: [3, 1, 2, 4, 13, 8, 21, 22], l=4, r=6\n",
      "median: 8\n",
      "arr: [3, 1, 2, 4, 22, 21, 13, 8]\n",
      "arr: [5, 7, 6, 4, 14, 13, 5, 0]\n",
      "arr: [5, 7, 6, 4, 14, 13, 5], l=0, r=6\n",
      "arr: [5, 7, 6, 4, 5, 13, 14], l=0, r=4\n",
      "arr: [5, 5, 6, 4, 7, 13, 14], l=0, r=3\n",
      "arr: [4, 5, 6, 5, 7, 13, 14], l=1, r=3\n",
      "arr: [4, 5, 6, 5, 7, 13, 14], l=2, r=3\n",
      "arr: [5, 7, 6, 4, 14, 13, 5, 0]\n"
     ]
    },
    {
     "data": {
      "text/plain": [
       "[3, 1, 2, 4]"
      ]
     },
     "execution_count": 2071,
     "metadata": {},
     "output_type": "execute_result"
    }
   ],
   "source": [
    "lis = [22, 3, 4, 13, 1, 8, 2, 21]\n",
    "k_nearest_to_median(lis, 4)"
   ]
  },
  {
   "cell_type": "code",
   "execution_count": 1863,
   "id": "8fc147b9",
   "metadata": {},
   "outputs": [
    {
     "data": {
      "text/plain": [
       "[19, 20, 13, 1, 8, 2, 21]"
      ]
     },
     "execution_count": 1863,
     "metadata": {},
     "output_type": "execute_result"
    }
   ],
   "source": [
    "[19, 20, 13, 1, 8, 2, 21]"
   ]
  },
  {
   "cell_type": "markdown",
   "id": "3becee35",
   "metadata": {},
   "source": [
    "### Weighted median"
   ]
  },
  {
   "cell_type": "code",
   "execution_count": 1947,
   "id": "bc863217",
   "metadata": {},
   "outputs": [],
   "source": [
    "arr = [5,    1,    3,    2,     4]\n",
    "W =   [0.25, 0.15, 0.20, 0.10, 0.30]\n",
    "\n",
    "arr_map = {arr[i]:W[i] for i in range(len(arr))}"
   ]
  },
  {
   "cell_type": "code",
   "execution_count": 2027,
   "id": "84855c62",
   "metadata": {},
   "outputs": [],
   "source": [
    "def weighted_median(arr, w, l , r):\n",
    "    length = r - l + 1\n",
    "    \n",
    "    if length == 1:\n",
    "        return arr[0]\n",
    "        \n",
    "    pivot = random.randint(l, r)\n",
    "    print(f'pivot: {pivot}')\n",
    "    arr[pivot], arr[r] = arr[r], arr[pivot]\n",
    "    pos = partition(arr, l, pivot)\n",
    "    print(f'arr: {arr}, W: {W}, pos: {pos}')\n",
    "    \n",
    "    lsum = round(sum([arr_map[i] for i in arr[:pos]]), 2)\n",
    "    pweight = arr_map[arr[pos]]\n",
    "    rsum = round(1 - lsum - pweight, 2)\n",
    "    \n",
    "    print(f'lsum:{lsum}, pweight:{pweight}, rsum:{rsum}')\n",
    "    \n",
    "    if lsum < 0.5 and rsum <= 0.5:\n",
    "        return arr[pos], pos\n",
    "    elif lsum < 0.5 and rsum > 0.5:\n",
    "        pos += 1\n",
    "    elif lsum > 0.5 and rsum < 0.5:\n",
    "        pos -= 1"
   ]
  },
  {
   "cell_type": "code",
   "execution_count": 2042,
   "id": "4b7be4da",
   "metadata": {},
   "outputs": [
    {
     "name": "stdout",
     "output_type": "stream",
     "text": [
      "pivot: 3\n",
      "arr: [1, 3, 2, 4, 5, 6], W: [0.2, 0.1, 0.3, 0.1, 0.15, 0.15], pos: 3\n",
      "lsum:0.45, pweight:0.3, rsum:0.25\n"
     ]
    },
    {
     "data": {
      "text/plain": [
       "(4, 3)"
      ]
     },
     "execution_count": 2042,
     "metadata": {},
     "output_type": "execute_result"
    }
   ],
   "source": [
    "arr = [5,    1,    3,    2,     4,   6]\n",
    "W =   [0.20, 0.10, 0.30, 0.10, 0.15, 0.15]\n",
    "weighted_median(arr, W.copy(), 0, 4)"
   ]
  },
  {
   "cell_type": "code",
   "execution_count": 2020,
   "id": "c82e1e58",
   "metadata": {},
   "outputs": [],
   "source": [
    "def w_median(A, l):\n",
    "    n = len(A)\n",
    "    m, _ = n_smallest_number_index(A, 0, n-1, (n//2)+1)\n",
    "    B, C = [], []\n",
    "    w = 0\n",
    "    \n",
    "    print(f'A:{A}, B:{B}, C:{C}, m={m}')\n",
    "    \n",
    "    if n == 1:\n",
    "        return A[0]\n",
    "    \n",
    "    for i in range(n):\n",
    "        if A[i] < m:\n",
    "            w += arr_map[A[i]]\n",
    "            B.append(A[i])\n",
    "        else:\n",
    "            C.append(A[i])\n",
    "    \n",
    "    if l + w > 0.5:\n",
    "        return w_median(B, l)\n",
    "    else:\n",
    "        return w_median(C, w)"
   ]
  },
  {
   "cell_type": "code",
   "execution_count": 2021,
   "id": "788a28d1",
   "metadata": {},
   "outputs": [
    {
     "name": "stdout",
     "output_type": "stream",
     "text": [
      "A:[1, 2, 3, 4, 5], B:[], C:[], m=3\n",
      "A:[3, 4, 5], B:[], C:[], m=4\n",
      "A:[4, 5], B:[], C:[], m=5\n",
      "A:[5], B:[], C:[], m=5\n"
     ]
    },
    {
     "data": {
      "text/plain": [
       "5"
      ]
     },
     "execution_count": 2021,
     "metadata": {},
     "output_type": "execute_result"
    }
   ],
   "source": [
    "arr = [5,    1,    3,    2,     4]\n",
    "w_median(arr, 0)"
   ]
  }
 ],
 "metadata": {
  "kernelspec": {
   "display_name": "Python 3 (ipykernel)",
   "language": "python",
   "name": "python3"
  },
  "language_info": {
   "codemirror_mode": {
    "name": "ipython",
    "version": 3
   },
   "file_extension": ".py",
   "mimetype": "text/x-python",
   "name": "python",
   "nbconvert_exporter": "python",
   "pygments_lexer": "ipython3",
   "version": "3.9.6"
  }
 },
 "nbformat": 4,
 "nbformat_minor": 5
}
