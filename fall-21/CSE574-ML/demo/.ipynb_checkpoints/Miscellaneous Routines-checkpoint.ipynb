{
 "cells": [
  {
   "cell_type": "code",
   "execution_count": 1,
   "metadata": {
    "collapsed": false,
    "deletable": true,
    "editable": true
   },
   "outputs": [],
   "source": [
    "import xlrd\n",
    "import numpy as np\n",
    "import matplotlib.pyplot as plt\n",
    "from scipy.stats import multivariate_normal as mvn\n",
    "import sklearn.neural_network as nn\n",
    "from scipy.stats import norm\n",
    "%matplotlib inline"
   ]
  },
  {
   "cell_type": "code",
   "execution_count": 30,
   "metadata": {
    "collapsed": true,
    "deletable": true,
    "editable": true
   },
   "outputs": [],
   "source": [
    "hypnames = ['Even','Odd','Squares','Pow2', 'Pow4','Pow16','Mult5','Mult10','Num15to25','Num1to100']"
   ]
  },
  {
   "cell_type": "code",
   "execution_count": 47,
   "metadata": {
    "collapsed": true,
    "deletable": true,
    "editable": true
   },
   "outputs": [],
   "source": [
    "workbook = xlrd.open_workbook('/Users/chandola/Downloads/Class_03_08_2017__09_26_1Q_quickquestion20170308926.xlsx')\n",
    "worksheet = workbook.sheet_by_name(workbook.sheet_names()[0])\n",
    "num_rows = worksheet.nrows - 1\n",
    "curr_row = -1\n",
    "flag = False\n",
    "vals = []\n",
    "while curr_row < num_rows:\n",
    "    curr_row += 1\n",
    "    row = worksheet.row(curr_row)\n",
    "    cell_value = worksheet.cell_value(curr_row, 0)\n",
    "    if flag:\n",
    "        try:\n",
    "            cval = int(cell_value)\n",
    "            \n",
    "            vals.append(cval)\n",
    "        except ValueError:\n",
    "            continue\n",
    "    if('Student' in str(cell_value)):\n",
    "        flag = True\n",
    "vals = np.array(vals)\n",
    "#plt.hist(vals)\n",
    "nvals = np.bincount(vals,minlength=11)\n",
    "\n",
    "nvals = nvals[1:11]\n",
    "nvals = nvals/np.sum(nvals[1:11])\n"
   ]
  },
  {
   "cell_type": "code",
   "execution_count": 48,
   "metadata": {
    "collapsed": false,
    "deletable": true,
    "editable": true
   },
   "outputs": [
    {
     "data": {
      "image/png": "[encoded data removed]",
      "text/plain": [
       "<matplotlib.figure.Figure at 0x119271518>"
      ]
     },
     "metadata": {},
     "output_type": "display_data"
    }
   ],
   "source": [
    "fig = plt.figure(figsize=[10,6])\n",
    "plt.bar(range(1,11),list(nvals),alpha=0.6)\n",
    "xt = plt.xticks(range(1,11))\n",
    "ax = plt.gca()\n",
    "ax.set_xticklabels(hypnames,rotation=45,ha='right')\n",
    "plt.ylim([0,1])\n",
    "plt.title('Posterior Distribution, D = {16,4,64,32}')\n",
    "plt.savefig('/Users/chandola/cse574/slides/images/socrativeexp2017_posteriord2.png',dpi=240)"
   ]
  },
  {
   "cell_type": "code",
   "execution_count": 37,
   "metadata": {
    "collapsed": false,
    "deletable": true,
    "editable": true
   },
   "outputs": [
    {
     "data": {
      "text/plain": [
       "<matplotlib.collections.PathCollection at 0x10b641350>"
      ]
     },
     "execution_count": 37,
     "metadata": {},
     "output_type": "execute_result"
    },
    {
     "data": {
      "image/png": "[encoded data removed]",
      "text/plain": [
       "<matplotlib.figure.Figure at 0x10b565310>"
      ]
     },
     "metadata": {},
     "output_type": "display_data"
    }
   ],
   "source": [
    "# generate data\n",
    "\n",
    "n = 100\n",
    "data = np.random.multivariate_normal([6,6],[[1,0],[0,1]],n)\n",
    "labels = 0*np.ones([data.shape[0],1])\n",
    "\n",
    "n = 100\n",
    "data1 = np.random.multivariate_normal([4,4],[[1,0],[0,1]],n)\n",
    "labels1 = 1*np.ones([data1.shape[0],1])\n",
    "\n",
    "data = np.vstack([data1,data])\n",
    "labels = np.vstack([labels1,labels])\n",
    "\n",
    "n = 100\n",
    "data1 = np.random.multivariate_normal([8,5],[[1,0],[0,1]],n)\n",
    "labels1 = 2*np.ones([data1.shape[0],1])\n",
    "\n",
    "data = np.vstack([data1,data])\n",
    "labels = np.vstack([labels1,labels]).flatten()\n",
    "\n",
    "plt.scatter(data[labels == 0,0],data[labels == 0,1],c='r',marker='+')\n",
    "plt.scatter(data[labels == 1,0],data[labels == 1,1],c='g',marker='x')\n",
    "plt.scatter(data[labels == 2,0],data[labels == 2,1],c='y')"
   ]
  },
  {
   "cell_type": "code",
   "execution_count": 1,
   "metadata": {
    "collapsed": false,
    "deletable": true,
    "editable": true
   },
   "outputs": [],
   "source": [
    "mexico = [4.72, 4.15, 4.46, 4.23, 5.28, 4.07, 4.67, 4.87, 4.54, 3.75]\n",
    "boston = [5.76, 5.12, 5.64, 5.59, 5.54, 5.09, 5.46, 5.87, 5.71, 5.56]"
   ]
  },
  {
   "cell_type": "code",
   "execution_count": 13,
   "metadata": {
    "collapsed": false,
    "deletable": true,
    "editable": true
   },
   "outputs": [],
   "source": [
    "m_mean = np.mean(mexico)\n",
    "m_std = np.std(mexico)\n",
    "b_mean = np.mean(boston)\n",
    "b_std = np.std(boston)\n",
    "m_mle = norm(m_mean,m_std)\n",
    "b_mle = norm(b_mean,b_std)"
   ]
  },
  {
   "cell_type": "code",
   "execution_count": 14,
   "metadata": {
    "collapsed": true,
    "deletable": true,
    "editable": true
   },
   "outputs": [],
   "source": [
    "p_m_mean = 4.4\n",
    "p_m_std = 0.5\n",
    "p_b_mean = 5.0\n",
    "p_b_std = 0.7\n",
    "m_prior = norm(p_m_mean,p_m_std)\n",
    "b_prior = norm(p_b_mean,p_b_std)\n"
   ]
  },
  {
   "cell_type": "code",
   "execution_count": 21,
   "metadata": {
    "collapsed": false,
    "deletable": true,
    "editable": true
   },
   "outputs": [
    {
     "name": "stdout",
     "output_type": "stream",
     "text": [
      "Prob that A is born in Mexico City according to prior estimates = 0.736540280607\n",
      "Prob that B is born in Mexico City according to prior estimates = 0.483941449038\n",
      "     Prob that A is born in Boston according to prior estimates = 0.484068479653\n",
      "     Prob that B is born in Boston according to prior estimates = 0.564131628472\n",
      "Prob that A is born in Mexico City according to MLE estimates = 0.908572570334\n",
      "Prob that B is born in Mexico City according to MLE estimates = 0.567880803477\n",
      "     Prob that A is born in Boston according to MLE estimates = 0.000942435640237\n",
      "     Prob that B is born in Boston according to MLE estimates = 0.0528698790113\n"
     ]
    }
   ],
   "source": [
    "a = 4.6\n",
    "b = 4.9\n",
    "print \"Prob that A is born in Mexico City according to prior estimates = \"+str(m_prior.pdf(a))\n",
    "print \"Prob that B is born in Mexico City according to prior estimates = \"+str(m_prior.pdf(b))\n",
    "\n",
    "print \"     Prob that A is born in Boston according to prior estimates = \"+str(b_prior.pdf(a))\n",
    "print \"     Prob that B is born in Boston according to prior estimates = \"+str(b_prior.pdf(b))\n",
    "\n",
    "\n",
    "print \"Prob that A is born in Mexico City according to MLE estimates = \"+str(m_mle.pdf(a))\n",
    "print \"Prob that B is born in Mexico City according to MLE estimates = \"+str(m_mle.pdf(b))\n",
    "\n",
    "print \"     Prob that A is born in Boston according to MLE estimates = \"+str(b_mle.pdf(a))\n",
    "print \"     Prob that B is born in Boston according to MLE estimates = \"+str(b_mle.pdf(b))\n"
   ]
  },
  {
   "cell_type": "code",
   "execution_count": 3,
   "metadata": {
    "collapsed": true,
    "deletable": true,
    "editable": true
   },
   "outputs": [],
   "source": [
    "X = np.array([[2,2],[7,5],[6,3],[3,1]])"
   ]
  },
  {
   "cell_type": "code",
   "execution_count": 4,
   "metadata": {
    "collapsed": true,
    "deletable": true,
    "editable": true
   },
   "outputs": [],
   "source": [
    "y = np.array([1,1,-1,-1])"
   ]
  },
  {
   "cell_type": "code",
   "execution_count": 18,
   "metadata": {
    "collapsed": false,
    "deletable": true,
    "editable": true
   },
   "outputs": [
    {
     "data": {
      "text/plain": [
       "(0, 8)"
      ]
     },
     "execution_count": 18,
     "metadata": {},
     "output_type": "execute_result"
    },
    {
     "data": {
      "image/png": "[encoded data removed]",
      "text/plain": [
       "<matplotlib.figure.Figure at 0x11206f9d0>"
      ]
     },
     "metadata": {},
     "output_type": "display_data"
    }
   ],
   "source": [
    "plt.scatter(X[0:2,0],X[0:2,1],marker='x')\n",
    "plt.scatter(X[2:4,0],X[2:4,1],marker='o')\n",
    "a = 0.5\n",
    "c = 0\n",
    "p1 = [0,c+a*0]\n",
    "p2 = [(6.0-c)/a,6]\n",
    "plt.plot([p1[0],p2[0]],[p1[1],p2[1]])\n",
    "plt.xlim([0,8])\n",
    "plt.ylim([0,8])"
   ]
  },
  {
   "cell_type": "code",
   "execution_count": 57,
   "metadata": {
    "collapsed": false,
    "deletable": true,
    "editable": true
   },
   "outputs": [
    {
     "name": "stdout",
     "output_type": "stream",
     "text": [
      "[[ 2.  1.]\n",
      " [ 1.  1.]\n",
      " [ 4.  1.]\n",
      " [ 3.  1.]]\n",
      "[[2]\n",
      " [3]\n",
      " [1]\n",
      " [4]]\n"
     ]
    }
   ],
   "source": [
    "X = np.array([[2],[1],[4],[3]])\n",
    "y = np.array([2,3,1,4])\n",
    "y = y[:,np.newaxis]\n",
    "X = np.hstack([X,np.ones([X.shape[0],1])])\n",
    "print X\n",
    "print y"
   ]
  },
  {
   "cell_type": "code",
   "execution_count": 41,
   "metadata": {
    "collapsed": false,
    "deletable": true,
    "editable": true
   },
   "outputs": [
    {
     "name": "stdout",
     "output_type": "stream",
     "text": [
      "[[ 3.5]]\n",
      "[[ 11.375]]\n",
      "[[ 6.5]]\n",
      "[[ 4.875]]\n"
     ]
    }
   ],
   "source": [
    "ws = [np.array([[.5],[1.5]]),np.array([[.5],[3.0]]),np.array([[1.5],[0.5]]),np.array([[.5],[2.0]])]\n",
    "\n",
    "for w in ws:\n",
    "    alpha = 1\n",
    "    J2 = 0.5*np.sum((np.dot(X,w) - y)**2) +0.5*alpha*np.dot(np.transpose(w),w)\n",
    "\n",
    "    print J2"
   ]
  },
  {
   "cell_type": "code",
   "execution_count": 58,
   "metadata": {
    "collapsed": false,
    "deletable": true,
    "editable": true
   },
   "outputs": [
    {
     "name": "stdout",
     "output_type": "stream",
     "text": [
      "5.25\n",
      "3.75\n",
      "18.25\n",
      "52.5\n"
     ]
    }
   ],
   "source": [
    "ws = [np.array([[.5],[1.5]]),np.array([[.0],[2.5]]),np.array([[1.5],[0.5]]),np.array([[2.5],[.0]])]\n",
    "\n",
    "for w in ws:\n",
    "    alpha = 1\n",
    "    J3 = 0.5*np.sum((np.dot(X,w) - y)**2) + 0.5*alpha*np.sum(np.abs(w))\n",
    "    print J3"
   ]
  },
  {
   "cell_type": "code",
   "execution_count": 56,
   "metadata": {
    "collapsed": false,
    "deletable": true,
    "editable": true
   },
   "outputs": [
    {
     "data": {
      "text/plain": [
       "2.25"
      ]
     },
     "execution_count": 56,
     "metadata": {},
     "output_type": "execute_result"
    }
   ],
   "source": [
    "w = ws[0]\n",
    "0.5*np.sum((np.dot(X,w) - y)**2)"
   ]
  },
  {
   "cell_type": "code",
   "execution_count": 51,
   "metadata": {
    "collapsed": false,
    "deletable": true,
    "editable": true
   },
   "outputs": [
    {
     "name": "stdout",
     "output_type": "stream",
     "text": [
      "[[ 2.  1.]\n",
      " [ 1.  1.]\n",
      " [ 2.  1.]\n",
      " [ 3.  1.]]\n"
     ]
    }
   ],
   "source": [
    "print X"
   ]
  },
  {
   "cell_type": "code",
   "execution_count": 53,
   "metadata": {
    "collapsed": false,
    "deletable": true,
    "editable": true
   },
   "outputs": [],
   "source": [
    "from sklearn import linear_model"
   ]
  },
  {
   "cell_type": "code",
   "execution_count": 149,
   "metadata": {
    "collapsed": false,
    "deletable": true,
    "editable": true
   },
   "outputs": [],
   "source": [
    "model = linear_model.Ridge(fit_intercept=False)"
   ]
  },
  {
   "cell_type": "code",
   "execution_count": 150,
   "metadata": {
    "collapsed": false,
    "deletable": true,
    "editable": true
   },
   "outputs": [
    {
     "data": {
      "text/plain": [
       "Ridge(alpha=1.0, copy_X=True, fit_intercept=False, max_iter=None,\n",
       "   normalize=False, random_state=None, solver='auto', tol=0.001)"
      ]
     },
     "execution_count": 150,
     "metadata": {},
     "output_type": "execute_result"
    }
   ],
   "source": [
    "model.fit(X,y)"
   ]
  },
  {
   "cell_type": "code",
   "execution_count": 151,
   "metadata": {
    "collapsed": false,
    "deletable": true,
    "editable": true
   },
   "outputs": [
    {
     "name": "stdout",
     "output_type": "stream",
     "text": [
      "[ 0.80645161  0.70967742]\n",
      "0.0\n"
     ]
    }
   ],
   "source": [
    "print model.coef_\n",
    "print model.intercept_"
   ]
  },
  {
   "cell_type": "code",
   "execution_count": 67,
   "metadata": {
    "collapsed": false,
    "deletable": true,
    "editable": true
   },
   "outputs": [
    {
     "name": "stdout",
     "output_type": "stream",
     "text": [
      "2.5\n",
      "[ 0.]\n"
     ]
    }
   ],
   "source": [
    "model1 = linear_model.Lasso()\n",
    "model1.fit(X,y)\n",
    "print model1.intercept_\n",
    "print model1.coef_"
   ]
  },
  {
   "cell_type": "code",
   "execution_count": 87,
   "metadata": {
    "collapsed": false,
    "deletable": true,
    "editable": true
   },
   "outputs": [
    {
     "name": "stdout",
     "output_type": "stream",
     "text": [
      "[[ 1.   0. ]\n",
      " [ 0.4  0.6]\n",
      " [ 0.   1. ]]\n"
     ]
    }
   ],
   "source": [
    "R = np.array([[1,0],[0.4,0.6],[0,1]])\n",
    "print R"
   ]
  },
  {
   "cell_type": "code",
   "execution_count": 99,
   "metadata": {
    "collapsed": true,
    "deletable": true,
    "editable": true
   },
   "outputs": [],
   "source": [
    "X = [1,10,20]\n",
    "X2 = [x**2 for x in X]"
   ]
  },
  {
   "cell_type": "code",
   "execution_count": 90,
   "metadata": {
    "collapsed": false,
    "deletable": true,
    "editable": true
   },
   "outputs": [
    {
     "name": "stdout",
     "output_type": "stream",
     "text": [
      "[ 0.46666667  0.53333333]\n"
     ]
    }
   ],
   "source": [
    "pi = np.sum(R,axis=0)/3\n",
    "print pi"
   ]
  },
  {
   "cell_type": "code",
   "execution_count": 96,
   "metadata": {
    "collapsed": false,
    "deletable": true,
    "editable": true
   },
   "outputs": [
    {
     "name": "stdout",
     "output_type": "stream",
     "text": [
      "3.57142857143\n",
      "16.25\n"
     ]
    }
   ],
   "source": [
    "mu_1 = np.sum(R[:,0]*X)/np.sum(R[:,0])\n",
    "mu_2 = np.sum(R[:,1]*X)/np.sum(R[:,1])\n",
    "print mu_1\n",
    "print mu_2"
   ]
  },
  {
   "cell_type": "code",
   "execution_count": 101,
   "metadata": {
    "collapsed": false,
    "deletable": true,
    "editable": true
   },
   "outputs": [],
   "source": [
    "sigma_1 = (np.sum(R[:,0]*X2)/np.sum(R[:,0])) - mu_1**2\n",
    "sigma_2 = (np.sum(R[:,1]*X2)/np.sum(R[:,1])) - mu_2**2\n"
   ]
  },
  {
   "cell_type": "code",
   "execution_count": 102,
   "metadata": {
    "collapsed": false,
    "deletable": true,
    "editable": true
   },
   "outputs": [
    {
     "name": "stdout",
     "output_type": "stream",
     "text": [
      "16.5306122449\n",
      "23.4375\n"
     ]
    }
   ],
   "source": [
    "print sigma_1\n",
    "print sigma_2"
   ]
  },
  {
   "cell_type": "code",
   "execution_count": 103,
   "metadata": {
    "collapsed": true,
    "deletable": true,
    "editable": true
   },
   "outputs": [],
   "source": [
    "X = np.array([[0,0],[0,10],[10,0],[10,10],[4,4],[4,6],[6,4],[6,6]])"
   ]
  },
  {
   "cell_type": "code",
   "execution_count": 104,
   "metadata": {
    "collapsed": false,
    "deletable": true,
    "editable": true
   },
   "outputs": [
    {
     "data": {
      "text/plain": [
       "<matplotlib.collections.PathCollection at 0x11173cb50>"
      ]
     },
     "execution_count": 104,
     "metadata": {},
     "output_type": "execute_result"
    },
    {
     "name": "stderr",
     "output_type": "stream",
     "text": [
      "/Users/chandola/anaconda/lib/python2.7/site-packages/matplotlib/collections.py:590: FutureWarning: elementwise comparison failed; returning scalar instead, but in the future will perform elementwise comparison\n",
      "  if self._edgecolors == str('face'):\n"
     ]
    },
    {
     "data": {
      "image/png": "[encoded data removed]",
      "text/plain": [
       "<matplotlib.figure.Figure at 0x111459250>"
      ]
     },
     "metadata": {},
     "output_type": "display_data"
    }
   ],
   "source": [
    "plt.scatter(X[:,0],X[:,1])"
   ]
  },
  {
   "cell_type": "code",
   "execution_count": 105,
   "metadata": {
    "collapsed": true,
    "deletable": true,
    "editable": true
   },
   "outputs": [],
   "source": [
    "import scipy.stats as st"
   ]
  },
  {
   "cell_type": "code",
   "execution_count": 113,
   "metadata": {
    "collapsed": false,
    "deletable": true,
    "editable": true
   },
   "outputs": [],
   "source": [
    "X = np.array([[-2,-4,-6],[-1,-3,-5],[0,0,0],[1,3,5],[2,4,6]])"
   ]
  },
  {
   "cell_type": "code",
   "execution_count": 115,
   "metadata": {
    "collapsed": false,
    "deletable": true,
    "editable": true
   },
   "outputs": [],
   "source": [
    "e,v = np.linalg.eig(np.cov(np.transpose(X)))"
   ]
  },
  {
   "cell_type": "code",
   "execution_count": 116,
   "metadata": {
    "collapsed": false,
    "deletable": true,
    "editable": true
   },
   "outputs": [
    {
     "data": {
      "text/plain": [
       "array([  4.53677475e+01,   1.32252544e-01,   3.81059486e-19])"
      ]
     },
     "execution_count": 116,
     "metadata": {},
     "output_type": "execute_result"
    }
   ],
   "source": [
    "e"
   ]
  },
  {
   "cell_type": "code",
   "execution_count": 120,
   "metadata": {
    "collapsed": false,
    "deletable": true,
    "editable": true
   },
   "outputs": [
    {
     "data": {
      "text/plain": [
       "36.294197965093666"
      ]
     },
     "execution_count": 120,
     "metadata": {},
     "output_type": "execute_result"
    }
   ],
   "source": [
    "np.var(np.dot(X,v[:,0:1]))"
   ]
  },
  {
   "cell_type": "code",
   "execution_count": 121,
   "metadata": {
    "collapsed": false,
    "deletable": true,
    "editable": true
   },
   "outputs": [
    {
     "data": {
      "text/plain": [
       "0.10580203490632742"
      ]
     },
     "execution_count": 121,
     "metadata": {},
     "output_type": "execute_result"
    }
   ],
   "source": [
    "np.var(np.dot(X,v[:,1:2]))"
   ]
  },
  {
   "cell_type": "code",
   "execution_count": 122,
   "metadata": {
    "collapsed": false,
    "deletable": true,
    "editable": true
   },
   "outputs": [
    {
     "data": {
      "text/plain": [
       "6.3108872417680948e-31"
      ]
     },
     "execution_count": 122,
     "metadata": {},
     "output_type": "execute_result"
    }
   ],
   "source": [
    "np.var(np.dot(X,v[:,2:3]))"
   ]
  },
  {
   "cell_type": "code",
   "execution_count": 124,
   "metadata": {
    "collapsed": false,
    "deletable": true,
    "editable": true
   },
   "outputs": [
    {
     "data": {
      "text/plain": [
       "array([[-0.23, -0.88,  0.41],\n",
       "       [-0.52, -0.24, -0.82],\n",
       "       [-0.82,  0.4 ,  0.41]])"
      ]
     },
     "execution_count": 124,
     "metadata": {},
     "output_type": "execute_result"
    }
   ],
   "source": [
    "np.round(v,2)"
   ]
  },
  {
   "cell_type": "code",
   "execution_count": 126,
   "metadata": {
    "collapsed": false,
    "deletable": true,
    "editable": true
   },
   "outputs": [
    {
     "data": {
      "text/plain": [
       "array([ 0.,  0.,  0.])"
      ]
     },
     "execution_count": 126,
     "metadata": {},
     "output_type": "execute_result"
    }
   ],
   "source": [
    "np.mean(X,axis=0)"
   ]
  },
  {
   "cell_type": "code",
   "execution_count": 134,
   "metadata": {
    "collapsed": false,
    "deletable": true,
    "editable": true
   },
   "outputs": [
    {
     "name": "stdout",
     "output_type": "stream",
     "text": [
      "-0.23 & -0.88 &  0.41\\\\\n",
      "-0.52 & -0.24 & -0.82\\\\\n",
      "-0.82 &  0.40 &  0.41\\\\\n"
     ]
    }
   ],
   "source": [
    "for i in range(3):\n",
    "    print \" & \".join([\"%5.2f\"%x for x in v[i,:]])+\"\\\\\\\\\""
   ]
  },
  {
   "cell_type": "code",
   "execution_count": 16,
   "metadata": {
    "collapsed": false
   },
   "outputs": [
    {
     "name": "stdout",
     "output_type": "stream",
     "text": [
      "20526.0517019\n"
     ]
    }
   ],
   "source": [
    "h = np.exp(10*np.log(3))\n",
    "m = (1/0.05)*(1024 + np.log(1/0.1))\n",
    "print m"
   ]
  },
  {
   "cell_type": "code",
   "execution_count": 18,
   "metadata": {
    "collapsed": false
   },
   "outputs": [
    {
     "data": {
      "text/plain": [
       "0.6603260869565217"
      ]
     },
     "execution_count": 18,
     "metadata": {},
     "output_type": "execute_result"
    }
   ],
   "source": [
    "(18.0/125)/((18.0/125) + (2.0/27))\n"
   ]
  },
  {
   "cell_type": "code",
   "execution_count": null,
   "metadata": {
    "collapsed": true
   },
   "outputs": [],
   "source": [
    "## COPIED FROM SVD NOTEBOOK\n",
    "# ignore from here on\n",
    "X = np.array([[1,1,1,0,0,0],\n",
    " [1,1,1,0,0,0],\n",
    " [0,0 ,0 ,1 ,1 ,1],\n",
    " [0,0 ,0 ,1 ,1 ,1],\n",
    " [1,1 ,0 ,0 ,0 ,0]])\n",
    "print X\n",
    "U, s, Vh = svd(X)\n",
    "#plot the elbow plot\n",
    "plt.plot(s**2)\n",
    "plt.xlabel(\"K\")\n",
    "plt.ylabel('$s^2$')\n",
    "plt.title('Elbow plot for SVD')\n",
    "plt.show()\n",
    "#truncate to 2 \n",
    "s[1:]=0\n",
    "#calculate estimate using truncated S\n",
    "outX = np.round(np.dot(np.dot(U,diagsvd(s,5,6)),Vh))\n",
    "\n",
    "outX1 = np.round(np.dot(U[:,0:1],Vh[0:1,:])*s[0])\n",
    "#show results\n",
    "print \"X=\\n\"+str(X)\n",
    "print \"U=\\n\"+str(U[:1,:].round(2))\n",
    "print \"S=\\n\"+str(diagsvd(s,5,6).round(2))\n",
    "print \"V=\\n\"+str(Vh[:,:1].round(2))\n",
    "print \"X'=\\n\"+str(outX)\n",
    "print \"X'=\\n\"+str(outX1)\n",
    "\n",
    "foods = ['Chocolate','Peanuts','Crisps','Wine','Beer','Champagne']\n",
    "names = ['Annie','Brian','Chuck','Dave','Emma']\n",
    "print \"& \"+\" & \".join(foods)+\"\\\\\\\\\\hline\"\n",
    "for i in range(len(names)):\n",
    "    print names[i]+\" & \"+\" & \".join([str(x) for x in X[i,:]])+\"\\\\\\\\\"\n",
    "U,s,V = svd(X)\n",
    "S = np.zeros(X.shape)\n",
    "for i in range(X.shape[0]):\n",
    "    S[i,i] = s[i]\n",
    "print U\n",
    "print S\n",
    "print V\n",
    "\n",
    "for i in range(len(names)):\n",
    "    print \" & \".join([\"%.2f\"%x for x in U[i,:]])+\"\\\\\\\\\""
   ]
  },
  {
   "cell_type": "code",
   "execution_count": null,
   "metadata": {
    "collapsed": true
   },
   "outputs": [],
   "source": [
    "for i in range(6):\n",
    "    print \" & \".join([\"%.2f\"%x for x in V[i,:]])+\"\\\\\\\\\"\n",
    "    \n",
    "for i in range(5):\n",
    "    print \" & \".join([\"%.2f\"%x for x in S[i,:]])+\"\\\\\\\\\"\n",
    "    \n",
    "np.round(np.dot(np.dot(U,S),V)) - X\n",
    "\n",
    "U1 = np.round(U[:,0:1],2)\n",
    "V1 = np.round(V[0:1,:],2)\n",
    "S1 = np.round(S[0,0],2)\n",
    "np.round(np.dot(U1,V1)*S1)\n",
    "X = np.array([[-2,-4,-6],[-1,-3,-5],[0,0,0],[1,3,5],[2,4,6]])\n",
    "\n",
    "np.round(np.linalg.eig(np.cov(np.transpose(X)))[1],2)"
   ]
  }
 ],
 "metadata": {
  "kernelspec": {
   "display_name": "Python 3",
   "language": "python",
   "name": "python3"
  },
  "language_info": {
   "codemirror_mode": {
    "name": "ipython",
    "version": 3
   },
   "file_extension": ".py",
   "mimetype": "text/x-python",
   "name": "python",
   "nbconvert_exporter": "python",
   "pygments_lexer": "ipython3",
   "version": "3.6.0"
  }
 },
 "nbformat": 4,
 "nbformat_minor": 0
}
