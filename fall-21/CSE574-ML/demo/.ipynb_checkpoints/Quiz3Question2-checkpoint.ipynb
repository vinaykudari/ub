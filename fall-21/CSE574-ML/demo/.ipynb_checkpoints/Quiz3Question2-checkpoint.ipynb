{
 "cells": [
  {
   "cell_type": "code",
   "execution_count": 20,
   "metadata": {},
   "outputs": [
    {
     "name": "stdout",
     "output_type": "stream",
     "text": [
      "[ 0.48123382  0.99999989  0.97795548  0.98938694  0.99986612  0.99919447\n",
      "  0.99994453  0.95358474  0.95825763  0.69629149]\n"
     ]
    }
   ],
   "source": [
    "import numpy as np\n",
    "\n",
    "w = np.array([1.05, -0.52, 0.85])\n",
    "X = [[1,2.18,0.01],\n",
    "    [1,1.09,18.3],\n",
    "    [1,-0.37,3],\n",
    "    [1,0,4.1],\n",
    "    [1,-0.42,9],\n",
    "    [1,0.09,7.2],\n",
    "    [1,-0.48,10],\n",
    "    [1,0.62,2.7],\n",
    "    [1,0.57,2.8],\n",
    "    [1,0.44,0.01]]\n",
    "\n",
    "a = np.dot(w,np.transpose(X))\n",
    "b = 1.0/(1.0+np.exp(-1.0*a))\n",
    "print(b)"
   ]
  },
  {
   "cell_type": "code",
   "execution_count": 21,
   "metadata": {
    "collapsed": true
   },
   "outputs": [],
   "source": [
    "# the classifier has made 6 mistakes\n",
    "# the most confident one is #2\n",
    "# The worst wrong prediction is #5 and #7\n",
    "# The classifier labels 9 cities at risk"
   ]
  }
 ],
 "metadata": {
  "kernelspec": {
   "display_name": "Python 3",
   "language": "python",
   "name": "python3"
  },
  "language_info": {
   "codemirror_mode": {
    "name": "ipython",
    "version": 3
   },
   "file_extension": ".py",
   "mimetype": "text/x-python",
   "name": "python",
   "nbconvert_exporter": "python",
   "pygments_lexer": "ipython3",
   "version": "3.6.3"
  }
 },
 "nbformat": 4,
 "nbformat_minor": 2
}
