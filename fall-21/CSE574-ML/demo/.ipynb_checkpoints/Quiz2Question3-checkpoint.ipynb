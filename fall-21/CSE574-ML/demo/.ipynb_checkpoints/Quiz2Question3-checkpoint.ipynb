{
 "cells": [
  {
   "cell_type": "code",
   "execution_count": 1,
   "metadata": {
    "collapsed": true
   },
   "outputs": [],
   "source": [
    "from scipy.stats import bernoulli, poisson, binom, norm, mvn\n",
    "import numpy as np\n",
    "from matplotlib import pyplot as plt\n",
    "import matplotlib\n",
    "import warnings\n",
    "warnings.filterwarnings(\"ignore\")\n",
    "\n",
    "%matplotlib inline"
   ]
  },
  {
   "cell_type": "code",
   "execution_count": 3,
   "metadata": {},
   "outputs": [
    {
     "name": "stdout",
     "output_type": "stream",
     "text": [
      "0.736540280607\n",
      "0.483941449038\n"
     ]
    },
    {
     "data": {
      "image/png": "[encoded data removed]",
      "text/plain": [
       "<matplotlib.figure.Figure at 0x1130b5198>"
      ]
     },
     "metadata": {},
     "output_type": "display_data"
    }
   ],
   "source": [
    "# set the parameters for Mexico\n",
    "mu = 4.4\n",
    "sigma = 0.5\n",
    "\n",
    "# Compute the density at several instances of the random variable\n",
    "x = np.linspace(-5, 10, 10001)\n",
    "# plot the density\n",
    "plt.plot(x, norm(mu, sigma).pdf(x), linewidth=2)\n",
    "\n",
    "\n",
    "print(norm(mu,sigma).pdf(4.6))\n",
    "print(norm(mu,sigma).pdf(4.9))"
   ]
  },
  {
   "cell_type": "code",
   "execution_count": 5,
   "metadata": {},
   "outputs": [
    {
     "name": "stdout",
     "output_type": "stream",
     "text": [
      "0.484068479653\n",
      "0.564131628472\n"
     ]
    },
    {
     "data": {
      "image/png": "[encoded data removed]",
      "text/plain": [
       "<matplotlib.figure.Figure at 0x1132691d0>"
      ]
     },
     "metadata": {},
     "output_type": "display_data"
    }
   ],
   "source": [
    "# set the parameters for Boston\n",
    "mu = 5\n",
    "sigma = 0.7\n",
    "\n",
    "# Compute the density at several instances of the random variable\n",
    "x = np.linspace(-5, 10, 10001)\n",
    "# plot the density\n",
    "plt.plot(x, norm(mu, sigma).pdf(x), linewidth=2)\n",
    "\n",
    "\n",
    "print(norm(mu,sigma).pdf(4.6))\n",
    "print(norm(mu,sigma).pdf(4.9))"
   ]
  },
  {
   "cell_type": "code",
   "execution_count": 13,
   "metadata": {
    "collapsed": true
   },
   "outputs": [],
   "source": [
    "Mexico = [4.72, 4.15, 4.46, 4.23, 5.28, 4.07, 4.67, 4.87, 4.54, 3.75]\n",
    "Boston = [5.76, 5.12, 5.64, 5.59, 5.54, 5.09, 5.46, 5.87, 5.71, 5.56]"
   ]
  },
  {
   "cell_type": "code",
   "execution_count": 23,
   "metadata": {},
   "outputs": [
    {
     "name": "stdout",
     "output_type": "stream",
     "text": [
      "4.474\n",
      "5.534\n",
      "0.419742778377\n",
      "0.241669195389\n",
      "0.908572570334\n",
      "0.567880803477\n",
      "0.000942435640237\n",
      "0.0528698790113\n"
     ]
    }
   ],
   "source": [
    "mu_Mexico_MLE = np.sum(Mexico)/10\n",
    "mu_Boston_MLE = np.sum(Boston)/10\n",
    "sigma_Mexico_MLE = np.sqrt(np.sum(np.square(Mexico-mu_Mexico_MLE))/10)\n",
    "sigma_Boston_MLE = np.sqrt(np.sum(np.square(Boston-mu_Boston_MLE))/10)\n",
    "print(mu_Mexico_MLE)\n",
    "print(mu_Boston_MLE)\n",
    "print(sigma_Mexico_MLE)\n",
    "print(sigma_Boston_MLE)\n",
    "\n",
    "print(norm(mu_Mexico_MLE,sigma_Mexico_MLE).pdf(4.6))\n",
    "print(norm(mu_Mexico_MLE,sigma_Mexico_MLE).pdf(4.9))\n",
    "\n",
    "print(norm(mu_Boston_MLE,sigma_Boston_MLE).pdf(4.6))\n",
    "print(norm(mu_Boston_MLE,sigma_Boston_MLE).pdf(4.9))"
   ]
  },
  {
   "cell_type": "code",
   "execution_count": null,
   "metadata": {
    "collapsed": true
   },
   "outputs": [],
   "source": []
  }
 ],
 "metadata": {
  "kernelspec": {
   "display_name": "Python 3",
   "language": "python",
   "name": "python3"
  },
  "language_info": {
   "codemirror_mode": {
    "name": "ipython",
    "version": 3
   },
   "file_extension": ".py",
   "mimetype": "text/x-python",
   "name": "python",
   "nbconvert_exporter": "python",
   "pygments_lexer": "ipython3",
   "version": "3.6.3"
  }
 },
 "nbformat": 4,
 "nbformat_minor": 2
}
