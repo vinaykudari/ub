{
 "cells": [
  {
   "cell_type": "code",
   "execution_count": 10,
   "metadata": {},
   "outputs": [
    {
     "name": "stdout",
     "output_type": "stream",
     "text": [
      "0.680267196699\n",
      "0.663738697404\n",
      "0.690283492908\n"
     ]
    }
   ],
   "source": [
    "import numpy as np\n",
    "\n",
    "\n",
    "x1 =0.35\n",
    "x2 = 0.9\n",
    "node1 = 0.1*x1+0.8*x2\n",
    "node1 = 1.0/(1.0+np.exp(-1.0*node1))\n",
    "node2 = 0.4*x1+0.6*x2\n",
    "node2 = 1.0/(1.0+np.exp(-1.0*node2))\n",
    "out = 0.3*node1+0.9*node2\n",
    "s = 1.0/(1.0+np.exp(-1.0*out))\n",
    "print(node1)\n",
    "print(node2)\n",
    "print(s)"
   ]
  },
  {
   "cell_type": "code",
   "execution_count": 11,
   "metadata": {},
   "outputs": [
    {
     "name": "stdout",
     "output_type": "stream",
     "text": [
      "0.0406811251123\n",
      "0.00265448903088\n",
      "0.00817164506413\n"
     ]
    }
   ],
   "source": [
    "error_output = -(0.5-s)*(1-s)*s\n",
    "print(error_output)\n",
    "error_node1 = error_output*0.3*node1*(1-node1)\n",
    "print(error_node1)\n",
    "error_node2 = error_output*0.9*node2*(1-node2)\n",
    "print(error_node2)"
   ]
  },
  {
   "cell_type": "code",
   "execution_count": 12,
   "metadata": {},
   "outputs": [
    {
     "name": "stdout",
     "output_type": "stream",
     "text": [
      "0.272325965061\n",
      "0.872998363009\n"
     ]
    }
   ],
   "source": [
    "print(0.3-node1*error_output)\n",
    "print(0.9-node2*error_output)"
   ]
  },
  {
   "cell_type": "code",
   "execution_count": null,
   "metadata": {
    "collapsed": true
   },
   "outputs": [],
   "source": []
  }
 ],
 "metadata": {
  "kernelspec": {
   "display_name": "Python 3",
   "language": "python",
   "name": "python3"
  },
  "language_info": {
   "codemirror_mode": {
    "name": "ipython",
    "version": 3
   },
   "file_extension": ".py",
   "mimetype": "text/x-python",
   "name": "python",
   "nbconvert_exporter": "python",
   "pygments_lexer": "ipython3",
   "version": "3.6.4"
  }
 },
 "nbformat": 4,
 "nbformat_minor": 2
}
