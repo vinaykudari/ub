{
 "cells": [
  {
   "cell_type": "code",
   "execution_count": 2,
   "id": "09ce40df-7cea-45d4-b078-1cbf7bf9cdef",
   "metadata": {},
   "outputs": [],
   "source": [
    "import numpy as np\n",
    "from scipy.io import loadmat\n",
    "from scipy.optimize import minimize\n",
    "from sklearn import svm\n",
    "import matplotlib.pyplot as plt"
   ]
  },
  {
   "cell_type": "code",
   "execution_count": 5,
   "id": "214d5691-fa69-4ebc-b131-9da19577d4a7",
   "metadata": {},
   "outputs": [],
   "source": [
    "def preprocess():\n",
    "    \"\"\" \n",
    "     Input:\n",
    "     Although this function doesn't have any input, you are required to load\n",
    "     the MNIST data set from file 'mnist_all.mat'.\n",
    "\n",
    "     Output:\n",
    "     train_data: matrix of training set. Each row of train_data contains \n",
    "       feature vector of a image\n",
    "     train_label: vector of label corresponding to each image in the training\n",
    "       set\n",
    "     validation_data: matrix of training set. Each row of validation_data \n",
    "       contains feature vector of a image\n",
    "     validation_label: vector of label corresponding to each image in the \n",
    "       training set\n",
    "     test_data: matrix of training set. Each row of test_data contains \n",
    "       feature vector of a image\n",
    "     test_label: vector of label corresponding to each image in the testing\n",
    "       set\n",
    "    \"\"\"\n",
    "\n",
    "    mat = loadmat('mnist_all.mat')  # loads the MAT object as a Dictionary\n",
    "\n",
    "    n_feature = mat.get(\"train1\").shape[1]\n",
    "    n_sample = 0\n",
    "    for i in range(10):\n",
    "        n_sample = n_sample + mat.get(\"train\" + str(i)).shape[0]\n",
    "    n_validation = 1000\n",
    "    n_train = n_sample - 10 * n_validation\n",
    "\n",
    "    # Construct validation data\n",
    "    validation_data = np.zeros((10 * n_validation, n_feature))\n",
    "    for i in range(10):\n",
    "        validation_data[i * n_validation:(i + 1) * n_validation, :] = mat.get(\"train\" + str(i))[0:n_validation, :]\n",
    "\n",
    "    # Construct validation label\n",
    "    validation_label = np.ones((10 * n_validation, 1))\n",
    "    for i in range(10):\n",
    "        validation_label[i * n_validation:(i + 1) * n_validation, :] = i * np.ones((n_validation, 1))\n",
    "\n",
    "    # Construct training data and label\n",
    "    train_data = np.zeros((n_train, n_feature))\n",
    "    train_label = np.zeros((n_train, 1))\n",
    "    temp = 0\n",
    "    for i in range(10):\n",
    "        size_i = mat.get(\"train\" + str(i)).shape[0]\n",
    "        train_data[temp:temp + size_i - n_validation, :] = mat.get(\"train\" + str(i))[n_validation:size_i, :]\n",
    "        train_label[temp:temp + size_i - n_validation, :] = i * np.ones((size_i - n_validation, 1))\n",
    "        temp = temp + size_i - n_validation\n",
    "\n",
    "    # Construct test data and label\n",
    "    n_test = 0\n",
    "    for i in range(10):\n",
    "        n_test = n_test + mat.get(\"test\" + str(i)).shape[0]\n",
    "    test_data = np.zeros((n_test, n_feature))\n",
    "    test_label = np.zeros((n_test, 1))\n",
    "    temp = 0\n",
    "    for i in range(10):\n",
    "        size_i = mat.get(\"test\" + str(i)).shape[0]\n",
    "        test_data[temp:temp + size_i, :] = mat.get(\"test\" + str(i))\n",
    "        test_label[temp:temp + size_i, :] = i * np.ones((size_i, 1))\n",
    "        temp = temp + size_i\n",
    "\n",
    "    # Delete features which don't provide any useful information for classifiers\n",
    "    sigma = np.std(train_data, axis=0)\n",
    "    index = np.array([])\n",
    "    for i in range(n_feature):\n",
    "        if (sigma[i] > 0.001):\n",
    "            index = np.append(index, [i])\n",
    "    train_data = train_data[:, index.astype(int)]\n",
    "    validation_data = validation_data[:, index.astype(int)]\n",
    "    test_data = test_data[:, index.astype(int)]\n",
    "\n",
    "    # Scale data to 0 and 1\n",
    "    train_data /= 255.0\n",
    "    validation_data /= 255.0\n",
    "    test_data /= 255.0\n",
    "\n",
    "    return train_data, train_label, validation_data, validation_label, test_data, test_label"
   ]
  },
  {
   "cell_type": "code",
   "execution_count": 32,
   "id": "44ca121c-51f6-42a8-8869-2de604205abd",
   "metadata": {},
   "outputs": [],
   "source": [
    "def sigmoid(z):\n",
    "    return 1.0 / (1.0 + np.exp(-z))"
   ]
  },
  {
   "cell_type": "code",
   "execution_count": 75,
   "id": "4550993a-1647-46eb-ace2-a591bd83a17a",
   "metadata": {},
   "outputs": [],
   "source": [
    "def softmax(x):\n",
    "    e_x = np.exp(x - np.max(x))\n",
    "    return e_x / e_x.sum(axis=0)"
   ]
  },
  {
   "cell_type": "code",
   "execution_count": 7,
   "id": "2eac30bf-9b5b-4b47-bdea-6390465aae67",
   "metadata": {},
   "outputs": [],
   "source": [
    "train_data, train_label, validation_data, validation_label, test_data, test_label = preprocess()"
   ]
  },
  {
   "cell_type": "code",
   "execution_count": 28,
   "id": "3c9108f1-d21c-4688-bb35-7416e3a34f82",
   "metadata": {},
   "outputs": [],
   "source": [
    "# number of classes\n",
    "n_class = 10\n",
    "\n",
    "# number of training samples\n",
    "n_train = train_data.shape[0]\n",
    "\n",
    "# number of features\n",
    "n_feature = train_data.shape[1]\n",
    "\n",
    "Y = np.zeros((n_train, n_class))\n",
    "for i in range(n_class):\n",
    "    Y[:, i] = (train_label == i).astype(int).ravel()\n",
    "\n",
    "# Logistic Regression with Gradient Descent\n",
    "W = np.zeros((n_feature + 1, n_class))"
   ]
  },
  {
   "cell_type": "code",
   "execution_count": 35,
   "id": "31692e78-6e53-42a6-bb93-f629a4bc8292",
   "metadata": {},
   "outputs": [
    {
     "data": {
      "text/plain": [
       "(716, 1)"
      ]
     },
     "execution_count": 35,
     "metadata": {},
     "output_type": "execute_result"
    }
   ],
   "source": [
    "initialWeights = np.zeros((n_feature + 1, 1))\n",
    "initialWeights.shape"
   ]
  },
  {
   "cell_type": "code",
   "execution_count": 50,
   "id": "cfc9a0fe-4197-4dac-9683-b26df7e8d64d",
   "metadata": {},
   "outputs": [
    {
     "data": {
      "text/plain": [
       "(50000, 716)"
      ]
     },
     "execution_count": 50,
     "metadata": {},
     "output_type": "execute_result"
    }
   ],
   "source": [
    "X = np.hstack((np.ones((train_data.shape[0], 1)), train_data))\n",
    "X.shape"
   ]
  },
  {
   "cell_type": "code",
   "execution_count": 51,
   "id": "14ff4eec-f20a-403d-87f0-f51c30b0a82d",
   "metadata": {},
   "outputs": [
    {
     "data": {
      "text/plain": [
       "(50000, 1)"
      ]
     },
     "execution_count": 51,
     "metadata": {},
     "output_type": "execute_result"
    }
   ],
   "source": [
    "preds = sigmoid(np.dot(X, initialWeights))\n",
    "preds.shape"
   ]
  },
  {
   "cell_type": "code",
   "execution_count": 52,
   "id": "4dbabbf4-8ac8-4097-a7c4-2ba0b06f9dc4",
   "metadata": {},
   "outputs": [
    {
     "data": {
      "text/plain": [
       "(50000, 1)"
      ]
     },
     "execution_count": 52,
     "metadata": {},
     "output_type": "execute_result"
    }
   ],
   "source": [
    "labeli = Y[:, i].reshape(n_train, 1)\n",
    "labeli.shape"
   ]
  },
  {
   "cell_type": "code",
   "execution_count": 53,
   "id": "2917ce0a-46cb-4ada-bc25-16000dcc86e4",
   "metadata": {},
   "outputs": [
    {
     "data": {
      "text/plain": [
       "-0.6931471805599453"
      ]
     },
     "execution_count": 53,
     "metadata": {},
     "output_type": "execute_result"
    }
   ],
   "source": [
    "error = np.mean((labeli * np.log(preds) + (1 - labeli) * np.log(1 - preds)))\n",
    "error"
   ]
  },
  {
   "cell_type": "code",
   "execution_count": 54,
   "id": "39e8e9e1-12ed-4124-a2ab-d91693821281",
   "metadata": {},
   "outputs": [
    {
     "data": {
      "text/plain": [
       "2934.8328212290603"
      ]
     },
     "execution_count": 54,
     "metadata": {},
     "output_type": "execute_result"
    }
   ],
   "source": [
    "error_grad = np.mean(np.dot(X.T, (preds - labeli)))\n",
    "error_grad"
   ]
  },
  {
   "cell_type": "code",
   "execution_count": 76,
   "id": "f43b696f-5d3b-48c9-8e54-c7a4cf5e6ab5",
   "metadata": {},
   "outputs": [
    {
     "data": {
      "text/plain": [
       "(50000, 1)"
      ]
     },
     "execution_count": 76,
     "metadata": {},
     "output_type": "execute_result"
    }
   ],
   "source": [
    "y = np.dot(X, W)\n",
    "y.shape"
   ]
  },
  {
   "cell_type": "markdown",
   "id": "8f639adc-fb85-4df5-bdb3-5004ca4a74a4",
   "metadata": {},
   "source": [
    "## Multi Class"
   ]
  },
  {
   "cell_type": "code",
   "execution_count": 144,
   "id": "bb0ed5b6-acc6-4c6b-80d7-7e38648849c2",
   "metadata": {},
   "outputs": [
    {
     "data": {
      "text/plain": [
       "(50000, 716)"
      ]
     },
     "execution_count": 144,
     "metadata": {},
     "output_type": "execute_result"
    }
   ],
   "source": [
    "X = np.hstack((np.ones((train_data.shape[0], 1)), train_data))\n",
    "X.shape"
   ]
  },
  {
   "cell_type": "code",
   "execution_count": 119,
   "id": "ba0997e8-3b83-4db9-933f-7b8a1855c22f",
   "metadata": {},
   "outputs": [
    {
     "data": {
      "text/plain": [
       "(50000, 10)"
      ]
     },
     "execution_count": 119,
     "metadata": {},
     "output_type": "execute_result"
    }
   ],
   "source": [
    "Y = np.zeros((n_train, n_class))\n",
    "for i in range(n_class):\n",
    "    Y[:, i] = (train_label == i).astype(int).ravel()\n",
    "Y.shape"
   ]
  },
  {
   "cell_type": "code",
   "execution_count": 145,
   "id": "1a245820-1817-4c62-b998-92bf311bf772",
   "metadata": {},
   "outputs": [
    {
     "data": {
      "text/plain": [
       "(716, 10)"
      ]
     },
     "execution_count": 145,
     "metadata": {},
     "output_type": "execute_result"
    }
   ],
   "source": [
    "W = np.random.rand(n_feature + 1, n_class)\n",
    "W.shape"
   ]
  },
  {
   "cell_type": "code",
   "execution_count": 146,
   "id": "05489cfc-3875-4026-a1f8-6b6ae491e9f0",
   "metadata": {},
   "outputs": [
    {
     "data": {
      "text/plain": [
       "(50000, 10)"
      ]
     },
     "execution_count": 146,
     "metadata": {},
     "output_type": "execute_result"
    }
   ],
   "source": [
    "theta = softmax(np.dot(X, W))\n",
    "theta.shape"
   ]
  },
  {
   "cell_type": "code",
   "execution_count": 142,
   "id": "8b439350-b39a-4d9f-8093-4edf5af87856",
   "metadata": {},
   "outputs": [
    {
     "data": {
      "text/plain": [
       "(50000,)"
      ]
     },
     "execution_count": 142,
     "metadata": {},
     "output_type": "execute_result"
    }
   ],
   "source": [
    "np.argmax(theta, axis=1)."
   ]
  },
  {
   "cell_type": "code",
   "execution_count": 128,
   "id": "cc95149e-9f8e-48eb-9f7c-a60a87b727fa",
   "metadata": {},
   "outputs": [
    {
     "data": {
      "text/plain": [
       "array([[-106.63011492,   -0.        ,   -0.        , ...,   -0.        ,\n",
       "          -0.        ,   -0.        ],\n",
       "       [ -47.08100045,   -0.        ,   -0.        , ...,   -0.        ,\n",
       "          -0.        ,   -0.        ],\n",
       "       [ -93.88286663,   -0.        ,   -0.        , ...,   -0.        ,\n",
       "          -0.        ,   -0.        ],\n",
       "       ...,\n",
       "       [  -0.        ,   -0.        ,   -0.        , ...,   -0.        ,\n",
       "          -0.        , -116.42860329],\n",
       "       [  -0.        ,   -0.        ,   -0.        , ...,   -0.        ,\n",
       "          -0.        , -120.59530082],\n",
       "       [  -0.        ,   -0.        ,   -0.        , ...,   -0.        ,\n",
       "          -0.        , -123.92504836]])"
      ]
     },
     "execution_count": 128,
     "metadata": {},
     "output_type": "execute_result"
    }
   ],
   "source": [
    "(Y*np.log(theta))"
   ]
  },
  {
   "cell_type": "code",
   "execution_count": 136,
   "id": "faead76f-056d-42a3-b47c-17cc535e510f",
   "metadata": {},
   "outputs": [
    {
     "data": {
      "text/plain": [
       "-5309845.472609932"
      ]
     },
     "execution_count": 136,
     "metadata": {},
     "output_type": "execute_result"
    }
   ],
   "source": [
    "np.sum(Y*np.log(theta))"
   ]
  },
  {
   "cell_type": "code",
   "execution_count": 137,
   "id": "224934cd-7915-4a60-ab0e-486d7604b25c",
   "metadata": {},
   "outputs": [
    {
     "data": {
      "text/plain": [
       "array([[-4.94800000e+03, -4.94800000e+03, -4.94800000e+03, ...,\n",
       "        -4.94800000e+03, -4.94800000e+03, -4.94800000e+03],\n",
       "       [ 1.84777721e-53,  7.57476541e-50,  2.47793392e-50, ...,\n",
       "         5.62142724e-48,  7.03651679e-53,  7.60788440e-51],\n",
       "       [ 3.54447486e-52,  1.10703791e-48,  4.11344150e-49, ...,\n",
       "         4.87540989e-47,  1.47342565e-51,  1.53789799e-49],\n",
       "       ...,\n",
       "       [-1.90196078e+00, -1.90196078e+00, -1.90196078e+00, ...,\n",
       "        -1.90196078e+00, -1.90196078e+00, -1.90196078e+00],\n",
       "       [-1.96078431e-01, -1.96078431e-01, -1.96078431e-01, ...,\n",
       "        -1.96078431e-01, -1.96078431e-01, -1.96078431e-01],\n",
       "       [ 5.88049521e-54,  3.55840044e-52,  7.26981821e-51, ...,\n",
       "         3.81155923e-51,  4.26142419e-55,  3.20590478e-52]])"
      ]
     },
     "execution_count": 137,
     "metadata": {},
     "output_type": "execute_result"
    }
   ],
   "source": [
    "np.dot(X.T, theta - labeli)"
   ]
  },
  {
   "cell_type": "code",
   "execution_count": 138,
   "id": "d416cae1-a97b-42f5-8ac4-4b135c201326",
   "metadata": {},
   "outputs": [
    {
     "data": {
      "text/plain": [
       "array([-4.94800000e+03, -4.94800000e+03, -4.94800000e+03, ...,\n",
       "        3.81155923e-51,  4.26142419e-55,  3.20590478e-52])"
      ]
     },
     "execution_count": 138,
     "metadata": {},
     "output_type": "execute_result"
    }
   ],
   "source": [
    "np.dot(X.T, theta - labeli).ravel()"
   ]
  },
  {
   "cell_type": "code",
   "execution_count": 143,
   "id": "992d5743-6e9e-4dc4-a284-a2f3e7969612",
   "metadata": {},
   "outputs": [
    {
     "name": "stdout",
     "output_type": "stream",
     "text": [
      "Training set Accuracy: 97.286%\n",
      "Validation set Accuracy: 93.64%\n",
      "Testing set Accuracy: 93.78%\n"
     ]
    }
   ],
   "source": [
    "clf = svm.SVC(kernel='linear')\n",
    "clf.fit(train_data, train_label.flatten())\n",
    "print(f'Training set Accuracy: {100*clf.score(train_data, train_label)}%')\n",
    "print(f'Validation set Accuracy: {100*clf.score(validation_data, validation_label)}%')\n",
    "print(f'Testing set Accuracy: {100*clf.score(test_data, test_label)}%')"
   ]
  }
 ],
 "metadata": {
  "kernelspec": {
   "display_name": "Python 3 (ipykernel)",
   "language": "python",
   "name": "python3"
  },
  "language_info": {
   "codemirror_mode": {
    "name": "ipython",
    "version": 3
   },
   "file_extension": ".py",
   "mimetype": "text/x-python",
   "name": "python",
   "nbconvert_exporter": "python",
   "pygments_lexer": "ipython3",
   "version": "3.9.7"
  }
 },
 "nbformat": 4,
 "nbformat_minor": 5
}
