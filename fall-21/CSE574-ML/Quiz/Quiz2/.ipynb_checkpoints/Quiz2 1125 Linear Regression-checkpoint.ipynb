{
 "cells": [
  {
   "cell_type": "code",
   "execution_count": 2,
   "metadata": {},
   "outputs": [
    {
     "name": "stdout",
     "output_type": "stream",
     "text": [
      "[[ 1. 11.]\n",
      " [ 1. 18.]\n",
      " [ 1. 17.]\n",
      " [ 1. 15.]\n",
      " [ 1.  9.]\n",
      " [ 1.  5.]\n",
      " [ 1. 12.]\n",
      " [ 1. 19.]\n",
      " [ 1. 22.]\n",
      " [ 1. 25.]]\n",
      "173.75000000000003\n",
      "73.7114\n",
      "82.8\n",
      "[[  1.  11. 121.]\n",
      " [  1.  18. 324.]\n",
      " [  1.  17. 289.]\n",
      " [  1.  15. 225.]\n",
      " [  1.   9.  81.]\n",
      " [  1.   5.  25.]\n",
      " [  1.  12. 144.]\n",
      " [  1.  19. 361.]\n",
      " [  1.  22. 484.]\n",
      " [  1.  25. 625.]]\n",
      "72.5498\n"
     ]
    }
   ],
   "source": [
    "import numpy as np\n",
    "\n",
    "x = [11,18,17,15,9,5,12,19,22,25]\n",
    "y = [6,8,10,4,9,6,3,5,2,10]\n",
    "\n",
    "# likelihood\n",
    "X = np.transpose(np.vstack([np.ones(len(x)),x]))\n",
    "\n",
    "print(X)\n",
    "\n",
    "w1 = [0.3, 0.5]\n",
    "b = np.transpose(y)-np.dot(X,np.transpose(w1))\n",
    "error = np.dot(b,b)\n",
    "print(error)\n",
    "\n",
    "w2 = [5.75, 0.04]\n",
    "b = np.transpose(y)-np.dot(X,np.transpose(w2))\n",
    "error = np.dot(b,b)\n",
    "print(error)\n",
    "\n",
    "w3 = [3.2, 0.2]\n",
    "b = np.transpose(y)-np.dot(X,np.transpose(w3))\n",
    "error = np.dot(b,b)\n",
    "print(error)\n",
    "\n",
    "w4 = [8.75, -0.5, 0.02]\n",
    "b = np.square(x)\n",
    "Xp = np.transpose(np.vstack([np.transpose(X), np.transpose(b)]))\n",
    "print(Xp)\n",
    "b = np.transpose(y)-np.dot(Xp,np.transpose(w4))\n",
    "error = np.dot(b,b)\n",
    "print(error)"
   ]
  },
  {
   "cell_type": "code",
   "execution_count": 58,
   "metadata": {},
   "outputs": [
    {
     "name": "stdout",
     "output_type": "stream",
     "text": [
      "174.09\n",
      "106.7755\n",
      "93.08\n",
      "149.3627\n"
     ]
    }
   ],
   "source": [
    "# posterior, lambda is 1 according to the variance of y and covariance of prior\n",
    "\n",
    "w1 = [0.3, 0.5]\n",
    "b = np.transpose(y)-np.dot(X,np.transpose(w1))\n",
    "error = np.dot(b,b) + np.dot(w1,w1)\n",
    "print(error)\n",
    "\n",
    "a = np.dot(w1,np.transpose(X))-y\n",
    "error = np.dot(a,a) + np.dot(w1,w1)\n",
    "print(error)\n",
    "\n",
    "w2 = [5.75, 0.04]\n",
    "b = np.transpose(y)-np.dot(X,np.transpose(w2))\n",
    "error = np.dot(b,b) + np.dot(w2,w2)\n",
    "print(error)\n",
    "\n",
    "a = np.dot(w2,np.transpose(X))-y\n",
    "error = np.dot(a,a)+ np.dot(w2,w2)\n",
    "print(error)\n",
    "\n",
    "w3 = [3.2, 0.2]\n",
    "b = np.transpose(y)-np.dot(X,np.transpose(w3))\n",
    "error = np.dot(b,b) + np.dot(w3,w3)\n",
    "print(error)\n",
    "\n",
    "a = np.dot(w3,np.transpose(X))-y\n",
    "error = np.dot(a,a) + np.dot(w3,w3)\n",
    "print(error)\n",
    "\n",
    "w4 = [8.75, -0.5, 0.02]\n",
    "b = np.square(x)\n",
    "a = np.dot(w4,np.transpose(Xp))-y\n",
    "error = np.dot(a,a) + np.dot(w4,w4)\n",
    "print(error)"
   ]
  },
  {
   "cell_type": "code",
   "execution_count": null,
   "metadata": {
    "collapsed": true
   },
   "outputs": [],
   "source": [
    "# statement 1 4 and 5 are true, others are false."
   ]
  }
 ],
 "metadata": {
  "kernelspec": {
   "display_name": "Python 3",
   "language": "python",
   "name": "python3"
  },
  "language_info": {
   "codemirror_mode": {
    "name": "ipython",
    "version": 3
   },
   "file_extension": ".py",
   "mimetype": "text/x-python",
   "name": "python",
   "nbconvert_exporter": "python",
   "pygments_lexer": "ipython3",
   "version": "3.8.3"
  }
 },
 "nbformat": 4,
 "nbformat_minor": 2
}
