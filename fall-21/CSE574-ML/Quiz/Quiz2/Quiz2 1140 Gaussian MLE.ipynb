{
 "cells": [
  {
   "cell_type": "code",
   "execution_count": 1,
   "metadata": {},
   "outputs": [],
   "source": [
    "from scipy.stats import bernoulli, poisson, binom, norm, mvn\n",
    "import numpy as np\n",
    "from matplotlib import pyplot as plt\n",
    "import matplotlib\n",
    "import warnings\n",
    "warnings.filterwarnings(\"ignore\")\n",
    "\n",
    "%matplotlib inline"
   ]
  },
  {
   "cell_type": "code",
   "execution_count": 2,
   "metadata": {},
   "outputs": [
    {
     "name": "stdout",
     "output_type": "stream",
     "text": [
      "The probability of A is born in Mexico city is 0.7365402806066471\n",
      "The probability of B is born in Mexico city is 0.48394144903828673\n"
     ]
    },
    {
     "data": {
      "image/png": "[encoded data removed]",
      "text/plain": [
       "<Figure size 432x288 with 1 Axes>"
      ]
     },
     "metadata": {},
     "output_type": "display_data"
    }
   ],
   "source": [
    "# set the parameters for Mexico\n",
    "mu = 4.4\n",
    "std = 0.5\n",
    "\n",
    "# Compute the density at several instances of the random variable\n",
    "x = np.linspace(-5, 10, 10001)\n",
    "# plot the density\n",
    "plt.plot(x, norm(mu, std).pdf(x), linewidth=2)\n",
    "\n",
    "\n",
    "print('The probability of A is born in Mexico city is', norm(mu,std).pdf(4.6))\n",
    "print('The probability of B is born in Mexico city is', norm(mu,std).pdf(4.9))"
   ]
  },
  {
   "cell_type": "code",
   "execution_count": 3,
   "metadata": {},
   "outputs": [
    {
     "name": "stdout",
     "output_type": "stream",
     "text": [
      "The probability of A is born in Boston is 0.4840684796525536\n",
      "The probability of B is born in Boston is 0.5641316284718015\n"
     ]
    },
    {
     "data": {
      "image/png": "[encoded data removed]",
      "text/plain": [
       "<Figure size 432x288 with 1 Axes>"
      ]
     },
     "metadata": {},
     "output_type": "display_data"
    }
   ],
   "source": [
    "# set the parameters for Boston\n",
    "mu = 5\n",
    "std = 0.7\n",
    "\n",
    "# Compute the density at several instances of the random variable\n",
    "x = np.linspace(-5, 10, 10001)\n",
    "# plot the density\n",
    "plt.plot(x, norm(mu, std).pdf(x), linewidth=2)\n",
    "\n",
    "print('The probability of A is born in Boston is', norm(mu,std).pdf(4.6))\n",
    "print('The probability of B is born in Boston is', norm(mu,std).pdf(4.9))"
   ]
  },
  {
   "cell_type": "code",
   "execution_count": 4,
   "metadata": {},
   "outputs": [],
   "source": [
    "Mexico = [4.72, 4.15, 4.46, 4.23, 5.28, 4.07, 4.67, 4.87, 4.54, 3.75]\n",
    "Boston = [5.76, 5.12, 5.64, 5.59, 5.54, 5.09, 5.46, 5.87, 5.71, 5.56]"
   ]
  },
  {
   "cell_type": "code",
   "execution_count": 5,
   "metadata": {},
   "outputs": [
    {
     "name": "stdout",
     "output_type": "stream",
     "text": [
      "4.474\n",
      "5.534000000000001\n",
      "0.41974277837742485\n",
      "0.24166919538906897\n",
      "The probability of A is born in Mexico city according to the new data is 0.9085725703338475\n",
      "The probability of B is born in Mexico city according to the new data is 0.5678808034767869\n",
      "The probability of A is born in Boston according to the new data is 0.0009424356402367175\n",
      "The probability of B is born in Boston according to the new data is 0.052869879011326636\n"
     ]
    }
   ],
   "source": [
    "mu_Mexico_MLE = np.sum(Mexico)/10\n",
    "mu_Boston_MLE = np.sum(Boston)/10\n",
    "sigma_Mexico_MLE = np.sqrt(np.sum(np.square(Mexico-mu_Mexico_MLE))/10)\n",
    "sigma_Boston_MLE = np.sqrt(np.sum(np.square(Boston-mu_Boston_MLE))/10)\n",
    "\n",
    "print(mu_Mexico_MLE)\n",
    "print(mu_Boston_MLE)\n",
    "print(sigma_Mexico_MLE)\n",
    "print(sigma_Boston_MLE)\n",
    "\n",
    "print('The probability of A is born in Mexico city according to the new data is', norm(mu_Mexico_MLE,sigma_Mexico_MLE).pdf(4.6))\n",
    "print('The probability of B is born in Mexico city according to the new data is', norm(mu_Mexico_MLE,sigma_Mexico_MLE).pdf(4.9))\n",
    "\n",
    "print('The probability of A is born in Boston according to the new data is', norm(mu_Boston_MLE,sigma_Boston_MLE).pdf(4.6))\n",
    "print('The probability of B is born in Boston according to the new data is', norm(mu_Boston_MLE,sigma_Boston_MLE).pdf(4.9))"
   ]
  },
  {
   "cell_type": "code",
   "execution_count": null,
   "metadata": {
    "collapsed": true
   },
   "outputs": [],
   "source": []
  }
 ],
 "metadata": {
  "kernelspec": {
   "display_name": "Python 3",
   "language": "python",
   "name": "python3"
  },
  "language_info": {
   "codemirror_mode": {
    "name": "ipython",
    "version": 3
   },
   "file_extension": ".py",
   "mimetype": "text/x-python",
   "name": "python",
   "nbconvert_exporter": "python",
   "pygments_lexer": "ipython3",
   "version": "3.8.3"
  }
 },
 "nbformat": 4,
 "nbformat_minor": 2
}
