{
 "cells": [
  {
   "cell_type": "code",
   "execution_count": 9,
   "metadata": {},
   "outputs": [],
   "source": [
    "import numpy as np\n",
    "import matplotlib.pyplot as plt"
   ]
  },
  {
   "cell_type": "markdown",
   "metadata": {},
   "source": [
    "### Q1"
   ]
  },
  {
   "cell_type": "code",
   "execution_count": 4,
   "metadata": {},
   "outputs": [],
   "source": [
    "y = [1, 4, 9, 14, 25, 36, 49, 64, 81, 100]\n",
    "x = [1, 2, 3, 4, 5, 6, 7, 8, 9, 10]"
   ]
  },
  {
   "cell_type": "code",
   "execution_count": 64,
   "metadata": {},
   "outputs": [
    {
     "data": {
      "text/plain": [
       "[<matplotlib.lines.Line2D at 0x7f7fb222f8e0>]"
      ]
     },
     "execution_count": 64,
     "metadata": {},
     "output_type": "execute_result"
    },
    {
     "data": {
      "image/png": "[encoded data removed]",
      "text/plain": [
       "<Figure size 432x288 with 1 Axes>"
      ]
     },
     "metadata": {
      "needs_background": "light"
     },
     "output_type": "display_data"
    }
   ],
   "source": [
    "plt.plot(y, np.zeros_like(y), 'x')"
   ]
  },
  {
   "cell_type": "markdown",
   "metadata": {},
   "source": [
    "### Q2"
   ]
  },
  {
   "cell_type": "code",
   "execution_count": 22,
   "metadata": {},
   "outputs": [
    {
     "data": {
      "text/plain": [
       "[<matplotlib.lines.Line2D at 0x7f7fb2276490>]"
      ]
     },
     "execution_count": 22,
     "metadata": {},
     "output_type": "execute_result"
    },
    {
     "data": {
      "image/png": "[encoded data removed]",
      "text/plain": [
       "<Figure size 432x288 with 1 Axes>"
      ]
     },
     "metadata": {
      "needs_background": "light"
     },
     "output_type": "display_data"
    }
   ],
   "source": [
    "data = np.array([2.3, 3.2, 3.1, 1.6, 1.9, 11.5, 10.2, 12.3, 8.6, 10.9])\n",
    "plt.plot(data, np.zeros_like(data), 'x')"
   ]
  },
  {
   "cell_type": "code",
   "execution_count": 17,
   "metadata": {},
   "outputs": [
    {
     "data": {
      "image/png": "[encoded data removed]",
      "text/plain": [
       "<Figure size 432x288 with 1 Axes>"
      ]
     },
     "metadata": {
      "needs_background": "light"
     },
     "output_type": "display_data"
    }
   ],
   "source": [
    "h1 = plt.hist(data, bins=20, histtype='stepfilled', alpha=0.8);"
   ]
  },
  {
   "cell_type": "code",
   "execution_count": 28,
   "metadata": {},
   "outputs": [],
   "source": [
    "def gaussian(x, mu, sig):\n",
    "    return np.exp(-np.power(x - mu, 2.) / (2 * np.power(sig, 2.)))"
   ]
  },
  {
   "cell_type": "code",
   "execution_count": 51,
   "metadata": {},
   "outputs": [],
   "source": [
    "def bayes(pi_1, pi_2, p_x_k1, p_x_k2):\n",
    "    return (p_x_k1 * pi_1)/(p_x_k1 * pi_1 + p_x_k2 * pi_2)"
   ]
  },
  {
   "cell_type": "code",
   "execution_count": 34,
   "metadata": {},
   "outputs": [],
   "source": [
    "pi_1 = 0.5\n",
    "pi_2 = 0.5\n",
    "\n",
    "mu1 = 0\n",
    "mu2 = 0\n",
    "\n",
    "si1 = 1\n",
    "si2 = 1\n",
    "\n",
    "p_x_k1 = [gaussian(x, mu1, si1) for x in data]\n",
    "p_x_k2 = [gaussian(x, mu2, si2) for x in data]"
   ]
  },
  {
   "cell_type": "code",
   "execution_count": 52,
   "metadata": {},
   "outputs": [],
   "source": [
    "p_k1_x = [bayes(pi_1=0.5, pi_2=0.5, p_x_k1=p_x_k1[i], p_x_k2=p_x_k2[i]) for i in range(len(data))]\n",
    "p_k2_x = [bayes(pi_1=0.5, pi_2=0.5, p_x_k2=p_x_k1[i], p_x_k1=p_x_k2[i]) for i in range(len(data))]"
   ]
  },
  {
   "cell_type": "code",
   "execution_count": 53,
   "metadata": {},
   "outputs": [
    {
     "data": {
      "text/plain": [
       "([0.5, 0.5, 0.5, 0.5, 0.5, 0.5, 0.5, 0.5, 0.5, 0.5],\n",
       " [0.5, 0.5, 0.5, 0.5, 0.5, 0.5, 0.5, 0.5, 0.5, 0.5])"
      ]
     },
     "execution_count": 53,
     "metadata": {},
     "output_type": "execute_result"
    }
   ],
   "source": [
    "p_k1_x, p_k2_x"
   ]
  },
  {
   "cell_type": "code",
   "execution_count": 59,
   "metadata": {},
   "outputs": [],
   "source": [
    "s_p_k1_x = sum(p_k1_x)\n",
    "s_p_k2_x = sum(p_k2_x)\n",
    "\n",
    "new_mu1 = sum([(p_k1_x[i]*data[i]) for i in range(len(data))])/s_p_k1_x\n",
    "new_mu2 = sum([(p_k2_x[i]*data[i])  for i in range(len(data))])/s_p_k2_x\n",
    "\n",
    "new_si1 = sum([p_k1_x[i]*((data[i] - pi_1)**2) for i in range(len(data))])/s_p_k1_x\n",
    "new_si2 = sum([p_k2_x[i]*((data[i] - pi_2)**2) for i in range(len(data))])/s_p_k2_x"
   ]
  },
  {
   "cell_type": "code",
   "execution_count": 60,
   "metadata": {},
   "outputs": [
    {
     "data": {
      "text/plain": [
       "(6.56, 6.56, 54.85600000000001, 54.85600000000001)"
      ]
     },
     "execution_count": 60,
     "metadata": {},
     "output_type": "execute_result"
    }
   ],
   "source": [
    "new_mu1, new_mu2, new_si1, new_si2"
   ]
  },
  {
   "cell_type": "code",
   "execution_count": 61,
   "metadata": {},
   "outputs": [],
   "source": [
    "p_x_k1 = [gaussian(x, new_mu1, new_si1) for x in data]\n",
    "p_x_k2 = [gaussian(x, new_mu2, new_si2) for x in data]"
   ]
  },
  {
   "cell_type": "code",
   "execution_count": 62,
   "metadata": {},
   "outputs": [
    {
     "data": {
      "text/plain": [
       "([0.9969891694474972,\n",
       "  0.99812589891464,\n",
       "  0.9980127978159401,\n",
       "  0.9959205863795553,\n",
       "  0.9963982772059434,\n",
       "  0.9959533520286113,\n",
       "  0.9978008921421077,\n",
       "  0.9945404445270782,\n",
       "  0.9993087551302352,\n",
       "  0.9968752033212224],\n",
       " [0.9969891694474972,\n",
       "  0.99812589891464,\n",
       "  0.9980127978159401,\n",
       "  0.9959205863795553,\n",
       "  0.9963982772059434,\n",
       "  0.9959533520286113,\n",
       "  0.9978008921421077,\n",
       "  0.9945404445270782,\n",
       "  0.9993087551302352,\n",
       "  0.9968752033212224])"
      ]
     },
     "execution_count": 62,
     "metadata": {},
     "output_type": "execute_result"
    }
   ],
   "source": [
    "p_x_k1, p_x_k2"
   ]
  }
 ],
 "metadata": {
  "kernelspec": {
   "display_name": "Python 3 (ipykernel)",
   "language": "python",
   "name": "python3"
  },
  "language_info": {
   "codemirror_mode": {
    "name": "ipython",
    "version": 3
   },
   "file_extension": ".py",
   "mimetype": "text/x-python",
   "name": "python",
   "nbconvert_exporter": "python",
   "pygments_lexer": "ipython3",
   "version": "3.9.7"
  }
 },
 "nbformat": 4,
 "nbformat_minor": 4
}
