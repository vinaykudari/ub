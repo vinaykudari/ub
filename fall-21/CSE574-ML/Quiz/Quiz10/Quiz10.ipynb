{
 "cells": [
  {
   "cell_type": "code",
   "execution_count": 2,
   "id": "b4e816af-8bdf-42b3-a030-ac4c75fab44a",
   "metadata": {},
   "outputs": [],
   "source": [
    "import numpy as np"
   ]
  },
  {
   "cell_type": "code",
   "execution_count": 20,
   "id": "64246c6c-f914-4f8d-b86e-2ea155908f30",
   "metadata": {},
   "outputs": [],
   "source": [
    "X = np.array([[7, 4, 3], [4, 1, 8], [6, 3, 5], [8, 6, 1], [8, 5, 7], [7, 2, 9], [5, 3, 3], [9, 5, 8], [7, 4, 5], [8, 2, 2]])\n",
    "eigen_vec = np.array([[-0.70, 0.71, 0.08], [0.70, 0.66, 0.27], [-0.14, -0.25, 0.96]])\n",
    "eigen_val = np.array([0.75, 3.68, 8.27])\n",
    "\n",
    "X_cov = np.cov(X.T)\n",
    "X_mean = X.mean(axis=0)\n",
    "X_minus_mean = X - X_mean"
   ]
  },
  {
   "cell_type": "code",
   "execution_count": 23,
   "id": "f5cb7b96-2654-41fd-9c69-06e5fd6f4e4d",
   "metadata": {},
   "outputs": [
    {
     "data": {
      "text/plain": [
       "array([[7, 4, 3],\n",
       "       [4, 1, 8],\n",
       "       [6, 3, 5],\n",
       "       [8, 6, 1],\n",
       "       [8, 5, 7],\n",
       "       [7, 2, 9],\n",
       "       [5, 3, 3],\n",
       "       [9, 5, 8],\n",
       "       [7, 4, 5],\n",
       "       [8, 2, 2]])"
      ]
     },
     "execution_count": 23,
     "metadata": {},
     "output_type": "execute_result"
    }
   ],
   "source": [
    "X"
   ]
  },
  {
   "cell_type": "code",
   "execution_count": 22,
   "id": "a995d066-4bfc-4804-ba54-86da598d8d3d",
   "metadata": {},
   "outputs": [
    {
     "data": {
      "text/plain": [
       "array([[ 0.1,  0.5, -2.1],\n",
       "       [-2.9, -2.5,  2.9],\n",
       "       [-0.9, -0.5, -0.1],\n",
       "       [ 1.1,  2.5, -4.1],\n",
       "       [ 1.1,  1.5,  1.9],\n",
       "       [ 0.1, -1.5,  3.9],\n",
       "       [-1.9, -0.5, -2.1],\n",
       "       [ 2.1,  1.5,  2.9],\n",
       "       [ 0.1,  0.5, -0.1],\n",
       "       [ 1.1, -1.5, -3.1]])"
      ]
     },
     "execution_count": 22,
     "metadata": {},
     "output_type": "execute_result"
    }
   ],
   "source": [
    "X_minus_mean"
   ]
  },
  {
   "cell_type": "code",
   "execution_count": 24,
   "id": "60759d5f-e896-4689-aabc-68c626323731",
   "metadata": {},
   "outputs": [
    {
     "data": {
      "text/plain": [
       "((10, 3), (3, 3))"
      ]
     },
     "execution_count": 24,
     "metadata": {},
     "output_type": "execute_result"
    }
   ],
   "source": [
    "X.shape, X_cov.shape"
   ]
  },
  {
   "cell_type": "code",
   "execution_count": 37,
   "id": "62aa1373-ed82-4db2-86c2-d47eea5b1c44",
   "metadata": {},
   "outputs": [
    {
     "data": {
      "text/plain": [
       "(array([[ 0.117, -0.167, -2.155],\n",
       "        [ 0.487, -2.897,  3.815],\n",
       "        [ 0.267, -0.987,  0.155],\n",
       "        [ 0.677,  1.313, -4.715],\n",
       "        [ 0.447,  2.273,  1.295],\n",
       "        [-0.823,  0.133,  4.105],\n",
       "        [ 0.807, -2.227, -1.625],\n",
       "        [-0.173,  3.243,  2.115],\n",
       "        [ 0.277,  0.373, -0.235],\n",
       "        [-2.083, -1.057, -2.755]]),\n",
       " (10, 3))"
      ]
     },
     "execution_count": 37,
     "metadata": {},
     "output_type": "execute_result"
    }
   ],
   "source": [
    "Z = X_minus_mean.dot(eigen_vec.T)\n",
    "Z, Z.shape"
   ]
  },
  {
   "cell_type": "markdown",
   "id": "d247f9c5-f573-4c0b-89aa-8472d558856a",
   "metadata": {},
   "source": [
    "### Reconstructing using all eigen vectors"
   ]
  },
  {
   "cell_type": "code",
   "execution_count": 30,
   "id": "c24407c5-5b16-41c7-83b8-4ab0c5d63e68",
   "metadata": {},
   "outputs": [
    {
     "data": {
      "text/plain": [
       "array([[7.0029 , 4.0116 , 2.99547],\n",
       "       [3.9971 , 0.98   , 8.01917],\n",
       "       [6.0005 , 2.9994 , 5.00367],\n",
       "       [8.0053 , 6.026  , 0.98227],\n",
       "       [7.9969 , 4.9938 , 6.99267],\n",
       "       [6.9945 , 1.9772 , 9.01087],\n",
       "       [5.0037 , 3.0094 , 3.00327],\n",
       "       [8.9951 , 4.9888 , 7.99217],\n",
       "       [7.0001 , 4.0016 , 4.99727],\n",
       "       [8.0039 , 2.0122 , 2.00317]])"
      ]
     },
     "execution_count": 30,
     "metadata": {},
     "output_type": "execute_result"
    }
   ],
   "source": [
    "Z.dot(eigen_vec) + X_mean"
   ]
  },
  {
   "cell_type": "code",
   "execution_count": 31,
   "id": "9b89e25b-c8e9-484b-8416-b41e84ca5012",
   "metadata": {},
   "outputs": [
    {
     "data": {
      "text/plain": [
       "((10, 3), (3, 3))"
      ]
     },
     "execution_count": 31,
     "metadata": {},
     "output_type": "execute_result"
    }
   ],
   "source": [
    "X_minus_mean.shape, eigen_vec.shape"
   ]
  },
  {
   "cell_type": "markdown",
   "id": "014052a2-0c73-4f4b-a108-baa552a77848",
   "metadata": {},
   "source": [
    "### Reconstructing using n eigen vectors"
   ]
  },
  {
   "cell_type": "code",
   "execution_count": 52,
   "id": "77b3aa77-2ac1-4cd2-872b-bdea6192678d",
   "metadata": {},
   "outputs": [
    {
     "data": {
      "text/plain": [
       "(10, 3)"
      ]
     },
     "execution_count": 52,
     "metadata": {},
     "output_type": "execute_result"
    }
   ],
   "source": [
    "n = 2\n",
    "\n",
    "Z_n = X_minus_mean[:, :n].dot(eigen_vec[:n, :])\n",
    "Z_n.shape"
   ]
  },
  {
   "cell_type": "code",
   "execution_count": 53,
   "id": "b216ca44-4747-4179-9c95-8ae90407e46a",
   "metadata": {},
   "outputs": [
    {
     "data": {
      "text/plain": [
       "array([[6.96468, 3.92771, 5.36795],\n",
       "       [4.23468, 1.47761, 3.25025],\n",
       "       [6.05468, 3.11101, 4.66205],\n",
       "       [7.80888, 5.60951, 6.56725],\n",
       "       [7.87468, 4.74441, 6.07385],\n",
       "       [7.09628, 2.19751, 4.38115],\n",
       "       [5.07888, 3.15941, 4.44955],\n",
       "       [8.85048, 4.69601, 6.28635],\n",
       "       [6.96468, 3.92771, 5.36795],\n",
       "       [8.07208, 2.14911, 4.59365]])"
      ]
     },
     "execution_count": 53,
     "metadata": {},
     "output_type": "execute_result"
    }
   ],
   "source": [
    "Z_n.dot(eigen_vec) + X_mean"
   ]
  }
 ],
 "metadata": {
  "kernelspec": {
   "display_name": "Python 3 (ipykernel)",
   "language": "python",
   "name": "python3"
  },
  "language_info": {
   "codemirror_mode": {
    "name": "ipython",
    "version": 3
   },
   "file_extension": ".py",
   "mimetype": "text/x-python",
   "name": "python",
   "nbconvert_exporter": "python",
   "pygments_lexer": "ipython3",
   "version": "3.9.7"
  }
 },
 "nbformat": 4,
 "nbformat_minor": 5
}
