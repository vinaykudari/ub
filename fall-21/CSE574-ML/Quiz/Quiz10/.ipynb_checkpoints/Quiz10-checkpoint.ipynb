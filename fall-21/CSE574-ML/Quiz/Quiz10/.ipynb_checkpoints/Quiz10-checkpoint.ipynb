{
 "cells": [
  {
   "cell_type": "code",
   "execution_count": 1,
   "id": "cda08c34-4bd9-4b30-873e-0a581cce4e61",
   "metadata": {},
   "outputs": [],
   "source": [
    "import numpy as np\n",
    "\n",
    "X = np.array([[7, 4, 3], [4, 1, 8], [6, 3, 5], [8, 6, 1], [8, 5, 7], [7, 2, 9], [5, 3, 3], [9, 5, 8], [7, 4, 5], [8, 2, 2]])\n",
    "eigen_vec = np.array([[-0.70, 0.71, 0.08], [0.70, 0.66, 0.27], [-0.14, -0.25, 0.96]])\n",
    "eigen_val = np.array([0.75, 3.68, 8.27])\n",
    "\n",
    "X_cov = np.cov(X.T)\n",
    "X_mean = X.mean(axis=0)\n",
    "X_minus_mean = X - X_mean"
   ]
  },
  {
   "cell_type": "code",
   "execution_count": 23,
   "id": "f5cb7b96-2654-41fd-9c69-06e5fd6f4e4d",
   "metadata": {},
   "outputs": [
    {
     "data": {
      "text/plain": [
       "array([[7, 4, 3],\n",
       "       [4, 1, 8],\n",
       "       [6, 3, 5],\n",
       "       [8, 6, 1],\n",
       "       [8, 5, 7],\n",
       "       [7, 2, 9],\n",
       "       [5, 3, 3],\n",
       "       [9, 5, 8],\n",
       "       [7, 4, 5],\n",
       "       [8, 2, 2]])"
      ]
     },
     "execution_count": 23,
     "metadata": {},
     "output_type": "execute_result"
    }
   ],
   "source": [
    "X"
   ]
  },
  {
   "cell_type": "code",
   "execution_count": 22,
   "id": "a995d066-4bfc-4804-ba54-86da598d8d3d",
   "metadata": {},
   "outputs": [
    {
     "data": {
      "text/plain": [
       "array([[ 0.1,  0.5, -2.1],\n",
       "       [-2.9, -2.5,  2.9],\n",
       "       [-0.9, -0.5, -0.1],\n",
       "       [ 1.1,  2.5, -4.1],\n",
       "       [ 1.1,  1.5,  1.9],\n",
       "       [ 0.1, -1.5,  3.9],\n",
       "       [-1.9, -0.5, -2.1],\n",
       "       [ 2.1,  1.5,  2.9],\n",
       "       [ 0.1,  0.5, -0.1],\n",
       "       [ 1.1, -1.5, -3.1]])"
      ]
     },
     "execution_count": 22,
     "metadata": {},
     "output_type": "execute_result"
    }
   ],
   "source": [
    "X_minus_mean"
   ]
  },
  {
   "cell_type": "code",
   "execution_count": 24,
   "id": "60759d5f-e896-4689-aabc-68c626323731",
   "metadata": {},
   "outputs": [
    {
     "data": {
      "text/plain": [
       "((10, 3), (3, 3))"
      ]
     },
     "execution_count": 24,
     "metadata": {},
     "output_type": "execute_result"
    }
   ],
   "source": [
    "X.shape, X_cov.shape"
   ]
  },
  {
   "cell_type": "code",
   "execution_count": 37,
   "id": "62aa1373-ed82-4db2-86c2-d47eea5b1c44",
   "metadata": {},
   "outputs": [
    {
     "data": {
      "text/plain": [
       "(array([[ 0.117, -0.167, -2.155],\n",
       "        [ 0.487, -2.897,  3.815],\n",
       "        [ 0.267, -0.987,  0.155],\n",
       "        [ 0.677,  1.313, -4.715],\n",
       "        [ 0.447,  2.273,  1.295],\n",
       "        [-0.823,  0.133,  4.105],\n",
       "        [ 0.807, -2.227, -1.625],\n",
       "        [-0.173,  3.243,  2.115],\n",
       "        [ 0.277,  0.373, -0.235],\n",
       "        [-2.083, -1.057, -2.755]]),\n",
       " (10, 3))"
      ]
     },
     "execution_count": 37,
     "metadata": {},
     "output_type": "execute_result"
    }
   ],
   "source": [
    "Z = X_minus_mean.dot(eigen_vec.T)\n",
    "Z, Z.shape"
   ]
  },
  {
   "cell_type": "markdown",
   "id": "d247f9c5-f573-4c0b-89aa-8472d558856a",
   "metadata": {},
   "source": [
    "### Reconstructing using all eigen vectors"
   ]
  },
  {
   "cell_type": "code",
   "execution_count": 30,
   "id": "c24407c5-5b16-41c7-83b8-4ab0c5d63e68",
   "metadata": {},
   "outputs": [
    {
     "data": {
      "text/plain": [
       "array([[7.0029 , 4.0116 , 2.99547],\n",
       "       [3.9971 , 0.98   , 8.01917],\n",
       "       [6.0005 , 2.9994 , 5.00367],\n",
       "       [8.0053 , 6.026  , 0.98227],\n",
       "       [7.9969 , 4.9938 , 6.99267],\n",
       "       [6.9945 , 1.9772 , 9.01087],\n",
       "       [5.0037 , 3.0094 , 3.00327],\n",
       "       [8.9951 , 4.9888 , 7.99217],\n",
       "       [7.0001 , 4.0016 , 4.99727],\n",
       "       [8.0039 , 2.0122 , 2.00317]])"
      ]
     },
     "execution_count": 30,
     "metadata": {},
     "output_type": "execute_result"
    }
   ],
   "source": [
    "Z.dot(eigen_vec) + X_mean"
   ]
  },
  {
   "cell_type": "code",
   "execution_count": 31,
   "id": "9b89e25b-c8e9-484b-8416-b41e84ca5012",
   "metadata": {},
   "outputs": [
    {
     "data": {
      "text/plain": [
       "((10, 3), (3, 3))"
      ]
     },
     "execution_count": 31,
     "metadata": {},
     "output_type": "execute_result"
    }
   ],
   "source": [
    "X_minus_mean.shape, eigen_vec.shape"
   ]
  },
  {
   "cell_type": "markdown",
   "id": "014052a2-0c73-4f4b-a108-baa552a77848",
   "metadata": {},
   "source": [
    "### Reconstructing using n eigen vectors"
   ]
  },
  {
   "cell_type": "code",
   "execution_count": 6,
   "id": "77b3aa77-2ac1-4cd2-872b-bdea6192678d",
   "metadata": {},
   "outputs": [
    {
     "data": {
      "text/plain": [
       "(10, 3)"
      ]
     },
     "execution_count": 6,
     "metadata": {},
     "output_type": "execute_result"
    }
   ],
   "source": [
    "n = 1\n",
    "\n",
    "Z_n = X_minus_mean[:, :n].dot(eigen_vec[2:3, :])\n",
    "Z_n.shape"
   ]
  },
  {
   "cell_type": "code",
   "execution_count": 26,
   "id": "fe2e47f0-6dfd-4b5a-8e8e-25b4e08c104b",
   "metadata": {},
   "outputs": [
    {
     "data": {
      "text/plain": [
       "array([[-2.155,  3.815,  0.155, -4.715,  1.295,  4.105, -1.625,  2.115,\n",
       "        -0.235, -2.755]])"
      ]
     },
     "execution_count": 26,
     "metadata": {},
     "output_type": "execute_result"
    }
   ],
   "source": [
    "z = np.dot(eigen_vec[2].reshape(-1, 1).T, X_minus_mean.T)\n",
    "z"
   ]
  },
  {
   "cell_type": "code",
   "execution_count": 30,
   "id": "c6871d41-e92c-4c00-a599-1c7913fbf7d1",
   "metadata": {},
   "outputs": [
    {
     "data": {
      "text/plain": [
       "array([[ 0.574, -0.126,  0.294,  1.554,  0.014, -1.666,  1.274, -0.826,\n",
       "         0.294, -1.386],\n",
       "       [ 0.926, -4.434, -0.944,  3.456,  1.296, -1.894, -1.154,  1.756,\n",
       "         0.426,  0.566],\n",
       "       [-1.873,  1.877, -0.303, -3.173,  2.317,  3.347, -2.303,  3.357,\n",
       "         0.047, -3.293]])"
      ]
     },
     "execution_count": 30,
     "metadata": {},
     "output_type": "execute_result"
    }
   ],
   "source": [
    "z = np.dot(eigen_vec.reshape(-1, 3).T, X_minus_mean.T)\n",
    "z"
   ]
  },
  {
   "cell_type": "code",
   "execution_count": 27,
   "id": "f759c4e3-804b-4693-84b5-f457e0801496",
   "metadata": {},
   "outputs": [
    {
     "data": {
      "text/plain": [
       "((1, 10), (3, 3))"
      ]
     },
     "execution_count": 27,
     "metadata": {},
     "output_type": "execute_result"
    }
   ],
   "source": [
    "z.shape, eigen_vec.shape"
   ]
  },
  {
   "cell_type": "code",
   "execution_count": 31,
   "id": "1968304d-ee43-40a7-9e69-45023d81d410",
   "metadata": {},
   "outputs": [
    {
     "data": {
      "text/plain": [
       "array([[7.00582, 4.00725, 2.99006],\n",
       "       [3.99022, 0.99215, 8.02806],\n",
       "       [5.99972, 3.00095, 5.00396],\n",
       "       [8.01212, 6.01205, 0.97236],\n",
       "       [7.99572, 4.99075, 6.99836],\n",
       "       [6.98922, 1.98745, 9.01986],\n",
       "       [5.00462, 3.00835, 2.99926],\n",
       "       [8.99352, 4.98715, 7.99936],\n",
       "       [7.00042, 3.99965, 4.99746],\n",
       "       [8.00862, 2.01425, 1.99126]])"
      ]
     },
     "execution_count": 31,
     "metadata": {},
     "output_type": "execute_result"
    }
   ],
   "source": [
    "np.dot(z.T, eigen_vec.reshape(-1, 3).T) + X_mean"
   ]
  },
  {
   "cell_type": "code",
   "execution_count": 3,
   "id": "b216ca44-4747-4179-9c95-8ae90407e46a",
   "metadata": {},
   "outputs": [
    {
     "data": {
      "text/plain": [
       "array([[6.99758, 3.49516, 5.12125],\n",
       "       [4.07018, 3.64036, 4.48375],\n",
       "       [6.02178, 3.54356, 4.90875],\n",
       "       [7.97338, 3.44676, 5.33375],\n",
       "       [7.97338, 3.44676, 5.33375],\n",
       "       [6.99758, 3.49516, 5.12125],\n",
       "       [5.04598, 3.59196, 4.69625],\n",
       "       [8.94918, 3.39836, 5.54625],\n",
       "       [6.99758, 3.49516, 5.12125],\n",
       "       [7.97338, 3.44676, 5.33375]])"
      ]
     },
     "execution_count": 3,
     "metadata": {},
     "output_type": "execute_result"
    }
   ],
   "source": [
    "Z_n.dot(eigen_vec) + X_mean"
   ]
  }
 ],
 "metadata": {
  "kernelspec": {
   "display_name": "Python 3 (ipykernel)",
   "language": "python",
   "name": "python3"
  },
  "language_info": {
   "codemirror_mode": {
    "name": "ipython",
    "version": 3
   },
   "file_extension": ".py",
   "mimetype": "text/x-python",
   "name": "python",
   "nbconvert_exporter": "python",
   "pygments_lexer": "ipython3",
   "version": "3.9.7"
  }
 },
 "nbformat": 4,
 "nbformat_minor": 5
}
