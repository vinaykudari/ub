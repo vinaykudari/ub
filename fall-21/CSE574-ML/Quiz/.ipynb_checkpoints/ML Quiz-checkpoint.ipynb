{
 "cells": [
  {
   "cell_type": "code",
   "execution_count": 15,
   "id": "ec2431ca-8571-4a01-9178-4334808ea7cf",
   "metadata": {},
   "outputs": [],
   "source": [
    "import math\n",
    "from scipy.stats import norm\n",
    "from sklearn.metrics import mean_squared_error\n",
    "\n",
    "import numpy as np\n",
    "from matplotlib import pyplot as plt"
   ]
  },
  {
   "cell_type": "markdown",
   "id": "d4faca1e-9749-4161-bd22-902d4c156e76",
   "metadata": {},
   "source": [
    "### Quiz 2"
   ]
  },
  {
   "cell_type": "markdown",
   "id": "8b4db76a-d5f5-4c73-9164-e0909ed54e80",
   "metadata": {},
   "source": [
    "### q3"
   ]
  },
  {
   "cell_type": "code",
   "execution_count": 10,
   "id": "0be981be-7dca-4326-b482-a531ff7851c6",
   "metadata": {},
   "outputs": [],
   "source": [
    "a = '4.72, 4.15, 4.46, 4.23, 5.28, 4.07, 4.67, 4.87, 4.54, 3.75'\n",
    "a = np.array([float(i) for i in a.split(',')])\n",
    "b = '5.76, 5.12, 5.64, 5.59, 5.54, 5.09, 5.46, 5.87, 5.71, 5.56'\n",
    "b = np.array([float(i) for i in b.split(',')])"
   ]
  },
  {
   "cell_type": "code",
   "execution_count": 48,
   "id": "873ad8e7-e5d9-46b7-bfb9-3d89bb254d42",
   "metadata": {},
   "outputs": [],
   "source": [
    "def normal_dist(x , mean , sd):\n",
    "    prob_density = (np.pi*sd) * np.exp(-0.5*((x-mean)/sd)**2)\n",
    "    return prob_density"
   ]
  },
  {
   "cell_type": "markdown",
   "id": "4e1d349e-deb4-4bb2-b2ca-001babec5cd3",
   "metadata": {},
   "source": [
    "#### according to new data"
   ]
  },
  {
   "cell_type": "code",
   "execution_count": 23,
   "id": "e01dd140-35e3-478c-b038-735b9a5bf51a",
   "metadata": {},
   "outputs": [
    {
     "data": {
      "text/plain": [
       "[4.054257221622575, 4.893742778377425]"
      ]
     },
     "execution_count": 23,
     "metadata": {},
     "output_type": "execute_result"
    }
   ],
   "source": [
    "a_mean = a.mean() # 4.47\n",
    "a_std = a.std() # 0.42\n",
    "\n",
    "[a_mean - a_std, a_mean + a_std]"
   ]
  },
  {
   "cell_type": "code",
   "execution_count": 49,
   "id": "5aff2377-23d2-4bc4-8f6c-f04eacdcd553",
   "metadata": {},
   "outputs": [
    {
     "data": {
      "text/plain": [
       "[<matplotlib.lines.Line2D at 0x170eb0970>]"
      ]
     },
     "execution_count": 49,
     "metadata": {},
     "output_type": "execute_result"
    },
    {
     "data": {
      "image/png": "[encoded data removed]",
      "text/plain": [
       "<Figure size 432x288 with 1 Axes>"
      ]
     },
     "metadata": {
      "needs_background": "light"
     },
     "output_type": "display_data"
    }
   ],
   "source": [
    "mu = a_mean\n",
    "sigma = a_std\n",
    "# draw 1000 samples from this distribution\n",
    "samples = norm(mu, sigma).rvs(1000)\n",
    "# plot an empirical distribution, i.e., a histogram\n",
    "plt.hist(samples, 30, alpha=.3)\n",
    "\n",
    "# Compute the density at several instances of the random variable\n",
    "x = np.linspace(3, 6, 10001)\n",
    "# plot the density\n",
    "plt.plot(x, norm(mu, sigma).pdf(x), linewidth=11)"
   ]
  },
  {
   "cell_type": "code",
   "execution_count": 54,
   "id": "2ddc02c5-0f89-462c-a230-cedde2fc9a0f",
   "metadata": {},
   "outputs": [
    {
     "data": {
      "text/plain": [
       "1.260566884982661"
      ]
     },
     "execution_count": 54,
     "metadata": {},
     "output_type": "execute_result"
    }
   ],
   "source": [
    "normal_dist(4.6, a_mean, a_std)"
   ]
  },
  {
   "cell_type": "code",
   "execution_count": 55,
   "id": "397fd3dc-eca4-4e05-a27c-fa479c81ed55",
   "metadata": {},
   "outputs": [
    {
     "data": {
      "text/plain": [
       "0.7878861401430489"
      ]
     },
     "execution_count": 55,
     "metadata": {},
     "output_type": "execute_result"
    }
   ],
   "source": [
    "normal_dist(4.9, a_mean, a_std)"
   ]
  },
  {
   "cell_type": "code",
   "execution_count": 26,
   "id": "24eaa06b-1486-4608-a06c-8feb27caae2a",
   "metadata": {},
   "outputs": [
    {
     "data": {
      "text/plain": [
       "[5.292330804610931, 5.77566919538907]"
      ]
     },
     "execution_count": 26,
     "metadata": {},
     "output_type": "execute_result"
    }
   ],
   "source": [
    "b_mean = b.mean() # 5.53\n",
    "b_std = b.std() # 0.24\n",
    "\n",
    "[b_mean - b_std, b_mean + b_std]"
   ]
  },
  {
   "cell_type": "code",
   "execution_count": 40,
   "id": "0b824454-b977-4cca-bfdf-c97ace585015",
   "metadata": {},
   "outputs": [
    {
     "data": {
      "text/plain": [
       "[<matplotlib.lines.Line2D at 0x170c1bfa0>]"
      ]
     },
     "execution_count": 40,
     "metadata": {},
     "output_type": "execute_result"
    },
    {
     "data": {
      "image/png": "[encoded data removed]",
      "text/plain": [
       "<Figure size 432x288 with 1 Axes>"
      ]
     },
     "metadata": {
      "needs_background": "light"
     },
     "output_type": "display_data"
    }
   ],
   "source": [
    "mu = b_mean\n",
    "sigma = b_std\n",
    "# draw 1000 samples from this distribution\n",
    "samples = norm(mu, sigma).rvs(1000)\n",
    "# plot an empirical distribution, i.e., a histogram\n",
    "plt.hist(samples, 30, alpha=.3)\n",
    "\n",
    "# Compute the density at several instances of the random variable\n",
    "x = np.linspace(5, 6, 10001)\n",
    "# plot the density\n",
    "plt.plot(x, norm(mu, sigma).pdf(x), linewidth=11)"
   ]
  },
  {
   "cell_type": "code",
   "execution_count": 56,
   "id": "a57cdef6-855f-4436-8750-092996373cc0",
   "metadata": {},
   "outputs": [
    {
     "data": {
      "text/plain": [
       "0.00043344510298158937"
      ]
     },
     "execution_count": 56,
     "metadata": {},
     "output_type": "execute_result"
    }
   ],
   "source": [
    "normal_dist(4.6, b_mean, b_std)"
   ]
  },
  {
   "cell_type": "code",
   "execution_count": 57,
   "id": "876e70bb-64a9-45a3-9d37-d43c5e8c96d9",
   "metadata": {},
   "outputs": [
    {
     "data": {
      "text/plain": [
       "0.024315920551277796"
      ]
     },
     "execution_count": 57,
     "metadata": {},
     "output_type": "execute_result"
    }
   ],
   "source": [
    "normal_dist(4.9, b_mean, b_std)"
   ]
  },
  {
   "cell_type": "markdown",
   "id": "875c07ee-ba57-494d-a6bf-2c84dea4938f",
   "metadata": {},
   "source": [
    "#### prior"
   ]
  },
  {
   "cell_type": "code",
   "execution_count": 20,
   "id": "4cc489b4-5e32-4c01-bfdb-c0833dab4809",
   "metadata": {},
   "outputs": [
    {
     "data": {
      "text/plain": [
       "[3.9000000000000004, 4.9]"
      ]
     },
     "execution_count": 20,
     "metadata": {},
     "output_type": "execute_result"
    }
   ],
   "source": [
    "a_mean_p = 4.4\n",
    "a_std_p = 0.5\n",
    "\n",
    "[a_mean_p - a_std_p, a_mean_p + a_std_p]"
   ]
  },
  {
   "cell_type": "code",
   "execution_count": 41,
   "id": "01d0a0d1-4d53-4a7f-bab6-2f5b8fb5bb51",
   "metadata": {},
   "outputs": [
    {
     "data": {
      "text/plain": [
       "[<matplotlib.lines.Line2D at 0x170cc0ca0>]"
      ]
     },
     "execution_count": 41,
     "metadata": {},
     "output_type": "execute_result"
    },
    {
     "data": {
      "image/png": "[encoded data removed]",
      "text/plain": [
       "<Figure size 432x288 with 1 Axes>"
      ]
     },
     "metadata": {
      "needs_background": "light"
     },
     "output_type": "display_data"
    }
   ],
   "source": [
    "mu = a_mean_p\n",
    "sigma = a_std_p\n",
    "# draw 1000 samples from this distribution\n",
    "samples = norm(mu, sigma).rvs(1000)\n",
    "# plot an empirical distribution, i.e., a histogram\n",
    "plt.hist(samples, 30, alpha=.3)\n",
    "\n",
    "# Compute the density at several instances of the random variable\n",
    "x = np.linspace(5, 6, 10001)\n",
    "# plot the density\n",
    "plt.plot(x, norm(mu, sigma).pdf(x), linewidth=11)"
   ]
  },
  {
   "cell_type": "code",
   "execution_count": 60,
   "id": "bec39500-4112-422a-8083-8370b4d54b75",
   "metadata": {},
   "outputs": [
    {
     "data": {
      "text/plain": [
       "1.4500277661084537"
      ]
     },
     "execution_count": 60,
     "metadata": {},
     "output_type": "execute_result"
    }
   ],
   "source": [
    "normal_dist(4.6, a_mean_p, a_std_p)"
   ]
  },
  {
   "cell_type": "code",
   "execution_count": 59,
   "id": "3e1bb58d-eb34-4cfa-a8e0-467143c6c72c",
   "metadata": {},
   "outputs": [
    {
     "data": {
      "text/plain": [
       "0.9527361323650899"
      ]
     },
     "execution_count": 59,
     "metadata": {},
     "output_type": "execute_result"
    }
   ],
   "source": [
    "normal_dist(4.9, a_mean_p, a_std_p)"
   ]
  },
  {
   "cell_type": "code",
   "execution_count": 19,
   "id": "e633afaa-3c22-4e30-8ca9-478b7be5911b",
   "metadata": {},
   "outputs": [
    {
     "data": {
      "text/plain": [
       "[4.3, 5.7]"
      ]
     },
     "execution_count": 19,
     "metadata": {},
     "output_type": "execute_result"
    }
   ],
   "source": [
    "b_mean_p = 5\n",
    "b_std_p = 0.7\n",
    "\n",
    "[b_mean_p - b_std_p, b_mean_p + b_std_p]"
   ]
  },
  {
   "cell_type": "code",
   "execution_count": 42,
   "id": "da6b56bb-be92-498e-ad2d-79d1cd8f3d86",
   "metadata": {},
   "outputs": [
    {
     "data": {
      "text/plain": [
       "[<matplotlib.lines.Line2D at 0x170d64a30>]"
      ]
     },
     "execution_count": 42,
     "metadata": {},
     "output_type": "execute_result"
    },
    {
     "data": {
      "image/png": "[encoded data removed]",
      "text/plain": [
       "<Figure size 432x288 with 1 Axes>"
      ]
     },
     "metadata": {
      "needs_background": "light"
     },
     "output_type": "display_data"
    }
   ],
   "source": [
    "mu = b_mean_p\n",
    "sigma = b_std_p\n",
    "# draw 1000 samples from this distribution\n",
    "samples = norm(mu, sigma).rvs(1000)\n",
    "# plot an empirical distribution, i.e., a histogram\n",
    "plt.hist(samples, 30, alpha=.3)\n",
    "\n",
    "# Compute the density at several instances of the random variable\n",
    "x = np.linspace(5, 6, 10001)\n",
    "# plot the density\n",
    "plt.plot(x, norm(mu, sigma).pdf(x), linewidth=11)"
   ]
  },
  {
   "cell_type": "code",
   "execution_count": 61,
   "id": "2c1ac528-6bde-4704-928e-e52dd39607b2",
   "metadata": {},
   "outputs": [
    {
     "data": {
      "text/plain": [
       "1.8678529866789138"
      ]
     },
     "execution_count": 61,
     "metadata": {},
     "output_type": "execute_result"
    }
   ],
   "source": [
    "normal_dist(4.6, b_mean_p, b_std_p)"
   ]
  },
  {
   "cell_type": "code",
   "execution_count": 62,
   "id": "96d7568c-8b35-44b8-8a68-b538bb7d499a",
   "metadata": {},
   "outputs": [
    {
     "data": {
      "text/plain": [
       "2.176789011086637"
      ]
     },
     "execution_count": 62,
     "metadata": {},
     "output_type": "execute_result"
    }
   ],
   "source": [
    "normal_dist(4.9, b_mean_p, b_std_p)"
   ]
  },
  {
   "cell_type": "code",
   "execution_count": 63,
   "id": "7b948278-d75c-4223-8fdc-dfbd640ecbfb",
   "metadata": {},
   "outputs": [
    {
     "data": {
      "text/plain": [
       "0.7506475939039476"
      ]
     },
     "execution_count": 63,
     "metadata": {},
     "output_type": "execute_result"
    }
   ],
   "source": [
    "normal_dist(4.9, a_mean, a_std) * normal_dist(4.9, a_mean_p, a_std_p)"
   ]
  },
  {
   "cell_type": "code",
   "execution_count": 64,
   "id": "7631ad35-b2f3-4429-a663-2aa050a1b5dd",
   "metadata": {},
   "outputs": [
    {
     "data": {
      "text/plain": [
       "0.05293062865047722"
      ]
     },
     "execution_count": 64,
     "metadata": {},
     "output_type": "execute_result"
    }
   ],
   "source": [
    "normal_dist(4.9, b_mean, b_std) * normal_dist(4.9, b_mean_p, b_std_p)"
   ]
  },
  {
   "cell_type": "markdown",
   "id": "0455f5dd-c3bb-484a-8b6a-4a6a84c230cf",
   "metadata": {},
   "source": [
    "### q3"
   ]
  },
  {
   "cell_type": "code",
   "execution_count": 75,
   "id": "e87a34b5-a84f-4128-b468-9a6bd92d5157",
   "metadata": {},
   "outputs": [],
   "source": [
    "def y(x, k):\n",
    "    a, b, c = k\n",
    "    return a + b*x + c*x**2"
   ]
  },
  {
   "cell_type": "code",
   "execution_count": 66,
   "id": "4e8af089-0c03-4f71-89bb-416346f9d3ee",
   "metadata": {},
   "outputs": [],
   "source": [
    "w1 = (0.30, 0.50, 0)\n",
    "w2 = (5.75, 0.04, 0)\n",
    "w3 = (3.20, 0.20, 0)\n",
    "w4 = (8.75, -0.50, 0.02)"
   ]
  },
  {
   "cell_type": "code",
   "execution_count": 85,
   "id": "4f40f55b-9cf4-4b12-b45e-90ec336d0d67",
   "metadata": {},
   "outputs": [],
   "source": [
    "X = [11, 18 ,17, 15, 9, 5, 12, 19, 22, 25]\n",
    "Y = [6, 8, 10, 4, 9, 6, 3, 5, 2, 10]"
   ]
  },
  {
   "cell_type": "code",
   "execution_count": 92,
   "id": "a686f79a-37fd-4c64-8f6d-8cd7774ddeb5",
   "metadata": {},
   "outputs": [],
   "source": [
    "y1 = [y(x, w1) for x in X]\n",
    "y2 = [y(x, w2) for x in X]\n",
    "y3 = [y(x, w3) for x in X]\n",
    "y4 = [y(x, w4) for x in X]"
   ]
  },
  {
   "cell_type": "code",
   "execution_count": 100,
   "id": "bf0665b4-0433-4a12-bb4c-b58313e2ed3a",
   "metadata": {},
   "outputs": [
    {
     "data": {
      "text/plain": [
       "[5.67, 6.23, 6.03, 5.75, 5.87, 6.75, 5.63, 6.47, 7.43, 8.75]"
      ]
     },
     "execution_count": 100,
     "metadata": {},
     "output_type": "execute_result"
    }
   ],
   "source": [
    "y4"
   ]
  },
  {
   "cell_type": "code",
   "execution_count": 103,
   "id": "25ebf888-c359-41a1-b7e5-5734b73b340e",
   "metadata": {},
   "outputs": [
    {
     "data": {
      "text/plain": [
       "(17.375000000000004, 7.37114, 8.280000000000001, 7.254979999999999)"
      ]
     },
     "execution_count": 103,
     "metadata": {},
     "output_type": "execute_result"
    }
   ],
   "source": [
    "rms1 = mean_squared_error(Y, y1)\n",
    "rms2 = mean_squared_error(Y, y2)\n",
    "rms3 = mean_squared_error(Y, y3)\n",
    "rms4 = mean_squared_error(Y, y4)\n",
    "rms1, rms2, rms3, rms4"
   ]
  },
  {
   "cell_type": "markdown",
   "id": "ecef4733",
   "metadata": {},
   "source": [
    "### Quiz 4"
   ]
  },
  {
   "cell_type": "markdown",
   "id": "f98743f6",
   "metadata": {},
   "source": [
    "### q3"
   ]
  },
  {
   "cell_type": "code",
   "execution_count": 1,
   "id": "27ff1ad5",
   "metadata": {},
   "outputs": [],
   "source": [
    "def sigmoid(x):\n",
    "    return 1 / (1 + math.exp(-x))"
   ]
  },
  {
   "cell_type": "code",
   "execution_count": 7,
   "id": "1e3ba57c",
   "metadata": {},
   "outputs": [],
   "source": [
    "x1 = [2.18, 1.09, -0.37, 0.00, -0.42, 0.09, -0.48, 0.62, 0.57, 0.44]"
   ]
  },
  {
   "cell_type": "code",
   "execution_count": 2,
   "id": "8b2f7590",
   "metadata": {},
   "outputs": [],
   "source": [
    "x2 = [0.01, 18.30, 3.00, 4.10, 9.00, 7.20, 10.00, 2.70, 2.80, 0.01]"
   ]
  },
  {
   "cell_type": "code",
   "execution_count": 3,
   "id": "2c840583",
   "metadata": {},
   "outputs": [],
   "source": [
    "y = [1, 1, 0, 1, 0, 0, 0, 0, 1, 1]"
   ]
  },
  {
   "cell_type": "code",
   "execution_count": 11,
   "id": "c1978252",
   "metadata": {},
   "outputs": [],
   "source": [
    "b = 1.05\n",
    "w1 = -0.52\n",
    "w2 = 0.85\n",
    "k = (b, w1, w2)"
   ]
  },
  {
   "cell_type": "code",
   "execution_count": 9,
   "id": "beac6446",
   "metadata": {},
   "outputs": [],
   "source": [
    "def ym(x1, x2, K):\n",
    "    b, w1, w2 = K\n",
    "    return b + x1*w1 + x2*w2"
   ]
  },
  {
   "cell_type": "code",
   "execution_count": 23,
   "id": "c3c23584",
   "metadata": {},
   "outputs": [],
   "source": [
    "y1 = [sigmoid(ym(x1[i], x2[i], k)) for i in range(len(x1))]\n",
    "yr = [round(sigmoid(ym(x1[i], x2[i], k))) for i in range(len(x1))]"
   ]
  },
  {
   "cell_type": "code",
   "execution_count": 24,
   "id": "395fcbc6",
   "metadata": {},
   "outputs": [
    {
     "data": {
      "text/plain": [
       "[(0, 0.4812338192915899),\n",
       " (1, 0.9999998916826085),\n",
       " (2, 0.9779554777881293),\n",
       " (3, 0.9893869381038362),\n",
       " (4, 0.9998661156102346),\n",
       " (5, 0.999194466573228),\n",
       " (6, 0.9999445292926614),\n",
       " (7, 0.9535847395931248),\n",
       " (8, 0.9582576305377485),\n",
       " (9, 0.6962914926649901)]"
      ]
     },
     "execution_count": 24,
     "metadata": {},
     "output_type": "execute_result"
    }
   ],
   "source": [
    "list(enumerate(y1))"
   ]
  },
  {
   "cell_type": "code",
   "execution_count": 25,
   "id": "e5ab8c26",
   "metadata": {},
   "outputs": [
    {
     "data": {
      "text/plain": [
       "[0, 1, 1, 1, 1, 1, 1, 1, 1, 1]"
      ]
     },
     "execution_count": 25,
     "metadata": {},
     "output_type": "execute_result"
    }
   ],
   "source": [
    "yr"
   ]
  }
 ],
 "metadata": {
  "kernelspec": {
   "display_name": "Python 3 (ipykernel)",
   "language": "python",
   "name": "python3"
  },
  "language_info": {
   "codemirror_mode": {
    "name": "ipython",
    "version": 3
   },
   "file_extension": ".py",
   "mimetype": "text/x-python",
   "name": "python",
   "nbconvert_exporter": "python",
   "pygments_lexer": "ipython3",
   "version": "3.9.6"
  }
 },
 "nbformat": 4,
 "nbformat_minor": 5
}
