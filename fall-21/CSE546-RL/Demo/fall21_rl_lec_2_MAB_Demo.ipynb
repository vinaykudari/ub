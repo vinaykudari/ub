{
 "cells": [
  {
   "cell_type": "markdown",
   "metadata": {},
   "source": [
    "## Multi-armed Bandit\n",
    "\n",
    "Based on the [Sutton's book](http://incompleteideas.net/book/RLbook2020.pdf) Chapter 2.3 example, code is adapted from [Multi-Armed Bandits](https://www.thedataincubator.com/blog/2016/07/25/multi-armed-bandits-2/) by Brian Farris.\n",
    " "
   ]
  },
  {
   "cell_type": "code",
   "execution_count": 1,
   "metadata": {},
   "outputs": [],
   "source": [
    "%matplotlib inline\n",
    "import numpy as np\n",
    "import matplotlib.pyplot as plt"
   ]
  },
  {
   "cell_type": "code",
   "execution_count": 2,
   "metadata": {},
   "outputs": [],
   "source": [
    "class Bandit:\n",
    "    def __init__(self, k):\n",
    "        self.action_space = k # number of actions (arms)\n",
    "        self.action_values = np.random.normal(0, 1, self.action_space)\n",
    "        self.T = np.zeros(self.action_space)\n",
    "        self.est_values = np.zeros(self.action_space)\n",
    "        \n",
    "    def get_reward(self, action):\n",
    "        noise = np.random.normal(0, 1)\n",
    "        reward = self.action_values[action] + noise\n",
    "        return reward\n",
    "    \n",
    "    def choose_action(self, epsilon):\n",
    "        rand_num = np.random.random()\n",
    "        if epsilon > rand_num:\n",
    "            return np.random.randint(self.action_space)\n",
    "        else:\n",
    "            return np.argmax(self.est_values)\n",
    "    \n",
    "    def update_est(self, action, reward):\n",
    "        self.T[action] += 1\n",
    "        alpha = 1./self.T[action]\n",
    "        self.est_values[action] += alpha * (reward - self.est_values[action])  # keeps running average of rewards"
   ]
  },
  {
   "cell_type": "code",
   "execution_count": 4,
   "metadata": {},
   "outputs": [
    {
     "data": {
      "text/plain": [
       "array([-0.59471811, -1.69885241,  1.07444413,  0.64683615,  2.61047384])"
      ]
     },
     "execution_count": 4,
     "metadata": {},
     "output_type": "execute_result"
    }
   ],
   "source": [
    "np.random.normal(0, 1, 5)"
   ]
  },
  {
   "cell_type": "code",
   "execution_count": 5,
   "metadata": {},
   "outputs": [],
   "source": [
    "def train(bandit, steps, epsilon):\n",
    "    history = []\n",
    "    for i in range(steps):\n",
    "        action = bandit.choose_action(epsilon)\n",
    "        R = bandit.get_reward(action)\n",
    "        bandit.update_est(action, R)\n",
    "        history.append(R)\n",
    "    return np.array(history)"
   ]
  },
  {
   "cell_type": "code",
   "execution_count": 6,
   "metadata": {},
   "outputs": [
    {
     "name": "stderr",
     "output_type": "stream",
     "text": [
      "/var/folders/n_/cf35cgm124xd2px707tsn4mh0000gn/T/ipykernel_89669/2829553060.py:16: DeprecationWarning: `np.float` is a deprecated alias for the builtin `float`. To silence this warning, use `float` by itself. Doing this will not modify any behavior and is safe. If you specifically wanted the numpy scalar type, use `np.float64` here.\n",
      "Deprecated in NumPy 1.20; for more details and guidance: https://numpy.org/devdocs/release/1.20.0-notes.html#deprecations\n",
      "  avg_outcome_eps0p0 /= np.float(episodes)\n",
      "/var/folders/n_/cf35cgm124xd2px707tsn4mh0000gn/T/ipykernel_89669/2829553060.py:17: DeprecationWarning: `np.float` is a deprecated alias for the builtin `float`. To silence this warning, use `float` by itself. Doing this will not modify any behavior and is safe. If you specifically wanted the numpy scalar type, use `np.float64` here.\n",
      "Deprecated in NumPy 1.20; for more details and guidance: https://numpy.org/devdocs/release/1.20.0-notes.html#deprecations\n",
      "  avg_outcome_eps0p01 /= np.float(episodes)\n",
      "/var/folders/n_/cf35cgm124xd2px707tsn4mh0000gn/T/ipykernel_89669/2829553060.py:18: DeprecationWarning: `np.float` is a deprecated alias for the builtin `float`. To silence this warning, use `float` by itself. Doing this will not modify any behavior and is safe. If you specifically wanted the numpy scalar type, use `np.float64` here.\n",
      "Deprecated in NumPy 1.20; for more details and guidance: https://numpy.org/devdocs/release/1.20.0-notes.html#deprecations\n",
      "  avg_outcome_eps0p1 /= np.float(episodes)\n"
     ]
    }
   ],
   "source": [
    "episodes = 500\n",
    "steps = 3000\n",
    "\n",
    "avg_outcome_eps0p0 = np.zeros(steps)\n",
    "avg_outcome_eps0p01 = np.zeros(steps)\n",
    "avg_outcome_eps0p1 = np.zeros(steps)\n",
    "\n",
    "for i in range(episodes):\n",
    "    bandit = Bandit(10)\n",
    "    avg_outcome_eps0p0 += train(bandit, steps, 0.0)\n",
    "    bandit = Bandit(10)\n",
    "    avg_outcome_eps0p01 += train(bandit, steps, 0.01)\n",
    "    bandit = Bandit(10)\n",
    "    avg_outcome_eps0p1 += train(bandit, steps, 0.1)\n",
    "\n",
    "avg_outcome_eps0p0 /= np.float(episodes)\n",
    "avg_outcome_eps0p01 /= np.float(episodes)\n",
    "avg_outcome_eps0p1 /= np.float(episodes)"
   ]
  },
  {
   "cell_type": "code",
   "execution_count": 7,
   "metadata": {},
   "outputs": [
    {
     "data": {
      "image/png": "[encoded data removed]",
      "text/plain": [
       "<Figure size 432x288 with 1 Axes>"
      ]
     },
     "metadata": {
      "needs_background": "light"
     },
     "output_type": "display_data"
    }
   ],
   "source": [
    "plt.plot(avg_outcome_eps0p0,label=\"eps = 0.0\")\n",
    "plt.plot(avg_outcome_eps0p01,label=\"eps = 0.01\")\n",
    "plt.plot(avg_outcome_eps0p1,label=\"eps = 0.1\")\n",
    "plt.ylim(0,2.2)\n",
    "plt.legend()\n",
    "plt.show()"
   ]
  }
 ],
 "metadata": {
  "kernelspec": {
   "display_name": "Python 3 (ipykernel)",
   "language": "python",
   "name": "python3"
  },
  "language_info": {
   "codemirror_mode": {
    "name": "ipython",
    "version": 3
   },
   "file_extension": ".py",
   "mimetype": "text/x-python",
   "name": "python",
   "nbconvert_exporter": "python",
   "pygments_lexer": "ipython3",
   "version": "3.9.6"
  }
 },
 "nbformat": 4,
 "nbformat_minor": 4
}
