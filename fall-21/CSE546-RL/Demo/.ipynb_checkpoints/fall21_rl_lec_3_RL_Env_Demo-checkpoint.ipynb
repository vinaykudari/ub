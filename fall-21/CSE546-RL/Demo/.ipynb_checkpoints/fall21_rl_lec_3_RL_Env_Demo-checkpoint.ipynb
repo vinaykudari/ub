{
 "cells": [
  {
   "cell_type": "code",
   "execution_count": 1,
   "metadata": {},
   "outputs": [
    {
     "name": "stdout",
     "output_type": "stream",
     "text": [
      "Collecting gym\n",
      "  Downloading gym-0.19.0.tar.gz (1.6 MB)\n",
      "\u001b[K     |████████████████████████████████| 1.6 MB 2.3 MB/s eta 0:00:01\n",
      "\u001b[?25hRequirement already satisfied: numpy>=1.18.0 in /Users/vinay/opt/miniconda3/envs/cse574/lib/python3.9/site-packages (from gym) (1.21.2)\n",
      "Collecting cloudpickle<1.7.0,>=1.2.0\n",
      "  Downloading cloudpickle-1.6.0-py3-none-any.whl (23 kB)\n",
      "Building wheels for collected packages: gym\n",
      "  Building wheel for gym (setup.py) ... \u001b[?25ldone\n",
      "\u001b[?25h  Created wheel for gym: filename=gym-0.19.0-py3-none-any.whl size=1663114 sha256=2a621784f010817f9d534c51c549e2904ebe3dc9bd2a079ae74cb3b4c038f269\n",
      "  Stored in directory: /Users/vinay/Library/Caches/pip/wheels/46/9f/66/e5922382f4e2ecd0bad129510b758c65f0dbb197d5fc04df9a\n",
      "Successfully built gym\n",
      "Installing collected packages: cloudpickle, gym\n",
      "Successfully installed cloudpickle-1.6.0 gym-0.19.0\n"
     ]
    }
   ],
   "source": [
    "! pip install gym"
   ]
  },
  {
   "cell_type": "code",
   "execution_count": 2,
   "metadata": {},
   "outputs": [],
   "source": [
    "import numpy as np\n",
    "import gym\n",
    "from gym import spaces\n",
    "import matplotlib.pyplot as plt"
   ]
  },
  {
   "cell_type": "code",
   "execution_count": 3,
   "metadata": {},
   "outputs": [
    {
     "name": "stdout",
     "output_type": "stream",
     "text": [
      "[[0. 0. 0.]\n",
      " [0. 0. 0.]\n",
      " [0. 0. 0.]]\n"
     ]
    }
   ],
   "source": [
    "grid = np.zeros((3, 3))\n",
    "print(grid)"
   ]
  },
  {
   "cell_type": "code",
   "execution_count": 4,
   "metadata": {},
   "outputs": [],
   "source": [
    "pos1 = [0, 0]\n",
    "pos2 = [2, 2]"
   ]
  },
  {
   "cell_type": "code",
   "execution_count": 5,
   "metadata": {},
   "outputs": [],
   "source": [
    "grid[tuple(pos1)] = 1\n",
    "grid[tuple(pos2)] = 0.5"
   ]
  },
  {
   "cell_type": "code",
   "execution_count": 6,
   "metadata": {},
   "outputs": [
    {
     "data": {
      "text/plain": [
       "<matplotlib.image.AxesImage at 0x15ec10130>"
      ]
     },
     "execution_count": 6,
     "metadata": {},
     "output_type": "execute_result"
    },
    {
     "data": {
      "image/png": "[encoded data removed]",
      "text/plain": [
       "<Figure size 432x288 with 1 Axes>"
      ]
     },
     "metadata": {
      "needs_background": "light"
     },
     "output_type": "display_data"
    }
   ],
   "source": [
    "plt.imshow(grid)"
   ]
  },
  {
   "cell_type": "code",
   "execution_count": 20,
   "metadata": {},
   "outputs": [],
   "source": [
    "class GridEnvironment(gym.Env):\n",
    "    \n",
    "    def __init__(self):\n",
    "        self.observation_space = spaces.Discrete(9)\n",
    "        self.action_space = spaces.Discrete(4)\n",
    "        self.max_timesteps = 5\n",
    "        \n",
    "    def reset(self):\n",
    "        self.timestep = 0\n",
    "        self.agent_pos = [0, 0]\n",
    "        self.goal_pos = [2, 2]\n",
    "        self.state = np.zeros((3, 3))\n",
    "        self.state[tuple(self.agent_pos)] = 1\n",
    "        self.state[tuple(self.goal_pos)] = 0.5\n",
    "        observation = self.state.flatten()\n",
    "        \n",
    "        return observation\n",
    "    \n",
    "    def step(self, action):\n",
    "        self.state = np.random.choice(self.observation_space.n)\n",
    "        if action == 'd' or action =='D':\n",
    "            self.agent_pos[0] += 1\n",
    "        if action == 'u' or action =='U':\n",
    "            self.agent_pos[0] -= 1\n",
    "        if action == 'r' or action =='R':\n",
    "            self.agent_pos[1] += 1\n",
    "        if action == 'l' or action =='L':\n",
    "            self.agent_pos[1] -= 1\n",
    "        self.agent_pos = np.clip(self.agent_pos, 0, 2)\n",
    "        self.state = np.zeros((3,3))\n",
    "        self.state[tuple(self.agent_pos)] = 1\n",
    "        self.state[tuple(self.goal_pos)] = 0.5\n",
    "        observation = self.state.flatten()\n",
    "        \n",
    "        reward = 0\n",
    "        if (self.agent_pos == self.goal_pos).all():\n",
    "            reward = 1\n",
    "            \n",
    "        self.timestep += 1\n",
    "        done = True if self.timestep >= self.max_timesteps else False\n",
    "        \n",
    "        info = {}\n",
    "        \n",
    "        return observation, reward, done, info\n",
    "    \n",
    "    def render(self):\n",
    "        plt.imshow(self.state)"
   ]
  },
  {
   "cell_type": "code",
   "execution_count": 21,
   "metadata": {},
   "outputs": [
    {
     "data": {
      "image/png": "[encoded data removed]",
      "text/plain": [
       "<Figure size 432x288 with 1 Axes>"
      ]
     },
     "metadata": {
      "needs_background": "light"
     },
     "output_type": "display_data"
    }
   ],
   "source": [
    "env = GridEnvironment()\n",
    "obs = env.reset()\n",
    "env.render()"
   ]
  },
  {
   "cell_type": "code",
   "execution_count": 28,
   "metadata": {},
   "outputs": [
    {
     "name": "stdout",
     "output_type": "stream",
     "text": [
      "1\n"
     ]
    },
    {
     "data": {
      "image/png": "[encoded data removed]",
      "text/plain": [
       "<Figure size 432x288 with 1 Axes>"
      ]
     },
     "metadata": {
      "needs_background": "light"
     },
     "output_type": "display_data"
    }
   ],
   "source": [
    "action = 'd'\n",
    "observation, reward, done, _ = env.step(action)\n",
    "env.render()\n",
    "print(reward)"
   ]
  },
  {
   "cell_type": "code",
   "execution_count": null,
   "metadata": {},
   "outputs": [],
   "source": []
  }
 ],
 "metadata": {
  "kernelspec": {
   "display_name": "Python 3 (ipykernel)",
   "language": "python",
   "name": "python3"
  },
  "language_info": {
   "codemirror_mode": {
    "name": "ipython",
    "version": 3
   },
   "file_extension": ".py",
   "mimetype": "text/x-python",
   "name": "python",
   "nbconvert_exporter": "python",
   "pygments_lexer": "ipython3",
   "version": "3.9.7"
  }
 },
 "nbformat": 4,
 "nbformat_minor": 4
}
